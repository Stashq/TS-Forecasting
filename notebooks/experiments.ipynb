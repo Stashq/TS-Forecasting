{
 "cells": [
  {
   "cell_type": "code",
   "execution_count": 1,
   "metadata": {},
   "outputs": [],
   "source": [
    "import sys\n",
    "sys.path.append(\"/home/stachu/Projects/Anomaly_detection/TSAD\")\n",
    "\n",
    "from pytorch_lightning.loggers import TensorBoardLogger\n",
    "import pickle\n",
    "import numpy as np\n",
    "from sklearn.preprocessing import MinMaxScaler, StandardScaler\n",
    "# from tsai.models import TCN, ResNet, TST, RNN, TransformerModel, FCN\n",
    "import pandas as pd\n",
    "from torch.utils.data import DataLoader, Dataset\n",
    "from torch import nn\n",
    "\n",
    "from predpy.dataset import MultiTimeSeriesDataset\n",
    "from predpy.data_module import MultiTimeSeriesModule\n",
    "from predpy.wrapper import Autoencoder, Predictor, VAE\n",
    "from predpy.experimentator import (\n",
    "    DatasetParams, ModelParams,\n",
    "    Experimentator, load_experimentator)\n",
    "from predpy.plotter import (\n",
    "    plot_exp_predictions\n",
    ")\n",
    "from predpy.preprocessing import set_index\n",
    "from predpy.preprocessing import moving_average\n",
    "from predpy.preprocessing import (\n",
    "    load_and_preprocess, set_index, moving_average, drop_if_is_in,\n",
    "    use_dataframe_func, loc, iloc, get_isoforest_filter, get_variance_filter)\n",
    "from predpy.trainer import (\n",
    "    CheckpointParams, TrainerParams, EarlyStoppingParams, LoggerParams)\n",
    "from tsad.noiser import apply_noise_on_dataframes, white_noise\n",
    "from tsad.anomaly_detector import PredictionAnomalyDetector, ReconstructionAnomalyDetector\n",
    "from models import LSTMAE, LSTMVAE\n",
    "from literature.anom_trans import AnomalyTransformer, ATWrapper\n",
    "from literature.velc import VELC, VELCWrapper\n",
    "from literature.dagmm import DAGMM, DAGMMWrapper\n",
    "from literature.tadgan import TADGAN, TADGANWrapper"
   ]
  },
  {
   "cell_type": "markdown",
   "metadata": {},
   "source": [
    "# ServerMachineDataset"
   ]
  },
  {
   "cell_type": "markdown",
   "metadata": {},
   "source": [
    "## TADGAN"
   ]
  },
  {
   "cell_type": "markdown",
   "metadata": {},
   "source": [
    "### Dataset"
   ]
  },
  {
   "cell_type": "code",
   "execution_count": 2,
   "metadata": {},
   "outputs": [],
   "source": [
    "window_size = 100\n",
    "\n",
    "load_params = {\n",
    "    \"header\": None, \"names\": [str(i) for i in range(38)]\n",
    "}\n",
    "\n",
    "drop_refill_pipeline = []\n",
    "preprocessing_pipeline = [\n",
    "    (use_dataframe_func, \"astype\", \"float\"),\n",
    "]\n",
    "detect_anomalies_pipeline = []\n",
    "\n",
    "datasets_params = [\n",
    "    DatasetParams(\n",
    "        path=\"/home/stachu/Projects/Anomaly_detection/TSAD/data/Industry/ServerMachineDataset/train/machine-1-1.csv\",\n",
    "        load_params=load_params,\n",
    "        target=[str(i) for i in range(38)],\n",
    "        split_proportions=[0.8, 0.1, 0.1],\n",
    "        window_size=window_size,\n",
    "        batch_size=64,\n",
    "        drop_refill_pipeline=drop_refill_pipeline,\n",
    "        preprocessing_pipeline=preprocessing_pipeline,\n",
    "        detect_anomalies_pipeline=detect_anomalies_pipeline,\n",
    "        scaler=StandardScaler()),\n",
    "]"
   ]
  },
  {
   "cell_type": "markdown",
   "metadata": {},
   "source": [
    "### Models"
   ]
  },
  {
   "cell_type": "code",
   "execution_count": 3,
   "metadata": {},
   "outputs": [],
   "source": [
    "c_in = 38\n",
    "c_out = 38\n",
    "\n",
    "models_params = [\n",
    "    ModelParams(\n",
    "        name_=\"TadGAN\", cls_=TADGAN,\n",
    "        init_params=dict(\n",
    "            c_in=c_in, h_size=200, n_layers=2, z_size=100),\n",
    "        WrapperCls=TADGANWrapper),\n",
    "]"
   ]
  },
  {
   "cell_type": "markdown",
   "metadata": {},
   "source": [
    "### Experiments"
   ]
  },
  {
   "cell_type": "code",
   "execution_count": 4,
   "metadata": {},
   "outputs": [],
   "source": [
    "chp_p = CheckpointParams(\n",
    "    dirpath=\"../checkpoints\", monitor='val_loss', verbose=True,\n",
    "    save_top_k=1)\n",
    "tr_p = TrainerParams(\n",
    "    max_epochs=5, gpus=1, auto_lr_find=True)\n",
    "es_p = EarlyStoppingParams(\n",
    "    monitor='val_loss', patience=2, verbose=True)\n",
    "\n",
    "exp = Experimentator(\n",
    "    models_params=models_params,\n",
    "    datasets_params=datasets_params,\n",
    "    trainer_params=tr_p,\n",
    "    checkpoint_params=chp_p,\n",
    "    early_stopping_params=es_p,\n",
    "    LoggersClasses=[TensorBoardLogger],\n",
    "    loggers_params=[LoggerParams(save_dir=\"../lightning_logs\")]\n",
    ")"
   ]
  },
  {
   "cell_type": "markdown",
   "metadata": {},
   "source": [
    "### Run / Load"
   ]
  },
  {
   "cell_type": "code",
   "execution_count": 5,
   "metadata": {},
   "outputs": [
    {
     "name": "stderr",
     "output_type": "stream",
     "text": [
      "/home/stachu/Projects/Anomaly_detection/TSAD/predpy/preprocessing/load_and_preprocess.py:188: UserWarning:\n",
      "\n",
      "Boolean Series key will be reindexed to match DataFrame index.\n",
      "\n",
      "/home/stachu/Projects/Anomaly_detection/TSAD/predpy/preprocessing/load_and_preprocess.py:203: UserWarning:\n",
      "\n",
      "Boolean Series key will be reindexed to match DataFrame index.\n",
      "\n",
      "Global seed set to 42\n",
      "GPU available: True, used: True\n",
      "TPU available: False, using: 0 TPU cores\n",
      "IPU available: False, using: 0 IPUs\n",
      "/home/stachu/.cache/pypoetry/virtualenvs/tsad-8szBw8Wl-py3.8/lib/python3.8/site-packages/pytorch_lightning/trainer/connectors/logger_connector/logger_connector.py:59: LightningDeprecationWarning:\n",
      "\n",
      "Setting `Trainer(flush_logs_every_n_steps=50)` is deprecated in v1.5 and will be removed in v1.7. Please configure flushing in the logger instead.\n",
      "\n",
      "/home/stachu/.cache/pypoetry/virtualenvs/tsad-8szBw8Wl-py3.8/lib/python3.8/site-packages/pytorch_lightning/core/datamodule.py:469: LightningDeprecationWarning:\n",
      "\n",
      "DataModule.setup has already been called, so it will not be called again. In v1.6 this behavior will change to always call DataModule.setup.\n",
      "\n",
      "LOCAL_RANK: 0 - CUDA_VISIBLE_DEVICES: [0]\n"
     ]
    },
    {
     "ename": "TypeError",
     "evalue": "('optimizer can only optimize Tensors, but one of the params is Module.parameters', 'Problem with training 0 model named TadGAN on 0 dataset named machine-1-1')",
     "output_type": "error",
     "traceback": [
      "\u001b[0;31m---------------------------------------------------------------------------\u001b[0m",
      "\u001b[0;31mTypeError\u001b[0m                                 Traceback (most recent call last)",
      "\u001b[1;32m/home/stachu/Projects/Anomaly_detection/TSAD/notebooks/experiments.ipynb Cell 11'\u001b[0m in \u001b[0;36m<module>\u001b[0;34m\u001b[0m\n\u001b[0;32m----> <a href='vscode-notebook-cell:/home/stachu/Projects/Anomaly_detection/TSAD/notebooks/experiments.ipynb#ch0000062?line=0'>1</a>\u001b[0m exp\u001b[39m.\u001b[39;49mrun_experiments(experiments_path\u001b[39m=\u001b[39;49m\u001b[39m\"\u001b[39;49m\u001b[39m../saved_experiments\u001b[39;49m\u001b[39m\"\u001b[39;49m, safe\u001b[39m=\u001b[39;49m\u001b[39mFalse\u001b[39;49;00m)\n",
      "File \u001b[0;32m~/Projects/Anomaly_detection/TSAD/predpy/experimentator/experimentator.py:452\u001b[0m, in \u001b[0;36mExperimentator.run_experiments\u001b[0;34m(self, skip_steps, experiments_path, continue_run, safe)\u001b[0m\n\u001b[1;32m    <a href='file:///home/stachu/Projects/Anomaly_detection/TSAD/predpy/experimentator/experimentator.py?line=449'>450</a>\u001b[0m                 \u001b[39mself\u001b[39m\u001b[39m.\u001b[39msave(experiments_path, safe\u001b[39m=\u001b[39m\u001b[39mTrue\u001b[39;00m)\n\u001b[1;32m    <a href='file:///home/stachu/Projects/Anomaly_detection/TSAD/predpy/experimentator/experimentator.py?line=450'>451</a>\u001b[0m         \u001b[39mexcept\u001b[39;00m \u001b[39mException\u001b[39;00m \u001b[39mas\u001b[39;00m e:\n\u001b[0;32m--> <a href='file:///home/stachu/Projects/Anomaly_detection/TSAD/predpy/experimentator/experimentator.py?line=451'>452</a>\u001b[0m             \u001b[39mself\u001b[39;49m\u001b[39m.\u001b[39;49m_deliver_exception(\n\u001b[1;32m    <a href='file:///home/stachu/Projects/Anomaly_detection/TSAD/predpy/experimentator/experimentator.py?line=452'>453</a>\u001b[0m                 msg\u001b[39m=\u001b[39;49m\u001b[39mself\u001b[39;49m\u001b[39m.\u001b[39;49m_set_err_msg(dataset_idx, model_idx),\n\u001b[1;32m    <a href='file:///home/stachu/Projects/Anomaly_detection/TSAD/predpy/experimentator/experimentator.py?line=453'>454</a>\u001b[0m                 exception\u001b[39m=\u001b[39;49me,\n\u001b[1;32m    <a href='file:///home/stachu/Projects/Anomaly_detection/TSAD/predpy/experimentator/experimentator.py?line=454'>455</a>\u001b[0m                 safe\u001b[39m=\u001b[39;49msafe,\n\u001b[1;32m    <a href='file:///home/stachu/Projects/Anomaly_detection/TSAD/predpy/experimentator/experimentator.py?line=455'>456</a>\u001b[0m             )\n\u001b[1;32m    <a href='file:///home/stachu/Projects/Anomaly_detection/TSAD/predpy/experimentator/experimentator.py?line=456'>457</a>\u001b[0m             \u001b[39mcontinue\u001b[39;00m\n\u001b[1;32m    <a href='file:///home/stachu/Projects/Anomaly_detection/TSAD/predpy/experimentator/experimentator.py?line=457'>458</a>\u001b[0m \u001b[39mprint\u001b[39m(\u001b[39m\"\u001b[39m\u001b[39mExperiments ended sucessfully\u001b[39m\u001b[39m\"\u001b[39m)\n",
      "File \u001b[0;32m~/Projects/Anomaly_detection/TSAD/predpy/experimentator/experimentator.py:330\u001b[0m, in \u001b[0;36mExperimentator._deliver_exception\u001b[0;34m(self, msg, exception, safe)\u001b[0m\n\u001b[1;32m    <a href='file:///home/stachu/Projects/Anomaly_detection/TSAD/predpy/experimentator/experimentator.py?line=327'>328</a>\u001b[0m \u001b[39melse\u001b[39;00m:\n\u001b[1;32m    <a href='file:///home/stachu/Projects/Anomaly_detection/TSAD/predpy/experimentator/experimentator.py?line=328'>329</a>\u001b[0m     exception\u001b[39m.\u001b[39margs \u001b[39m+\u001b[39m\u001b[39m=\u001b[39m (msg,)\n\u001b[0;32m--> <a href='file:///home/stachu/Projects/Anomaly_detection/TSAD/predpy/experimentator/experimentator.py?line=329'>330</a>\u001b[0m     \u001b[39mraise\u001b[39;00m exception\n",
      "File \u001b[0;32m~/Projects/Anomaly_detection/TSAD/predpy/experimentator/experimentator.py:430\u001b[0m, in \u001b[0;36mExperimentator.run_experiments\u001b[0;34m(self, skip_steps, experiments_path, continue_run, safe)\u001b[0m\n\u001b[1;32m    <a href='file:///home/stachu/Projects/Anomaly_detection/TSAD/predpy/experimentator/experimentator.py?line=427'>428</a>\u001b[0m     \u001b[39mcontinue\u001b[39;00m\n\u001b[1;32m    <a href='file:///home/stachu/Projects/Anomaly_detection/TSAD/predpy/experimentator/experimentator.py?line=428'>429</a>\u001b[0m \u001b[39m# start = time.time()\u001b[39;00m\n\u001b[0;32m--> <a href='file:///home/stachu/Projects/Anomaly_detection/TSAD/predpy/experimentator/experimentator.py?line=429'>430</a>\u001b[0m model_preds_df \u001b[39m=\u001b[39m \u001b[39mself\u001b[39;49m\u001b[39m.\u001b[39;49m_experiment_step(\n\u001b[1;32m    <a href='file:///home/stachu/Projects/Anomaly_detection/TSAD/predpy/experimentator/experimentator.py?line=430'>431</a>\u001b[0m     tsm\u001b[39m=\u001b[39;49mtsm, model_idx\u001b[39m=\u001b[39;49mmodel_idx,\n\u001b[1;32m    <a href='file:///home/stachu/Projects/Anomaly_detection/TSAD/predpy/experimentator/experimentator.py?line=431'>432</a>\u001b[0m     continue_run\u001b[39m=\u001b[39;49mcontinue_run)\n\u001b[1;32m    <a href='file:///home/stachu/Projects/Anomaly_detection/TSAD/predpy/experimentator/experimentator.py?line=432'>433</a>\u001b[0m \u001b[39m# print(\"Time: \" + str(time.time() - start))\u001b[39;00m\n\u001b[1;32m    <a href='file:///home/stachu/Projects/Anomaly_detection/TSAD/predpy/experimentator/experimentator.py?line=433'>434</a>\u001b[0m \u001b[39m# print(\"Predictions memory size:\\n\" +\u001b[39;00m\n\u001b[1;32m    <a href='file:///home/stachu/Projects/Anomaly_detection/TSAD/predpy/experimentator/experimentator.py?line=434'>435</a>\u001b[0m \u001b[39m#       str(model_preds_df.memory_usage(deep=True)))\u001b[39;00m\n\u001b[1;32m    <a href='file:///home/stachu/Projects/Anomaly_detection/TSAD/predpy/experimentator/experimentator.py?line=435'>436</a>\u001b[0m \n\u001b[1;32m    <a href='file:///home/stachu/Projects/Anomaly_detection/TSAD/predpy/experimentator/experimentator.py?line=436'>437</a>\u001b[0m \u001b[39m# saving store predictions as dataframe\u001b[39;00m\n\u001b[1;32m    <a href='file:///home/stachu/Projects/Anomaly_detection/TSAD/predpy/experimentator/experimentator.py?line=437'>438</a>\u001b[0m \u001b[39mself\u001b[39m\u001b[39m.\u001b[39mpredictions \u001b[39m=\u001b[39m pd\u001b[39m.\u001b[39mconcat([\n\u001b[1;32m    <a href='file:///home/stachu/Projects/Anomaly_detection/TSAD/predpy/experimentator/experimentator.py?line=438'>439</a>\u001b[0m     \u001b[39mself\u001b[39m\u001b[39m.\u001b[39mpredictions,\n\u001b[1;32m    <a href='file:///home/stachu/Projects/Anomaly_detection/TSAD/predpy/experimentator/experimentator.py?line=439'>440</a>\u001b[0m     pd\u001b[39m.\u001b[39mDataFrame(\n\u001b[0;32m   (...)\u001b[0m\n\u001b[1;32m    <a href='file:///home/stachu/Projects/Anomaly_detection/TSAD/predpy/experimentator/experimentator.py?line=443'>444</a>\u001b[0m             predictions\u001b[39m=\u001b[39mmodel_preds_df)]\n\u001b[1;32m    <a href='file:///home/stachu/Projects/Anomaly_detection/TSAD/predpy/experimentator/experimentator.py?line=444'>445</a>\u001b[0m     )])\n",
      "File \u001b[0;32m~/Projects/Anomaly_detection/TSAD/predpy/experimentator/experimentator.py:315\u001b[0m, in \u001b[0;36mExperimentator._experiment_step\u001b[0;34m(self, tsm, model_idx, continue_run)\u001b[0m\n\u001b[1;32m    <a href='file:///home/stachu/Projects/Anomaly_detection/TSAD/predpy/experimentator/experimentator.py?line=308'>309</a>\u001b[0m \u001b[39mdef\u001b[39;00m \u001b[39m_experiment_step\u001b[39m(\n\u001b[1;32m    <a href='file:///home/stachu/Projects/Anomaly_detection/TSAD/predpy/experimentator/experimentator.py?line=309'>310</a>\u001b[0m     \u001b[39mself\u001b[39m,\n\u001b[1;32m    <a href='file:///home/stachu/Projects/Anomaly_detection/TSAD/predpy/experimentator/experimentator.py?line=310'>311</a>\u001b[0m     tsm: MultiTimeSeriesModule,\n\u001b[1;32m    <a href='file:///home/stachu/Projects/Anomaly_detection/TSAD/predpy/experimentator/experimentator.py?line=311'>312</a>\u001b[0m     model_idx: \u001b[39mint\u001b[39m,\n\u001b[1;32m    <a href='file:///home/stachu/Projects/Anomaly_detection/TSAD/predpy/experimentator/experimentator.py?line=312'>313</a>\u001b[0m     continue_run: \u001b[39mbool\u001b[39m \u001b[39m=\u001b[39m \u001b[39mFalse\u001b[39;00m\n\u001b[1;32m    <a href='file:///home/stachu/Projects/Anomaly_detection/TSAD/predpy/experimentator/experimentator.py?line=313'>314</a>\u001b[0m ):\n\u001b[0;32m--> <a href='file:///home/stachu/Projects/Anomaly_detection/TSAD/predpy/experimentator/experimentator.py?line=314'>315</a>\u001b[0m     pl_model \u001b[39m=\u001b[39m \u001b[39mself\u001b[39;49m\u001b[39m.\u001b[39;49mtrain_model(\n\u001b[1;32m    <a href='file:///home/stachu/Projects/Anomaly_detection/TSAD/predpy/experimentator/experimentator.py?line=315'>316</a>\u001b[0m         model_idx\u001b[39m=\u001b[39;49mmodel_idx, tsm\u001b[39m=\u001b[39;49mtsm, load_state\u001b[39m=\u001b[39;49mcontinue_run)\n\u001b[1;32m    <a href='file:///home/stachu/Projects/Anomaly_detection/TSAD/predpy/experimentator/experimentator.py?line=317'>318</a>\u001b[0m     \u001b[39m# collect predictions made on test dataset\u001b[39;00m\n\u001b[1;32m    <a href='file:///home/stachu/Projects/Anomaly_detection/TSAD/predpy/experimentator/experimentator.py?line=318'>319</a>\u001b[0m     preds \u001b[39m=\u001b[39m pl_model\u001b[39m.\u001b[39mget_dataset_predictions(tsm\u001b[39m.\u001b[39mtest_dataloader())\n",
      "File \u001b[0;32m~/Projects/Anomaly_detection/TSAD/predpy/experimentator/experimentator.py:569\u001b[0m, in \u001b[0;36mExperimentator.train_model\u001b[0;34m(self, model_idx, dataset_idx, tsm, load_state)\u001b[0m\n\u001b[1;32m    <a href='file:///home/stachu/Projects/Anomaly_detection/TSAD/predpy/experimentator/experimentator.py?line=562'>563</a>\u001b[0m     pl_model \u001b[39m=\u001b[39m m_params\u001b[39m.\u001b[39mWrapperCls(\n\u001b[1;32m    <a href='file:///home/stachu/Projects/Anomaly_detection/TSAD/predpy/experimentator/experimentator.py?line=563'>564</a>\u001b[0m         model\u001b[39m=\u001b[39mm_params\u001b[39m.\u001b[39mcls_(\u001b[39m*\u001b[39m\u001b[39m*\u001b[39mm_params\u001b[39m.\u001b[39minit_params),\n\u001b[1;32m    <a href='file:///home/stachu/Projects/Anomaly_detection/TSAD/predpy/experimentator/experimentator.py?line=564'>565</a>\u001b[0m         \u001b[39m*\u001b[39m\u001b[39m*\u001b[39mm_params\u001b[39m.\u001b[39mlearning_params,\n\u001b[1;32m    <a href='file:///home/stachu/Projects/Anomaly_detection/TSAD/predpy/experimentator/experimentator.py?line=565'>566</a>\u001b[0m         \u001b[39m*\u001b[39m\u001b[39m*\u001b[39mm_params\u001b[39m.\u001b[39mwrapper_kwargs)\n\u001b[1;32m    <a href='file:///home/stachu/Projects/Anomaly_detection/TSAD/predpy/experimentator/experimentator.py?line=567'>568</a>\u001b[0m \u001b[39m# training model\u001b[39;00m\n\u001b[0;32m--> <a href='file:///home/stachu/Projects/Anomaly_detection/TSAD/predpy/experimentator/experimentator.py?line=568'>569</a>\u001b[0m pl_model \u001b[39m=\u001b[39m get_trained_pl_model(\n\u001b[1;32m    <a href='file:///home/stachu/Projects/Anomaly_detection/TSAD/predpy/experimentator/experimentator.py?line=569'>570</a>\u001b[0m     pl_model\u001b[39m=\u001b[39;49mpl_model,\n\u001b[1;32m    <a href='file:///home/stachu/Projects/Anomaly_detection/TSAD/predpy/experimentator/experimentator.py?line=570'>571</a>\u001b[0m     data_module\u001b[39m=\u001b[39;49mtsm,\n\u001b[1;32m    <a href='file:///home/stachu/Projects/Anomaly_detection/TSAD/predpy/experimentator/experimentator.py?line=571'>572</a>\u001b[0m     trainer_params\u001b[39m=\u001b[39;49mtrainer_params,\n\u001b[1;32m    <a href='file:///home/stachu/Projects/Anomaly_detection/TSAD/predpy/experimentator/experimentator.py?line=572'>573</a>\u001b[0m     checkpoint_params\u001b[39m=\u001b[39;49mcheckpoint_params,\n\u001b[1;32m    <a href='file:///home/stachu/Projects/Anomaly_detection/TSAD/predpy/experimentator/experimentator.py?line=573'>574</a>\u001b[0m     early_stopping_params\u001b[39m=\u001b[39;49mearly_stopping_params,\n\u001b[1;32m    <a href='file:///home/stachu/Projects/Anomaly_detection/TSAD/predpy/experimentator/experimentator.py?line=574'>575</a>\u001b[0m     loggers_params\u001b[39m=\u001b[39;49mloggers_params,\n\u001b[1;32m    <a href='file:///home/stachu/Projects/Anomaly_detection/TSAD/predpy/experimentator/experimentator.py?line=575'>576</a>\u001b[0m     LoggersClasses\u001b[39m=\u001b[39;49m\u001b[39mself\u001b[39;49m\u001b[39m.\u001b[39;49mLoggersClasses)\n\u001b[1;32m    <a href='file:///home/stachu/Projects/Anomaly_detection/TSAD/predpy/experimentator/experimentator.py?line=577'>578</a>\u001b[0m \u001b[39m# load last saved model\u001b[39;00m\n\u001b[1;32m    <a href='file:///home/stachu/Projects/Anomaly_detection/TSAD/predpy/experimentator/experimentator.py?line=578'>579</a>\u001b[0m pl_model \u001b[39m=\u001b[39m \u001b[39mself\u001b[39m\u001b[39m.\u001b[39mload_pl_model(\n\u001b[1;32m    <a href='file:///home/stachu/Projects/Anomaly_detection/TSAD/predpy/experimentator/experimentator.py?line=579'>580</a>\u001b[0m     model_idx\u001b[39m=\u001b[39mmodel_idx,\n\u001b[1;32m    <a href='file:///home/stachu/Projects/Anomaly_detection/TSAD/predpy/experimentator/experimentator.py?line=580'>581</a>\u001b[0m     dir_path\u001b[39m=\u001b[39mcheckpoint_params\u001b[39m.\u001b[39mdirpath,\n\u001b[1;32m    <a href='file:///home/stachu/Projects/Anomaly_detection/TSAD/predpy/experimentator/experimentator.py?line=581'>582</a>\u001b[0m     file_name\u001b[39m=\u001b[39mcheckpoint_params\u001b[39m.\u001b[39mfilename,\n\u001b[1;32m    <a href='file:///home/stachu/Projects/Anomaly_detection/TSAD/predpy/experimentator/experimentator.py?line=582'>583</a>\u001b[0m     find_last\u001b[39m=\u001b[39m\u001b[39mTrue\u001b[39;00m)\n",
      "File \u001b[0;32m~/Projects/Anomaly_detection/TSAD/predpy/trainer/training.py:133\u001b[0m, in \u001b[0;36mget_trained_pl_model\u001b[0;34m(pl_model, data_module, trainer_params, checkpoint_params, early_stopping_params, loggers_params, LoggersClasses)\u001b[0m\n\u001b[1;32m     <a href='file:///home/stachu/Projects/Anomaly_detection/TSAD/predpy/trainer/training.py?line=82'>83</a>\u001b[0m \u001b[39m\"\"\"Creates and train pytorch lightning model.\u001b[39;00m\n\u001b[1;32m     <a href='file:///home/stachu/Projects/Anomaly_detection/TSAD/predpy/trainer/training.py?line=83'>84</a>\u001b[0m \n\u001b[1;32m     <a href='file:///home/stachu/Projects/Anomaly_detection/TSAD/predpy/trainer/training.py?line=84'>85</a>\u001b[0m \u001b[39mWraps *model* into pytorch lightning module defined with *WrapperCls* and\u001b[39;00m\n\u001b[0;32m   (...)\u001b[0m\n\u001b[1;32m    <a href='file:///home/stachu/Projects/Anomaly_detection/TSAD/predpy/trainer/training.py?line=123'>124</a>\u001b[0m \u001b[39m    Trained lightning model.\u001b[39;00m\n\u001b[1;32m    <a href='file:///home/stachu/Projects/Anomaly_detection/TSAD/predpy/trainer/training.py?line=124'>125</a>\u001b[0m \u001b[39m\"\"\"\u001b[39;00m\n\u001b[1;32m    <a href='file:///home/stachu/Projects/Anomaly_detection/TSAD/predpy/trainer/training.py?line=125'>126</a>\u001b[0m trainer \u001b[39m=\u001b[39m get_trainer(\n\u001b[1;32m    <a href='file:///home/stachu/Projects/Anomaly_detection/TSAD/predpy/trainer/training.py?line=126'>127</a>\u001b[0m     trainer_params\u001b[39m=\u001b[39mtrainer_params,\n\u001b[1;32m    <a href='file:///home/stachu/Projects/Anomaly_detection/TSAD/predpy/trainer/training.py?line=127'>128</a>\u001b[0m     checkpoint_params\u001b[39m=\u001b[39mcheckpoint_params,\n\u001b[1;32m    <a href='file:///home/stachu/Projects/Anomaly_detection/TSAD/predpy/trainer/training.py?line=128'>129</a>\u001b[0m     early_stopping_params\u001b[39m=\u001b[39mearly_stopping_params,\n\u001b[1;32m    <a href='file:///home/stachu/Projects/Anomaly_detection/TSAD/predpy/trainer/training.py?line=129'>130</a>\u001b[0m     loggers_params\u001b[39m=\u001b[39mloggers_params,\n\u001b[1;32m    <a href='file:///home/stachu/Projects/Anomaly_detection/TSAD/predpy/trainer/training.py?line=130'>131</a>\u001b[0m     LoggersClasses\u001b[39m=\u001b[39mLoggersClasses)\n\u001b[0;32m--> <a href='file:///home/stachu/Projects/Anomaly_detection/TSAD/predpy/trainer/training.py?line=132'>133</a>\u001b[0m trainer\u001b[39m.\u001b[39;49mfit(pl_model, data_module)\n\u001b[1;32m    <a href='file:///home/stachu/Projects/Anomaly_detection/TSAD/predpy/trainer/training.py?line=134'>135</a>\u001b[0m \u001b[39mreturn\u001b[39;00m pl_model\u001b[39m.\u001b[39meval()\n",
      "File \u001b[0;32m~/.cache/pypoetry/virtualenvs/tsad-8szBw8Wl-py3.8/lib/python3.8/site-packages/pytorch_lightning/trainer/trainer.py:740\u001b[0m, in \u001b[0;36mTrainer.fit\u001b[0;34m(self, model, train_dataloaders, val_dataloaders, datamodule, train_dataloader, ckpt_path)\u001b[0m\n\u001b[1;32m    <a href='file:///home/stachu/.cache/pypoetry/virtualenvs/tsad-8szBw8Wl-py3.8/lib/python3.8/site-packages/pytorch_lightning/trainer/trainer.py?line=734'>735</a>\u001b[0m     rank_zero_deprecation(\n\u001b[1;32m    <a href='file:///home/stachu/.cache/pypoetry/virtualenvs/tsad-8szBw8Wl-py3.8/lib/python3.8/site-packages/pytorch_lightning/trainer/trainer.py?line=735'>736</a>\u001b[0m         \u001b[39m\"\u001b[39m\u001b[39m`trainer.fit(train_dataloader)` is deprecated in v1.4 and will be removed in v1.6.\u001b[39m\u001b[39m\"\u001b[39m\n\u001b[1;32m    <a href='file:///home/stachu/.cache/pypoetry/virtualenvs/tsad-8szBw8Wl-py3.8/lib/python3.8/site-packages/pytorch_lightning/trainer/trainer.py?line=736'>737</a>\u001b[0m         \u001b[39m\"\u001b[39m\u001b[39m Use `trainer.fit(train_dataloaders)` instead. HINT: added \u001b[39m\u001b[39m'\u001b[39m\u001b[39ms\u001b[39m\u001b[39m'\u001b[39m\u001b[39m\"\u001b[39m\n\u001b[1;32m    <a href='file:///home/stachu/.cache/pypoetry/virtualenvs/tsad-8szBw8Wl-py3.8/lib/python3.8/site-packages/pytorch_lightning/trainer/trainer.py?line=737'>738</a>\u001b[0m     )\n\u001b[1;32m    <a href='file:///home/stachu/.cache/pypoetry/virtualenvs/tsad-8szBw8Wl-py3.8/lib/python3.8/site-packages/pytorch_lightning/trainer/trainer.py?line=738'>739</a>\u001b[0m     train_dataloaders \u001b[39m=\u001b[39m train_dataloader\n\u001b[0;32m--> <a href='file:///home/stachu/.cache/pypoetry/virtualenvs/tsad-8szBw8Wl-py3.8/lib/python3.8/site-packages/pytorch_lightning/trainer/trainer.py?line=739'>740</a>\u001b[0m \u001b[39mself\u001b[39;49m\u001b[39m.\u001b[39;49m_call_and_handle_interrupt(\n\u001b[1;32m    <a href='file:///home/stachu/.cache/pypoetry/virtualenvs/tsad-8szBw8Wl-py3.8/lib/python3.8/site-packages/pytorch_lightning/trainer/trainer.py?line=740'>741</a>\u001b[0m     \u001b[39mself\u001b[39;49m\u001b[39m.\u001b[39;49m_fit_impl, model, train_dataloaders, val_dataloaders, datamodule, ckpt_path\n\u001b[1;32m    <a href='file:///home/stachu/.cache/pypoetry/virtualenvs/tsad-8szBw8Wl-py3.8/lib/python3.8/site-packages/pytorch_lightning/trainer/trainer.py?line=741'>742</a>\u001b[0m )\n",
      "File \u001b[0;32m~/.cache/pypoetry/virtualenvs/tsad-8szBw8Wl-py3.8/lib/python3.8/site-packages/pytorch_lightning/trainer/trainer.py:685\u001b[0m, in \u001b[0;36mTrainer._call_and_handle_interrupt\u001b[0;34m(self, trainer_fn, *args, **kwargs)\u001b[0m\n\u001b[1;32m    <a href='file:///home/stachu/.cache/pypoetry/virtualenvs/tsad-8szBw8Wl-py3.8/lib/python3.8/site-packages/pytorch_lightning/trainer/trainer.py?line=674'>675</a>\u001b[0m \u001b[39mr\u001b[39m\u001b[39m\"\"\"\u001b[39;00m\n\u001b[1;32m    <a href='file:///home/stachu/.cache/pypoetry/virtualenvs/tsad-8szBw8Wl-py3.8/lib/python3.8/site-packages/pytorch_lightning/trainer/trainer.py?line=675'>676</a>\u001b[0m \u001b[39mError handling, intended to be used only for main trainer function entry points (fit, validate, test, predict)\u001b[39;00m\n\u001b[1;32m    <a href='file:///home/stachu/.cache/pypoetry/virtualenvs/tsad-8szBw8Wl-py3.8/lib/python3.8/site-packages/pytorch_lightning/trainer/trainer.py?line=676'>677</a>\u001b[0m \u001b[39mas all errors should funnel through them\u001b[39;00m\n\u001b[0;32m   (...)\u001b[0m\n\u001b[1;32m    <a href='file:///home/stachu/.cache/pypoetry/virtualenvs/tsad-8szBw8Wl-py3.8/lib/python3.8/site-packages/pytorch_lightning/trainer/trainer.py?line=681'>682</a>\u001b[0m \u001b[39m    **kwargs: keyword arguments to be passed to `trainer_fn`\u001b[39;00m\n\u001b[1;32m    <a href='file:///home/stachu/.cache/pypoetry/virtualenvs/tsad-8szBw8Wl-py3.8/lib/python3.8/site-packages/pytorch_lightning/trainer/trainer.py?line=682'>683</a>\u001b[0m \u001b[39m\"\"\"\u001b[39;00m\n\u001b[1;32m    <a href='file:///home/stachu/.cache/pypoetry/virtualenvs/tsad-8szBw8Wl-py3.8/lib/python3.8/site-packages/pytorch_lightning/trainer/trainer.py?line=683'>684</a>\u001b[0m \u001b[39mtry\u001b[39;00m:\n\u001b[0;32m--> <a href='file:///home/stachu/.cache/pypoetry/virtualenvs/tsad-8szBw8Wl-py3.8/lib/python3.8/site-packages/pytorch_lightning/trainer/trainer.py?line=684'>685</a>\u001b[0m     \u001b[39mreturn\u001b[39;00m trainer_fn(\u001b[39m*\u001b[39;49margs, \u001b[39m*\u001b[39;49m\u001b[39m*\u001b[39;49mkwargs)\n\u001b[1;32m    <a href='file:///home/stachu/.cache/pypoetry/virtualenvs/tsad-8szBw8Wl-py3.8/lib/python3.8/site-packages/pytorch_lightning/trainer/trainer.py?line=685'>686</a>\u001b[0m \u001b[39m# TODO: treat KeyboardInterrupt as BaseException (delete the code below) in v1.7\u001b[39;00m\n\u001b[1;32m    <a href='file:///home/stachu/.cache/pypoetry/virtualenvs/tsad-8szBw8Wl-py3.8/lib/python3.8/site-packages/pytorch_lightning/trainer/trainer.py?line=686'>687</a>\u001b[0m \u001b[39mexcept\u001b[39;00m \u001b[39mKeyboardInterrupt\u001b[39;00m \u001b[39mas\u001b[39;00m exception:\n",
      "File \u001b[0;32m~/.cache/pypoetry/virtualenvs/tsad-8szBw8Wl-py3.8/lib/python3.8/site-packages/pytorch_lightning/trainer/trainer.py:777\u001b[0m, in \u001b[0;36mTrainer._fit_impl\u001b[0;34m(self, model, train_dataloaders, val_dataloaders, datamodule, ckpt_path)\u001b[0m\n\u001b[1;32m    <a href='file:///home/stachu/.cache/pypoetry/virtualenvs/tsad-8szBw8Wl-py3.8/lib/python3.8/site-packages/pytorch_lightning/trainer/trainer.py?line=774'>775</a>\u001b[0m \u001b[39m# TODO: ckpt_path only in v1.7\u001b[39;00m\n\u001b[1;32m    <a href='file:///home/stachu/.cache/pypoetry/virtualenvs/tsad-8szBw8Wl-py3.8/lib/python3.8/site-packages/pytorch_lightning/trainer/trainer.py?line=775'>776</a>\u001b[0m ckpt_path \u001b[39m=\u001b[39m ckpt_path \u001b[39mor\u001b[39;00m \u001b[39mself\u001b[39m\u001b[39m.\u001b[39mresume_from_checkpoint\n\u001b[0;32m--> <a href='file:///home/stachu/.cache/pypoetry/virtualenvs/tsad-8szBw8Wl-py3.8/lib/python3.8/site-packages/pytorch_lightning/trainer/trainer.py?line=776'>777</a>\u001b[0m \u001b[39mself\u001b[39;49m\u001b[39m.\u001b[39;49m_run(model, ckpt_path\u001b[39m=\u001b[39;49mckpt_path)\n\u001b[1;32m    <a href='file:///home/stachu/.cache/pypoetry/virtualenvs/tsad-8szBw8Wl-py3.8/lib/python3.8/site-packages/pytorch_lightning/trainer/trainer.py?line=778'>779</a>\u001b[0m \u001b[39massert\u001b[39;00m \u001b[39mself\u001b[39m\u001b[39m.\u001b[39mstate\u001b[39m.\u001b[39mstopped\n\u001b[1;32m    <a href='file:///home/stachu/.cache/pypoetry/virtualenvs/tsad-8szBw8Wl-py3.8/lib/python3.8/site-packages/pytorch_lightning/trainer/trainer.py?line=779'>780</a>\u001b[0m \u001b[39mself\u001b[39m\u001b[39m.\u001b[39mtraining \u001b[39m=\u001b[39m \u001b[39mFalse\u001b[39;00m\n",
      "File \u001b[0;32m~/.cache/pypoetry/virtualenvs/tsad-8szBw8Wl-py3.8/lib/python3.8/site-packages/pytorch_lightning/trainer/trainer.py:1145\u001b[0m, in \u001b[0;36mTrainer._run\u001b[0;34m(self, model, ckpt_path)\u001b[0m\n\u001b[1;32m   <a href='file:///home/stachu/.cache/pypoetry/virtualenvs/tsad-8szBw8Wl-py3.8/lib/python3.8/site-packages/pytorch_lightning/trainer/trainer.py?line=1141'>1142</a>\u001b[0m     \u001b[39mself\u001b[39m\u001b[39m.\u001b[39m_restore_modules_and_callbacks(ckpt_path)\n\u001b[1;32m   <a href='file:///home/stachu/.cache/pypoetry/virtualenvs/tsad-8szBw8Wl-py3.8/lib/python3.8/site-packages/pytorch_lightning/trainer/trainer.py?line=1143'>1144</a>\u001b[0m \u001b[39mself\u001b[39m\u001b[39m.\u001b[39m_call_configure_sharded_model()  \u001b[39m# allow user to setup in model sharded environment\u001b[39;00m\n\u001b[0;32m-> <a href='file:///home/stachu/.cache/pypoetry/virtualenvs/tsad-8szBw8Wl-py3.8/lib/python3.8/site-packages/pytorch_lightning/trainer/trainer.py?line=1144'>1145</a>\u001b[0m \u001b[39mself\u001b[39;49m\u001b[39m.\u001b[39;49maccelerator\u001b[39m.\u001b[39;49msetup(\u001b[39mself\u001b[39;49m)\n\u001b[1;32m   <a href='file:///home/stachu/.cache/pypoetry/virtualenvs/tsad-8szBw8Wl-py3.8/lib/python3.8/site-packages/pytorch_lightning/trainer/trainer.py?line=1146'>1147</a>\u001b[0m \u001b[39m# ----------------------------\u001b[39;00m\n\u001b[1;32m   <a href='file:///home/stachu/.cache/pypoetry/virtualenvs/tsad-8szBw8Wl-py3.8/lib/python3.8/site-packages/pytorch_lightning/trainer/trainer.py?line=1147'>1148</a>\u001b[0m \u001b[39m# INSPECT THE CORE LOOPS\u001b[39;00m\n\u001b[1;32m   <a href='file:///home/stachu/.cache/pypoetry/virtualenvs/tsad-8szBw8Wl-py3.8/lib/python3.8/site-packages/pytorch_lightning/trainer/trainer.py?line=1148'>1149</a>\u001b[0m \u001b[39m# ----------------------------\u001b[39;00m\n\u001b[1;32m   <a href='file:///home/stachu/.cache/pypoetry/virtualenvs/tsad-8szBw8Wl-py3.8/lib/python3.8/site-packages/pytorch_lightning/trainer/trainer.py?line=1149'>1150</a>\u001b[0m \u001b[39mfr\u001b[39m\u001b[39m\"\"\"\u001b[39m\n\u001b[1;32m   <a href='file:///home/stachu/.cache/pypoetry/virtualenvs/tsad-8szBw8Wl-py3.8/lib/python3.8/site-packages/pytorch_lightning/trainer/trainer.py?line=1150'>1151</a>\u001b[0m \u001b[39m     Lightning internal flow looks like this:\u001b[39m\n\u001b[1;32m   <a href='file:///home/stachu/.cache/pypoetry/virtualenvs/tsad-8szBw8Wl-py3.8/lib/python3.8/site-packages/pytorch_lightning/trainer/trainer.py?line=1151'>1152</a>\u001b[0m \u001b[39m\u001b[39m\u001b[39m{\u001b[39;00mTrainer\u001b[39m.\u001b[39mfit\u001b[39m}\u001b[39;00m\u001b[39m or \u001b[39m\u001b[39m{\u001b[39;00mTrainer\u001b[39m.\u001b[39mtest\u001b[39m}\u001b[39;00m\u001b[39m or \u001b[39m\u001b[39m{\u001b[39;00mTrainer\u001b[39m.\u001b[39mpredict\u001b[39m}\u001b[39;00m\u001b[39m  ||\u001b[39m\n\u001b[0;32m   (...)\u001b[0m\n\u001b[1;32m   <a href='file:///home/stachu/.cache/pypoetry/virtualenvs/tsad-8szBw8Wl-py3.8/lib/python3.8/site-packages/pytorch_lightning/trainer/trainer.py?line=1171'>1172</a>\u001b[0m \u001b[39m`pytorch_lightning/plugins/training_type_plugin` to find accelerator dispatch functions.\u001b[39m\n\u001b[1;32m   <a href='file:///home/stachu/.cache/pypoetry/virtualenvs/tsad-8szBw8Wl-py3.8/lib/python3.8/site-packages/pytorch_lightning/trainer/trainer.py?line=1172'>1173</a>\u001b[0m \u001b[39m\u001b[39m\u001b[39m\"\"\"\u001b[39m\n",
      "File \u001b[0;32m~/.cache/pypoetry/virtualenvs/tsad-8szBw8Wl-py3.8/lib/python3.8/site-packages/pytorch_lightning/accelerators/gpu.py:46\u001b[0m, in \u001b[0;36mGPUAccelerator.setup\u001b[0;34m(self, trainer)\u001b[0m\n\u001b[1;32m     <a href='file:///home/stachu/.cache/pypoetry/virtualenvs/tsad-8szBw8Wl-py3.8/lib/python3.8/site-packages/pytorch_lightning/accelerators/gpu.py?line=43'>44</a>\u001b[0m \u001b[39mdef\u001b[39;00m \u001b[39msetup\u001b[39m(\u001b[39mself\u001b[39m, trainer: \u001b[39m\"\u001b[39m\u001b[39mpl.Trainer\u001b[39m\u001b[39m\"\u001b[39m) \u001b[39m-\u001b[39m\u001b[39m>\u001b[39m \u001b[39mNone\u001b[39;00m:\n\u001b[1;32m     <a href='file:///home/stachu/.cache/pypoetry/virtualenvs/tsad-8szBw8Wl-py3.8/lib/python3.8/site-packages/pytorch_lightning/accelerators/gpu.py?line=44'>45</a>\u001b[0m     \u001b[39mself\u001b[39m\u001b[39m.\u001b[39mset_nvidia_flags(trainer\u001b[39m.\u001b[39mlocal_rank)\n\u001b[0;32m---> <a href='file:///home/stachu/.cache/pypoetry/virtualenvs/tsad-8szBw8Wl-py3.8/lib/python3.8/site-packages/pytorch_lightning/accelerators/gpu.py?line=45'>46</a>\u001b[0m     \u001b[39mreturn\u001b[39;00m \u001b[39msuper\u001b[39;49m()\u001b[39m.\u001b[39;49msetup(trainer)\n",
      "File \u001b[0;32m~/.cache/pypoetry/virtualenvs/tsad-8szBw8Wl-py3.8/lib/python3.8/site-packages/pytorch_lightning/accelerators/accelerator.py:93\u001b[0m, in \u001b[0;36mAccelerator.setup\u001b[0;34m(self, trainer)\u001b[0m\n\u001b[1;32m     <a href='file:///home/stachu/.cache/pypoetry/virtualenvs/tsad-8szBw8Wl-py3.8/lib/python3.8/site-packages/pytorch_lightning/accelerators/accelerator.py?line=90'>91</a>\u001b[0m \u001b[39mself\u001b[39m\u001b[39m.\u001b[39msetup_training_type_plugin()\n\u001b[1;32m     <a href='file:///home/stachu/.cache/pypoetry/virtualenvs/tsad-8szBw8Wl-py3.8/lib/python3.8/site-packages/pytorch_lightning/accelerators/accelerator.py?line=91'>92</a>\u001b[0m \u001b[39mif\u001b[39;00m \u001b[39mnot\u001b[39;00m \u001b[39mself\u001b[39m\u001b[39m.\u001b[39mtraining_type_plugin\u001b[39m.\u001b[39msetup_optimizers_in_pre_dispatch:\n\u001b[0;32m---> <a href='file:///home/stachu/.cache/pypoetry/virtualenvs/tsad-8szBw8Wl-py3.8/lib/python3.8/site-packages/pytorch_lightning/accelerators/accelerator.py?line=92'>93</a>\u001b[0m     \u001b[39mself\u001b[39;49m\u001b[39m.\u001b[39;49msetup_optimizers(trainer)\n\u001b[1;32m     <a href='file:///home/stachu/.cache/pypoetry/virtualenvs/tsad-8szBw8Wl-py3.8/lib/python3.8/site-packages/pytorch_lightning/accelerators/accelerator.py?line=93'>94</a>\u001b[0m \u001b[39mself\u001b[39m\u001b[39m.\u001b[39msetup_precision_plugin()\n",
      "File \u001b[0;32m~/.cache/pypoetry/virtualenvs/tsad-8szBw8Wl-py3.8/lib/python3.8/site-packages/pytorch_lightning/accelerators/accelerator.py:354\u001b[0m, in \u001b[0;36mAccelerator.setup_optimizers\u001b[0;34m(self, trainer)\u001b[0m\n\u001b[1;32m    <a href='file:///home/stachu/.cache/pypoetry/virtualenvs/tsad-8szBw8Wl-py3.8/lib/python3.8/site-packages/pytorch_lightning/accelerators/accelerator.py?line=351'>352</a>\u001b[0m \u001b[39mif\u001b[39;00m trainer\u001b[39m.\u001b[39mstate\u001b[39m.\u001b[39mfn \u001b[39mnot\u001b[39;00m \u001b[39min\u001b[39;00m (TrainerFn\u001b[39m.\u001b[39mFITTING, TrainerFn\u001b[39m.\u001b[39mTUNING):\n\u001b[1;32m    <a href='file:///home/stachu/.cache/pypoetry/virtualenvs/tsad-8szBw8Wl-py3.8/lib/python3.8/site-packages/pytorch_lightning/accelerators/accelerator.py?line=352'>353</a>\u001b[0m     \u001b[39mreturn\u001b[39;00m\n\u001b[0;32m--> <a href='file:///home/stachu/.cache/pypoetry/virtualenvs/tsad-8szBw8Wl-py3.8/lib/python3.8/site-packages/pytorch_lightning/accelerators/accelerator.py?line=353'>354</a>\u001b[0m optimizers, lr_schedulers, optimizer_frequencies \u001b[39m=\u001b[39m \u001b[39mself\u001b[39;49m\u001b[39m.\u001b[39;49mtraining_type_plugin\u001b[39m.\u001b[39;49minit_optimizers(\n\u001b[1;32m    <a href='file:///home/stachu/.cache/pypoetry/virtualenvs/tsad-8szBw8Wl-py3.8/lib/python3.8/site-packages/pytorch_lightning/accelerators/accelerator.py?line=354'>355</a>\u001b[0m     trainer\u001b[39m=\u001b[39;49mtrainer, model\u001b[39m=\u001b[39;49m\u001b[39mself\u001b[39;49m\u001b[39m.\u001b[39;49mlightning_module\n\u001b[1;32m    <a href='file:///home/stachu/.cache/pypoetry/virtualenvs/tsad-8szBw8Wl-py3.8/lib/python3.8/site-packages/pytorch_lightning/accelerators/accelerator.py?line=355'>356</a>\u001b[0m )\n\u001b[1;32m    <a href='file:///home/stachu/.cache/pypoetry/virtualenvs/tsad-8szBw8Wl-py3.8/lib/python3.8/site-packages/pytorch_lightning/accelerators/accelerator.py?line=356'>357</a>\u001b[0m \u001b[39mself\u001b[39m\u001b[39m.\u001b[39moptimizers \u001b[39m=\u001b[39m optimizers\n\u001b[1;32m    <a href='file:///home/stachu/.cache/pypoetry/virtualenvs/tsad-8szBw8Wl-py3.8/lib/python3.8/site-packages/pytorch_lightning/accelerators/accelerator.py?line=357'>358</a>\u001b[0m \u001b[39mself\u001b[39m\u001b[39m.\u001b[39mlr_schedulers \u001b[39m=\u001b[39m lr_schedulers\n",
      "File \u001b[0;32m~/.cache/pypoetry/virtualenvs/tsad-8szBw8Wl-py3.8/lib/python3.8/site-packages/pytorch_lightning/plugins/training_type/training_type_plugin.py:245\u001b[0m, in \u001b[0;36mTrainingTypePlugin.init_optimizers\u001b[0;34m(self, trainer, model)\u001b[0m\n\u001b[1;32m    <a href='file:///home/stachu/.cache/pypoetry/virtualenvs/tsad-8szBw8Wl-py3.8/lib/python3.8/site-packages/pytorch_lightning/plugins/training_type/training_type_plugin.py?line=243'>244</a>\u001b[0m \u001b[39mdef\u001b[39;00m \u001b[39minit_optimizers\u001b[39m(\u001b[39mself\u001b[39m, trainer: \u001b[39m\"\u001b[39m\u001b[39mpl.Trainer\u001b[39m\u001b[39m\"\u001b[39m, model: \u001b[39m\"\u001b[39m\u001b[39mpl.LightningModule\u001b[39m\u001b[39m\"\u001b[39m):\n\u001b[0;32m--> <a href='file:///home/stachu/.cache/pypoetry/virtualenvs/tsad-8szBw8Wl-py3.8/lib/python3.8/site-packages/pytorch_lightning/plugins/training_type/training_type_plugin.py?line=244'>245</a>\u001b[0m     \u001b[39mreturn\u001b[39;00m trainer\u001b[39m.\u001b[39;49minit_optimizers(model)\n",
      "File \u001b[0;32m~/.cache/pypoetry/virtualenvs/tsad-8szBw8Wl-py3.8/lib/python3.8/site-packages/pytorch_lightning/trainer/optimizers.py:35\u001b[0m, in \u001b[0;36mTrainerOptimizersMixin.init_optimizers\u001b[0;34m(self, model)\u001b[0m\n\u001b[1;32m     <a href='file:///home/stachu/.cache/pypoetry/virtualenvs/tsad-8szBw8Wl-py3.8/lib/python3.8/site-packages/pytorch_lightning/trainer/optimizers.py?line=32'>33</a>\u001b[0m pl_module \u001b[39m=\u001b[39m \u001b[39mself\u001b[39m\u001b[39m.\u001b[39mlightning_module \u001b[39mor\u001b[39;00m model\n\u001b[1;32m     <a href='file:///home/stachu/.cache/pypoetry/virtualenvs/tsad-8szBw8Wl-py3.8/lib/python3.8/site-packages/pytorch_lightning/trainer/optimizers.py?line=33'>34</a>\u001b[0m \u001b[39mself\u001b[39m\u001b[39m.\u001b[39m_lightning_optimizers \u001b[39m=\u001b[39m \u001b[39mNone\u001b[39;00m\n\u001b[0;32m---> <a href='file:///home/stachu/.cache/pypoetry/virtualenvs/tsad-8szBw8Wl-py3.8/lib/python3.8/site-packages/pytorch_lightning/trainer/optimizers.py?line=34'>35</a>\u001b[0m optim_conf \u001b[39m=\u001b[39m \u001b[39mself\u001b[39;49m\u001b[39m.\u001b[39;49mcall_hook(\u001b[39m\"\u001b[39;49m\u001b[39mconfigure_optimizers\u001b[39;49m\u001b[39m\"\u001b[39;49m, pl_module\u001b[39m=\u001b[39;49mpl_module)\n\u001b[1;32m     <a href='file:///home/stachu/.cache/pypoetry/virtualenvs/tsad-8szBw8Wl-py3.8/lib/python3.8/site-packages/pytorch_lightning/trainer/optimizers.py?line=35'>36</a>\u001b[0m \u001b[39mif\u001b[39;00m optim_conf \u001b[39mis\u001b[39;00m \u001b[39mNone\u001b[39;00m:\n\u001b[1;32m     <a href='file:///home/stachu/.cache/pypoetry/virtualenvs/tsad-8szBw8Wl-py3.8/lib/python3.8/site-packages/pytorch_lightning/trainer/optimizers.py?line=36'>37</a>\u001b[0m     rank_zero_warn(\n\u001b[1;32m     <a href='file:///home/stachu/.cache/pypoetry/virtualenvs/tsad-8szBw8Wl-py3.8/lib/python3.8/site-packages/pytorch_lightning/trainer/optimizers.py?line=37'>38</a>\u001b[0m         \u001b[39m\"\u001b[39m\u001b[39m`LightningModule.configure_optimizers` returned `None`, this fit will run with no optimizer\u001b[39m\u001b[39m\"\u001b[39m,\n\u001b[1;32m     <a href='file:///home/stachu/.cache/pypoetry/virtualenvs/tsad-8szBw8Wl-py3.8/lib/python3.8/site-packages/pytorch_lightning/trainer/optimizers.py?line=38'>39</a>\u001b[0m         \u001b[39mUserWarning\u001b[39;00m,\n\u001b[1;32m     <a href='file:///home/stachu/.cache/pypoetry/virtualenvs/tsad-8szBw8Wl-py3.8/lib/python3.8/site-packages/pytorch_lightning/trainer/optimizers.py?line=39'>40</a>\u001b[0m     )\n",
      "File \u001b[0;32m~/.cache/pypoetry/virtualenvs/tsad-8szBw8Wl-py3.8/lib/python3.8/site-packages/pytorch_lightning/trainer/trainer.py:1501\u001b[0m, in \u001b[0;36mTrainer.call_hook\u001b[0;34m(self, hook_name, pl_module, *args, **kwargs)\u001b[0m\n\u001b[1;32m   <a href='file:///home/stachu/.cache/pypoetry/virtualenvs/tsad-8szBw8Wl-py3.8/lib/python3.8/site-packages/pytorch_lightning/trainer/trainer.py?line=1498'>1499</a>\u001b[0m model_fx \u001b[39m=\u001b[39m \u001b[39mgetattr\u001b[39m(pl_module, hook_name, \u001b[39mNone\u001b[39;00m)\n\u001b[1;32m   <a href='file:///home/stachu/.cache/pypoetry/virtualenvs/tsad-8szBw8Wl-py3.8/lib/python3.8/site-packages/pytorch_lightning/trainer/trainer.py?line=1499'>1500</a>\u001b[0m \u001b[39mif\u001b[39;00m callable(model_fx):\n\u001b[0;32m-> <a href='file:///home/stachu/.cache/pypoetry/virtualenvs/tsad-8szBw8Wl-py3.8/lib/python3.8/site-packages/pytorch_lightning/trainer/trainer.py?line=1500'>1501</a>\u001b[0m     output \u001b[39m=\u001b[39m model_fx(\u001b[39m*\u001b[39;49margs, \u001b[39m*\u001b[39;49m\u001b[39m*\u001b[39;49mkwargs)\n\u001b[1;32m   <a href='file:///home/stachu/.cache/pypoetry/virtualenvs/tsad-8szBw8Wl-py3.8/lib/python3.8/site-packages/pytorch_lightning/trainer/trainer.py?line=1502'>1503</a>\u001b[0m \u001b[39m# *Bad code alert*\u001b[39;00m\n\u001b[1;32m   <a href='file:///home/stachu/.cache/pypoetry/virtualenvs/tsad-8szBw8Wl-py3.8/lib/python3.8/site-packages/pytorch_lightning/trainer/trainer.py?line=1503'>1504</a>\u001b[0m \u001b[39m# The `Accelerator` mostly calls the `TrainingTypePlugin` but some of those calls are deprecated.\u001b[39;00m\n\u001b[1;32m   <a href='file:///home/stachu/.cache/pypoetry/virtualenvs/tsad-8szBw8Wl-py3.8/lib/python3.8/site-packages/pytorch_lightning/trainer/trainer.py?line=1504'>1505</a>\u001b[0m \u001b[39m# The following logic selectively chooses which hooks are called on each object.\u001b[39;00m\n\u001b[0;32m   (...)\u001b[0m\n\u001b[1;32m   <a href='file:///home/stachu/.cache/pypoetry/virtualenvs/tsad-8szBw8Wl-py3.8/lib/python3.8/site-packages/pytorch_lightning/trainer/trainer.py?line=1508'>1509</a>\u001b[0m \n\u001b[1;32m   <a href='file:///home/stachu/.cache/pypoetry/virtualenvs/tsad-8szBw8Wl-py3.8/lib/python3.8/site-packages/pytorch_lightning/trainer/trainer.py?line=1509'>1510</a>\u001b[0m \u001b[39m# call the accelerator hook\u001b[39;00m\n\u001b[1;32m   <a href='file:///home/stachu/.cache/pypoetry/virtualenvs/tsad-8szBw8Wl-py3.8/lib/python3.8/site-packages/pytorch_lightning/trainer/trainer.py?line=1510'>1511</a>\u001b[0m \u001b[39mif\u001b[39;00m hook_name \u001b[39min\u001b[39;00m (\u001b[39m\"\u001b[39m\u001b[39mon_train_start\u001b[39m\u001b[39m\"\u001b[39m,) \u001b[39mand\u001b[39;00m \u001b[39mhasattr\u001b[39m(\u001b[39mself\u001b[39m\u001b[39m.\u001b[39maccelerator, hook_name):\n",
      "File \u001b[0;32m~/Projects/Anomaly_detection/TSAD/literature/tadgan/tadgan_wrapper.py:82\u001b[0m, in \u001b[0;36mTADGANWrapper.configure_optimizers\u001b[0;34m(self)\u001b[0m\n\u001b[1;32m     <a href='file:///home/stachu/Projects/Anomaly_detection/TSAD/literature/tadgan/tadgan_wrapper.py?line=80'>81</a>\u001b[0m \u001b[39mdef\u001b[39;00m \u001b[39mconfigure_optimizers\u001b[39m(\u001b[39mself\u001b[39m):\n\u001b[0;32m---> <a href='file:///home/stachu/Projects/Anomaly_detection/TSAD/literature/tadgan/tadgan_wrapper.py?line=81'>82</a>\u001b[0m     opt_g \u001b[39m=\u001b[39m \u001b[39mself\u001b[39m\u001b[39m.\u001b[39mOptimizerClass([\n\u001b[1;32m     <a href='file:///home/stachu/Projects/Anomaly_detection/TSAD/literature/tadgan/tadgan_wrapper.py?line=82'>83</a>\u001b[0m         \u001b[39mself\u001b[39m\u001b[39m.\u001b[39mmodel\u001b[39m.\u001b[39mencoder\u001b[39m.\u001b[39mparameters(),\n\u001b[1;32m     <a href='file:///home/stachu/Projects/Anomaly_detection/TSAD/literature/tadgan/tadgan_wrapper.py?line=83'>84</a>\u001b[0m         \u001b[39mself\u001b[39m\u001b[39m.\u001b[39mmodel\u001b[39m.\u001b[39mdecoder\u001b[39m.\u001b[39mparameters()],\n\u001b[1;32m     <a href='file:///home/stachu/Projects/Anomaly_detection/TSAD/literature/tadgan/tadgan_wrapper.py?line=84'>85</a>\u001b[0m         lr\u001b[39m=\u001b[39m\u001b[39mself\u001b[39m\u001b[39m.\u001b[39mlr, \u001b[39m*\u001b[39m\u001b[39m*\u001b[39m\u001b[39mself\u001b[39m\u001b[39m.\u001b[39moptimizer_kwargs)\n\u001b[1;32m     <a href='file:///home/stachu/Projects/Anomaly_detection/TSAD/literature/tadgan/tadgan_wrapper.py?line=85'>86</a>\u001b[0m     opt_d \u001b[39m=\u001b[39m \u001b[39mself\u001b[39m\u001b[39m.\u001b[39mOptimizerClass([\n\u001b[1;32m     <a href='file:///home/stachu/Projects/Anomaly_detection/TSAD/literature/tadgan/tadgan_wrapper.py?line=86'>87</a>\u001b[0m         \u001b[39mself\u001b[39m\u001b[39m.\u001b[39mmodel\u001b[39m.\u001b[39mcritic_x\u001b[39m.\u001b[39mparameters(),\n\u001b[1;32m     <a href='file:///home/stachu/Projects/Anomaly_detection/TSAD/literature/tadgan/tadgan_wrapper.py?line=87'>88</a>\u001b[0m         \u001b[39mself\u001b[39m\u001b[39m.\u001b[39mmodel\u001b[39m.\u001b[39mcritic_z\u001b[39m.\u001b[39mparameters()],\n\u001b[1;32m     <a href='file:///home/stachu/Projects/Anomaly_detection/TSAD/literature/tadgan/tadgan_wrapper.py?line=88'>89</a>\u001b[0m         lr\u001b[39m=\u001b[39m\u001b[39mself\u001b[39m\u001b[39m.\u001b[39mlr, \u001b[39m*\u001b[39m\u001b[39m*\u001b[39m\u001b[39mself\u001b[39m\u001b[39m.\u001b[39moptimizer_kwargs)\n\u001b[1;32m     <a href='file:///home/stachu/Projects/Anomaly_detection/TSAD/literature/tadgan/tadgan_wrapper.py?line=89'>90</a>\u001b[0m     \u001b[39mreturn\u001b[39;00m [opt_g, opt_d]\n",
      "File \u001b[0;32m~/.cache/pypoetry/virtualenvs/tsad-8szBw8Wl-py3.8/lib/python3.8/site-packages/torch/optim/adam.py:74\u001b[0m, in \u001b[0;36mAdam.__init__\u001b[0;34m(self, params, lr, betas, eps, weight_decay, amsgrad)\u001b[0m\n\u001b[1;32m     <a href='file:///home/stachu/.cache/pypoetry/virtualenvs/tsad-8szBw8Wl-py3.8/lib/python3.8/site-packages/torch/optim/adam.py?line=70'>71</a>\u001b[0m     \u001b[39mraise\u001b[39;00m \u001b[39mValueError\u001b[39;00m(\u001b[39m\"\u001b[39m\u001b[39mInvalid weight_decay value: \u001b[39m\u001b[39m{}\u001b[39;00m\u001b[39m\"\u001b[39m\u001b[39m.\u001b[39mformat(weight_decay))\n\u001b[1;32m     <a href='file:///home/stachu/.cache/pypoetry/virtualenvs/tsad-8szBw8Wl-py3.8/lib/python3.8/site-packages/torch/optim/adam.py?line=71'>72</a>\u001b[0m defaults \u001b[39m=\u001b[39m \u001b[39mdict\u001b[39m(lr\u001b[39m=\u001b[39mlr, betas\u001b[39m=\u001b[39mbetas, eps\u001b[39m=\u001b[39meps,\n\u001b[1;32m     <a href='file:///home/stachu/.cache/pypoetry/virtualenvs/tsad-8szBw8Wl-py3.8/lib/python3.8/site-packages/torch/optim/adam.py?line=72'>73</a>\u001b[0m                 weight_decay\u001b[39m=\u001b[39mweight_decay, amsgrad\u001b[39m=\u001b[39mamsgrad)\n\u001b[0;32m---> <a href='file:///home/stachu/.cache/pypoetry/virtualenvs/tsad-8szBw8Wl-py3.8/lib/python3.8/site-packages/torch/optim/adam.py?line=73'>74</a>\u001b[0m \u001b[39msuper\u001b[39;49m(Adam, \u001b[39mself\u001b[39;49m)\u001b[39m.\u001b[39;49m\u001b[39m__init__\u001b[39;49m(params, defaults)\n",
      "File \u001b[0;32m~/.cache/pypoetry/virtualenvs/tsad-8szBw8Wl-py3.8/lib/python3.8/site-packages/torch/optim/optimizer.py:54\u001b[0m, in \u001b[0;36mOptimizer.__init__\u001b[0;34m(self, params, defaults)\u001b[0m\n\u001b[1;32m     <a href='file:///home/stachu/.cache/pypoetry/virtualenvs/tsad-8szBw8Wl-py3.8/lib/python3.8/site-packages/torch/optim/optimizer.py?line=50'>51</a>\u001b[0m     param_groups \u001b[39m=\u001b[39m [{\u001b[39m'\u001b[39m\u001b[39mparams\u001b[39m\u001b[39m'\u001b[39m: param_groups}]\n\u001b[1;32m     <a href='file:///home/stachu/.cache/pypoetry/virtualenvs/tsad-8szBw8Wl-py3.8/lib/python3.8/site-packages/torch/optim/optimizer.py?line=52'>53</a>\u001b[0m \u001b[39mfor\u001b[39;00m param_group \u001b[39min\u001b[39;00m param_groups:\n\u001b[0;32m---> <a href='file:///home/stachu/.cache/pypoetry/virtualenvs/tsad-8szBw8Wl-py3.8/lib/python3.8/site-packages/torch/optim/optimizer.py?line=53'>54</a>\u001b[0m     \u001b[39mself\u001b[39;49m\u001b[39m.\u001b[39;49madd_param_group(param_group)\n",
      "File \u001b[0;32m~/.cache/pypoetry/virtualenvs/tsad-8szBw8Wl-py3.8/lib/python3.8/site-packages/torch/optim/optimizer.py:255\u001b[0m, in \u001b[0;36mOptimizer.add_param_group\u001b[0;34m(self, param_group)\u001b[0m\n\u001b[1;32m    <a href='file:///home/stachu/.cache/pypoetry/virtualenvs/tsad-8szBw8Wl-py3.8/lib/python3.8/site-packages/torch/optim/optimizer.py?line=252'>253</a>\u001b[0m \u001b[39mfor\u001b[39;00m param \u001b[39min\u001b[39;00m param_group[\u001b[39m'\u001b[39m\u001b[39mparams\u001b[39m\u001b[39m'\u001b[39m]:\n\u001b[1;32m    <a href='file:///home/stachu/.cache/pypoetry/virtualenvs/tsad-8szBw8Wl-py3.8/lib/python3.8/site-packages/torch/optim/optimizer.py?line=253'>254</a>\u001b[0m     \u001b[39mif\u001b[39;00m \u001b[39mnot\u001b[39;00m \u001b[39misinstance\u001b[39m(param, torch\u001b[39m.\u001b[39mTensor):\n\u001b[0;32m--> <a href='file:///home/stachu/.cache/pypoetry/virtualenvs/tsad-8szBw8Wl-py3.8/lib/python3.8/site-packages/torch/optim/optimizer.py?line=254'>255</a>\u001b[0m         \u001b[39mraise\u001b[39;00m \u001b[39mTypeError\u001b[39;00m(\u001b[39m\"\u001b[39m\u001b[39moptimizer can only optimize Tensors, \u001b[39m\u001b[39m\"\u001b[39m\n\u001b[1;32m    <a href='file:///home/stachu/.cache/pypoetry/virtualenvs/tsad-8szBw8Wl-py3.8/lib/python3.8/site-packages/torch/optim/optimizer.py?line=255'>256</a>\u001b[0m                         \u001b[39m\"\u001b[39m\u001b[39mbut one of the params is \u001b[39m\u001b[39m\"\u001b[39m \u001b[39m+\u001b[39m torch\u001b[39m.\u001b[39mtypename(param))\n\u001b[1;32m    <a href='file:///home/stachu/.cache/pypoetry/virtualenvs/tsad-8szBw8Wl-py3.8/lib/python3.8/site-packages/torch/optim/optimizer.py?line=256'>257</a>\u001b[0m     \u001b[39mif\u001b[39;00m \u001b[39mnot\u001b[39;00m param\u001b[39m.\u001b[39mis_leaf:\n\u001b[1;32m    <a href='file:///home/stachu/.cache/pypoetry/virtualenvs/tsad-8szBw8Wl-py3.8/lib/python3.8/site-packages/torch/optim/optimizer.py?line=257'>258</a>\u001b[0m         \u001b[39mraise\u001b[39;00m \u001b[39mValueError\u001b[39;00m(\u001b[39m\"\u001b[39m\u001b[39mcan\u001b[39m\u001b[39m'\u001b[39m\u001b[39mt optimize a non-leaf Tensor\u001b[39m\u001b[39m\"\u001b[39m)\n",
      "\u001b[0;31mTypeError\u001b[0m: ('optimizer can only optimize Tensors, but one of the params is Module.parameters', 'Problem with training 0 model named TadGAN on 0 dataset named machine-1-1')"
     ]
    }
   ],
   "source": [
    "exp.run_experiments(experiments_path=\"../saved_experiments\", safe=False)\n",
    "# exp = load_experimentator(\n",
    "#     \"./saved_experiments/2021-12-29_01:31:42.pkl\"\n",
    "# )"
   ]
  },
  {
   "cell_type": "markdown",
   "metadata": {},
   "source": [
    "### Plot"
   ]
  },
  {
   "cell_type": "code",
   "execution_count": null,
   "metadata": {},
   "outputs": [],
   "source": [
    "plot_exp_predictions(exp, dataset_idx=0, models_ids=[0])"
   ]
  },
  {
   "cell_type": "code",
   "execution_count": null,
   "metadata": {},
   "outputs": [],
   "source": [
    "None = 1"
   ]
  },
  {
   "cell_type": "markdown",
   "metadata": {},
   "source": [
    "## DAGMM"
   ]
  },
  {
   "cell_type": "markdown",
   "metadata": {},
   "source": [
    "### Dataset"
   ]
  },
  {
   "cell_type": "code",
   "execution_count": 2,
   "metadata": {},
   "outputs": [],
   "source": [
    "window_size = 100\n",
    "\n",
    "load_params = {\n",
    "    \"header\": None, \"names\": [str(i) for i in range(38)]\n",
    "}\n",
    "\n",
    "drop_refill_pipeline = []\n",
    "preprocessing_pipeline = [\n",
    "    (use_dataframe_func, \"astype\", \"float\"),\n",
    "]\n",
    "detect_anomalies_pipeline = []\n",
    "\n",
    "datasets_params = [\n",
    "    DatasetParams(\n",
    "        path=\"/home/stachu/Projects/Anomaly_detection/TSAD/data/Industry/ServerMachineDataset/train/machine-1-1.csv\",\n",
    "        load_params=load_params,\n",
    "        target=[str(i) for i in range(38)],\n",
    "        split_proportions=[0.8, 0.1, 0.1],\n",
    "        window_size=window_size,\n",
    "        batch_size=64,\n",
    "        drop_refill_pipeline=drop_refill_pipeline,\n",
    "        preprocessing_pipeline=preprocessing_pipeline,\n",
    "        detect_anomalies_pipeline=detect_anomalies_pipeline,\n",
    "        scaler=StandardScaler()),\n",
    "]"
   ]
  },
  {
   "cell_type": "markdown",
   "metadata": {},
   "source": [
    "### Models"
   ]
  },
  {
   "cell_type": "code",
   "execution_count": 3,
   "metadata": {},
   "outputs": [],
   "source": [
    "c_in = 38\n",
    "c_out = 38\n",
    "\n",
    "models_params = [\n",
    "    ModelParams(\n",
    "        name_=\"DAGMM\", cls_=DAGMM,\n",
    "        init_params=dict(\n",
    "            c_in=c_in, z_size=100,  n_layers=2,\n",
    "            n_gmm=10, estimation_net=nn.Sequential(*[\n",
    "                nn.Linear(100, 10),\n",
    "                nn.Tanh(),\n",
    "                nn.Dropout(p=0.5),\n",
    "                nn.Linear(10, 10),\n",
    "                nn.Softmax(dim=1)\n",
    "            ])),\n",
    "        WrapperCls=DAGMMWrapper, wrapper_kwargs=dict(\n",
    "            lambda_energy=0.1, lambda_cov_diag=0.005\n",
    "        )),\n",
    "]"
   ]
  },
  {
   "cell_type": "markdown",
   "metadata": {},
   "source": [
    "### Experiments"
   ]
  },
  {
   "cell_type": "code",
   "execution_count": 4,
   "metadata": {},
   "outputs": [],
   "source": [
    "chp_p = CheckpointParams(\n",
    "    dirpath=\"../checkpoints\", monitor='val_loss', verbose=True,\n",
    "    save_top_k=1)\n",
    "tr_p = TrainerParams(\n",
    "    max_epochs=5, gpus=1, auto_lr_find=True)\n",
    "es_p = EarlyStoppingParams(\n",
    "    monitor='val_loss', patience=2, verbose=True)\n",
    "\n",
    "exp = Experimentator(\n",
    "    models_params=models_params,\n",
    "    datasets_params=datasets_params,\n",
    "    trainer_params=tr_p,\n",
    "    checkpoint_params=chp_p,\n",
    "    early_stopping_params=es_p,\n",
    "    LoggersClasses=[TensorBoardLogger],\n",
    "    loggers_params=[LoggerParams(save_dir=\"../lightning_logs\")]\n",
    ")"
   ]
  },
  {
   "cell_type": "markdown",
   "metadata": {},
   "source": [
    "### Run / Load"
   ]
  },
  {
   "cell_type": "code",
   "execution_count": 5,
   "metadata": {},
   "outputs": [
    {
     "name": "stderr",
     "output_type": "stream",
     "text": [
      "/home/stachu/Projects/Anomaly_detection/TSAD/predpy/preprocessing/load_and_preprocess.py:188: UserWarning:\n",
      "\n",
      "Boolean Series key will be reindexed to match DataFrame index.\n",
      "\n",
      "/home/stachu/Projects/Anomaly_detection/TSAD/predpy/preprocessing/load_and_preprocess.py:203: UserWarning:\n",
      "\n",
      "Boolean Series key will be reindexed to match DataFrame index.\n",
      "\n",
      "Global seed set to 42\n"
     ]
    },
    {
     "ename": "AttributeError",
     "evalue": "(\"'DAGMM' object has no attribute 'to_var'\", 'Problem with training 0 model named DAGMM on 0 dataset named machine-1-1')",
     "output_type": "error",
     "traceback": [
      "\u001b[0;31m---------------------------------------------------------------------------\u001b[0m",
      "\u001b[0;31mAttributeError\u001b[0m                            Traceback (most recent call last)",
      "\u001b[1;32m/home/stachu/Projects/Anomaly_detection/TSAD/notebooks/experiments.ipynb Cell 11'\u001b[0m in \u001b[0;36m<module>\u001b[0;34m\u001b[0m\n\u001b[0;32m----> <a href='vscode-notebook-cell:/home/stachu/Projects/Anomaly_detection/TSAD/notebooks/experiments.ipynb#ch0000010?line=0'>1</a>\u001b[0m exp\u001b[39m.\u001b[39;49mrun_experiments(experiments_path\u001b[39m=\u001b[39;49m\u001b[39m\"\u001b[39;49m\u001b[39m../saved_experiments\u001b[39;49m\u001b[39m\"\u001b[39;49m, safe\u001b[39m=\u001b[39;49m\u001b[39mFalse\u001b[39;49;00m)\n",
      "File \u001b[0;32m~/Projects/Anomaly_detection/TSAD/predpy/experimentator/experimentator.py:452\u001b[0m, in \u001b[0;36mExperimentator.run_experiments\u001b[0;34m(self, skip_steps, experiments_path, continue_run, safe)\u001b[0m\n\u001b[1;32m    <a href='file:///home/stachu/Projects/Anomaly_detection/TSAD/predpy/experimentator/experimentator.py?line=449'>450</a>\u001b[0m                 \u001b[39mself\u001b[39m\u001b[39m.\u001b[39msave(experiments_path, safe\u001b[39m=\u001b[39m\u001b[39mTrue\u001b[39;00m)\n\u001b[1;32m    <a href='file:///home/stachu/Projects/Anomaly_detection/TSAD/predpy/experimentator/experimentator.py?line=450'>451</a>\u001b[0m         \u001b[39mexcept\u001b[39;00m \u001b[39mException\u001b[39;00m \u001b[39mas\u001b[39;00m e:\n\u001b[0;32m--> <a href='file:///home/stachu/Projects/Anomaly_detection/TSAD/predpy/experimentator/experimentator.py?line=451'>452</a>\u001b[0m             \u001b[39mself\u001b[39;49m\u001b[39m.\u001b[39;49m_deliver_exception(\n\u001b[1;32m    <a href='file:///home/stachu/Projects/Anomaly_detection/TSAD/predpy/experimentator/experimentator.py?line=452'>453</a>\u001b[0m                 msg\u001b[39m=\u001b[39;49m\u001b[39mself\u001b[39;49m\u001b[39m.\u001b[39;49m_set_err_msg(dataset_idx, model_idx),\n\u001b[1;32m    <a href='file:///home/stachu/Projects/Anomaly_detection/TSAD/predpy/experimentator/experimentator.py?line=453'>454</a>\u001b[0m                 exception\u001b[39m=\u001b[39;49me,\n\u001b[1;32m    <a href='file:///home/stachu/Projects/Anomaly_detection/TSAD/predpy/experimentator/experimentator.py?line=454'>455</a>\u001b[0m                 safe\u001b[39m=\u001b[39;49msafe,\n\u001b[1;32m    <a href='file:///home/stachu/Projects/Anomaly_detection/TSAD/predpy/experimentator/experimentator.py?line=455'>456</a>\u001b[0m             )\n\u001b[1;32m    <a href='file:///home/stachu/Projects/Anomaly_detection/TSAD/predpy/experimentator/experimentator.py?line=456'>457</a>\u001b[0m             \u001b[39mcontinue\u001b[39;00m\n\u001b[1;32m    <a href='file:///home/stachu/Projects/Anomaly_detection/TSAD/predpy/experimentator/experimentator.py?line=457'>458</a>\u001b[0m \u001b[39mprint\u001b[39m(\u001b[39m\"\u001b[39m\u001b[39mExperiments ended sucessfully\u001b[39m\u001b[39m\"\u001b[39m)\n",
      "File \u001b[0;32m~/Projects/Anomaly_detection/TSAD/predpy/experimentator/experimentator.py:330\u001b[0m, in \u001b[0;36mExperimentator._deliver_exception\u001b[0;34m(self, msg, exception, safe)\u001b[0m\n\u001b[1;32m    <a href='file:///home/stachu/Projects/Anomaly_detection/TSAD/predpy/experimentator/experimentator.py?line=327'>328</a>\u001b[0m \u001b[39melse\u001b[39;00m:\n\u001b[1;32m    <a href='file:///home/stachu/Projects/Anomaly_detection/TSAD/predpy/experimentator/experimentator.py?line=328'>329</a>\u001b[0m     exception\u001b[39m.\u001b[39margs \u001b[39m+\u001b[39m\u001b[39m=\u001b[39m (msg,)\n\u001b[0;32m--> <a href='file:///home/stachu/Projects/Anomaly_detection/TSAD/predpy/experimentator/experimentator.py?line=329'>330</a>\u001b[0m     \u001b[39mraise\u001b[39;00m exception\n",
      "File \u001b[0;32m~/Projects/Anomaly_detection/TSAD/predpy/experimentator/experimentator.py:430\u001b[0m, in \u001b[0;36mExperimentator.run_experiments\u001b[0;34m(self, skip_steps, experiments_path, continue_run, safe)\u001b[0m\n\u001b[1;32m    <a href='file:///home/stachu/Projects/Anomaly_detection/TSAD/predpy/experimentator/experimentator.py?line=427'>428</a>\u001b[0m     \u001b[39mcontinue\u001b[39;00m\n\u001b[1;32m    <a href='file:///home/stachu/Projects/Anomaly_detection/TSAD/predpy/experimentator/experimentator.py?line=428'>429</a>\u001b[0m \u001b[39m# start = time.time()\u001b[39;00m\n\u001b[0;32m--> <a href='file:///home/stachu/Projects/Anomaly_detection/TSAD/predpy/experimentator/experimentator.py?line=429'>430</a>\u001b[0m model_preds_df \u001b[39m=\u001b[39m \u001b[39mself\u001b[39;49m\u001b[39m.\u001b[39;49m_experiment_step(\n\u001b[1;32m    <a href='file:///home/stachu/Projects/Anomaly_detection/TSAD/predpy/experimentator/experimentator.py?line=430'>431</a>\u001b[0m     tsm\u001b[39m=\u001b[39;49mtsm, model_idx\u001b[39m=\u001b[39;49mmodel_idx,\n\u001b[1;32m    <a href='file:///home/stachu/Projects/Anomaly_detection/TSAD/predpy/experimentator/experimentator.py?line=431'>432</a>\u001b[0m     continue_run\u001b[39m=\u001b[39;49mcontinue_run)\n\u001b[1;32m    <a href='file:///home/stachu/Projects/Anomaly_detection/TSAD/predpy/experimentator/experimentator.py?line=432'>433</a>\u001b[0m \u001b[39m# print(\"Time: \" + str(time.time() - start))\u001b[39;00m\n\u001b[1;32m    <a href='file:///home/stachu/Projects/Anomaly_detection/TSAD/predpy/experimentator/experimentator.py?line=433'>434</a>\u001b[0m \u001b[39m# print(\"Predictions memory size:\\n\" +\u001b[39;00m\n\u001b[1;32m    <a href='file:///home/stachu/Projects/Anomaly_detection/TSAD/predpy/experimentator/experimentator.py?line=434'>435</a>\u001b[0m \u001b[39m#       str(model_preds_df.memory_usage(deep=True)))\u001b[39;00m\n\u001b[1;32m    <a href='file:///home/stachu/Projects/Anomaly_detection/TSAD/predpy/experimentator/experimentator.py?line=435'>436</a>\u001b[0m \n\u001b[1;32m    <a href='file:///home/stachu/Projects/Anomaly_detection/TSAD/predpy/experimentator/experimentator.py?line=436'>437</a>\u001b[0m \u001b[39m# saving store predictions as dataframe\u001b[39;00m\n\u001b[1;32m    <a href='file:///home/stachu/Projects/Anomaly_detection/TSAD/predpy/experimentator/experimentator.py?line=437'>438</a>\u001b[0m \u001b[39mself\u001b[39m\u001b[39m.\u001b[39mpredictions \u001b[39m=\u001b[39m pd\u001b[39m.\u001b[39mconcat([\n\u001b[1;32m    <a href='file:///home/stachu/Projects/Anomaly_detection/TSAD/predpy/experimentator/experimentator.py?line=438'>439</a>\u001b[0m     \u001b[39mself\u001b[39m\u001b[39m.\u001b[39mpredictions,\n\u001b[1;32m    <a href='file:///home/stachu/Projects/Anomaly_detection/TSAD/predpy/experimentator/experimentator.py?line=439'>440</a>\u001b[0m     pd\u001b[39m.\u001b[39mDataFrame(\n\u001b[0;32m   (...)\u001b[0m\n\u001b[1;32m    <a href='file:///home/stachu/Projects/Anomaly_detection/TSAD/predpy/experimentator/experimentator.py?line=443'>444</a>\u001b[0m             predictions\u001b[39m=\u001b[39mmodel_preds_df)]\n\u001b[1;32m    <a href='file:///home/stachu/Projects/Anomaly_detection/TSAD/predpy/experimentator/experimentator.py?line=444'>445</a>\u001b[0m     )])\n",
      "File \u001b[0;32m~/Projects/Anomaly_detection/TSAD/predpy/experimentator/experimentator.py:315\u001b[0m, in \u001b[0;36mExperimentator._experiment_step\u001b[0;34m(self, tsm, model_idx, continue_run)\u001b[0m\n\u001b[1;32m    <a href='file:///home/stachu/Projects/Anomaly_detection/TSAD/predpy/experimentator/experimentator.py?line=308'>309</a>\u001b[0m \u001b[39mdef\u001b[39;00m \u001b[39m_experiment_step\u001b[39m(\n\u001b[1;32m    <a href='file:///home/stachu/Projects/Anomaly_detection/TSAD/predpy/experimentator/experimentator.py?line=309'>310</a>\u001b[0m     \u001b[39mself\u001b[39m,\n\u001b[1;32m    <a href='file:///home/stachu/Projects/Anomaly_detection/TSAD/predpy/experimentator/experimentator.py?line=310'>311</a>\u001b[0m     tsm: MultiTimeSeriesModule,\n\u001b[1;32m    <a href='file:///home/stachu/Projects/Anomaly_detection/TSAD/predpy/experimentator/experimentator.py?line=311'>312</a>\u001b[0m     model_idx: \u001b[39mint\u001b[39m,\n\u001b[1;32m    <a href='file:///home/stachu/Projects/Anomaly_detection/TSAD/predpy/experimentator/experimentator.py?line=312'>313</a>\u001b[0m     continue_run: \u001b[39mbool\u001b[39m \u001b[39m=\u001b[39m \u001b[39mFalse\u001b[39;00m\n\u001b[1;32m    <a href='file:///home/stachu/Projects/Anomaly_detection/TSAD/predpy/experimentator/experimentator.py?line=313'>314</a>\u001b[0m ):\n\u001b[0;32m--> <a href='file:///home/stachu/Projects/Anomaly_detection/TSAD/predpy/experimentator/experimentator.py?line=314'>315</a>\u001b[0m     pl_model \u001b[39m=\u001b[39m \u001b[39mself\u001b[39;49m\u001b[39m.\u001b[39;49mtrain_model(\n\u001b[1;32m    <a href='file:///home/stachu/Projects/Anomaly_detection/TSAD/predpy/experimentator/experimentator.py?line=315'>316</a>\u001b[0m         model_idx\u001b[39m=\u001b[39;49mmodel_idx, tsm\u001b[39m=\u001b[39;49mtsm, load_state\u001b[39m=\u001b[39;49mcontinue_run)\n\u001b[1;32m    <a href='file:///home/stachu/Projects/Anomaly_detection/TSAD/predpy/experimentator/experimentator.py?line=317'>318</a>\u001b[0m     \u001b[39m# collect predictions made on test dataset\u001b[39;00m\n\u001b[1;32m    <a href='file:///home/stachu/Projects/Anomaly_detection/TSAD/predpy/experimentator/experimentator.py?line=318'>319</a>\u001b[0m     preds \u001b[39m=\u001b[39m pl_model\u001b[39m.\u001b[39mget_dataset_predictions(tsm\u001b[39m.\u001b[39mtest_dataloader())\n",
      "File \u001b[0;32m~/Projects/Anomaly_detection/TSAD/predpy/experimentator/experimentator.py:564\u001b[0m, in \u001b[0;36mExperimentator.train_model\u001b[0;34m(self, model_idx, dataset_idx, tsm, load_state)\u001b[0m\n\u001b[1;32m    <a href='file:///home/stachu/Projects/Anomaly_detection/TSAD/predpy/experimentator/experimentator.py?line=560'>561</a>\u001b[0m     trainer_params\u001b[39m.\u001b[39mmax_epochs \u001b[39m=\u001b[39m trainer_params\u001b[39m.\u001b[39mmax_epochs \u001b[39m-\u001b[39m epoch\n\u001b[1;32m    <a href='file:///home/stachu/Projects/Anomaly_detection/TSAD/predpy/experimentator/experimentator.py?line=561'>562</a>\u001b[0m \u001b[39melse\u001b[39;00m:\n\u001b[1;32m    <a href='file:///home/stachu/Projects/Anomaly_detection/TSAD/predpy/experimentator/experimentator.py?line=562'>563</a>\u001b[0m     pl_model \u001b[39m=\u001b[39m m_params\u001b[39m.\u001b[39mWrapperCls(\n\u001b[0;32m--> <a href='file:///home/stachu/Projects/Anomaly_detection/TSAD/predpy/experimentator/experimentator.py?line=563'>564</a>\u001b[0m         model\u001b[39m=\u001b[39mm_params\u001b[39m.\u001b[39;49mcls_(\u001b[39m*\u001b[39;49m\u001b[39m*\u001b[39;49mm_params\u001b[39m.\u001b[39;49minit_params),\n\u001b[1;32m    <a href='file:///home/stachu/Projects/Anomaly_detection/TSAD/predpy/experimentator/experimentator.py?line=564'>565</a>\u001b[0m         \u001b[39m*\u001b[39m\u001b[39m*\u001b[39mm_params\u001b[39m.\u001b[39mlearning_params,\n\u001b[1;32m    <a href='file:///home/stachu/Projects/Anomaly_detection/TSAD/predpy/experimentator/experimentator.py?line=565'>566</a>\u001b[0m         \u001b[39m*\u001b[39m\u001b[39m*\u001b[39mm_params\u001b[39m.\u001b[39mwrapper_kwargs)\n\u001b[1;32m    <a href='file:///home/stachu/Projects/Anomaly_detection/TSAD/predpy/experimentator/experimentator.py?line=567'>568</a>\u001b[0m \u001b[39m# training model\u001b[39;00m\n\u001b[1;32m    <a href='file:///home/stachu/Projects/Anomaly_detection/TSAD/predpy/experimentator/experimentator.py?line=568'>569</a>\u001b[0m pl_model \u001b[39m=\u001b[39m get_trained_pl_model(\n\u001b[1;32m    <a href='file:///home/stachu/Projects/Anomaly_detection/TSAD/predpy/experimentator/experimentator.py?line=569'>570</a>\u001b[0m     pl_model\u001b[39m=\u001b[39mpl_model,\n\u001b[1;32m    <a href='file:///home/stachu/Projects/Anomaly_detection/TSAD/predpy/experimentator/experimentator.py?line=570'>571</a>\u001b[0m     data_module\u001b[39m=\u001b[39mtsm,\n\u001b[0;32m   (...)\u001b[0m\n\u001b[1;32m    <a href='file:///home/stachu/Projects/Anomaly_detection/TSAD/predpy/experimentator/experimentator.py?line=574'>575</a>\u001b[0m     loggers_params\u001b[39m=\u001b[39mloggers_params,\n\u001b[1;32m    <a href='file:///home/stachu/Projects/Anomaly_detection/TSAD/predpy/experimentator/experimentator.py?line=575'>576</a>\u001b[0m     LoggersClasses\u001b[39m=\u001b[39m\u001b[39mself\u001b[39m\u001b[39m.\u001b[39mLoggersClasses)\n",
      "File \u001b[0;32m~/Projects/Anomaly_detection/TSAD/literature/dagmm/dagmm.py:30\u001b[0m, in \u001b[0;36mDAGMM.__init__\u001b[0;34m(self, c_in, z_size, n_layers, n_gmm, estimation_net)\u001b[0m\n\u001b[1;32m     <a href='file:///home/stachu/Projects/Anomaly_detection/TSAD/literature/dagmm/dagmm.py?line=19'>20</a>\u001b[0m \u001b[39m# self.estimation_net = nn.Sequential(*[\u001b[39;00m\n\u001b[1;32m     <a href='file:///home/stachu/Projects/Anomaly_detection/TSAD/literature/dagmm/dagmm.py?line=20'>21</a>\u001b[0m \u001b[39m#     nn.Linear(h_size, 10),\u001b[39;00m\n\u001b[1;32m     <a href='file:///home/stachu/Projects/Anomaly_detection/TSAD/literature/dagmm/dagmm.py?line=21'>22</a>\u001b[0m \u001b[39m#     nn.Tanh(),\u001b[39;00m\n\u001b[0;32m   (...)\u001b[0m\n\u001b[1;32m     <a href='file:///home/stachu/Projects/Anomaly_detection/TSAD/literature/dagmm/dagmm.py?line=24'>25</a>\u001b[0m \u001b[39m#     nn.Softmax(dim=1)\u001b[39;00m\n\u001b[1;32m     <a href='file:///home/stachu/Projects/Anomaly_detection/TSAD/literature/dagmm/dagmm.py?line=25'>26</a>\u001b[0m \u001b[39m# ])\u001b[39;00m\n\u001b[1;32m     <a href='file:///home/stachu/Projects/Anomaly_detection/TSAD/literature/dagmm/dagmm.py?line=26'>27</a>\u001b[0m \u001b[39mself\u001b[39m\u001b[39m.\u001b[39mestimation_net \u001b[39m=\u001b[39m estimation_net\n\u001b[1;32m     <a href='file:///home/stachu/Projects/Anomaly_detection/TSAD/literature/dagmm/dagmm.py?line=28'>29</a>\u001b[0m \u001b[39mself\u001b[39m\u001b[39m.\u001b[39mregister_buffer(\n\u001b[0;32m---> <a href='file:///home/stachu/Projects/Anomaly_detection/TSAD/literature/dagmm/dagmm.py?line=29'>30</a>\u001b[0m     \u001b[39m'\u001b[39m\u001b[39mphi\u001b[39m\u001b[39m'\u001b[39m, \u001b[39mself\u001b[39;49m\u001b[39m.\u001b[39;49mto_var(torch\u001b[39m.\u001b[39mzeros(n_gmm)))\n\u001b[1;32m     <a href='file:///home/stachu/Projects/Anomaly_detection/TSAD/literature/dagmm/dagmm.py?line=30'>31</a>\u001b[0m \u001b[39mself\u001b[39m\u001b[39m.\u001b[39mregister_buffer(\n\u001b[1;32m     <a href='file:///home/stachu/Projects/Anomaly_detection/TSAD/literature/dagmm/dagmm.py?line=31'>32</a>\u001b[0m     \u001b[39m'\u001b[39m\u001b[39mmu\u001b[39m\u001b[39m'\u001b[39m, \u001b[39mself\u001b[39m\u001b[39m.\u001b[39mto_var(torch\u001b[39m.\u001b[39mzeros(n_gmm, z_size)))\n\u001b[1;32m     <a href='file:///home/stachu/Projects/Anomaly_detection/TSAD/literature/dagmm/dagmm.py?line=32'>33</a>\u001b[0m \u001b[39mself\u001b[39m\u001b[39m.\u001b[39mregister_buffer(\n\u001b[1;32m     <a href='file:///home/stachu/Projects/Anomaly_detection/TSAD/literature/dagmm/dagmm.py?line=33'>34</a>\u001b[0m     \u001b[39m'\u001b[39m\u001b[39mcov\u001b[39m\u001b[39m'\u001b[39m, \u001b[39mself\u001b[39m\u001b[39m.\u001b[39mto_var(torch\u001b[39m.\u001b[39mzeros(n_gmm, z_size, z_size)))\n",
      "File \u001b[0;32m~/.cache/pypoetry/virtualenvs/tsad-8szBw8Wl-py3.8/lib/python3.8/site-packages/torch/nn/modules/module.py:1177\u001b[0m, in \u001b[0;36mModule.__getattr__\u001b[0;34m(self, name)\u001b[0m\n\u001b[1;32m   <a href='file:///home/stachu/.cache/pypoetry/virtualenvs/tsad-8szBw8Wl-py3.8/lib/python3.8/site-packages/torch/nn/modules/module.py?line=1174'>1175</a>\u001b[0m     \u001b[39mif\u001b[39;00m name \u001b[39min\u001b[39;00m modules:\n\u001b[1;32m   <a href='file:///home/stachu/.cache/pypoetry/virtualenvs/tsad-8szBw8Wl-py3.8/lib/python3.8/site-packages/torch/nn/modules/module.py?line=1175'>1176</a>\u001b[0m         \u001b[39mreturn\u001b[39;00m modules[name]\n\u001b[0;32m-> <a href='file:///home/stachu/.cache/pypoetry/virtualenvs/tsad-8szBw8Wl-py3.8/lib/python3.8/site-packages/torch/nn/modules/module.py?line=1176'>1177</a>\u001b[0m \u001b[39mraise\u001b[39;00m \u001b[39mAttributeError\u001b[39;00m(\u001b[39m\"\u001b[39m\u001b[39m'\u001b[39m\u001b[39m{}\u001b[39;00m\u001b[39m'\u001b[39m\u001b[39m object has no attribute \u001b[39m\u001b[39m'\u001b[39m\u001b[39m{}\u001b[39;00m\u001b[39m'\u001b[39m\u001b[39m\"\u001b[39m\u001b[39m.\u001b[39mformat(\n\u001b[1;32m   <a href='file:///home/stachu/.cache/pypoetry/virtualenvs/tsad-8szBw8Wl-py3.8/lib/python3.8/site-packages/torch/nn/modules/module.py?line=1177'>1178</a>\u001b[0m     \u001b[39mtype\u001b[39m(\u001b[39mself\u001b[39m)\u001b[39m.\u001b[39m\u001b[39m__name__\u001b[39m, name))\n",
      "\u001b[0;31mAttributeError\u001b[0m: (\"'DAGMM' object has no attribute 'to_var'\", 'Problem with training 0 model named DAGMM on 0 dataset named machine-1-1')"
     ]
    }
   ],
   "source": [
    "exp.run_experiments(experiments_path=\"../saved_experiments\", safe=False)\n",
    "# exp = load_experimentator(\n",
    "#     \"./saved_experiments/2021-12-29_01:31:42.pkl\"\n",
    "# )"
   ]
  },
  {
   "cell_type": "markdown",
   "metadata": {},
   "source": [
    "### Plot"
   ]
  },
  {
   "cell_type": "code",
   "execution_count": null,
   "metadata": {},
   "outputs": [],
   "source": [
    "plot_exp_predictions(exp, dataset_idx=0, models_ids=[0])"
   ]
  },
  {
   "cell_type": "code",
   "execution_count": null,
   "metadata": {},
   "outputs": [],
   "source": [
    "None = 1"
   ]
  },
  {
   "cell_type": "markdown",
   "metadata": {},
   "source": [
    "## VELC"
   ]
  },
  {
   "cell_type": "markdown",
   "metadata": {},
   "source": [
    "### Dataset"
   ]
  },
  {
   "cell_type": "code",
   "execution_count": 2,
   "metadata": {},
   "outputs": [],
   "source": [
    "window_size = 100\n",
    "\n",
    "load_params = {\n",
    "    \"header\": None, \"names\": [str(i) for i in range(38)]\n",
    "}\n",
    "\n",
    "drop_refill_pipeline = []\n",
    "preprocessing_pipeline = [\n",
    "    (use_dataframe_func, \"astype\", \"float\"),\n",
    "]\n",
    "detect_anomalies_pipeline = []\n",
    "\n",
    "datasets_params = [\n",
    "    DatasetParams(\n",
    "        path=\"/home/stachu/Projects/Anomaly_detection/TSAD/data/Industry/ServerMachineDataset/train/machine-1-1.csv\",\n",
    "        load_params=load_params,\n",
    "        target=[str(i) for i in range(38)],\n",
    "        split_proportions=[0.8, 0.1, 0.1],\n",
    "        window_size=window_size,\n",
    "        batch_size=64,\n",
    "        drop_refill_pipeline=drop_refill_pipeline,\n",
    "        preprocessing_pipeline=preprocessing_pipeline,\n",
    "        detect_anomalies_pipeline=detect_anomalies_pipeline,\n",
    "        scaler=StandardScaler()),\n",
    "]"
   ]
  },
  {
   "cell_type": "markdown",
   "metadata": {},
   "source": [
    "### Models"
   ]
  },
  {
   "cell_type": "code",
   "execution_count": 3,
   "metadata": {},
   "outputs": [],
   "source": [
    "c_in = 38\n",
    "c_out = 38\n",
    "\n",
    "models_params = [\n",
    "    ModelParams(\n",
    "        name_=\"VELC\", cls_=VELC,\n",
    "        init_params=dict(\n",
    "            c_in=c_in, h_size=200,  n_layers=2,\n",
    "            z_size=100, N_constraint=10, threshold=0.5),\n",
    "        WrapperCls=VELCWrapper),\n",
    "]"
   ]
  },
  {
   "cell_type": "markdown",
   "metadata": {},
   "source": [
    "### Experiments"
   ]
  },
  {
   "cell_type": "code",
   "execution_count": 4,
   "metadata": {},
   "outputs": [],
   "source": [
    "chp_p = CheckpointParams(\n",
    "    dirpath=\"../checkpoints\", monitor='val_loss', verbose=True,\n",
    "    save_top_k=1)\n",
    "tr_p = TrainerParams(\n",
    "    max_epochs=5, gpus=1, auto_lr_find=True)\n",
    "es_p = EarlyStoppingParams(\n",
    "    monitor='val_loss', patience=2, verbose=True)\n",
    "\n",
    "exp = Experimentator(\n",
    "    models_params=models_params,\n",
    "    datasets_params=datasets_params,\n",
    "    trainer_params=tr_p,\n",
    "    checkpoint_params=chp_p,\n",
    "    early_stopping_params=es_p,\n",
    "    LoggersClasses=[TensorBoardLogger],\n",
    "    loggers_params=[LoggerParams(save_dir=\"../lightning_logs\")]\n",
    ")"
   ]
  },
  {
   "cell_type": "markdown",
   "metadata": {},
   "source": [
    "### Run / Load"
   ]
  },
  {
   "cell_type": "code",
   "execution_count": 5,
   "metadata": {},
   "outputs": [
    {
     "name": "stderr",
     "output_type": "stream",
     "text": [
      "/home/stachu/Projects/Anomaly_detection/TSAD/predpy/preprocessing/load_and_preprocess.py:188: UserWarning:\n",
      "\n",
      "Boolean Series key will be reindexed to match DataFrame index.\n",
      "\n",
      "/home/stachu/Projects/Anomaly_detection/TSAD/predpy/preprocessing/load_and_preprocess.py:203: UserWarning:\n",
      "\n",
      "Boolean Series key will be reindexed to match DataFrame index.\n",
      "\n",
      "Global seed set to 42\n",
      "GPU available: True, used: True\n",
      "TPU available: False, using: 0 TPU cores\n",
      "IPU available: False, using: 0 IPUs\n",
      "/home/stachu/.cache/pypoetry/virtualenvs/tsad-8szBw8Wl-py3.8/lib/python3.8/site-packages/pytorch_lightning/trainer/connectors/logger_connector/logger_connector.py:59: LightningDeprecationWarning:\n",
      "\n",
      "Setting `Trainer(flush_logs_every_n_steps=50)` is deprecated in v1.5 and will be removed in v1.7. Please configure flushing in the logger instead.\n",
      "\n",
      "/home/stachu/.cache/pypoetry/virtualenvs/tsad-8szBw8Wl-py3.8/lib/python3.8/site-packages/pytorch_lightning/core/datamodule.py:469: LightningDeprecationWarning:\n",
      "\n",
      "DataModule.setup has already been called, so it will not be called again. In v1.6 this behavior will change to always call DataModule.setup.\n",
      "\n",
      "LOCAL_RANK: 0 - CUDA_VISIBLE_DEVICES: [0]\n",
      "\n",
      "  | Name      | Type    | Params\n",
      "--------------------------------------\n",
      "0 | model     | VELC    | 1.7 M \n",
      "1 | criterion | MSELoss | 0     \n",
      "--------------------------------------\n",
      "1.7 M     Trainable params\n",
      "0         Non-trainable params\n",
      "1.7 M     Total params\n",
      "6.853     Total estimated model params size (MB)\n"
     ]
    },
    {
     "name": "stdout",
     "output_type": "stream",
     "text": [
      "Validation sanity check:   0%|          | 0/2 [00:00<?, ?it/s]"
     ]
    },
    {
     "ename": "TypeError",
     "evalue": "(\"forward() missing 1 required positional argument: 'z'\", 'Problem with training 0 model named VELC on 0 dataset named machine-1-1')",
     "output_type": "error",
     "traceback": [
      "\u001b[0;31m---------------------------------------------------------------------------\u001b[0m",
      "\u001b[0;31mTypeError\u001b[0m                                 Traceback (most recent call last)",
      "\u001b[1;32m/home/stachu/Projects/Anomaly_detection/TSAD/notebooks/experiments.ipynb Cell 11'\u001b[0m in \u001b[0;36m<module>\u001b[0;34m\u001b[0m\n\u001b[0;32m----> <a href='vscode-notebook-cell:/home/stachu/Projects/Anomaly_detection/TSAD/notebooks/experiments.ipynb#ch0000124?line=0'>1</a>\u001b[0m exp\u001b[39m.\u001b[39;49mrun_experiments(experiments_path\u001b[39m=\u001b[39;49m\u001b[39m\"\u001b[39;49m\u001b[39m./saved_experiments\u001b[39;49m\u001b[39m\"\u001b[39;49m, safe\u001b[39m=\u001b[39;49m\u001b[39mFalse\u001b[39;49;00m)\n",
      "File \u001b[0;32m~/Projects/Anomaly_detection/TSAD/predpy/experimentator/experimentator.py:452\u001b[0m, in \u001b[0;36mExperimentator.run_experiments\u001b[0;34m(self, skip_steps, experiments_path, continue_run, safe)\u001b[0m\n\u001b[1;32m    <a href='file:///home/stachu/Projects/Anomaly_detection/TSAD/predpy/experimentator/experimentator.py?line=449'>450</a>\u001b[0m                 \u001b[39mself\u001b[39m\u001b[39m.\u001b[39msave(experiments_path, safe\u001b[39m=\u001b[39m\u001b[39mTrue\u001b[39;00m)\n\u001b[1;32m    <a href='file:///home/stachu/Projects/Anomaly_detection/TSAD/predpy/experimentator/experimentator.py?line=450'>451</a>\u001b[0m         \u001b[39mexcept\u001b[39;00m \u001b[39mException\u001b[39;00m \u001b[39mas\u001b[39;00m e:\n\u001b[0;32m--> <a href='file:///home/stachu/Projects/Anomaly_detection/TSAD/predpy/experimentator/experimentator.py?line=451'>452</a>\u001b[0m             \u001b[39mself\u001b[39;49m\u001b[39m.\u001b[39;49m_deliver_exception(\n\u001b[1;32m    <a href='file:///home/stachu/Projects/Anomaly_detection/TSAD/predpy/experimentator/experimentator.py?line=452'>453</a>\u001b[0m                 msg\u001b[39m=\u001b[39;49m\u001b[39mself\u001b[39;49m\u001b[39m.\u001b[39;49m_set_err_msg(dataset_idx, model_idx),\n\u001b[1;32m    <a href='file:///home/stachu/Projects/Anomaly_detection/TSAD/predpy/experimentator/experimentator.py?line=453'>454</a>\u001b[0m                 exception\u001b[39m=\u001b[39;49me,\n\u001b[1;32m    <a href='file:///home/stachu/Projects/Anomaly_detection/TSAD/predpy/experimentator/experimentator.py?line=454'>455</a>\u001b[0m                 safe\u001b[39m=\u001b[39;49msafe,\n\u001b[1;32m    <a href='file:///home/stachu/Projects/Anomaly_detection/TSAD/predpy/experimentator/experimentator.py?line=455'>456</a>\u001b[0m             )\n\u001b[1;32m    <a href='file:///home/stachu/Projects/Anomaly_detection/TSAD/predpy/experimentator/experimentator.py?line=456'>457</a>\u001b[0m             \u001b[39mcontinue\u001b[39;00m\n\u001b[1;32m    <a href='file:///home/stachu/Projects/Anomaly_detection/TSAD/predpy/experimentator/experimentator.py?line=457'>458</a>\u001b[0m \u001b[39mprint\u001b[39m(\u001b[39m\"\u001b[39m\u001b[39mExperiments ended sucessfully\u001b[39m\u001b[39m\"\u001b[39m)\n",
      "File \u001b[0;32m~/Projects/Anomaly_detection/TSAD/predpy/experimentator/experimentator.py:330\u001b[0m, in \u001b[0;36mExperimentator._deliver_exception\u001b[0;34m(self, msg, exception, safe)\u001b[0m\n\u001b[1;32m    <a href='file:///home/stachu/Projects/Anomaly_detection/TSAD/predpy/experimentator/experimentator.py?line=327'>328</a>\u001b[0m \u001b[39melse\u001b[39;00m:\n\u001b[1;32m    <a href='file:///home/stachu/Projects/Anomaly_detection/TSAD/predpy/experimentator/experimentator.py?line=328'>329</a>\u001b[0m     exception\u001b[39m.\u001b[39margs \u001b[39m+\u001b[39m\u001b[39m=\u001b[39m (msg,)\n\u001b[0;32m--> <a href='file:///home/stachu/Projects/Anomaly_detection/TSAD/predpy/experimentator/experimentator.py?line=329'>330</a>\u001b[0m     \u001b[39mraise\u001b[39;00m exception\n",
      "File \u001b[0;32m~/Projects/Anomaly_detection/TSAD/predpy/experimentator/experimentator.py:430\u001b[0m, in \u001b[0;36mExperimentator.run_experiments\u001b[0;34m(self, skip_steps, experiments_path, continue_run, safe)\u001b[0m\n\u001b[1;32m    <a href='file:///home/stachu/Projects/Anomaly_detection/TSAD/predpy/experimentator/experimentator.py?line=427'>428</a>\u001b[0m     \u001b[39mcontinue\u001b[39;00m\n\u001b[1;32m    <a href='file:///home/stachu/Projects/Anomaly_detection/TSAD/predpy/experimentator/experimentator.py?line=428'>429</a>\u001b[0m \u001b[39m# start = time.time()\u001b[39;00m\n\u001b[0;32m--> <a href='file:///home/stachu/Projects/Anomaly_detection/TSAD/predpy/experimentator/experimentator.py?line=429'>430</a>\u001b[0m model_preds_df \u001b[39m=\u001b[39m \u001b[39mself\u001b[39;49m\u001b[39m.\u001b[39;49m_experiment_step(\n\u001b[1;32m    <a href='file:///home/stachu/Projects/Anomaly_detection/TSAD/predpy/experimentator/experimentator.py?line=430'>431</a>\u001b[0m     tsm\u001b[39m=\u001b[39;49mtsm, model_idx\u001b[39m=\u001b[39;49mmodel_idx,\n\u001b[1;32m    <a href='file:///home/stachu/Projects/Anomaly_detection/TSAD/predpy/experimentator/experimentator.py?line=431'>432</a>\u001b[0m     continue_run\u001b[39m=\u001b[39;49mcontinue_run)\n\u001b[1;32m    <a href='file:///home/stachu/Projects/Anomaly_detection/TSAD/predpy/experimentator/experimentator.py?line=432'>433</a>\u001b[0m \u001b[39m# print(\"Time: \" + str(time.time() - start))\u001b[39;00m\n\u001b[1;32m    <a href='file:///home/stachu/Projects/Anomaly_detection/TSAD/predpy/experimentator/experimentator.py?line=433'>434</a>\u001b[0m \u001b[39m# print(\"Predictions memory size:\\n\" +\u001b[39;00m\n\u001b[1;32m    <a href='file:///home/stachu/Projects/Anomaly_detection/TSAD/predpy/experimentator/experimentator.py?line=434'>435</a>\u001b[0m \u001b[39m#       str(model_preds_df.memory_usage(deep=True)))\u001b[39;00m\n\u001b[1;32m    <a href='file:///home/stachu/Projects/Anomaly_detection/TSAD/predpy/experimentator/experimentator.py?line=435'>436</a>\u001b[0m \n\u001b[1;32m    <a href='file:///home/stachu/Projects/Anomaly_detection/TSAD/predpy/experimentator/experimentator.py?line=436'>437</a>\u001b[0m \u001b[39m# saving store predictions as dataframe\u001b[39;00m\n\u001b[1;32m    <a href='file:///home/stachu/Projects/Anomaly_detection/TSAD/predpy/experimentator/experimentator.py?line=437'>438</a>\u001b[0m \u001b[39mself\u001b[39m\u001b[39m.\u001b[39mpredictions \u001b[39m=\u001b[39m pd\u001b[39m.\u001b[39mconcat([\n\u001b[1;32m    <a href='file:///home/stachu/Projects/Anomaly_detection/TSAD/predpy/experimentator/experimentator.py?line=438'>439</a>\u001b[0m     \u001b[39mself\u001b[39m\u001b[39m.\u001b[39mpredictions,\n\u001b[1;32m    <a href='file:///home/stachu/Projects/Anomaly_detection/TSAD/predpy/experimentator/experimentator.py?line=439'>440</a>\u001b[0m     pd\u001b[39m.\u001b[39mDataFrame(\n\u001b[0;32m   (...)\u001b[0m\n\u001b[1;32m    <a href='file:///home/stachu/Projects/Anomaly_detection/TSAD/predpy/experimentator/experimentator.py?line=443'>444</a>\u001b[0m             predictions\u001b[39m=\u001b[39mmodel_preds_df)]\n\u001b[1;32m    <a href='file:///home/stachu/Projects/Anomaly_detection/TSAD/predpy/experimentator/experimentator.py?line=444'>445</a>\u001b[0m     )])\n",
      "File \u001b[0;32m~/Projects/Anomaly_detection/TSAD/predpy/experimentator/experimentator.py:315\u001b[0m, in \u001b[0;36mExperimentator._experiment_step\u001b[0;34m(self, tsm, model_idx, continue_run)\u001b[0m\n\u001b[1;32m    <a href='file:///home/stachu/Projects/Anomaly_detection/TSAD/predpy/experimentator/experimentator.py?line=308'>309</a>\u001b[0m \u001b[39mdef\u001b[39;00m \u001b[39m_experiment_step\u001b[39m(\n\u001b[1;32m    <a href='file:///home/stachu/Projects/Anomaly_detection/TSAD/predpy/experimentator/experimentator.py?line=309'>310</a>\u001b[0m     \u001b[39mself\u001b[39m,\n\u001b[1;32m    <a href='file:///home/stachu/Projects/Anomaly_detection/TSAD/predpy/experimentator/experimentator.py?line=310'>311</a>\u001b[0m     tsm: MultiTimeSeriesModule,\n\u001b[1;32m    <a href='file:///home/stachu/Projects/Anomaly_detection/TSAD/predpy/experimentator/experimentator.py?line=311'>312</a>\u001b[0m     model_idx: \u001b[39mint\u001b[39m,\n\u001b[1;32m    <a href='file:///home/stachu/Projects/Anomaly_detection/TSAD/predpy/experimentator/experimentator.py?line=312'>313</a>\u001b[0m     continue_run: \u001b[39mbool\u001b[39m \u001b[39m=\u001b[39m \u001b[39mFalse\u001b[39;00m\n\u001b[1;32m    <a href='file:///home/stachu/Projects/Anomaly_detection/TSAD/predpy/experimentator/experimentator.py?line=313'>314</a>\u001b[0m ):\n\u001b[0;32m--> <a href='file:///home/stachu/Projects/Anomaly_detection/TSAD/predpy/experimentator/experimentator.py?line=314'>315</a>\u001b[0m     pl_model \u001b[39m=\u001b[39m \u001b[39mself\u001b[39;49m\u001b[39m.\u001b[39;49mtrain_model(\n\u001b[1;32m    <a href='file:///home/stachu/Projects/Anomaly_detection/TSAD/predpy/experimentator/experimentator.py?line=315'>316</a>\u001b[0m         model_idx\u001b[39m=\u001b[39;49mmodel_idx, tsm\u001b[39m=\u001b[39;49mtsm, load_state\u001b[39m=\u001b[39;49mcontinue_run)\n\u001b[1;32m    <a href='file:///home/stachu/Projects/Anomaly_detection/TSAD/predpy/experimentator/experimentator.py?line=317'>318</a>\u001b[0m     \u001b[39m# collect predictions made on test dataset\u001b[39;00m\n\u001b[1;32m    <a href='file:///home/stachu/Projects/Anomaly_detection/TSAD/predpy/experimentator/experimentator.py?line=318'>319</a>\u001b[0m     preds \u001b[39m=\u001b[39m pl_model\u001b[39m.\u001b[39mget_dataset_predictions(tsm\u001b[39m.\u001b[39mtest_dataloader())\n",
      "File \u001b[0;32m~/Projects/Anomaly_detection/TSAD/predpy/experimentator/experimentator.py:569\u001b[0m, in \u001b[0;36mExperimentator.train_model\u001b[0;34m(self, model_idx, dataset_idx, tsm, load_state)\u001b[0m\n\u001b[1;32m    <a href='file:///home/stachu/Projects/Anomaly_detection/TSAD/predpy/experimentator/experimentator.py?line=562'>563</a>\u001b[0m     pl_model \u001b[39m=\u001b[39m m_params\u001b[39m.\u001b[39mWrapperCls(\n\u001b[1;32m    <a href='file:///home/stachu/Projects/Anomaly_detection/TSAD/predpy/experimentator/experimentator.py?line=563'>564</a>\u001b[0m         model\u001b[39m=\u001b[39mm_params\u001b[39m.\u001b[39mcls_(\u001b[39m*\u001b[39m\u001b[39m*\u001b[39mm_params\u001b[39m.\u001b[39minit_params),\n\u001b[1;32m    <a href='file:///home/stachu/Projects/Anomaly_detection/TSAD/predpy/experimentator/experimentator.py?line=564'>565</a>\u001b[0m         \u001b[39m*\u001b[39m\u001b[39m*\u001b[39mm_params\u001b[39m.\u001b[39mlearning_params,\n\u001b[1;32m    <a href='file:///home/stachu/Projects/Anomaly_detection/TSAD/predpy/experimentator/experimentator.py?line=565'>566</a>\u001b[0m         \u001b[39m*\u001b[39m\u001b[39m*\u001b[39mm_params\u001b[39m.\u001b[39mwrapper_kwargs)\n\u001b[1;32m    <a href='file:///home/stachu/Projects/Anomaly_detection/TSAD/predpy/experimentator/experimentator.py?line=567'>568</a>\u001b[0m \u001b[39m# training model\u001b[39;00m\n\u001b[0;32m--> <a href='file:///home/stachu/Projects/Anomaly_detection/TSAD/predpy/experimentator/experimentator.py?line=568'>569</a>\u001b[0m pl_model \u001b[39m=\u001b[39m get_trained_pl_model(\n\u001b[1;32m    <a href='file:///home/stachu/Projects/Anomaly_detection/TSAD/predpy/experimentator/experimentator.py?line=569'>570</a>\u001b[0m     pl_model\u001b[39m=\u001b[39;49mpl_model,\n\u001b[1;32m    <a href='file:///home/stachu/Projects/Anomaly_detection/TSAD/predpy/experimentator/experimentator.py?line=570'>571</a>\u001b[0m     data_module\u001b[39m=\u001b[39;49mtsm,\n\u001b[1;32m    <a href='file:///home/stachu/Projects/Anomaly_detection/TSAD/predpy/experimentator/experimentator.py?line=571'>572</a>\u001b[0m     trainer_params\u001b[39m=\u001b[39;49mtrainer_params,\n\u001b[1;32m    <a href='file:///home/stachu/Projects/Anomaly_detection/TSAD/predpy/experimentator/experimentator.py?line=572'>573</a>\u001b[0m     checkpoint_params\u001b[39m=\u001b[39;49mcheckpoint_params,\n\u001b[1;32m    <a href='file:///home/stachu/Projects/Anomaly_detection/TSAD/predpy/experimentator/experimentator.py?line=573'>574</a>\u001b[0m     early_stopping_params\u001b[39m=\u001b[39;49mearly_stopping_params,\n\u001b[1;32m    <a href='file:///home/stachu/Projects/Anomaly_detection/TSAD/predpy/experimentator/experimentator.py?line=574'>575</a>\u001b[0m     loggers_params\u001b[39m=\u001b[39;49mloggers_params,\n\u001b[1;32m    <a href='file:///home/stachu/Projects/Anomaly_detection/TSAD/predpy/experimentator/experimentator.py?line=575'>576</a>\u001b[0m     LoggersClasses\u001b[39m=\u001b[39;49m\u001b[39mself\u001b[39;49m\u001b[39m.\u001b[39;49mLoggersClasses)\n\u001b[1;32m    <a href='file:///home/stachu/Projects/Anomaly_detection/TSAD/predpy/experimentator/experimentator.py?line=577'>578</a>\u001b[0m \u001b[39m# load last saved model\u001b[39;00m\n\u001b[1;32m    <a href='file:///home/stachu/Projects/Anomaly_detection/TSAD/predpy/experimentator/experimentator.py?line=578'>579</a>\u001b[0m pl_model \u001b[39m=\u001b[39m \u001b[39mself\u001b[39m\u001b[39m.\u001b[39mload_pl_model(\n\u001b[1;32m    <a href='file:///home/stachu/Projects/Anomaly_detection/TSAD/predpy/experimentator/experimentator.py?line=579'>580</a>\u001b[0m     model_idx\u001b[39m=\u001b[39mmodel_idx,\n\u001b[1;32m    <a href='file:///home/stachu/Projects/Anomaly_detection/TSAD/predpy/experimentator/experimentator.py?line=580'>581</a>\u001b[0m     dir_path\u001b[39m=\u001b[39mcheckpoint_params\u001b[39m.\u001b[39mdirpath,\n\u001b[1;32m    <a href='file:///home/stachu/Projects/Anomaly_detection/TSAD/predpy/experimentator/experimentator.py?line=581'>582</a>\u001b[0m     file_name\u001b[39m=\u001b[39mcheckpoint_params\u001b[39m.\u001b[39mfilename,\n\u001b[1;32m    <a href='file:///home/stachu/Projects/Anomaly_detection/TSAD/predpy/experimentator/experimentator.py?line=582'>583</a>\u001b[0m     find_last\u001b[39m=\u001b[39m\u001b[39mTrue\u001b[39;00m)\n",
      "File \u001b[0;32m~/Projects/Anomaly_detection/TSAD/predpy/trainer/training.py:133\u001b[0m, in \u001b[0;36mget_trained_pl_model\u001b[0;34m(pl_model, data_module, trainer_params, checkpoint_params, early_stopping_params, loggers_params, LoggersClasses)\u001b[0m\n\u001b[1;32m     <a href='file:///home/stachu/Projects/Anomaly_detection/TSAD/predpy/trainer/training.py?line=82'>83</a>\u001b[0m \u001b[39m\"\"\"Creates and train pytorch lightning model.\u001b[39;00m\n\u001b[1;32m     <a href='file:///home/stachu/Projects/Anomaly_detection/TSAD/predpy/trainer/training.py?line=83'>84</a>\u001b[0m \n\u001b[1;32m     <a href='file:///home/stachu/Projects/Anomaly_detection/TSAD/predpy/trainer/training.py?line=84'>85</a>\u001b[0m \u001b[39mWraps *model* into pytorch lightning module defined with *WrapperCls* and\u001b[39;00m\n\u001b[0;32m   (...)\u001b[0m\n\u001b[1;32m    <a href='file:///home/stachu/Projects/Anomaly_detection/TSAD/predpy/trainer/training.py?line=123'>124</a>\u001b[0m \u001b[39m    Trained lightning model.\u001b[39;00m\n\u001b[1;32m    <a href='file:///home/stachu/Projects/Anomaly_detection/TSAD/predpy/trainer/training.py?line=124'>125</a>\u001b[0m \u001b[39m\"\"\"\u001b[39;00m\n\u001b[1;32m    <a href='file:///home/stachu/Projects/Anomaly_detection/TSAD/predpy/trainer/training.py?line=125'>126</a>\u001b[0m trainer \u001b[39m=\u001b[39m get_trainer(\n\u001b[1;32m    <a href='file:///home/stachu/Projects/Anomaly_detection/TSAD/predpy/trainer/training.py?line=126'>127</a>\u001b[0m     trainer_params\u001b[39m=\u001b[39mtrainer_params,\n\u001b[1;32m    <a href='file:///home/stachu/Projects/Anomaly_detection/TSAD/predpy/trainer/training.py?line=127'>128</a>\u001b[0m     checkpoint_params\u001b[39m=\u001b[39mcheckpoint_params,\n\u001b[1;32m    <a href='file:///home/stachu/Projects/Anomaly_detection/TSAD/predpy/trainer/training.py?line=128'>129</a>\u001b[0m     early_stopping_params\u001b[39m=\u001b[39mearly_stopping_params,\n\u001b[1;32m    <a href='file:///home/stachu/Projects/Anomaly_detection/TSAD/predpy/trainer/training.py?line=129'>130</a>\u001b[0m     loggers_params\u001b[39m=\u001b[39mloggers_params,\n\u001b[1;32m    <a href='file:///home/stachu/Projects/Anomaly_detection/TSAD/predpy/trainer/training.py?line=130'>131</a>\u001b[0m     LoggersClasses\u001b[39m=\u001b[39mLoggersClasses)\n\u001b[0;32m--> <a href='file:///home/stachu/Projects/Anomaly_detection/TSAD/predpy/trainer/training.py?line=132'>133</a>\u001b[0m trainer\u001b[39m.\u001b[39;49mfit(pl_model, data_module)\n\u001b[1;32m    <a href='file:///home/stachu/Projects/Anomaly_detection/TSAD/predpy/trainer/training.py?line=134'>135</a>\u001b[0m \u001b[39mreturn\u001b[39;00m pl_model\u001b[39m.\u001b[39meval()\n",
      "File \u001b[0;32m~/.cache/pypoetry/virtualenvs/tsad-8szBw8Wl-py3.8/lib/python3.8/site-packages/pytorch_lightning/trainer/trainer.py:740\u001b[0m, in \u001b[0;36mTrainer.fit\u001b[0;34m(self, model, train_dataloaders, val_dataloaders, datamodule, train_dataloader, ckpt_path)\u001b[0m\n\u001b[1;32m    <a href='file:///home/stachu/.cache/pypoetry/virtualenvs/tsad-8szBw8Wl-py3.8/lib/python3.8/site-packages/pytorch_lightning/trainer/trainer.py?line=734'>735</a>\u001b[0m     rank_zero_deprecation(\n\u001b[1;32m    <a href='file:///home/stachu/.cache/pypoetry/virtualenvs/tsad-8szBw8Wl-py3.8/lib/python3.8/site-packages/pytorch_lightning/trainer/trainer.py?line=735'>736</a>\u001b[0m         \u001b[39m\"\u001b[39m\u001b[39m`trainer.fit(train_dataloader)` is deprecated in v1.4 and will be removed in v1.6.\u001b[39m\u001b[39m\"\u001b[39m\n\u001b[1;32m    <a href='file:///home/stachu/.cache/pypoetry/virtualenvs/tsad-8szBw8Wl-py3.8/lib/python3.8/site-packages/pytorch_lightning/trainer/trainer.py?line=736'>737</a>\u001b[0m         \u001b[39m\"\u001b[39m\u001b[39m Use `trainer.fit(train_dataloaders)` instead. HINT: added \u001b[39m\u001b[39m'\u001b[39m\u001b[39ms\u001b[39m\u001b[39m'\u001b[39m\u001b[39m\"\u001b[39m\n\u001b[1;32m    <a href='file:///home/stachu/.cache/pypoetry/virtualenvs/tsad-8szBw8Wl-py3.8/lib/python3.8/site-packages/pytorch_lightning/trainer/trainer.py?line=737'>738</a>\u001b[0m     )\n\u001b[1;32m    <a href='file:///home/stachu/.cache/pypoetry/virtualenvs/tsad-8szBw8Wl-py3.8/lib/python3.8/site-packages/pytorch_lightning/trainer/trainer.py?line=738'>739</a>\u001b[0m     train_dataloaders \u001b[39m=\u001b[39m train_dataloader\n\u001b[0;32m--> <a href='file:///home/stachu/.cache/pypoetry/virtualenvs/tsad-8szBw8Wl-py3.8/lib/python3.8/site-packages/pytorch_lightning/trainer/trainer.py?line=739'>740</a>\u001b[0m \u001b[39mself\u001b[39;49m\u001b[39m.\u001b[39;49m_call_and_handle_interrupt(\n\u001b[1;32m    <a href='file:///home/stachu/.cache/pypoetry/virtualenvs/tsad-8szBw8Wl-py3.8/lib/python3.8/site-packages/pytorch_lightning/trainer/trainer.py?line=740'>741</a>\u001b[0m     \u001b[39mself\u001b[39;49m\u001b[39m.\u001b[39;49m_fit_impl, model, train_dataloaders, val_dataloaders, datamodule, ckpt_path\n\u001b[1;32m    <a href='file:///home/stachu/.cache/pypoetry/virtualenvs/tsad-8szBw8Wl-py3.8/lib/python3.8/site-packages/pytorch_lightning/trainer/trainer.py?line=741'>742</a>\u001b[0m )\n",
      "File \u001b[0;32m~/.cache/pypoetry/virtualenvs/tsad-8szBw8Wl-py3.8/lib/python3.8/site-packages/pytorch_lightning/trainer/trainer.py:685\u001b[0m, in \u001b[0;36mTrainer._call_and_handle_interrupt\u001b[0;34m(self, trainer_fn, *args, **kwargs)\u001b[0m\n\u001b[1;32m    <a href='file:///home/stachu/.cache/pypoetry/virtualenvs/tsad-8szBw8Wl-py3.8/lib/python3.8/site-packages/pytorch_lightning/trainer/trainer.py?line=674'>675</a>\u001b[0m \u001b[39mr\u001b[39m\u001b[39m\"\"\"\u001b[39;00m\n\u001b[1;32m    <a href='file:///home/stachu/.cache/pypoetry/virtualenvs/tsad-8szBw8Wl-py3.8/lib/python3.8/site-packages/pytorch_lightning/trainer/trainer.py?line=675'>676</a>\u001b[0m \u001b[39mError handling, intended to be used only for main trainer function entry points (fit, validate, test, predict)\u001b[39;00m\n\u001b[1;32m    <a href='file:///home/stachu/.cache/pypoetry/virtualenvs/tsad-8szBw8Wl-py3.8/lib/python3.8/site-packages/pytorch_lightning/trainer/trainer.py?line=676'>677</a>\u001b[0m \u001b[39mas all errors should funnel through them\u001b[39;00m\n\u001b[0;32m   (...)\u001b[0m\n\u001b[1;32m    <a href='file:///home/stachu/.cache/pypoetry/virtualenvs/tsad-8szBw8Wl-py3.8/lib/python3.8/site-packages/pytorch_lightning/trainer/trainer.py?line=681'>682</a>\u001b[0m \u001b[39m    **kwargs: keyword arguments to be passed to `trainer_fn`\u001b[39;00m\n\u001b[1;32m    <a href='file:///home/stachu/.cache/pypoetry/virtualenvs/tsad-8szBw8Wl-py3.8/lib/python3.8/site-packages/pytorch_lightning/trainer/trainer.py?line=682'>683</a>\u001b[0m \u001b[39m\"\"\"\u001b[39;00m\n\u001b[1;32m    <a href='file:///home/stachu/.cache/pypoetry/virtualenvs/tsad-8szBw8Wl-py3.8/lib/python3.8/site-packages/pytorch_lightning/trainer/trainer.py?line=683'>684</a>\u001b[0m \u001b[39mtry\u001b[39;00m:\n\u001b[0;32m--> <a href='file:///home/stachu/.cache/pypoetry/virtualenvs/tsad-8szBw8Wl-py3.8/lib/python3.8/site-packages/pytorch_lightning/trainer/trainer.py?line=684'>685</a>\u001b[0m     \u001b[39mreturn\u001b[39;00m trainer_fn(\u001b[39m*\u001b[39;49margs, \u001b[39m*\u001b[39;49m\u001b[39m*\u001b[39;49mkwargs)\n\u001b[1;32m    <a href='file:///home/stachu/.cache/pypoetry/virtualenvs/tsad-8szBw8Wl-py3.8/lib/python3.8/site-packages/pytorch_lightning/trainer/trainer.py?line=685'>686</a>\u001b[0m \u001b[39m# TODO: treat KeyboardInterrupt as BaseException (delete the code below) in v1.7\u001b[39;00m\n\u001b[1;32m    <a href='file:///home/stachu/.cache/pypoetry/virtualenvs/tsad-8szBw8Wl-py3.8/lib/python3.8/site-packages/pytorch_lightning/trainer/trainer.py?line=686'>687</a>\u001b[0m \u001b[39mexcept\u001b[39;00m \u001b[39mKeyboardInterrupt\u001b[39;00m \u001b[39mas\u001b[39;00m exception:\n",
      "File \u001b[0;32m~/.cache/pypoetry/virtualenvs/tsad-8szBw8Wl-py3.8/lib/python3.8/site-packages/pytorch_lightning/trainer/trainer.py:777\u001b[0m, in \u001b[0;36mTrainer._fit_impl\u001b[0;34m(self, model, train_dataloaders, val_dataloaders, datamodule, ckpt_path)\u001b[0m\n\u001b[1;32m    <a href='file:///home/stachu/.cache/pypoetry/virtualenvs/tsad-8szBw8Wl-py3.8/lib/python3.8/site-packages/pytorch_lightning/trainer/trainer.py?line=774'>775</a>\u001b[0m \u001b[39m# TODO: ckpt_path only in v1.7\u001b[39;00m\n\u001b[1;32m    <a href='file:///home/stachu/.cache/pypoetry/virtualenvs/tsad-8szBw8Wl-py3.8/lib/python3.8/site-packages/pytorch_lightning/trainer/trainer.py?line=775'>776</a>\u001b[0m ckpt_path \u001b[39m=\u001b[39m ckpt_path \u001b[39mor\u001b[39;00m \u001b[39mself\u001b[39m\u001b[39m.\u001b[39mresume_from_checkpoint\n\u001b[0;32m--> <a href='file:///home/stachu/.cache/pypoetry/virtualenvs/tsad-8szBw8Wl-py3.8/lib/python3.8/site-packages/pytorch_lightning/trainer/trainer.py?line=776'>777</a>\u001b[0m \u001b[39mself\u001b[39;49m\u001b[39m.\u001b[39;49m_run(model, ckpt_path\u001b[39m=\u001b[39;49mckpt_path)\n\u001b[1;32m    <a href='file:///home/stachu/.cache/pypoetry/virtualenvs/tsad-8szBw8Wl-py3.8/lib/python3.8/site-packages/pytorch_lightning/trainer/trainer.py?line=778'>779</a>\u001b[0m \u001b[39massert\u001b[39;00m \u001b[39mself\u001b[39m\u001b[39m.\u001b[39mstate\u001b[39m.\u001b[39mstopped\n\u001b[1;32m    <a href='file:///home/stachu/.cache/pypoetry/virtualenvs/tsad-8szBw8Wl-py3.8/lib/python3.8/site-packages/pytorch_lightning/trainer/trainer.py?line=779'>780</a>\u001b[0m \u001b[39mself\u001b[39m\u001b[39m.\u001b[39mtraining \u001b[39m=\u001b[39m \u001b[39mFalse\u001b[39;00m\n",
      "File \u001b[0;32m~/.cache/pypoetry/virtualenvs/tsad-8szBw8Wl-py3.8/lib/python3.8/site-packages/pytorch_lightning/trainer/trainer.py:1199\u001b[0m, in \u001b[0;36mTrainer._run\u001b[0;34m(self, model, ckpt_path)\u001b[0m\n\u001b[1;32m   <a href='file:///home/stachu/.cache/pypoetry/virtualenvs/tsad-8szBw8Wl-py3.8/lib/python3.8/site-packages/pytorch_lightning/trainer/trainer.py?line=1195'>1196</a>\u001b[0m \u001b[39mself\u001b[39m\u001b[39m.\u001b[39mcheckpoint_connector\u001b[39m.\u001b[39mresume_end()\n\u001b[1;32m   <a href='file:///home/stachu/.cache/pypoetry/virtualenvs/tsad-8szBw8Wl-py3.8/lib/python3.8/site-packages/pytorch_lightning/trainer/trainer.py?line=1197'>1198</a>\u001b[0m \u001b[39m# dispatch `start_training` or `start_evaluating` or `start_predicting`\u001b[39;00m\n\u001b[0;32m-> <a href='file:///home/stachu/.cache/pypoetry/virtualenvs/tsad-8szBw8Wl-py3.8/lib/python3.8/site-packages/pytorch_lightning/trainer/trainer.py?line=1198'>1199</a>\u001b[0m \u001b[39mself\u001b[39;49m\u001b[39m.\u001b[39;49m_dispatch()\n\u001b[1;32m   <a href='file:///home/stachu/.cache/pypoetry/virtualenvs/tsad-8szBw8Wl-py3.8/lib/python3.8/site-packages/pytorch_lightning/trainer/trainer.py?line=1200'>1201</a>\u001b[0m \u001b[39m# plugin will finalized fitting (e.g. ddp_spawn will load trained model)\u001b[39;00m\n\u001b[1;32m   <a href='file:///home/stachu/.cache/pypoetry/virtualenvs/tsad-8szBw8Wl-py3.8/lib/python3.8/site-packages/pytorch_lightning/trainer/trainer.py?line=1201'>1202</a>\u001b[0m \u001b[39mself\u001b[39m\u001b[39m.\u001b[39m_post_dispatch()\n",
      "File \u001b[0;32m~/.cache/pypoetry/virtualenvs/tsad-8szBw8Wl-py3.8/lib/python3.8/site-packages/pytorch_lightning/trainer/trainer.py:1279\u001b[0m, in \u001b[0;36mTrainer._dispatch\u001b[0;34m(self)\u001b[0m\n\u001b[1;32m   <a href='file:///home/stachu/.cache/pypoetry/virtualenvs/tsad-8szBw8Wl-py3.8/lib/python3.8/site-packages/pytorch_lightning/trainer/trainer.py?line=1276'>1277</a>\u001b[0m     \u001b[39mself\u001b[39m\u001b[39m.\u001b[39mtraining_type_plugin\u001b[39m.\u001b[39mstart_predicting(\u001b[39mself\u001b[39m)\n\u001b[1;32m   <a href='file:///home/stachu/.cache/pypoetry/virtualenvs/tsad-8szBw8Wl-py3.8/lib/python3.8/site-packages/pytorch_lightning/trainer/trainer.py?line=1277'>1278</a>\u001b[0m \u001b[39melse\u001b[39;00m:\n\u001b[0;32m-> <a href='file:///home/stachu/.cache/pypoetry/virtualenvs/tsad-8szBw8Wl-py3.8/lib/python3.8/site-packages/pytorch_lightning/trainer/trainer.py?line=1278'>1279</a>\u001b[0m     \u001b[39mself\u001b[39;49m\u001b[39m.\u001b[39;49mtraining_type_plugin\u001b[39m.\u001b[39;49mstart_training(\u001b[39mself\u001b[39;49m)\n",
      "File \u001b[0;32m~/.cache/pypoetry/virtualenvs/tsad-8szBw8Wl-py3.8/lib/python3.8/site-packages/pytorch_lightning/plugins/training_type/training_type_plugin.py:202\u001b[0m, in \u001b[0;36mTrainingTypePlugin.start_training\u001b[0;34m(self, trainer)\u001b[0m\n\u001b[1;32m    <a href='file:///home/stachu/.cache/pypoetry/virtualenvs/tsad-8szBw8Wl-py3.8/lib/python3.8/site-packages/pytorch_lightning/plugins/training_type/training_type_plugin.py?line=199'>200</a>\u001b[0m \u001b[39mdef\u001b[39;00m \u001b[39mstart_training\u001b[39m(\u001b[39mself\u001b[39m, trainer: \u001b[39m\"\u001b[39m\u001b[39mpl.Trainer\u001b[39m\u001b[39m\"\u001b[39m) \u001b[39m-\u001b[39m\u001b[39m>\u001b[39m \u001b[39mNone\u001b[39;00m:\n\u001b[1;32m    <a href='file:///home/stachu/.cache/pypoetry/virtualenvs/tsad-8szBw8Wl-py3.8/lib/python3.8/site-packages/pytorch_lightning/plugins/training_type/training_type_plugin.py?line=200'>201</a>\u001b[0m     \u001b[39m# double dispatch to initiate the training loop\u001b[39;00m\n\u001b[0;32m--> <a href='file:///home/stachu/.cache/pypoetry/virtualenvs/tsad-8szBw8Wl-py3.8/lib/python3.8/site-packages/pytorch_lightning/plugins/training_type/training_type_plugin.py?line=201'>202</a>\u001b[0m     \u001b[39mself\u001b[39m\u001b[39m.\u001b[39m_results \u001b[39m=\u001b[39m trainer\u001b[39m.\u001b[39;49mrun_stage()\n",
      "File \u001b[0;32m~/.cache/pypoetry/virtualenvs/tsad-8szBw8Wl-py3.8/lib/python3.8/site-packages/pytorch_lightning/trainer/trainer.py:1289\u001b[0m, in \u001b[0;36mTrainer.run_stage\u001b[0;34m(self)\u001b[0m\n\u001b[1;32m   <a href='file:///home/stachu/.cache/pypoetry/virtualenvs/tsad-8szBw8Wl-py3.8/lib/python3.8/site-packages/pytorch_lightning/trainer/trainer.py?line=1286'>1287</a>\u001b[0m \u001b[39mif\u001b[39;00m \u001b[39mself\u001b[39m\u001b[39m.\u001b[39mpredicting:\n\u001b[1;32m   <a href='file:///home/stachu/.cache/pypoetry/virtualenvs/tsad-8szBw8Wl-py3.8/lib/python3.8/site-packages/pytorch_lightning/trainer/trainer.py?line=1287'>1288</a>\u001b[0m     \u001b[39mreturn\u001b[39;00m \u001b[39mself\u001b[39m\u001b[39m.\u001b[39m_run_predict()\n\u001b[0;32m-> <a href='file:///home/stachu/.cache/pypoetry/virtualenvs/tsad-8szBw8Wl-py3.8/lib/python3.8/site-packages/pytorch_lightning/trainer/trainer.py?line=1288'>1289</a>\u001b[0m \u001b[39mreturn\u001b[39;00m \u001b[39mself\u001b[39;49m\u001b[39m.\u001b[39;49m_run_train()\n",
      "File \u001b[0;32m~/.cache/pypoetry/virtualenvs/tsad-8szBw8Wl-py3.8/lib/python3.8/site-packages/pytorch_lightning/trainer/trainer.py:1311\u001b[0m, in \u001b[0;36mTrainer._run_train\u001b[0;34m(self)\u001b[0m\n\u001b[1;32m   <a href='file:///home/stachu/.cache/pypoetry/virtualenvs/tsad-8szBw8Wl-py3.8/lib/python3.8/site-packages/pytorch_lightning/trainer/trainer.py?line=1307'>1308</a>\u001b[0m \u001b[39mif\u001b[39;00m \u001b[39mnot\u001b[39;00m \u001b[39mself\u001b[39m\u001b[39m.\u001b[39mis_global_zero \u001b[39mand\u001b[39;00m \u001b[39mself\u001b[39m\u001b[39m.\u001b[39mprogress_bar_callback \u001b[39mis\u001b[39;00m \u001b[39mnot\u001b[39;00m \u001b[39mNone\u001b[39;00m:\n\u001b[1;32m   <a href='file:///home/stachu/.cache/pypoetry/virtualenvs/tsad-8szBw8Wl-py3.8/lib/python3.8/site-packages/pytorch_lightning/trainer/trainer.py?line=1308'>1309</a>\u001b[0m     \u001b[39mself\u001b[39m\u001b[39m.\u001b[39mprogress_bar_callback\u001b[39m.\u001b[39mdisable()\n\u001b[0;32m-> <a href='file:///home/stachu/.cache/pypoetry/virtualenvs/tsad-8szBw8Wl-py3.8/lib/python3.8/site-packages/pytorch_lightning/trainer/trainer.py?line=1310'>1311</a>\u001b[0m \u001b[39mself\u001b[39;49m\u001b[39m.\u001b[39;49m_run_sanity_check(\u001b[39mself\u001b[39;49m\u001b[39m.\u001b[39;49mlightning_module)\n\u001b[1;32m   <a href='file:///home/stachu/.cache/pypoetry/virtualenvs/tsad-8szBw8Wl-py3.8/lib/python3.8/site-packages/pytorch_lightning/trainer/trainer.py?line=1312'>1313</a>\u001b[0m \u001b[39m# enable train mode\u001b[39;00m\n\u001b[1;32m   <a href='file:///home/stachu/.cache/pypoetry/virtualenvs/tsad-8szBw8Wl-py3.8/lib/python3.8/site-packages/pytorch_lightning/trainer/trainer.py?line=1313'>1314</a>\u001b[0m \u001b[39mself\u001b[39m\u001b[39m.\u001b[39mmodel\u001b[39m.\u001b[39mtrain()\n",
      "File \u001b[0;32m~/.cache/pypoetry/virtualenvs/tsad-8szBw8Wl-py3.8/lib/python3.8/site-packages/pytorch_lightning/trainer/trainer.py:1375\u001b[0m, in \u001b[0;36mTrainer._run_sanity_check\u001b[0;34m(self, ref_model)\u001b[0m\n\u001b[1;32m   <a href='file:///home/stachu/.cache/pypoetry/virtualenvs/tsad-8szBw8Wl-py3.8/lib/python3.8/site-packages/pytorch_lightning/trainer/trainer.py?line=1372'>1373</a>\u001b[0m \u001b[39m# run eval step\u001b[39;00m\n\u001b[1;32m   <a href='file:///home/stachu/.cache/pypoetry/virtualenvs/tsad-8szBw8Wl-py3.8/lib/python3.8/site-packages/pytorch_lightning/trainer/trainer.py?line=1373'>1374</a>\u001b[0m \u001b[39mwith\u001b[39;00m torch\u001b[39m.\u001b[39mno_grad():\n\u001b[0;32m-> <a href='file:///home/stachu/.cache/pypoetry/virtualenvs/tsad-8szBw8Wl-py3.8/lib/python3.8/site-packages/pytorch_lightning/trainer/trainer.py?line=1374'>1375</a>\u001b[0m     \u001b[39mself\u001b[39;49m\u001b[39m.\u001b[39;49m_evaluation_loop\u001b[39m.\u001b[39;49mrun()\n\u001b[1;32m   <a href='file:///home/stachu/.cache/pypoetry/virtualenvs/tsad-8szBw8Wl-py3.8/lib/python3.8/site-packages/pytorch_lightning/trainer/trainer.py?line=1376'>1377</a>\u001b[0m \u001b[39mself\u001b[39m\u001b[39m.\u001b[39mcall_hook(\u001b[39m\"\u001b[39m\u001b[39mon_sanity_check_end\u001b[39m\u001b[39m\"\u001b[39m)\n\u001b[1;32m   <a href='file:///home/stachu/.cache/pypoetry/virtualenvs/tsad-8szBw8Wl-py3.8/lib/python3.8/site-packages/pytorch_lightning/trainer/trainer.py?line=1378'>1379</a>\u001b[0m \u001b[39m# reset logger connector\u001b[39;00m\n",
      "File \u001b[0;32m~/.cache/pypoetry/virtualenvs/tsad-8szBw8Wl-py3.8/lib/python3.8/site-packages/pytorch_lightning/loops/base.py:145\u001b[0m, in \u001b[0;36mLoop.run\u001b[0;34m(self, *args, **kwargs)\u001b[0m\n\u001b[1;32m    <a href='file:///home/stachu/.cache/pypoetry/virtualenvs/tsad-8szBw8Wl-py3.8/lib/python3.8/site-packages/pytorch_lightning/loops/base.py?line=142'>143</a>\u001b[0m \u001b[39mtry\u001b[39;00m:\n\u001b[1;32m    <a href='file:///home/stachu/.cache/pypoetry/virtualenvs/tsad-8szBw8Wl-py3.8/lib/python3.8/site-packages/pytorch_lightning/loops/base.py?line=143'>144</a>\u001b[0m     \u001b[39mself\u001b[39m\u001b[39m.\u001b[39mon_advance_start(\u001b[39m*\u001b[39margs, \u001b[39m*\u001b[39m\u001b[39m*\u001b[39mkwargs)\n\u001b[0;32m--> <a href='file:///home/stachu/.cache/pypoetry/virtualenvs/tsad-8szBw8Wl-py3.8/lib/python3.8/site-packages/pytorch_lightning/loops/base.py?line=144'>145</a>\u001b[0m     \u001b[39mself\u001b[39;49m\u001b[39m.\u001b[39;49madvance(\u001b[39m*\u001b[39;49margs, \u001b[39m*\u001b[39;49m\u001b[39m*\u001b[39;49mkwargs)\n\u001b[1;32m    <a href='file:///home/stachu/.cache/pypoetry/virtualenvs/tsad-8szBw8Wl-py3.8/lib/python3.8/site-packages/pytorch_lightning/loops/base.py?line=145'>146</a>\u001b[0m     \u001b[39mself\u001b[39m\u001b[39m.\u001b[39mon_advance_end()\n\u001b[1;32m    <a href='file:///home/stachu/.cache/pypoetry/virtualenvs/tsad-8szBw8Wl-py3.8/lib/python3.8/site-packages/pytorch_lightning/loops/base.py?line=146'>147</a>\u001b[0m     \u001b[39mself\u001b[39m\u001b[39m.\u001b[39mrestarting \u001b[39m=\u001b[39m \u001b[39mFalse\u001b[39;00m\n",
      "File \u001b[0;32m~/.cache/pypoetry/virtualenvs/tsad-8szBw8Wl-py3.8/lib/python3.8/site-packages/pytorch_lightning/loops/dataloader/evaluation_loop.py:110\u001b[0m, in \u001b[0;36mEvaluationLoop.advance\u001b[0;34m(self, *args, **kwargs)\u001b[0m\n\u001b[1;32m    <a href='file:///home/stachu/.cache/pypoetry/virtualenvs/tsad-8szBw8Wl-py3.8/lib/python3.8/site-packages/pytorch_lightning/loops/dataloader/evaluation_loop.py?line=104'>105</a>\u001b[0m \u001b[39mself\u001b[39m\u001b[39m.\u001b[39mdata_fetcher \u001b[39m=\u001b[39m dataloader \u001b[39m=\u001b[39m \u001b[39mself\u001b[39m\u001b[39m.\u001b[39mtrainer\u001b[39m.\u001b[39m_data_connector\u001b[39m.\u001b[39mget_profiled_dataloader(\n\u001b[1;32m    <a href='file:///home/stachu/.cache/pypoetry/virtualenvs/tsad-8szBw8Wl-py3.8/lib/python3.8/site-packages/pytorch_lightning/loops/dataloader/evaluation_loop.py?line=105'>106</a>\u001b[0m     dataloader, dataloader_idx\u001b[39m=\u001b[39mdataloader_idx\n\u001b[1;32m    <a href='file:///home/stachu/.cache/pypoetry/virtualenvs/tsad-8szBw8Wl-py3.8/lib/python3.8/site-packages/pytorch_lightning/loops/dataloader/evaluation_loop.py?line=106'>107</a>\u001b[0m )\n\u001b[1;32m    <a href='file:///home/stachu/.cache/pypoetry/virtualenvs/tsad-8szBw8Wl-py3.8/lib/python3.8/site-packages/pytorch_lightning/loops/dataloader/evaluation_loop.py?line=107'>108</a>\u001b[0m dl_max_batches \u001b[39m=\u001b[39m \u001b[39mself\u001b[39m\u001b[39m.\u001b[39m_max_batches[dataloader_idx]\n\u001b[0;32m--> <a href='file:///home/stachu/.cache/pypoetry/virtualenvs/tsad-8szBw8Wl-py3.8/lib/python3.8/site-packages/pytorch_lightning/loops/dataloader/evaluation_loop.py?line=109'>110</a>\u001b[0m dl_outputs \u001b[39m=\u001b[39m \u001b[39mself\u001b[39;49m\u001b[39m.\u001b[39;49mepoch_loop\u001b[39m.\u001b[39;49mrun(dataloader, dataloader_idx, dl_max_batches, \u001b[39mself\u001b[39;49m\u001b[39m.\u001b[39;49mnum_dataloaders)\n\u001b[1;32m    <a href='file:///home/stachu/.cache/pypoetry/virtualenvs/tsad-8szBw8Wl-py3.8/lib/python3.8/site-packages/pytorch_lightning/loops/dataloader/evaluation_loop.py?line=111'>112</a>\u001b[0m \u001b[39m# store batch level output per dataloader\u001b[39;00m\n\u001b[1;32m    <a href='file:///home/stachu/.cache/pypoetry/virtualenvs/tsad-8szBw8Wl-py3.8/lib/python3.8/site-packages/pytorch_lightning/loops/dataloader/evaluation_loop.py?line=112'>113</a>\u001b[0m \u001b[39mself\u001b[39m\u001b[39m.\u001b[39moutputs\u001b[39m.\u001b[39mappend(dl_outputs)\n",
      "File \u001b[0;32m~/.cache/pypoetry/virtualenvs/tsad-8szBw8Wl-py3.8/lib/python3.8/site-packages/pytorch_lightning/loops/base.py:145\u001b[0m, in \u001b[0;36mLoop.run\u001b[0;34m(self, *args, **kwargs)\u001b[0m\n\u001b[1;32m    <a href='file:///home/stachu/.cache/pypoetry/virtualenvs/tsad-8szBw8Wl-py3.8/lib/python3.8/site-packages/pytorch_lightning/loops/base.py?line=142'>143</a>\u001b[0m \u001b[39mtry\u001b[39;00m:\n\u001b[1;32m    <a href='file:///home/stachu/.cache/pypoetry/virtualenvs/tsad-8szBw8Wl-py3.8/lib/python3.8/site-packages/pytorch_lightning/loops/base.py?line=143'>144</a>\u001b[0m     \u001b[39mself\u001b[39m\u001b[39m.\u001b[39mon_advance_start(\u001b[39m*\u001b[39margs, \u001b[39m*\u001b[39m\u001b[39m*\u001b[39mkwargs)\n\u001b[0;32m--> <a href='file:///home/stachu/.cache/pypoetry/virtualenvs/tsad-8szBw8Wl-py3.8/lib/python3.8/site-packages/pytorch_lightning/loops/base.py?line=144'>145</a>\u001b[0m     \u001b[39mself\u001b[39;49m\u001b[39m.\u001b[39;49madvance(\u001b[39m*\u001b[39;49margs, \u001b[39m*\u001b[39;49m\u001b[39m*\u001b[39;49mkwargs)\n\u001b[1;32m    <a href='file:///home/stachu/.cache/pypoetry/virtualenvs/tsad-8szBw8Wl-py3.8/lib/python3.8/site-packages/pytorch_lightning/loops/base.py?line=145'>146</a>\u001b[0m     \u001b[39mself\u001b[39m\u001b[39m.\u001b[39mon_advance_end()\n\u001b[1;32m    <a href='file:///home/stachu/.cache/pypoetry/virtualenvs/tsad-8szBw8Wl-py3.8/lib/python3.8/site-packages/pytorch_lightning/loops/base.py?line=146'>147</a>\u001b[0m     \u001b[39mself\u001b[39m\u001b[39m.\u001b[39mrestarting \u001b[39m=\u001b[39m \u001b[39mFalse\u001b[39;00m\n",
      "File \u001b[0;32m~/.cache/pypoetry/virtualenvs/tsad-8szBw8Wl-py3.8/lib/python3.8/site-packages/pytorch_lightning/loops/epoch/evaluation_epoch_loop.py:122\u001b[0m, in \u001b[0;36mEvaluationEpochLoop.advance\u001b[0;34m(self, data_fetcher, dataloader_idx, dl_max_batches, num_dataloaders)\u001b[0m\n\u001b[1;32m    <a href='file:///home/stachu/.cache/pypoetry/virtualenvs/tsad-8szBw8Wl-py3.8/lib/python3.8/site-packages/pytorch_lightning/loops/epoch/evaluation_epoch_loop.py?line=119'>120</a>\u001b[0m \u001b[39m# lightning module methods\u001b[39;00m\n\u001b[1;32m    <a href='file:///home/stachu/.cache/pypoetry/virtualenvs/tsad-8szBw8Wl-py3.8/lib/python3.8/site-packages/pytorch_lightning/loops/epoch/evaluation_epoch_loop.py?line=120'>121</a>\u001b[0m \u001b[39mwith\u001b[39;00m \u001b[39mself\u001b[39m\u001b[39m.\u001b[39mtrainer\u001b[39m.\u001b[39mprofiler\u001b[39m.\u001b[39mprofile(\u001b[39m\"\u001b[39m\u001b[39mevaluation_step_and_end\u001b[39m\u001b[39m\"\u001b[39m):\n\u001b[0;32m--> <a href='file:///home/stachu/.cache/pypoetry/virtualenvs/tsad-8szBw8Wl-py3.8/lib/python3.8/site-packages/pytorch_lightning/loops/epoch/evaluation_epoch_loop.py?line=121'>122</a>\u001b[0m     output \u001b[39m=\u001b[39m \u001b[39mself\u001b[39;49m\u001b[39m.\u001b[39;49m_evaluation_step(batch, batch_idx, dataloader_idx)\n\u001b[1;32m    <a href='file:///home/stachu/.cache/pypoetry/virtualenvs/tsad-8szBw8Wl-py3.8/lib/python3.8/site-packages/pytorch_lightning/loops/epoch/evaluation_epoch_loop.py?line=122'>123</a>\u001b[0m     output \u001b[39m=\u001b[39m \u001b[39mself\u001b[39m\u001b[39m.\u001b[39m_evaluation_step_end(output)\n\u001b[1;32m    <a href='file:///home/stachu/.cache/pypoetry/virtualenvs/tsad-8szBw8Wl-py3.8/lib/python3.8/site-packages/pytorch_lightning/loops/epoch/evaluation_epoch_loop.py?line=124'>125</a>\u001b[0m \u001b[39mself\u001b[39m\u001b[39m.\u001b[39mbatch_progress\u001b[39m.\u001b[39mincrement_processed()\n",
      "File \u001b[0;32m~/.cache/pypoetry/virtualenvs/tsad-8szBw8Wl-py3.8/lib/python3.8/site-packages/pytorch_lightning/loops/epoch/evaluation_epoch_loop.py:217\u001b[0m, in \u001b[0;36mEvaluationEpochLoop._evaluation_step\u001b[0;34m(self, batch, batch_idx, dataloader_idx)\u001b[0m\n\u001b[1;32m    <a href='file:///home/stachu/.cache/pypoetry/virtualenvs/tsad-8szBw8Wl-py3.8/lib/python3.8/site-packages/pytorch_lightning/loops/epoch/evaluation_epoch_loop.py?line=214'>215</a>\u001b[0m     \u001b[39mself\u001b[39m\u001b[39m.\u001b[39mtrainer\u001b[39m.\u001b[39mlightning_module\u001b[39m.\u001b[39m_current_fx_name \u001b[39m=\u001b[39m \u001b[39m\"\u001b[39m\u001b[39mvalidation_step\u001b[39m\u001b[39m\"\u001b[39m\n\u001b[1;32m    <a href='file:///home/stachu/.cache/pypoetry/virtualenvs/tsad-8szBw8Wl-py3.8/lib/python3.8/site-packages/pytorch_lightning/loops/epoch/evaluation_epoch_loop.py?line=215'>216</a>\u001b[0m     \u001b[39mwith\u001b[39;00m \u001b[39mself\u001b[39m\u001b[39m.\u001b[39mtrainer\u001b[39m.\u001b[39mprofiler\u001b[39m.\u001b[39mprofile(\u001b[39m\"\u001b[39m\u001b[39mvalidation_step\u001b[39m\u001b[39m\"\u001b[39m):\n\u001b[0;32m--> <a href='file:///home/stachu/.cache/pypoetry/virtualenvs/tsad-8szBw8Wl-py3.8/lib/python3.8/site-packages/pytorch_lightning/loops/epoch/evaluation_epoch_loop.py?line=216'>217</a>\u001b[0m         output \u001b[39m=\u001b[39m \u001b[39mself\u001b[39;49m\u001b[39m.\u001b[39;49mtrainer\u001b[39m.\u001b[39;49maccelerator\u001b[39m.\u001b[39;49mvalidation_step(step_kwargs)\n\u001b[1;32m    <a href='file:///home/stachu/.cache/pypoetry/virtualenvs/tsad-8szBw8Wl-py3.8/lib/python3.8/site-packages/pytorch_lightning/loops/epoch/evaluation_epoch_loop.py?line=218'>219</a>\u001b[0m \u001b[39mreturn\u001b[39;00m output\n",
      "File \u001b[0;32m~/.cache/pypoetry/virtualenvs/tsad-8szBw8Wl-py3.8/lib/python3.8/site-packages/pytorch_lightning/accelerators/accelerator.py:239\u001b[0m, in \u001b[0;36mAccelerator.validation_step\u001b[0;34m(self, step_kwargs)\u001b[0m\n\u001b[1;32m    <a href='file:///home/stachu/.cache/pypoetry/virtualenvs/tsad-8szBw8Wl-py3.8/lib/python3.8/site-packages/pytorch_lightning/accelerators/accelerator.py?line=233'>234</a>\u001b[0m \u001b[39m\"\"\"The actual validation step.\u001b[39;00m\n\u001b[1;32m    <a href='file:///home/stachu/.cache/pypoetry/virtualenvs/tsad-8szBw8Wl-py3.8/lib/python3.8/site-packages/pytorch_lightning/accelerators/accelerator.py?line=234'>235</a>\u001b[0m \n\u001b[1;32m    <a href='file:///home/stachu/.cache/pypoetry/virtualenvs/tsad-8szBw8Wl-py3.8/lib/python3.8/site-packages/pytorch_lightning/accelerators/accelerator.py?line=235'>236</a>\u001b[0m \u001b[39mSee :meth:`~pytorch_lightning.core.lightning.LightningModule.validation_step` for more details\u001b[39;00m\n\u001b[1;32m    <a href='file:///home/stachu/.cache/pypoetry/virtualenvs/tsad-8szBw8Wl-py3.8/lib/python3.8/site-packages/pytorch_lightning/accelerators/accelerator.py?line=236'>237</a>\u001b[0m \u001b[39m\"\"\"\u001b[39;00m\n\u001b[1;32m    <a href='file:///home/stachu/.cache/pypoetry/virtualenvs/tsad-8szBw8Wl-py3.8/lib/python3.8/site-packages/pytorch_lightning/accelerators/accelerator.py?line=237'>238</a>\u001b[0m \u001b[39mwith\u001b[39;00m \u001b[39mself\u001b[39m\u001b[39m.\u001b[39mprecision_plugin\u001b[39m.\u001b[39mval_step_context():\n\u001b[0;32m--> <a href='file:///home/stachu/.cache/pypoetry/virtualenvs/tsad-8szBw8Wl-py3.8/lib/python3.8/site-packages/pytorch_lightning/accelerators/accelerator.py?line=238'>239</a>\u001b[0m     \u001b[39mreturn\u001b[39;00m \u001b[39mself\u001b[39;49m\u001b[39m.\u001b[39;49mtraining_type_plugin\u001b[39m.\u001b[39;49mvalidation_step(\u001b[39m*\u001b[39;49mstep_kwargs\u001b[39m.\u001b[39;49mvalues())\n",
      "File \u001b[0;32m~/.cache/pypoetry/virtualenvs/tsad-8szBw8Wl-py3.8/lib/python3.8/site-packages/pytorch_lightning/plugins/training_type/training_type_plugin.py:219\u001b[0m, in \u001b[0;36mTrainingTypePlugin.validation_step\u001b[0;34m(self, *args, **kwargs)\u001b[0m\n\u001b[1;32m    <a href='file:///home/stachu/.cache/pypoetry/virtualenvs/tsad-8szBw8Wl-py3.8/lib/python3.8/site-packages/pytorch_lightning/plugins/training_type/training_type_plugin.py?line=217'>218</a>\u001b[0m \u001b[39mdef\u001b[39;00m \u001b[39mvalidation_step\u001b[39m(\u001b[39mself\u001b[39m, \u001b[39m*\u001b[39margs, \u001b[39m*\u001b[39m\u001b[39m*\u001b[39mkwargs):\n\u001b[0;32m--> <a href='file:///home/stachu/.cache/pypoetry/virtualenvs/tsad-8szBw8Wl-py3.8/lib/python3.8/site-packages/pytorch_lightning/plugins/training_type/training_type_plugin.py?line=218'>219</a>\u001b[0m     \u001b[39mreturn\u001b[39;00m \u001b[39mself\u001b[39;49m\u001b[39m.\u001b[39;49mmodel\u001b[39m.\u001b[39;49mvalidation_step(\u001b[39m*\u001b[39;49margs, \u001b[39m*\u001b[39;49m\u001b[39m*\u001b[39;49mkwargs)\n",
      "File \u001b[0;32m~/Projects/Anomaly_detection/TSAD/literature/velc/velcWrapper.py:78\u001b[0m, in \u001b[0;36mVELCWrapper.validation_step\u001b[0;34m(self, batch, batch_idx)\u001b[0m\n\u001b[1;32m     <a href='file:///home/stachu/Projects/Anomaly_detection/TSAD/literature/velc/velcWrapper.py?line=76'>77</a>\u001b[0m \u001b[39mdef\u001b[39;00m \u001b[39mvalidation_step\u001b[39m(\u001b[39mself\u001b[39m, batch, batch_idx):\n\u001b[0;32m---> <a href='file:///home/stachu/Projects/Anomaly_detection/TSAD/literature/velc/velcWrapper.py?line=77'>78</a>\u001b[0m     loss \u001b[39m=\u001b[39m \u001b[39mself\u001b[39;49m\u001b[39m.\u001b[39;49mstep(batch)\n\u001b[1;32m     <a href='file:///home/stachu/Projects/Anomaly_detection/TSAD/literature/velc/velcWrapper.py?line=78'>79</a>\u001b[0m     \u001b[39mself\u001b[39m\u001b[39m.\u001b[39mlog(\u001b[39m\"\u001b[39m\u001b[39mval_loss\u001b[39m\u001b[39m\"\u001b[39m, loss, prog_bar\u001b[39m=\u001b[39m\u001b[39mTrue\u001b[39;00m, logger\u001b[39m=\u001b[39m\u001b[39mTrue\u001b[39;00m)\n\u001b[1;32m     <a href='file:///home/stachu/Projects/Anomaly_detection/TSAD/literature/velc/velcWrapper.py?line=79'>80</a>\u001b[0m     \u001b[39mreturn\u001b[39;00m loss\n",
      "File \u001b[0;32m~/Projects/Anomaly_detection/TSAD/literature/velc/velcWrapper.py:68\u001b[0m, in \u001b[0;36mVELCWrapper.step\u001b[0;34m(self, batch)\u001b[0m\n\u001b[1;32m     <a href='file:///home/stachu/Projects/Anomaly_detection/TSAD/literature/velc/velcWrapper.py?line=65'>66</a>\u001b[0m \u001b[39mdef\u001b[39;00m \u001b[39mstep\u001b[39m(\u001b[39mself\u001b[39m, batch):\n\u001b[1;32m     <a href='file:///home/stachu/Projects/Anomaly_detection/TSAD/literature/velc/velcWrapper.py?line=66'>67</a>\u001b[0m     x, _ \u001b[39m=\u001b[39m \u001b[39mself\u001b[39m\u001b[39m.\u001b[39mget_Xy(batch)\n\u001b[0;32m---> <a href='file:///home/stachu/Projects/Anomaly_detection/TSAD/literature/velc/velcWrapper.py?line=67'>68</a>\u001b[0m     res \u001b[39m=\u001b[39m \u001b[39mself\u001b[39;49m\u001b[39m.\u001b[39;49mmodel(x)\n\u001b[1;32m     <a href='file:///home/stachu/Projects/Anomaly_detection/TSAD/literature/velc/velcWrapper.py?line=68'>69</a>\u001b[0m     loss \u001b[39m=\u001b[39m \u001b[39mself\u001b[39m\u001b[39m.\u001b[39mget_loss(x, \u001b[39m*\u001b[39mres)\n\u001b[1;32m     <a href='file:///home/stachu/Projects/Anomaly_detection/TSAD/literature/velc/velcWrapper.py?line=69'>70</a>\u001b[0m     \u001b[39mreturn\u001b[39;00m loss\n",
      "File \u001b[0;32m~/.cache/pypoetry/virtualenvs/tsad-8szBw8Wl-py3.8/lib/python3.8/site-packages/torch/nn/modules/module.py:1102\u001b[0m, in \u001b[0;36mModule._call_impl\u001b[0;34m(self, *input, **kwargs)\u001b[0m\n\u001b[1;32m   <a href='file:///home/stachu/.cache/pypoetry/virtualenvs/tsad-8szBw8Wl-py3.8/lib/python3.8/site-packages/torch/nn/modules/module.py?line=1097'>1098</a>\u001b[0m \u001b[39m# If we don't have any hooks, we want to skip the rest of the logic in\u001b[39;00m\n\u001b[1;32m   <a href='file:///home/stachu/.cache/pypoetry/virtualenvs/tsad-8szBw8Wl-py3.8/lib/python3.8/site-packages/torch/nn/modules/module.py?line=1098'>1099</a>\u001b[0m \u001b[39m# this function, and just call forward.\u001b[39;00m\n\u001b[1;32m   <a href='file:///home/stachu/.cache/pypoetry/virtualenvs/tsad-8szBw8Wl-py3.8/lib/python3.8/site-packages/torch/nn/modules/module.py?line=1099'>1100</a>\u001b[0m \u001b[39mif\u001b[39;00m \u001b[39mnot\u001b[39;00m (\u001b[39mself\u001b[39m\u001b[39m.\u001b[39m_backward_hooks \u001b[39mor\u001b[39;00m \u001b[39mself\u001b[39m\u001b[39m.\u001b[39m_forward_hooks \u001b[39mor\u001b[39;00m \u001b[39mself\u001b[39m\u001b[39m.\u001b[39m_forward_pre_hooks \u001b[39mor\u001b[39;00m _global_backward_hooks\n\u001b[1;32m   <a href='file:///home/stachu/.cache/pypoetry/virtualenvs/tsad-8szBw8Wl-py3.8/lib/python3.8/site-packages/torch/nn/modules/module.py?line=1100'>1101</a>\u001b[0m         \u001b[39mor\u001b[39;00m _global_forward_hooks \u001b[39mor\u001b[39;00m _global_forward_pre_hooks):\n\u001b[0;32m-> <a href='file:///home/stachu/.cache/pypoetry/virtualenvs/tsad-8szBw8Wl-py3.8/lib/python3.8/site-packages/torch/nn/modules/module.py?line=1101'>1102</a>\u001b[0m     \u001b[39mreturn\u001b[39;00m forward_call(\u001b[39m*\u001b[39;49m\u001b[39minput\u001b[39;49m, \u001b[39m*\u001b[39;49m\u001b[39m*\u001b[39;49mkwargs)\n\u001b[1;32m   <a href='file:///home/stachu/.cache/pypoetry/virtualenvs/tsad-8szBw8Wl-py3.8/lib/python3.8/site-packages/torch/nn/modules/module.py?line=1102'>1103</a>\u001b[0m \u001b[39m# Do not call functions when jit is used\u001b[39;00m\n\u001b[1;32m   <a href='file:///home/stachu/.cache/pypoetry/virtualenvs/tsad-8szBw8Wl-py3.8/lib/python3.8/site-packages/torch/nn/modules/module.py?line=1103'>1104</a>\u001b[0m full_backward_hooks, non_full_backward_hooks \u001b[39m=\u001b[39m [], []\n",
      "File \u001b[0;32m~/Projects/Anomaly_detection/TSAD/literature/velc/velc.py:84\u001b[0m, in \u001b[0;36mVELC.forward\u001b[0;34m(self, x)\u001b[0m\n\u001b[1;32m     <a href='file:///home/stachu/Projects/Anomaly_detection/TSAD/literature/velc/velc.py?line=81'>82</a>\u001b[0m h \u001b[39m=\u001b[39m \u001b[39mself\u001b[39m\u001b[39m.\u001b[39mencoder(x)\n\u001b[1;32m     <a href='file:///home/stachu/Projects/Anomaly_detection/TSAD/literature/velc/velc.py?line=82'>83</a>\u001b[0m z, z_mu, z_log_sig \u001b[39m=\u001b[39m \u001b[39mself\u001b[39m\u001b[39m.\u001b[39msample1(h)\n\u001b[0;32m---> <a href='file:///home/stachu/Projects/Anomaly_detection/TSAD/literature/velc/velc.py?line=83'>84</a>\u001b[0m z_dash \u001b[39m=\u001b[39m \u001b[39mself\u001b[39;49m\u001b[39m.\u001b[39;49mconstraint_net_1(z)\n\u001b[1;32m     <a href='file:///home/stachu/Projects/Anomaly_detection/TSAD/literature/velc/velc.py?line=85'>86</a>\u001b[0m x_dash \u001b[39m=\u001b[39m \u001b[39mself\u001b[39m\u001b[39m.\u001b[39mdecoder(z)\n\u001b[1;32m     <a href='file:///home/stachu/Projects/Anomaly_detection/TSAD/literature/velc/velc.py?line=87'>88</a>\u001b[0m h \u001b[39m=\u001b[39m \u001b[39mself\u001b[39m\u001b[39m.\u001b[39mre_encoder(x_dash)\n",
      "File \u001b[0;32m~/.cache/pypoetry/virtualenvs/tsad-8szBw8Wl-py3.8/lib/python3.8/site-packages/torch/nn/modules/module.py:1102\u001b[0m, in \u001b[0;36mModule._call_impl\u001b[0;34m(self, *input, **kwargs)\u001b[0m\n\u001b[1;32m   <a href='file:///home/stachu/.cache/pypoetry/virtualenvs/tsad-8szBw8Wl-py3.8/lib/python3.8/site-packages/torch/nn/modules/module.py?line=1097'>1098</a>\u001b[0m \u001b[39m# If we don't have any hooks, we want to skip the rest of the logic in\u001b[39;00m\n\u001b[1;32m   <a href='file:///home/stachu/.cache/pypoetry/virtualenvs/tsad-8szBw8Wl-py3.8/lib/python3.8/site-packages/torch/nn/modules/module.py?line=1098'>1099</a>\u001b[0m \u001b[39m# this function, and just call forward.\u001b[39;00m\n\u001b[1;32m   <a href='file:///home/stachu/.cache/pypoetry/virtualenvs/tsad-8szBw8Wl-py3.8/lib/python3.8/site-packages/torch/nn/modules/module.py?line=1099'>1100</a>\u001b[0m \u001b[39mif\u001b[39;00m \u001b[39mnot\u001b[39;00m (\u001b[39mself\u001b[39m\u001b[39m.\u001b[39m_backward_hooks \u001b[39mor\u001b[39;00m \u001b[39mself\u001b[39m\u001b[39m.\u001b[39m_forward_hooks \u001b[39mor\u001b[39;00m \u001b[39mself\u001b[39m\u001b[39m.\u001b[39m_forward_pre_hooks \u001b[39mor\u001b[39;00m _global_backward_hooks\n\u001b[1;32m   <a href='file:///home/stachu/.cache/pypoetry/virtualenvs/tsad-8szBw8Wl-py3.8/lib/python3.8/site-packages/torch/nn/modules/module.py?line=1100'>1101</a>\u001b[0m         \u001b[39mor\u001b[39;00m _global_forward_hooks \u001b[39mor\u001b[39;00m _global_forward_pre_hooks):\n\u001b[0;32m-> <a href='file:///home/stachu/.cache/pypoetry/virtualenvs/tsad-8szBw8Wl-py3.8/lib/python3.8/site-packages/torch/nn/modules/module.py?line=1101'>1102</a>\u001b[0m     \u001b[39mreturn\u001b[39;00m forward_call(\u001b[39m*\u001b[39;49m\u001b[39minput\u001b[39;49m, \u001b[39m*\u001b[39;49m\u001b[39m*\u001b[39;49mkwargs)\n\u001b[1;32m   <a href='file:///home/stachu/.cache/pypoetry/virtualenvs/tsad-8szBw8Wl-py3.8/lib/python3.8/site-packages/torch/nn/modules/module.py?line=1102'>1103</a>\u001b[0m \u001b[39m# Do not call functions when jit is used\u001b[39;00m\n\u001b[1;32m   <a href='file:///home/stachu/.cache/pypoetry/virtualenvs/tsad-8szBw8Wl-py3.8/lib/python3.8/site-packages/torch/nn/modules/module.py?line=1103'>1104</a>\u001b[0m full_backward_hooks, non_full_backward_hooks \u001b[39m=\u001b[39m [], []\n",
      "\u001b[0;31mTypeError\u001b[0m: (\"forward() missing 1 required positional argument: 'z'\", 'Problem with training 0 model named VELC on 0 dataset named machine-1-1')"
     ]
    }
   ],
   "source": [
    "exp.run_experiments(experiments_path=\"../saved_experiments\", safe=False)\n",
    "# exp = load_experimentator(\n",
    "#     \"./saved_experiments/2021-12-29_01:31:42.pkl\"\n",
    "# )"
   ]
  },
  {
   "cell_type": "markdown",
   "metadata": {},
   "source": [
    "### Plot"
   ]
  },
  {
   "cell_type": "code",
   "execution_count": null,
   "metadata": {},
   "outputs": [],
   "source": [
    "plot_exp_predictions(exp, dataset_idx=0, models_ids=[0])"
   ]
  },
  {
   "cell_type": "code",
   "execution_count": null,
   "metadata": {},
   "outputs": [],
   "source": [
    "None = 1"
   ]
  },
  {
   "cell_type": "markdown",
   "metadata": {},
   "source": [
    "## AnomTrans"
   ]
  },
  {
   "cell_type": "markdown",
   "metadata": {},
   "source": [
    "### Dataset"
   ]
  },
  {
   "cell_type": "code",
   "execution_count": null,
   "metadata": {},
   "outputs": [],
   "source": [
    "window_size = 100\n",
    "\n",
    "load_params = {\n",
    "    \"header\": None, \"names\": [str(i) for i in range(38)]\n",
    "}\n",
    "\n",
    "drop_refill_pipeline = []\n",
    "preprocessing_pipeline = [\n",
    "    (use_dataframe_func, \"astype\", \"float\"),\n",
    "]\n",
    "detect_anomalies_pipeline = []\n",
    "\n",
    "datasets_params = [\n",
    "    DatasetParams(\n",
    "        path=\"/home/stachu/Projects/Anomaly_detection/TSAD/data/Industry/ServerMachineDataset/train/machine-1-1.csv\",\n",
    "        load_params=load_params,\n",
    "        target=[str(i) for i in range(38)],\n",
    "        split_proportions=[0.8, 0.1, 0.1],\n",
    "        window_size=window_size,\n",
    "        batch_size=64,\n",
    "        drop_refill_pipeline=drop_refill_pipeline,\n",
    "        preprocessing_pipeline=preprocessing_pipeline,\n",
    "        detect_anomalies_pipeline=detect_anomalies_pipeline,\n",
    "        scaler=StandardScaler()),\n",
    "]"
   ]
  },
  {
   "cell_type": "markdown",
   "metadata": {},
   "source": [
    "### Models"
   ]
  },
  {
   "cell_type": "code",
   "execution_count": null,
   "metadata": {},
   "outputs": [],
   "source": [
    "c_in = 38\n",
    "c_out = 38\n",
    "\n",
    "models_params = [\n",
    "    ModelParams(\n",
    "        name_=\"AnomTrans\", cls_=AnomalyTransformer,\n",
    "        init_params=dict(\n",
    "            N=window_size, d_model=c_in, layers=2, lambda_=0.5),\n",
    "        WrapperCls=ATWrapper),\n",
    "]"
   ]
  },
  {
   "cell_type": "markdown",
   "metadata": {},
   "source": [
    "### Experiments"
   ]
  },
  {
   "cell_type": "code",
   "execution_count": null,
   "metadata": {},
   "outputs": [],
   "source": [
    "chp_p = CheckpointParams(\n",
    "    dirpath=\"../checkpoints\", monitor='val_min_loss', verbose=True,\n",
    "    save_top_k=1)\n",
    "tr_p = TrainerParams(\n",
    "    max_epochs=5, gpus=1, auto_lr_find=True)\n",
    "es_p = EarlyStoppingParams(\n",
    "    monitor='val_min_loss', patience=2, verbose=True)\n",
    "\n",
    "exp = Experimentator(\n",
    "    models_params=models_params,\n",
    "    datasets_params=datasets_params,\n",
    "    trainer_params=tr_p,\n",
    "    checkpoint_params=chp_p,\n",
    "    early_stopping_params=es_p,\n",
    "    LoggersClasses=[TensorBoardLogger],\n",
    "    loggers_params=[LoggerParams(save_dir=\"../lightning_logs\")]\n",
    ")"
   ]
  },
  {
   "cell_type": "markdown",
   "metadata": {},
   "source": [
    "### Run / Load"
   ]
  },
  {
   "cell_type": "code",
   "execution_count": null,
   "metadata": {},
   "outputs": [],
   "source": [
    "exp.run_experiments(experiments_path=\"../saved_experiments\", safe=False)\n",
    "# exp = load_experimentator(\n",
    "#     \"./saved_experiments/2021-12-29_01:31:42.pkl\"\n",
    "# )"
   ]
  },
  {
   "cell_type": "code",
   "execution_count": null,
   "metadata": {},
   "outputs": [],
   "source": [
    "exp = load_experimentator('../saved_experiments/2022-05-12_15:46:15.pkl')"
   ]
  },
  {
   "cell_type": "code",
   "execution_count": null,
   "metadata": {},
   "outputs": [],
   "source": [
    "exp.get_models_predictions(0, [0])"
   ]
  },
  {
   "cell_type": "markdown",
   "metadata": {},
   "source": [
    "### Plot"
   ]
  },
  {
   "cell_type": "code",
   "execution_count": null,
   "metadata": {},
   "outputs": [],
   "source": [
    "plot_exp_predictions(exp, dataset_idx=0, models_ids=[0])"
   ]
  },
  {
   "cell_type": "code",
   "execution_count": null,
   "metadata": {},
   "outputs": [],
   "source": [
    "None = 1"
   ]
  },
  {
   "cell_type": "markdown",
   "metadata": {},
   "source": [
    "## LSTMVAE"
   ]
  },
  {
   "cell_type": "markdown",
   "metadata": {},
   "source": [
    "### Dataset"
   ]
  },
  {
   "cell_type": "code",
   "execution_count": null,
   "metadata": {},
   "outputs": [],
   "source": [
    "window_size = 100\n",
    "\n",
    "load_params = {\n",
    "    \"header\": None\n",
    "}\n",
    "\n",
    "# columns = [\"Global_active_power\"]  # , \"Voltage\"]\n",
    "drop_refill_pipeline = [\n",
    "    # (loc, {\"columns\": columns}),\n",
    "    # (drop_if_is_in, ([\"?\", np.nan]), {\"columns\": columns}),\n",
    "    # (iloc, {\"rows_end\": 5000}),\n",
    "    # (iloc, {\"rows_start\": -20000}),\n",
    "]\n",
    "preprocessing_pipeline = [\n",
    "    (use_dataframe_func, \"astype\", \"float\"),\n",
    "]\n",
    "detect_anomalies_pipeline = [\n",
    "    # (get_isoforest_filter, dict(\n",
    "    #     scores_threshold=-0.36, window_size=500, target=\"Global_active_power\"))\n",
    "    # (get_variance_filter, dict(\n",
    "    #     window_size=3000, log_variance_limits=(-7, 0),\n",
    "    #     target=\"Global_active_power\"))\n",
    "]\n",
    "\n",
    "\n",
    "datasets_params = [\n",
    "    DatasetParams(\n",
    "        path=\"/home/stachu/Projects/Anomaly_detection/TSAD/data/Industry/ServerMachineDataset/train/machine-1-1.csv\",\n",
    "        load_params=load_params,\n",
    "        target=list(range(38)),\n",
    "        split_proportions=[0.8, 0.1, 0.1],\n",
    "        window_size=window_size,\n",
    "        batch_size=64,\n",
    "        drop_refill_pipeline=drop_refill_pipeline,\n",
    "        preprocessing_pipeline=preprocessing_pipeline,\n",
    "        detect_anomalies_pipeline=detect_anomalies_pipeline,\n",
    "        scaler=StandardScaler()),\n",
    "]"
   ]
  },
  {
   "cell_type": "markdown",
   "metadata": {},
   "source": [
    "### Models"
   ]
  },
  {
   "cell_type": "code",
   "execution_count": null,
   "metadata": {},
   "outputs": [],
   "source": [
    "c_in = 38\n",
    "c_out = 38\n",
    "\n",
    "models_params = [\n",
    "    ModelParams(\n",
    "        name_=\"LSTMVAE_h200_l1\", cls_=LSTMVAE,\n",
    "        init_params=dict(\n",
    "            c_in=window_size, h_size=200, n_layers=1),\n",
    "        WrapperCls=VAE, wrapper_kwargs=dict(kld_weight=0.005)),\n",
    "    ModelParams(\n",
    "        name_=\"LSTMVAE_h200_l1\", cls_=LSTMVAE,\n",
    "        init_params=dict(\n",
    "            c_in=window_size, h_size=200, n_layers=1),\n",
    "        WrapperCls=VAE, wrapper_kwargs=dict(kld_weight=0.005)),\n",
    "]"
   ]
  },
  {
   "cell_type": "markdown",
   "metadata": {},
   "source": [
    "### Experiments"
   ]
  },
  {
   "cell_type": "code",
   "execution_count": null,
   "metadata": {},
   "outputs": [],
   "source": [
    "chp_p = CheckpointParams(\n",
    "    dirpath=\"../checkpoints\", monitor='val_loss', verbose=True,\n",
    "    save_top_k=1)\n",
    "tr_p = TrainerParams(\n",
    "    max_epochs=5, gpus=1, auto_lr_find=True)\n",
    "es_p = EarlyStoppingParams(\n",
    "    monitor='val_loss', patience=2, verbose=True)\n",
    "\n",
    "exp = Experimentator(\n",
    "    models_params=models_params,\n",
    "    datasets_params=datasets_params,\n",
    "    trainer_params=tr_p,\n",
    "    checkpoint_params=chp_p,\n",
    "    early_stopping_params=es_p,\n",
    "    LoggersClasses=[TensorBoardLogger],\n",
    "    loggers_params=[LoggerParams(save_dir=\"../lightning_logs\")]\n",
    ")"
   ]
  },
  {
   "cell_type": "markdown",
   "metadata": {},
   "source": [
    "### Run / Load"
   ]
  },
  {
   "cell_type": "code",
   "execution_count": null,
   "metadata": {},
   "outputs": [],
   "source": [
    "exp.run_experiments(experiments_path=\"../saved_experiments\", safe=False)\n",
    "# exp = load_experimentator(\n",
    "#     \"./saved_experiments/2021-12-29_01:31:42.pkl\"\n",
    "# )"
   ]
  },
  {
   "cell_type": "markdown",
   "metadata": {},
   "source": [
    "### Plot"
   ]
  },
  {
   "cell_type": "code",
   "execution_count": null,
   "metadata": {},
   "outputs": [],
   "source": [
    "plot_exp_predictions(exp, dataset_idx=0, models_ids=[0])\n",
    "# plot_anomalies(exp.datasets_params.iloc[0])"
   ]
  },
  {
   "cell_type": "markdown",
   "metadata": {},
   "source": [
    "# household_power_consumption"
   ]
  },
  {
   "cell_type": "markdown",
   "metadata": {},
   "source": [
    "# Template"
   ]
  },
  {
   "cell_type": "code",
   "execution_count": null,
   "metadata": {},
   "outputs": [],
   "source": [
    "# window_size = 366\n",
    "\n",
    "# load_params = {\n",
    "#     \"sep\": ';', \"header\": 0, \"low_memory\": False,\n",
    "#     \"infer_datetime_format\": True, \"parse_dates\": {'datetime': [0, 1]},\n",
    "#     \"index_col\": ['datetime']\n",
    "# }\n",
    "\n",
    "# columns = [\"Global_active_power\"]  # , \"Voltage\"]\n",
    "# drop_refill_pipeline = [\n",
    "#     (loc, {\"columns\": columns}),\n",
    "#     (drop_if_is_in, ([\"?\", np.nan]), {\"columns\": columns}),\n",
    "#     (iloc, {\"rows_end\": 5000}),\n",
    "#     # (iloc, {\"rows_start\": -20000}),\n",
    "# ]\n",
    "# preprocessing_pipeline = [\n",
    "#     (use_dataframe_func, \"astype\", \"float\"),\n",
    "# ]\n",
    "# detect_anomalies_pipeline = [\n",
    "#     # (get_isoforest_filter, dict(\n",
    "#     #     scores_threshold=-0.36, window_size=500, target=\"Global_active_power\"))\n",
    "#     (get_variance_filter, dict(\n",
    "#         window_size=3000, log_variance_limits=(-7, 0),\n",
    "#         target=\"Global_active_power\"))\n",
    "# ]\n",
    "\n",
    "\n",
    "# datasets_params = [\n",
    "#     DatasetParams(\n",
    "#         path=\"/home/stachu/Projects/Anomaly_detection/TSAD/data/Energy/household_power_consumption/household_power_consumption.csv\",\n",
    "#         load_params=load_params,\n",
    "#         target=\"Global_active_power\",\n",
    "#         split_proportions=[0.8, 0.1, 0.1],\n",
    "#         window_size=window_size,\n",
    "#         batch_size=64,\n",
    "#         drop_refill_pipeline=drop_refill_pipeline,\n",
    "#         preprocessing_pipeline=preprocessing_pipeline,\n",
    "#         detect_anomalies_pipeline=detect_anomalies_pipeline,\n",
    "#         scaler=StandardScaler(),\n",
    "#         resample_params=dict(\n",
    "#             resampler_method_str=\"fillna\", rule=\"1min\", resample_kwargs={},\n",
    "#             resampler_method_kwargs=dict(method=\"backfill\")),\n",
    "# ]\n",
    "\n",
    "# c_in = 1\n",
    "# c_out = 1\n",
    "\n",
    "# models_params = [\n",
    "#     # # ModelParams(\n",
    "#     # #     name_=\"TST_l3_fcDrop0.1\", cls_=TST.TST,\n",
    "#     # #     init_params={\n",
    "#     # #         \"c_in\": c_in, \"c_out\": c_out, \"seq_len\": window_size,\n",
    "#     # #         \"max_seq_len\": window_size, \"n_layers\": 3, \"fc_dropout\": 0.1}),\n",
    "#     # # ModelParams(\n",
    "#     # #     name_=\"TST_l2_fcDrop0.1\", cls_=TST.TST,\n",
    "#     # #     init_params={\n",
    "#     # #         \"c_in\": c_in, \"c_out\": c_out, \"seq_len\": window_size,\n",
    "#     # #         \"max_seq_len\": window_size, \"n_layers\": 2, \"fc_dropout\": 0.1}),\n",
    "#     # ModelParams(\n",
    "#     #     name_=\"TST_l2_fcDrop0.0\", cls_=TST.TST,\n",
    "#     #     init_params={\n",
    "#     #         \"c_in\": c_in, \"c_out\": c_out, \"seq_len\": window_size,\n",
    "#     #         \"max_seq_len\": window_size, \"n_layers\": 2, \"fc_dropout\": 0.0}),\n",
    "#     # ModelParams(\n",
    "#     #     name_=\"ResNet\", cls_=ResNet.ResNet,\n",
    "#     #     init_params={\"c_in\": c_in, \"c_out\": c_out}),\n",
    "#     # # ModelParams(\n",
    "#     # #     name_=\"LSTM_h200_l1\", cls_=RNN.LSTM,\n",
    "#     # #     init_params={\n",
    "#     # #         \"c_in\": c_in, \"c_out\": c_out, \"hidden_size\": 200, \"n_layers\": 1}),\n",
    "#     # # ModelParams(\n",
    "#     # #     name_=\"LSTM_h200_l2\", cls_=RNN.LSTM,\n",
    "#     # #     init_params={\n",
    "#     # #         \"c_in\": c_in, \"c_out\": c_out, \"hidden_size\": 200, \"n_layers\": 2}),\n",
    "#     # ModelParams(\n",
    "#     #     name_=\"LSTM_h400_l2\", cls_=RNN.LSTM,\n",
    "#     #     init_params={\n",
    "#     #         \"c_in\": c_in, \"c_out\": c_out, \"hidden_size\": 400, \"n_layers\": 2}),\n",
    "#     # ModelParams(\n",
    "#     #     name_=\"LSTMAutoencoder_h200_l1\", cls_=LSTMAE,\n",
    "#     #     init_params=dict(\n",
    "#     #         c_in=window_size, h_size=200, n_layers=1),\n",
    "#     #     WrapperCls=Autoencoder),\n",
    "#     ModelParams(\n",
    "#         name_=\"LSTMVAE_h200_l1\", cls_=LSTMVAE,\n",
    "#         init_params=dict(\n",
    "#             c_in=window_size, h_size=200, n_layers=1),\n",
    "#         WrapperCls=VAE, wrapper_kwargs=dict(kld_weight=0.005)),\n",
    "#     # ModelParams(\n",
    "#     #     name_=\"LSTMVAE_h200_l1\", cls_=LSTMVAE,\n",
    "#     #     init_params=dict(\n",
    "#     #         c_in=window_size, h_size=200, n_layers=1),\n",
    "#     #     WrapperCls=VAE, wrapper_kwargs=dict(kld_weight=0.002)),\n",
    "# ]\n",
    "\n",
    "# chp_p = CheckpointParams(\n",
    "#     dirpath=\"../checkpoints\", monitor='val_loss', verbose=True,\n",
    "#     save_top_k=1)\n",
    "# tr_p = TrainerParams(\n",
    "#     max_epochs=1, gpus=1, auto_lr_find=True)\n",
    "# es_p = EarlyStoppingParams(\n",
    "#     monitor='val_loss', patience=2, verbose=True)\n",
    "\n",
    "# # import pytorch_lightning as pl\n",
    "# # from pytorch_lightning.loggers import TensorBoardLogger\n",
    "\n",
    "# # tmp = pl.Trainer(logger=TensorBoardLogger(\"./\"))\n",
    "\n",
    "# exp = Experimentator(\n",
    "#     models_params=models_params,\n",
    "#     datasets_params=datasets_params,\n",
    "#     trainer_params=tr_p,\n",
    "#     checkpoint_params=chp_p,\n",
    "#     early_stopping_params=es_p,\n",
    "#     LoggersClasses=[TensorBoardLogger],\n",
    "#     loggers_params=[LoggerParams(save_dir=\"../lightning_logs\")]\n",
    "# )\n",
    "\n",
    "# exp.run_experiments(experiments_path=\"../saved_experiments\", safe=False)\n",
    "# # exp = load_experimentator(\n",
    "# #     \"./saved_experiments/2021-12-29_01:31:42.pkl\"\n",
    "# # )\n",
    "\n",
    "# plot_exp_predictions(exp, dataset_idx=0, models_ids=[0])\n"
   ]
  }
 ],
 "metadata": {
  "interpreter": {
   "hash": "0087b2b215c3c30120cea1dc155e9068bf3b8ab33d57dfddd212a0ad2b2b3350"
  },
  "kernelspec": {
   "display_name": "Python 3.8.12 ('tsad-8szBw8Wl-py3.8')",
   "language": "python",
   "name": "python3"
  },
  "language_info": {
   "codemirror_mode": {
    "name": "ipython",
    "version": 3
   },
   "file_extension": ".py",
   "mimetype": "text/x-python",
   "name": "python",
   "nbconvert_exporter": "python",
   "pygments_lexer": "ipython3",
   "version": "3.8.12"
  },
  "orig_nbformat": 4
 },
 "nbformat": 4,
 "nbformat_minor": 2
}
