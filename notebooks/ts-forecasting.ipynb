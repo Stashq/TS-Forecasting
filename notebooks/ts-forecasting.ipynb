{
 "cells": [
  {
   "cell_type": "code",
   "execution_count": 1,
   "id": "humanitarian-college",
   "metadata": {},
   "outputs": [
    {
     "data": {
      "application/javascript": "/* Put everything inside the global mpl namespace */\n/* global mpl */\nwindow.mpl = {};\n\nmpl.get_websocket_type = function () {\n    if (typeof WebSocket !== 'undefined') {\n        return WebSocket;\n    } else if (typeof MozWebSocket !== 'undefined') {\n        return MozWebSocket;\n    } else {\n        alert(\n            'Your browser does not have WebSocket support. ' +\n                'Please try Chrome, Safari or Firefox ≥ 6. ' +\n                'Firefox 4 and 5 are also supported but you ' +\n                'have to enable WebSockets in about:config.'\n        );\n    }\n};\n\nmpl.figure = function (figure_id, websocket, ondownload, parent_element) {\n    this.id = figure_id;\n\n    this.ws = websocket;\n\n    this.supports_binary = this.ws.binaryType !== undefined;\n\n    if (!this.supports_binary) {\n        var warnings = document.getElementById('mpl-warnings');\n        if (warnings) {\n            warnings.style.display = 'block';\n            warnings.textContent =\n                'This browser does not support binary websocket messages. ' +\n                'Performance may be slow.';\n        }\n    }\n\n    this.imageObj = new Image();\n\n    this.context = undefined;\n    this.message = undefined;\n    this.canvas = undefined;\n    this.rubberband_canvas = undefined;\n    this.rubberband_context = undefined;\n    this.format_dropdown = undefined;\n\n    this.image_mode = 'full';\n\n    this.root = document.createElement('div');\n    this.root.setAttribute('style', 'display: inline-block');\n    this._root_extra_style(this.root);\n\n    parent_element.appendChild(this.root);\n\n    this._init_header(this);\n    this._init_canvas(this);\n    this._init_toolbar(this);\n\n    var fig = this;\n\n    this.waiting = false;\n\n    this.ws.onopen = function () {\n        fig.send_message('supports_binary', { value: fig.supports_binary });\n        fig.send_message('send_image_mode', {});\n        if (fig.ratio !== 1) {\n            fig.send_message('set_dpi_ratio', { dpi_ratio: fig.ratio });\n        }\n        fig.send_message('refresh', {});\n    };\n\n    this.imageObj.onload = function () {\n        if (fig.image_mode === 'full') {\n            // Full images could contain transparency (where diff images\n            // almost always do), so we need to clear the canvas so that\n            // there is no ghosting.\n            fig.context.clearRect(0, 0, fig.canvas.width, fig.canvas.height);\n        }\n        fig.context.drawImage(fig.imageObj, 0, 0);\n    };\n\n    this.imageObj.onunload = function () {\n        fig.ws.close();\n    };\n\n    this.ws.onmessage = this._make_on_message_function(this);\n\n    this.ondownload = ondownload;\n};\n\nmpl.figure.prototype._init_header = function () {\n    var titlebar = document.createElement('div');\n    titlebar.classList =\n        'ui-dialog-titlebar ui-widget-header ui-corner-all ui-helper-clearfix';\n    var titletext = document.createElement('div');\n    titletext.classList = 'ui-dialog-title';\n    titletext.setAttribute(\n        'style',\n        'width: 100%; text-align: center; padding: 3px;'\n    );\n    titlebar.appendChild(titletext);\n    this.root.appendChild(titlebar);\n    this.header = titletext;\n};\n\nmpl.figure.prototype._canvas_extra_style = function (_canvas_div) {};\n\nmpl.figure.prototype._root_extra_style = function (_canvas_div) {};\n\nmpl.figure.prototype._init_canvas = function () {\n    var fig = this;\n\n    var canvas_div = (this.canvas_div = document.createElement('div'));\n    canvas_div.setAttribute(\n        'style',\n        'border: 1px solid #ddd;' +\n            'box-sizing: content-box;' +\n            'clear: both;' +\n            'min-height: 1px;' +\n            'min-width: 1px;' +\n            'outline: 0;' +\n            'overflow: hidden;' +\n            'position: relative;' +\n            'resize: both;'\n    );\n\n    function on_keyboard_event_closure(name) {\n        return function (event) {\n            return fig.key_event(event, name);\n        };\n    }\n\n    canvas_div.addEventListener(\n        'keydown',\n        on_keyboard_event_closure('key_press')\n    );\n    canvas_div.addEventListener(\n        'keyup',\n        on_keyboard_event_closure('key_release')\n    );\n\n    this._canvas_extra_style(canvas_div);\n    this.root.appendChild(canvas_div);\n\n    var canvas = (this.canvas = document.createElement('canvas'));\n    canvas.classList.add('mpl-canvas');\n    canvas.setAttribute('style', 'box-sizing: content-box;');\n\n    this.context = canvas.getContext('2d');\n\n    var backingStore =\n        this.context.backingStorePixelRatio ||\n        this.context.webkitBackingStorePixelRatio ||\n        this.context.mozBackingStorePixelRatio ||\n        this.context.msBackingStorePixelRatio ||\n        this.context.oBackingStorePixelRatio ||\n        this.context.backingStorePixelRatio ||\n        1;\n\n    this.ratio = (window.devicePixelRatio || 1) / backingStore;\n\n    var rubberband_canvas = (this.rubberband_canvas = document.createElement(\n        'canvas'\n    ));\n    rubberband_canvas.setAttribute(\n        'style',\n        'box-sizing: content-box; position: absolute; left: 0; top: 0; z-index: 1;'\n    );\n\n    // Apply a ponyfill if ResizeObserver is not implemented by browser.\n    if (this.ResizeObserver === undefined) {\n        if (window.ResizeObserver !== undefined) {\n            this.ResizeObserver = window.ResizeObserver;\n        } else {\n            var obs = _JSXTOOLS_RESIZE_OBSERVER({});\n            this.ResizeObserver = obs.ResizeObserver;\n        }\n    }\n\n    this.resizeObserverInstance = new this.ResizeObserver(function (entries) {\n        var nentries = entries.length;\n        for (var i = 0; i < nentries; i++) {\n            var entry = entries[i];\n            var width, height;\n            if (entry.contentBoxSize) {\n                if (entry.contentBoxSize instanceof Array) {\n                    // Chrome 84 implements new version of spec.\n                    width = entry.contentBoxSize[0].inlineSize;\n                    height = entry.contentBoxSize[0].blockSize;\n                } else {\n                    // Firefox implements old version of spec.\n                    width = entry.contentBoxSize.inlineSize;\n                    height = entry.contentBoxSize.blockSize;\n                }\n            } else {\n                // Chrome <84 implements even older version of spec.\n                width = entry.contentRect.width;\n                height = entry.contentRect.height;\n            }\n\n            // Keep the size of the canvas and rubber band canvas in sync with\n            // the canvas container.\n            if (entry.devicePixelContentBoxSize) {\n                // Chrome 84 implements new version of spec.\n                canvas.setAttribute(\n                    'width',\n                    entry.devicePixelContentBoxSize[0].inlineSize\n                );\n                canvas.setAttribute(\n                    'height',\n                    entry.devicePixelContentBoxSize[0].blockSize\n                );\n            } else {\n                canvas.setAttribute('width', width * fig.ratio);\n                canvas.setAttribute('height', height * fig.ratio);\n            }\n            canvas.setAttribute(\n                'style',\n                'width: ' + width + 'px; height: ' + height + 'px;'\n            );\n\n            rubberband_canvas.setAttribute('width', width);\n            rubberband_canvas.setAttribute('height', height);\n\n            // And update the size in Python. We ignore the initial 0/0 size\n            // that occurs as the element is placed into the DOM, which should\n            // otherwise not happen due to the minimum size styling.\n            if (fig.ws.readyState == 1 && width != 0 && height != 0) {\n                fig.request_resize(width, height);\n            }\n        }\n    });\n    this.resizeObserverInstance.observe(canvas_div);\n\n    function on_mouse_event_closure(name) {\n        return function (event) {\n            return fig.mouse_event(event, name);\n        };\n    }\n\n    rubberband_canvas.addEventListener(\n        'mousedown',\n        on_mouse_event_closure('button_press')\n    );\n    rubberband_canvas.addEventListener(\n        'mouseup',\n        on_mouse_event_closure('button_release')\n    );\n    // Throttle sequential mouse events to 1 every 20ms.\n    rubberband_canvas.addEventListener(\n        'mousemove',\n        on_mouse_event_closure('motion_notify')\n    );\n\n    rubberband_canvas.addEventListener(\n        'mouseenter',\n        on_mouse_event_closure('figure_enter')\n    );\n    rubberband_canvas.addEventListener(\n        'mouseleave',\n        on_mouse_event_closure('figure_leave')\n    );\n\n    canvas_div.addEventListener('wheel', function (event) {\n        if (event.deltaY < 0) {\n            event.step = 1;\n        } else {\n            event.step = -1;\n        }\n        on_mouse_event_closure('scroll')(event);\n    });\n\n    canvas_div.appendChild(canvas);\n    canvas_div.appendChild(rubberband_canvas);\n\n    this.rubberband_context = rubberband_canvas.getContext('2d');\n    this.rubberband_context.strokeStyle = '#000000';\n\n    this._resize_canvas = function (width, height, forward) {\n        if (forward) {\n            canvas_div.style.width = width + 'px';\n            canvas_div.style.height = height + 'px';\n        }\n    };\n\n    // Disable right mouse context menu.\n    this.rubberband_canvas.addEventListener('contextmenu', function (_e) {\n        event.preventDefault();\n        return false;\n    });\n\n    function set_focus() {\n        canvas.focus();\n        canvas_div.focus();\n    }\n\n    window.setTimeout(set_focus, 100);\n};\n\nmpl.figure.prototype._init_toolbar = function () {\n    var fig = this;\n\n    var toolbar = document.createElement('div');\n    toolbar.classList = 'mpl-toolbar';\n    this.root.appendChild(toolbar);\n\n    function on_click_closure(name) {\n        return function (_event) {\n            return fig.toolbar_button_onclick(name);\n        };\n    }\n\n    function on_mouseover_closure(tooltip) {\n        return function (event) {\n            if (!event.currentTarget.disabled) {\n                return fig.toolbar_button_onmouseover(tooltip);\n            }\n        };\n    }\n\n    fig.buttons = {};\n    var buttonGroup = document.createElement('div');\n    buttonGroup.classList = 'mpl-button-group';\n    for (var toolbar_ind in mpl.toolbar_items) {\n        var name = mpl.toolbar_items[toolbar_ind][0];\n        var tooltip = mpl.toolbar_items[toolbar_ind][1];\n        var image = mpl.toolbar_items[toolbar_ind][2];\n        var method_name = mpl.toolbar_items[toolbar_ind][3];\n\n        if (!name) {\n            /* Instead of a spacer, we start a new button group. */\n            if (buttonGroup.hasChildNodes()) {\n                toolbar.appendChild(buttonGroup);\n            }\n            buttonGroup = document.createElement('div');\n            buttonGroup.classList = 'mpl-button-group';\n            continue;\n        }\n\n        var button = (fig.buttons[name] = document.createElement('button'));\n        button.classList = 'mpl-widget';\n        button.setAttribute('role', 'button');\n        button.setAttribute('aria-disabled', 'false');\n        button.addEventListener('click', on_click_closure(method_name));\n        button.addEventListener('mouseover', on_mouseover_closure(tooltip));\n\n        var icon_img = document.createElement('img');\n        icon_img.src = '_images/' + image + '.png';\n        icon_img.srcset = '_images/' + image + '_large.png 2x';\n        icon_img.alt = tooltip;\n        button.appendChild(icon_img);\n\n        buttonGroup.appendChild(button);\n    }\n\n    if (buttonGroup.hasChildNodes()) {\n        toolbar.appendChild(buttonGroup);\n    }\n\n    var fmt_picker = document.createElement('select');\n    fmt_picker.classList = 'mpl-widget';\n    toolbar.appendChild(fmt_picker);\n    this.format_dropdown = fmt_picker;\n\n    for (var ind in mpl.extensions) {\n        var fmt = mpl.extensions[ind];\n        var option = document.createElement('option');\n        option.selected = fmt === mpl.default_extension;\n        option.innerHTML = fmt;\n        fmt_picker.appendChild(option);\n    }\n\n    var status_bar = document.createElement('span');\n    status_bar.classList = 'mpl-message';\n    toolbar.appendChild(status_bar);\n    this.message = status_bar;\n};\n\nmpl.figure.prototype.request_resize = function (x_pixels, y_pixels) {\n    // Request matplotlib to resize the figure. Matplotlib will then trigger a resize in the client,\n    // which will in turn request a refresh of the image.\n    this.send_message('resize', { width: x_pixels, height: y_pixels });\n};\n\nmpl.figure.prototype.send_message = function (type, properties) {\n    properties['type'] = type;\n    properties['figure_id'] = this.id;\n    this.ws.send(JSON.stringify(properties));\n};\n\nmpl.figure.prototype.send_draw_message = function () {\n    if (!this.waiting) {\n        this.waiting = true;\n        this.ws.send(JSON.stringify({ type: 'draw', figure_id: this.id }));\n    }\n};\n\nmpl.figure.prototype.handle_save = function (fig, _msg) {\n    var format_dropdown = fig.format_dropdown;\n    var format = format_dropdown.options[format_dropdown.selectedIndex].value;\n    fig.ondownload(fig, format);\n};\n\nmpl.figure.prototype.handle_resize = function (fig, msg) {\n    var size = msg['size'];\n    if (size[0] !== fig.canvas.width || size[1] !== fig.canvas.height) {\n        fig._resize_canvas(size[0], size[1], msg['forward']);\n        fig.send_message('refresh', {});\n    }\n};\n\nmpl.figure.prototype.handle_rubberband = function (fig, msg) {\n    var x0 = msg['x0'] / fig.ratio;\n    var y0 = (fig.canvas.height - msg['y0']) / fig.ratio;\n    var x1 = msg['x1'] / fig.ratio;\n    var y1 = (fig.canvas.height - msg['y1']) / fig.ratio;\n    x0 = Math.floor(x0) + 0.5;\n    y0 = Math.floor(y0) + 0.5;\n    x1 = Math.floor(x1) + 0.5;\n    y1 = Math.floor(y1) + 0.5;\n    var min_x = Math.min(x0, x1);\n    var min_y = Math.min(y0, y1);\n    var width = Math.abs(x1 - x0);\n    var height = Math.abs(y1 - y0);\n\n    fig.rubberband_context.clearRect(\n        0,\n        0,\n        fig.canvas.width / fig.ratio,\n        fig.canvas.height / fig.ratio\n    );\n\n    fig.rubberband_context.strokeRect(min_x, min_y, width, height);\n};\n\nmpl.figure.prototype.handle_figure_label = function (fig, msg) {\n    // Updates the figure title.\n    fig.header.textContent = msg['label'];\n};\n\nmpl.figure.prototype.handle_cursor = function (fig, msg) {\n    var cursor = msg['cursor'];\n    switch (cursor) {\n        case 0:\n            cursor = 'pointer';\n            break;\n        case 1:\n            cursor = 'default';\n            break;\n        case 2:\n            cursor = 'crosshair';\n            break;\n        case 3:\n            cursor = 'move';\n            break;\n    }\n    fig.rubberband_canvas.style.cursor = cursor;\n};\n\nmpl.figure.prototype.handle_message = function (fig, msg) {\n    fig.message.textContent = msg['message'];\n};\n\nmpl.figure.prototype.handle_draw = function (fig, _msg) {\n    // Request the server to send over a new figure.\n    fig.send_draw_message();\n};\n\nmpl.figure.prototype.handle_image_mode = function (fig, msg) {\n    fig.image_mode = msg['mode'];\n};\n\nmpl.figure.prototype.handle_history_buttons = function (fig, msg) {\n    for (var key in msg) {\n        if (!(key in fig.buttons)) {\n            continue;\n        }\n        fig.buttons[key].disabled = !msg[key];\n        fig.buttons[key].setAttribute('aria-disabled', !msg[key]);\n    }\n};\n\nmpl.figure.prototype.handle_navigate_mode = function (fig, msg) {\n    if (msg['mode'] === 'PAN') {\n        fig.buttons['Pan'].classList.add('active');\n        fig.buttons['Zoom'].classList.remove('active');\n    } else if (msg['mode'] === 'ZOOM') {\n        fig.buttons['Pan'].classList.remove('active');\n        fig.buttons['Zoom'].classList.add('active');\n    } else {\n        fig.buttons['Pan'].classList.remove('active');\n        fig.buttons['Zoom'].classList.remove('active');\n    }\n};\n\nmpl.figure.prototype.updated_canvas_event = function () {\n    // Called whenever the canvas gets updated.\n    this.send_message('ack', {});\n};\n\n// A function to construct a web socket function for onmessage handling.\n// Called in the figure constructor.\nmpl.figure.prototype._make_on_message_function = function (fig) {\n    return function socket_on_message(evt) {\n        if (evt.data instanceof Blob) {\n            /* FIXME: We get \"Resource interpreted as Image but\n             * transferred with MIME type text/plain:\" errors on\n             * Chrome.  But how to set the MIME type?  It doesn't seem\n             * to be part of the websocket stream */\n            evt.data.type = 'image/png';\n\n            /* Free the memory for the previous frames */\n            if (fig.imageObj.src) {\n                (window.URL || window.webkitURL).revokeObjectURL(\n                    fig.imageObj.src\n                );\n            }\n\n            fig.imageObj.src = (window.URL || window.webkitURL).createObjectURL(\n                evt.data\n            );\n            fig.updated_canvas_event();\n            fig.waiting = false;\n            return;\n        } else if (\n            typeof evt.data === 'string' &&\n            evt.data.slice(0, 21) === 'data:image/png;base64'\n        ) {\n            fig.imageObj.src = evt.data;\n            fig.updated_canvas_event();\n            fig.waiting = false;\n            return;\n        }\n\n        var msg = JSON.parse(evt.data);\n        var msg_type = msg['type'];\n\n        // Call the  \"handle_{type}\" callback, which takes\n        // the figure and JSON message as its only arguments.\n        try {\n            var callback = fig['handle_' + msg_type];\n        } catch (e) {\n            console.log(\n                \"No handler for the '\" + msg_type + \"' message type: \",\n                msg\n            );\n            return;\n        }\n\n        if (callback) {\n            try {\n                // console.log(\"Handling '\" + msg_type + \"' message: \", msg);\n                callback(fig, msg);\n            } catch (e) {\n                console.log(\n                    \"Exception inside the 'handler_\" + msg_type + \"' callback:\",\n                    e,\n                    e.stack,\n                    msg\n                );\n            }\n        }\n    };\n};\n\n// from http://stackoverflow.com/questions/1114465/getting-mouse-location-in-canvas\nmpl.findpos = function (e) {\n    //this section is from http://www.quirksmode.org/js/events_properties.html\n    var targ;\n    if (!e) {\n        e = window.event;\n    }\n    if (e.target) {\n        targ = e.target;\n    } else if (e.srcElement) {\n        targ = e.srcElement;\n    }\n    if (targ.nodeType === 3) {\n        // defeat Safari bug\n        targ = targ.parentNode;\n    }\n\n    // pageX,Y are the mouse positions relative to the document\n    var boundingRect = targ.getBoundingClientRect();\n    var x = e.pageX - (boundingRect.left + document.body.scrollLeft);\n    var y = e.pageY - (boundingRect.top + document.body.scrollTop);\n\n    return { x: x, y: y };\n};\n\n/*\n * return a copy of an object with only non-object keys\n * we need this to avoid circular references\n * http://stackoverflow.com/a/24161582/3208463\n */\nfunction simpleKeys(original) {\n    return Object.keys(original).reduce(function (obj, key) {\n        if (typeof original[key] !== 'object') {\n            obj[key] = original[key];\n        }\n        return obj;\n    }, {});\n}\n\nmpl.figure.prototype.mouse_event = function (event, name) {\n    var canvas_pos = mpl.findpos(event);\n\n    if (name === 'button_press') {\n        this.canvas.focus();\n        this.canvas_div.focus();\n    }\n\n    var x = canvas_pos.x * this.ratio;\n    var y = canvas_pos.y * this.ratio;\n\n    this.send_message(name, {\n        x: x,\n        y: y,\n        button: event.button,\n        step: event.step,\n        guiEvent: simpleKeys(event),\n    });\n\n    /* This prevents the web browser from automatically changing to\n     * the text insertion cursor when the button is pressed.  We want\n     * to control all of the cursor setting manually through the\n     * 'cursor' event from matplotlib */\n    event.preventDefault();\n    return false;\n};\n\nmpl.figure.prototype._key_event_extra = function (_event, _name) {\n    // Handle any extra behaviour associated with a key event\n};\n\nmpl.figure.prototype.key_event = function (event, name) {\n    // Prevent repeat events\n    if (name === 'key_press') {\n        if (event.which === this._key) {\n            return;\n        } else {\n            this._key = event.which;\n        }\n    }\n    if (name === 'key_release') {\n        this._key = null;\n    }\n\n    var value = '';\n    if (event.ctrlKey && event.which !== 17) {\n        value += 'ctrl+';\n    }\n    if (event.altKey && event.which !== 18) {\n        value += 'alt+';\n    }\n    if (event.shiftKey && event.which !== 16) {\n        value += 'shift+';\n    }\n\n    value += 'k';\n    value += event.which.toString();\n\n    this._key_event_extra(event, name);\n\n    this.send_message(name, { key: value, guiEvent: simpleKeys(event) });\n    return false;\n};\n\nmpl.figure.prototype.toolbar_button_onclick = function (name) {\n    if (name === 'download') {\n        this.handle_save(this, null);\n    } else {\n        this.send_message('toolbar_button', { name: name });\n    }\n};\n\nmpl.figure.prototype.toolbar_button_onmouseover = function (tooltip) {\n    this.message.textContent = tooltip;\n};\n\n///////////////// REMAINING CONTENT GENERATED BY embed_js.py /////////////////\n// prettier-ignore\nvar _JSXTOOLS_RESIZE_OBSERVER=function(A){var t,i=new WeakMap,n=new WeakMap,a=new WeakMap,r=new WeakMap,o=new Set;function s(e){if(!(this instanceof s))throw new TypeError(\"Constructor requires 'new' operator\");i.set(this,e)}function h(){throw new TypeError(\"Function is not a constructor\")}function c(e,t,i,n){e=0 in arguments?Number(arguments[0]):0,t=1 in arguments?Number(arguments[1]):0,i=2 in arguments?Number(arguments[2]):0,n=3 in arguments?Number(arguments[3]):0,this.right=(this.x=this.left=e)+(this.width=i),this.bottom=(this.y=this.top=t)+(this.height=n),Object.freeze(this)}function d(){t=requestAnimationFrame(d);var s=new WeakMap,p=new Set;o.forEach((function(t){r.get(t).forEach((function(i){var r=t instanceof window.SVGElement,o=a.get(t),d=r?0:parseFloat(o.paddingTop),f=r?0:parseFloat(o.paddingRight),l=r?0:parseFloat(o.paddingBottom),u=r?0:parseFloat(o.paddingLeft),g=r?0:parseFloat(o.borderTopWidth),m=r?0:parseFloat(o.borderRightWidth),w=r?0:parseFloat(o.borderBottomWidth),b=u+f,F=d+l,v=(r?0:parseFloat(o.borderLeftWidth))+m,W=g+w,y=r?0:t.offsetHeight-W-t.clientHeight,E=r?0:t.offsetWidth-v-t.clientWidth,R=b+v,z=F+W,M=r?t.width:parseFloat(o.width)-R-E,O=r?t.height:parseFloat(o.height)-z-y;if(n.has(t)){var k=n.get(t);if(k[0]===M&&k[1]===O)return}n.set(t,[M,O]);var S=Object.create(h.prototype);S.target=t,S.contentRect=new c(u,d,M,O),s.has(i)||(s.set(i,[]),p.add(i)),s.get(i).push(S)}))})),p.forEach((function(e){i.get(e).call(e,s.get(e),e)}))}return s.prototype.observe=function(i){if(i instanceof window.Element){r.has(i)||(r.set(i,new Set),o.add(i),a.set(i,window.getComputedStyle(i)));var n=r.get(i);n.has(this)||n.add(this),cancelAnimationFrame(t),t=requestAnimationFrame(d)}},s.prototype.unobserve=function(i){if(i instanceof window.Element&&r.has(i)){var n=r.get(i);n.has(this)&&(n.delete(this),n.size||(r.delete(i),o.delete(i))),n.size||r.delete(i),o.size||cancelAnimationFrame(t)}},A.DOMRectReadOnly=c,A.ResizeObserver=s,A.ResizeObserverEntry=h,A}; // eslint-disable-line\nmpl.toolbar_items = [[\"Home\", \"Reset original view\", \"fa fa-home icon-home\", \"home\"], [\"Back\", \"Back to previous view\", \"fa fa-arrow-left icon-arrow-left\", \"back\"], [\"Forward\", \"Forward to next view\", \"fa fa-arrow-right icon-arrow-right\", \"forward\"], [\"\", \"\", \"\", \"\"], [\"Pan\", \"Left button pans, Right button zooms\\nx/y fixes axis, CTRL fixes aspect\", \"fa fa-arrows icon-move\", \"pan\"], [\"Zoom\", \"Zoom to rectangle\\nx/y fixes axis, CTRL fixes aspect\", \"fa fa-square-o icon-check-empty\", \"zoom\"], [\"\", \"\", \"\", \"\"], [\"Download\", \"Download plot\", \"fa fa-floppy-o icon-save\", \"download\"]];\n\nmpl.extensions = [\"eps\", \"jpeg\", \"pdf\", \"png\", \"ps\", \"raw\", \"svg\", \"tif\"];\n\nmpl.default_extension = \"png\";/* global mpl */\n\nvar comm_websocket_adapter = function (comm) {\n    // Create a \"websocket\"-like object which calls the given IPython comm\n    // object with the appropriate methods. Currently this is a non binary\n    // socket, so there is still some room for performance tuning.\n    var ws = {};\n\n    ws.close = function () {\n        comm.close();\n    };\n    ws.send = function (m) {\n        //console.log('sending', m);\n        comm.send(m);\n    };\n    // Register the callback with on_msg.\n    comm.on_msg(function (msg) {\n        //console.log('receiving', msg['content']['data'], msg);\n        // Pass the mpl event to the overridden (by mpl) onmessage function.\n        ws.onmessage(msg['content']['data']);\n    });\n    return ws;\n};\n\nmpl.mpl_figure_comm = function (comm, msg) {\n    // This is the function which gets called when the mpl process\n    // starts-up an IPython Comm through the \"matplotlib\" channel.\n\n    var id = msg.content.data.id;\n    // Get hold of the div created by the display call when the Comm\n    // socket was opened in Python.\n    var element = document.getElementById(id);\n    var ws_proxy = comm_websocket_adapter(comm);\n\n    function ondownload(figure, _format) {\n        window.open(figure.canvas.toDataURL());\n    }\n\n    var fig = new mpl.figure(id, ws_proxy, ondownload, element);\n\n    // Call onopen now - mpl needs it, as it is assuming we've passed it a real\n    // web socket which is closed, not our websocket->open comm proxy.\n    ws_proxy.onopen();\n\n    fig.parent_element = element;\n    fig.cell_info = mpl.find_output_cell(\"<div id='\" + id + \"'></div>\");\n    if (!fig.cell_info) {\n        console.error('Failed to find cell for figure', id, fig);\n        return;\n    }\n    fig.cell_info[0].output_area.element.on(\n        'cleared',\n        { fig: fig },\n        fig._remove_fig_handler\n    );\n};\n\nmpl.figure.prototype.handle_close = function (fig, msg) {\n    var width = fig.canvas.width / fig.ratio;\n    fig.cell_info[0].output_area.element.off(\n        'cleared',\n        fig._remove_fig_handler\n    );\n    fig.resizeObserverInstance.unobserve(fig.canvas_div);\n\n    // Update the output cell to use the data from the current canvas.\n    fig.push_to_output();\n    var dataURL = fig.canvas.toDataURL();\n    // Re-enable the keyboard manager in IPython - without this line, in FF,\n    // the notebook keyboard shortcuts fail.\n    IPython.keyboard_manager.enable();\n    fig.parent_element.innerHTML =\n        '<img src=\"' + dataURL + '\" width=\"' + width + '\">';\n    fig.close_ws(fig, msg);\n};\n\nmpl.figure.prototype.close_ws = function (fig, msg) {\n    fig.send_message('closing', msg);\n    // fig.ws.close()\n};\n\nmpl.figure.prototype.push_to_output = function (_remove_interactive) {\n    // Turn the data on the canvas into data in the output cell.\n    var width = this.canvas.width / this.ratio;\n    var dataURL = this.canvas.toDataURL();\n    this.cell_info[1]['text/html'] =\n        '<img src=\"' + dataURL + '\" width=\"' + width + '\">';\n};\n\nmpl.figure.prototype.updated_canvas_event = function () {\n    // Tell IPython that the notebook contents must change.\n    IPython.notebook.set_dirty(true);\n    this.send_message('ack', {});\n    var fig = this;\n    // Wait a second, then push the new image to the DOM so\n    // that it is saved nicely (might be nice to debounce this).\n    setTimeout(function () {\n        fig.push_to_output();\n    }, 1000);\n};\n\nmpl.figure.prototype._init_toolbar = function () {\n    var fig = this;\n\n    var toolbar = document.createElement('div');\n    toolbar.classList = 'btn-toolbar';\n    this.root.appendChild(toolbar);\n\n    function on_click_closure(name) {\n        return function (_event) {\n            return fig.toolbar_button_onclick(name);\n        };\n    }\n\n    function on_mouseover_closure(tooltip) {\n        return function (event) {\n            if (!event.currentTarget.disabled) {\n                return fig.toolbar_button_onmouseover(tooltip);\n            }\n        };\n    }\n\n    fig.buttons = {};\n    var buttonGroup = document.createElement('div');\n    buttonGroup.classList = 'btn-group';\n    var button;\n    for (var toolbar_ind in mpl.toolbar_items) {\n        var name = mpl.toolbar_items[toolbar_ind][0];\n        var tooltip = mpl.toolbar_items[toolbar_ind][1];\n        var image = mpl.toolbar_items[toolbar_ind][2];\n        var method_name = mpl.toolbar_items[toolbar_ind][3];\n\n        if (!name) {\n            /* Instead of a spacer, we start a new button group. */\n            if (buttonGroup.hasChildNodes()) {\n                toolbar.appendChild(buttonGroup);\n            }\n            buttonGroup = document.createElement('div');\n            buttonGroup.classList = 'btn-group';\n            continue;\n        }\n\n        button = fig.buttons[name] = document.createElement('button');\n        button.classList = 'btn btn-default';\n        button.href = '#';\n        button.title = name;\n        button.innerHTML = '<i class=\"fa ' + image + ' fa-lg\"></i>';\n        button.addEventListener('click', on_click_closure(method_name));\n        button.addEventListener('mouseover', on_mouseover_closure(tooltip));\n        buttonGroup.appendChild(button);\n    }\n\n    if (buttonGroup.hasChildNodes()) {\n        toolbar.appendChild(buttonGroup);\n    }\n\n    // Add the status bar.\n    var status_bar = document.createElement('span');\n    status_bar.classList = 'mpl-message pull-right';\n    toolbar.appendChild(status_bar);\n    this.message = status_bar;\n\n    // Add the close button to the window.\n    var buttongrp = document.createElement('div');\n    buttongrp.classList = 'btn-group inline pull-right';\n    button = document.createElement('button');\n    button.classList = 'btn btn-mini btn-primary';\n    button.href = '#';\n    button.title = 'Stop Interaction';\n    button.innerHTML = '<i class=\"fa fa-power-off icon-remove icon-large\"></i>';\n    button.addEventListener('click', function (_evt) {\n        fig.handle_close(fig, {});\n    });\n    button.addEventListener(\n        'mouseover',\n        on_mouseover_closure('Stop Interaction')\n    );\n    buttongrp.appendChild(button);\n    var titlebar = this.root.querySelector('.ui-dialog-titlebar');\n    titlebar.insertBefore(buttongrp, titlebar.firstChild);\n};\n\nmpl.figure.prototype._remove_fig_handler = function (event) {\n    var fig = event.data.fig;\n    if (event.target !== this) {\n        // Ignore bubbled events from children.\n        return;\n    }\n    fig.close_ws(fig, {});\n};\n\nmpl.figure.prototype._root_extra_style = function (el) {\n    el.style.boxSizing = 'content-box'; // override notebook setting of border-box.\n};\n\nmpl.figure.prototype._canvas_extra_style = function (el) {\n    // this is important to make the div 'focusable\n    el.setAttribute('tabindex', 0);\n    // reach out to IPython and tell the keyboard manager to turn it's self\n    // off when our div gets focus\n\n    // location in version 3\n    if (IPython.notebook.keyboard_manager) {\n        IPython.notebook.keyboard_manager.register_events(el);\n    } else {\n        // location in version 2\n        IPython.keyboard_manager.register_events(el);\n    }\n};\n\nmpl.figure.prototype._key_event_extra = function (event, _name) {\n    var manager = IPython.notebook.keyboard_manager;\n    if (!manager) {\n        manager = IPython.keyboard_manager;\n    }\n\n    // Check for shift+enter\n    if (event.shiftKey && event.which === 13) {\n        this.canvas_div.blur();\n        // select the cell after this one\n        var index = IPython.notebook.find_cell_index(this.cell_info[0]);\n        IPython.notebook.select(index + 1);\n    }\n};\n\nmpl.figure.prototype.handle_save = function (fig, _msg) {\n    fig.ondownload(fig, null);\n};\n\nmpl.find_output_cell = function (html_output) {\n    // Return the cell and output element which can be found *uniquely* in the notebook.\n    // Note - this is a bit hacky, but it is done because the \"notebook_saving.Notebook\"\n    // IPython event is triggered only after the cells have been serialised, which for\n    // our purposes (turning an active figure into a static one), is too late.\n    var cells = IPython.notebook.get_cells();\n    var ncells = cells.length;\n    for (var i = 0; i < ncells; i++) {\n        var cell = cells[i];\n        if (cell.cell_type === 'code') {\n            for (var j = 0; j < cell.output_area.outputs.length; j++) {\n                var data = cell.output_area.outputs[j];\n                if (data.data) {\n                    // IPython >= 3 moved mimebundle to data attribute of output\n                    data = data.data;\n                }\n                if (data['text/html'] === html_output) {\n                    return [cell, data, j];\n                }\n            }\n        }\n    }\n};\n\n// Register the function which deals with the matplotlib target/channel.\n// The kernel may be null if the page has been refreshed.\nif (IPython.notebook.kernel !== null) {\n    IPython.notebook.kernel.comm_manager.register_target(\n        'matplotlib',\n        mpl.mpl_figure_comm\n    );\n}\n",
      "text/plain": [
       "<IPython.core.display.Javascript object>"
      ]
     },
     "metadata": {},
     "output_type": "display_data"
    },
    {
     "data": {
      "text/html": [
       "<div id='574cdffe-1629-4fc0-9a7b-194da0736c8a'></div>"
      ],
      "text/plain": [
       "<IPython.core.display.HTML object>"
      ]
     },
     "metadata": {},
     "output_type": "display_data"
    }
   ],
   "source": [
    "%matplotlib notebook\n",
    "import sys\n",
    "sys.path.append(\"/home/stachu/Projects/Anomaly_detection/Forecasting_models\")\n",
    "\n",
    "from predpy.dataset import TimeSeriesRecordsDataset\n",
    "from predpy.dataset import SingleTimeSeriesDataset, MultiTimeSeriesDataset\n",
    "from predpy.data_module import MultiTimeSeriesModule\n",
    "from predpy.experimentator import (\n",
    "    DatasetParams, ModelParams, ExperimentatorPlot,\n",
    "    Experimentator, load_experimentator, plot_aggregated_predictions)\n",
    "from predpy.preprocessing import set_index\n",
    "from predpy.preprocessing import moving_average\n",
    "from predpy.preprocessing import (\n",
    "    load_and_preprocess, set_index, moving_average, drop_if_is_in,\n",
    "    use_dataframe_func, loc, iloc)\n",
    "from predpy.trainer import (\n",
    "    CheckpointParams, TrainerParams, EarlyStoppingParams, LoggerParams)\n",
    "from tsad.noiser import apply_noise_on_dataframes, white_noise\n",
    "\n",
    "import pickle\n",
    "import numpy as np\n",
    "import torch\n",
    "from sklearn.preprocessing import MinMaxScaler\n",
    "from tsai.models import TCN, ResNet, TST, RNN, TransformerModel, FCN\n",
    "import pandas as pd\n",
    "from pytorch_lightning.loggers import TensorBoardLogger\n",
    "from torch.utils.data import DataLoader\n",
    "import matplotlib.pyplot as plt\n",
    "from ipywidgets import *\n",
    "from predpy.preprocessing.statistic_anomalies_detection import *\n",
    "from models import LSTMAutoencoder\n",
    "from predpy.wrapper import Autoencoder"
   ]
  },
  {
   "cell_type": "code",
   "execution_count": 2,
   "metadata": {},
   "outputs": [
    {
     "data": {
      "text/plain": [
       "tensor([[[ 0.1635, -0.0303, -0.0815],\n",
       "         [ 0.2577, -0.0407, -0.1196]]], grad_fn=<TransposeBackward0>)"
      ]
     },
     "execution_count": 2,
     "metadata": {},
     "output_type": "execute_result"
    }
   ],
   "source": [
    "model = LSTMAutoencoder(3, 400, 2)\n",
    "\n",
    "# batch size, seq len, features\n",
    "x = torch.randn(1, 2, 3)\n",
    "model(x)"
   ]
  },
  {
   "cell_type": "markdown",
   "id": "virtual-perth",
   "metadata": {},
   "source": [
    "# Experimentator run"
   ]
  },
  {
   "cell_type": "code",
   "execution_count": 3,
   "id": "infrared-equity",
   "metadata": {},
   "outputs": [],
   "source": [
    "window_size = 366\n",
    "\n",
    "load_params = {\n",
    "    \"sep\": ';', \"header\": 0, \"low_memory\": False,\n",
    "    \"infer_datetime_format\": True, \"parse_dates\": {'datetime': [0, 1]},\n",
    "    \"index_col\": ['datetime']\n",
    "}\n",
    "\n",
    "columns = [\"Global_active_power\", \"Voltage\"]\n",
    "drop_refill_pipeline = [\n",
    "    (loc, {\"columns\": columns}),\n",
    "    (drop_if_is_in, ([\"?\", np.nan]), {\"columns\": columns}),\n",
    "    # (iloc, {\"rows_end\": 1500}),\n",
    "    # (iloc, {\"rows_start\": -20000}),\n",
    "]\n",
    "preprocessing_pipeline = [\n",
    "    (use_dataframe_func, \"astype\", \"float\"),\n",
    "]\n",
    "detect_anomalies_pipeline = [\n",
    "#     (get_isoforest_filter, dict(\n",
    "#         scores_threshold=-0.36, window_size=500, target=\"Global_active_power\"))\n",
    "]\n",
    "\n",
    "\n",
    "datasets_params = [\n",
    "    DatasetParams(\n",
    "        path=\"/home/stachu/Projects/Anomaly_detection/Forecasting_models/data/Energy/household_power_consumption/household_power_consumption.csv\",\n",
    "        load_params=load_params,\n",
    "        target=\"Global_active_power\",\n",
    "        split_proportions=[0.8, 0.1, 0.1],\n",
    "        window_size=window_size,\n",
    "        batch_size=64,\n",
    "        DatasetCls=MultiTimeSeriesDataset,\n",
    "        drop_refill_pipeline=drop_refill_pipeline,\n",
    "        preprocessing_pipeline=preprocessing_pipeline,\n",
    "        detect_anomalies_pipeline=detect_anomalies_pipeline,\n",
    "        scaler=MinMaxScaler()),\n",
    "]\n",
    "\n",
    "c_in = 2\n",
    "c_out = 1\n",
    "\n",
    "models_params = [\n",
    "    # ModelParams(\n",
    "    #     name_=\"TST_l3_fcDrop0.1\", cls_=TST.TST,\n",
    "    #     init_params={\n",
    "    #         \"c_in\": c_in, \"c_out\": c_out, \"seq_len\": window_size,\n",
    "    #         \"max_seq_len\": window_size, \"n_layers\": 3, \"fc_dropout\": 0.1}),\n",
    "    # ModelParams(\n",
    "    #     name_=\"TST_l2_fcDrop0.1\", cls_=TST.TST,\n",
    "    #     init_params={\n",
    "    #         \"c_in\": c_in, \"c_out\": c_out, \"seq_len\": window_size,\n",
    "    #         \"max_seq_len\": window_size, \"n_layers\": 2, \"fc_dropout\": 0.1}),\n",
    "    # ModelParams(\n",
    "    #     name_=\"TST_l2_fcDrop0.0\", cls_=TST.TST,\n",
    "    #     init_params={\n",
    "    #         \"c_in\": c_in, \"c_out\": c_out, \"seq_len\": window_size,\n",
    "    #         \"max_seq_len\": window_size, \"n_layers\": 2, \"fc_dropout\": 0.0}),\n",
    "    # ModelParams(\n",
    "    #     name_=\"ResNet\", cls_=ResNet.ResNet,\n",
    "    #     init_params={\"c_in\": c_in, \"c_out\": c_out}),\n",
    "    # ModelParams(\n",
    "    #     name_=\"LSTM_h200_l2\", cls_=RNN.LSTM,\n",
    "    #     init_params={\n",
    "    #         \"c_in\": c_in, \"c_out\": c_out, \"hidden_size\": 200, \"n_layers\": 2}),\n",
    "    # ModelParams(\n",
    "    #     name_=\"LSTM_h400_l1\", cls_=RNN.LSTM,\n",
    "    #     init_params={\n",
    "    #         \"c_in\": c_in, \"c_out\": c_out, \"hidden_size\": 400, \"n_layers\": 1}),\n",
    "\n",
    "\n",
    "    # ModelParams(\n",
    "    #     name_=\"LSTM_h200_l1\", cls_=RNN.LSTM,\n",
    "    #     init_params={\n",
    "    #         \"c_in\": c_in, \"c_out\": c_out, \"hidden_size\": 200, \"n_layers\": 1}),\n",
    "\n",
    "\n",
    "    ModelParams(\n",
    "        name_=\"LSTMAutoencoder_h400_l2\", cls_=LSTMAutoencoder,\n",
    "        init_params=dict(\n",
    "            c_in=window_size, h_size=400, n_layers=1))\n",
    "]\n",
    "\n",
    "chp_p = CheckpointParams(\n",
    "    dirpath=\"../checkpoints\", monitor='val_loss', verbose=True,\n",
    "    save_top_k=1)\n",
    "tr_p = TrainerParams(\n",
    "    max_epochs=1, gpus=1, auto_lr_find=True,\n",
    "    logger=TensorBoardLogger(\"../lightning_logs\"))\n",
    "es_p = EarlyStoppingParams(\n",
    "    monitor='val_loss', patience=2, verbose=True)"
   ]
  },
  {
   "cell_type": "code",
   "execution_count": 5,
   "id": "hired-python",
   "metadata": {},
   "outputs": [
    {
     "name": "stderr",
     "output_type": "stream",
     "text": [
      "Global seed set to 42\n",
      "/home/stachu/anaconda3/envs/dl/lib/python3.8/site-packages/pytorch_lightning/callbacks/model_checkpoint.py:446: UserWarning:\n",
      "\n",
      "Checkpoint directory ../checkpoints/household_power_consumption/LSTMAutoencoder_h400_l2 exists and is not empty.\n",
      "\n",
      "GPU available: True, used: True\n",
      "TPU available: False, using: 0 TPU cores\n",
      "IPU available: False, using: 0 IPUs\n",
      "/home/stachu/anaconda3/envs/dl/lib/python3.8/site-packages/pytorch_lightning/core/datamodule.py:423: LightningDeprecationWarning:\n",
      "\n",
      "DataModule.setup has already been called, so it will not be called again. In v1.6 this behavior will change to always call DataModule.setup.\n",
      "\n",
      "LOCAL_RANK: 0 - CUDA_VISIBLE_DEVICES: [0]\n",
      "\n",
      "  | Name      | Type            | Params\n",
      "----------------------------------------------\n",
      "0 | model     | LSTMAutoencoder | 2.4 M \n",
      "1 | criterion | MSELoss         | 0     \n",
      "----------------------------------------------\n",
      "2.4 M     Trainable params\n",
      "0         Non-trainable params\n",
      "2.4 M     Total params\n",
      "9.413     Total estimated model params size (MB)\n"
     ]
    },
    {
     "name": "stdout",
     "output_type": "stream",
     "text": [
      "                                                                      "
     ]
    },
    {
     "name": "stderr",
     "output_type": "stream",
     "text": [
      "Global seed set to 42\n"
     ]
    },
    {
     "name": "stdout",
     "output_type": "stream",
     "text": [
      "Epoch 0: 100%|██████████| 27890/27890 [05:32<00:00, 83.90it/s, loss=0.000931, v_num=0:53, train_loss=0.00093, val_loss=0.000883]"
     ]
    },
    {
     "name": "stderr",
     "output_type": "stream",
     "text": [
      "Metric val_loss improved. New best score: 0.001\n",
      "Epoch 0, global step 24790: val_loss reached 0.00088 (best 0.00088), saving model to \"/home/stachu/Projects/Anomaly_detection/Forecasting_models/checkpoints/household_power_consumption/LSTMAutoencoder_h400_l2/2021-12-17_18:20:53.ckpt\" as top 1\n"
     ]
    },
    {
     "name": "stdout",
     "output_type": "stream",
     "text": [
      "Epoch 0: 100%|██████████| 27890/27890 [05:32<00:00, 83.89it/s, loss=0.000931, v_num=0:53, train_loss=0.00093, val_loss=0.000883]\n"
     ]
    },
    {
     "name": "stderr",
     "output_type": "stream",
     "text": [
      "Making predictions: 100%|██████████| 3099/3099 [00:54<00:00, 56.85it/s]\n"
     ]
    },
    {
     "ename": "ValueError",
     "evalue": "(AssertionError('1 columns passed, passed data had 2 columns'), 'Problem with training 0 model named LSTMAutoencoder_h400_l2 on 0 dataset named household_power_consumption')",
     "output_type": "error",
     "traceback": [
      "\u001b[0;31m---------------------------------------------------------------------------\u001b[0m",
      "\u001b[0;31mAssertionError\u001b[0m                            Traceback (most recent call last)",
      "\u001b[0;32m~/anaconda3/envs/dl/lib/python3.8/site-packages/pandas/core/internals/construction.py\u001b[0m in \u001b[0;36m_list_to_arrays\u001b[0;34m(data, columns, coerce_float, dtype)\u001b[0m\n\u001b[1;32m    567\u001b[0m     \u001b[0;32mtry\u001b[0m\u001b[0;34m:\u001b[0m\u001b[0;34m\u001b[0m\u001b[0;34m\u001b[0m\u001b[0m\n\u001b[0;32m--> 568\u001b[0;31m         \u001b[0mcolumns\u001b[0m \u001b[0;34m=\u001b[0m \u001b[0m_validate_or_indexify_columns\u001b[0m\u001b[0;34m(\u001b[0m\u001b[0mcontent\u001b[0m\u001b[0;34m,\u001b[0m \u001b[0mcolumns\u001b[0m\u001b[0;34m)\u001b[0m\u001b[0;34m\u001b[0m\u001b[0;34m\u001b[0m\u001b[0m\n\u001b[0m\u001b[1;32m    569\u001b[0m         \u001b[0mresult\u001b[0m \u001b[0;34m=\u001b[0m \u001b[0m_convert_object_array\u001b[0m\u001b[0;34m(\u001b[0m\u001b[0mcontent\u001b[0m\u001b[0;34m,\u001b[0m \u001b[0mdtype\u001b[0m\u001b[0;34m=\u001b[0m\u001b[0mdtype\u001b[0m\u001b[0;34m,\u001b[0m \u001b[0mcoerce_float\u001b[0m\u001b[0;34m=\u001b[0m\u001b[0mcoerce_float\u001b[0m\u001b[0;34m)\u001b[0m\u001b[0;34m\u001b[0m\u001b[0;34m\u001b[0m\u001b[0m\n",
      "\u001b[0;32m~/anaconda3/envs/dl/lib/python3.8/site-packages/pandas/core/internals/construction.py\u001b[0m in \u001b[0;36m_validate_or_indexify_columns\u001b[0;34m(content, columns)\u001b[0m\n\u001b[1;32m    691\u001b[0m             \u001b[0;31m# caller's responsibility to check for this...\u001b[0m\u001b[0;34m\u001b[0m\u001b[0;34m\u001b[0m\u001b[0;34m\u001b[0m\u001b[0m\n\u001b[0;32m--> 692\u001b[0;31m             raise AssertionError(\n\u001b[0m\u001b[1;32m    693\u001b[0m                 \u001b[0;34mf\"{len(columns)} columns passed, passed data had \"\u001b[0m\u001b[0;34m\u001b[0m\u001b[0;34m\u001b[0m\u001b[0m\n",
      "\u001b[0;31mAssertionError\u001b[0m: 1 columns passed, passed data had 2 columns",
      "\nThe above exception was the direct cause of the following exception:\n",
      "\u001b[0;31mValueError\u001b[0m                                Traceback (most recent call last)",
      "\u001b[0;32m<ipython-input-5-e2eaed519ccc>\u001b[0m in \u001b[0;36m<module>\u001b[0;34m\u001b[0m\n\u001b[1;32m      8\u001b[0m )\n\u001b[1;32m      9\u001b[0m \u001b[0;34m\u001b[0m\u001b[0m\n\u001b[0;32m---> 10\u001b[0;31m \u001b[0mexp\u001b[0m\u001b[0;34m.\u001b[0m\u001b[0mrun_experiments\u001b[0m\u001b[0;34m(\u001b[0m\u001b[0mexperiments_path\u001b[0m\u001b[0;34m=\u001b[0m\u001b[0;34m\"../saved_experiments\"\u001b[0m\u001b[0;34m,\u001b[0m \u001b[0msafe\u001b[0m\u001b[0;34m=\u001b[0m\u001b[0;32mFalse\u001b[0m\u001b[0;34m)\u001b[0m\u001b[0;34m\u001b[0m\u001b[0;34m\u001b[0m\u001b[0m\n\u001b[0m\u001b[1;32m     11\u001b[0m \u001b[0;34m\u001b[0m\u001b[0m\n\u001b[1;32m     12\u001b[0m \u001b[0;31m# exp = load_experimentator(\u001b[0m\u001b[0;34m\u001b[0m\u001b[0;34m\u001b[0m\u001b[0;34m\u001b[0m\u001b[0m\n",
      "\u001b[0;32m~/Projects/Anomaly_detection/Forecasting_models/predpy/experimentator/experimentator.py\u001b[0m in \u001b[0;36mrun_experiments\u001b[0;34m(self, skip_steps, experiments_path, safe)\u001b[0m\n\u001b[1;32m    430\u001b[0m                         ))\n\u001b[1;32m    431\u001b[0m                 \u001b[0;32mexcept\u001b[0m \u001b[0mException\u001b[0m \u001b[0;32mas\u001b[0m \u001b[0me\u001b[0m\u001b[0;34m:\u001b[0m\u001b[0;34m\u001b[0m\u001b[0;34m\u001b[0m\u001b[0m\n\u001b[0;32m--> 432\u001b[0;31m                     self._deliver_exception(\n\u001b[0m\u001b[1;32m    433\u001b[0m                         \u001b[0mmsg\u001b[0m\u001b[0;34m=\u001b[0m\u001b[0mself\u001b[0m\u001b[0;34m.\u001b[0m\u001b[0m_set_err_msg\u001b[0m\u001b[0;34m(\u001b[0m\u001b[0mdataset_idx\u001b[0m\u001b[0;34m,\u001b[0m \u001b[0mmodel_idx\u001b[0m\u001b[0;34m)\u001b[0m\u001b[0;34m,\u001b[0m\u001b[0;34m\u001b[0m\u001b[0;34m\u001b[0m\u001b[0m\n\u001b[1;32m    434\u001b[0m                         \u001b[0mexception\u001b[0m\u001b[0;34m=\u001b[0m\u001b[0me\u001b[0m\u001b[0;34m,\u001b[0m\u001b[0;34m\u001b[0m\u001b[0;34m\u001b[0m\u001b[0m\n",
      "\u001b[0;32m~/Projects/Anomaly_detection/Forecasting_models/predpy/experimentator/experimentator.py\u001b[0m in \u001b[0;36m_deliver_exception\u001b[0;34m(self, msg, exception, safe)\u001b[0m\n\u001b[1;32m    339\u001b[0m         \u001b[0;32melse\u001b[0m\u001b[0;34m:\u001b[0m\u001b[0;34m\u001b[0m\u001b[0;34m\u001b[0m\u001b[0m\n\u001b[1;32m    340\u001b[0m             \u001b[0mexception\u001b[0m\u001b[0;34m.\u001b[0m\u001b[0margs\u001b[0m \u001b[0;34m+=\u001b[0m \u001b[0;34m(\u001b[0m\u001b[0mmsg\u001b[0m\u001b[0;34m,\u001b[0m\u001b[0;34m)\u001b[0m\u001b[0;34m\u001b[0m\u001b[0;34m\u001b[0m\u001b[0m\n\u001b[0;32m--> 341\u001b[0;31m             \u001b[0;32mraise\u001b[0m \u001b[0mexception\u001b[0m\u001b[0;34m\u001b[0m\u001b[0;34m\u001b[0m\u001b[0m\n\u001b[0m\u001b[1;32m    342\u001b[0m \u001b[0;34m\u001b[0m\u001b[0m\n\u001b[1;32m    343\u001b[0m     def _set_err_msg(\n",
      "\u001b[0;32m~/Projects/Anomaly_detection/Forecasting_models/predpy/experimentator/experimentator.py\u001b[0m in \u001b[0;36mrun_experiments\u001b[0;34m(self, skip_steps, experiments_path, safe)\u001b[0m\n\u001b[1;32m    421\u001b[0m \u001b[0;34m\u001b[0m\u001b[0m\n\u001b[1;32m    422\u001b[0m                 \u001b[0;32mtry\u001b[0m\u001b[0;34m:\u001b[0m\u001b[0;34m\u001b[0m\u001b[0;34m\u001b[0m\u001b[0m\n\u001b[0;32m--> 423\u001b[0;31m                     model_preds_df = self._experiment_step(\n\u001b[0m\u001b[1;32m    424\u001b[0m                         tsm=tsm, model_idx=model_idx)\n\u001b[1;32m    425\u001b[0m                     predictions.append(\n",
      "\u001b[0;32m~/Projects/Anomaly_detection/Forecasting_models/predpy/experimentator/experimentator.py\u001b[0m in \u001b[0;36m_experiment_step\u001b[0;34m(self, tsm, model_idx)\u001b[0m\n\u001b[1;32m    327\u001b[0m             \u001b[0mcolumns\u001b[0m \u001b[0;34m=\u001b[0m \u001b[0;34m[\u001b[0m\u001b[0mlabels\u001b[0m\u001b[0;34m.\u001b[0m\u001b[0mname\u001b[0m\u001b[0;34m]\u001b[0m\u001b[0;34m\u001b[0m\u001b[0;34m\u001b[0m\u001b[0m\n\u001b[1;32m    328\u001b[0m \u001b[0;34m\u001b[0m\u001b[0m\n\u001b[0;32m--> 329\u001b[0;31m         return pd.DataFrame(\n\u001b[0m\u001b[1;32m    330\u001b[0m             \u001b[0mdata\u001b[0m\u001b[0;34m=\u001b[0m\u001b[0mpreds\u001b[0m\u001b[0;34m,\u001b[0m \u001b[0mcolumns\u001b[0m\u001b[0;34m=\u001b[0m\u001b[0mcolumns\u001b[0m\u001b[0;34m,\u001b[0m \u001b[0mindex\u001b[0m\u001b[0;34m=\u001b[0m\u001b[0mlabels\u001b[0m\u001b[0;34m.\u001b[0m\u001b[0mindex\u001b[0m\u001b[0;34m\u001b[0m\u001b[0;34m\u001b[0m\u001b[0m\n\u001b[1;32m    331\u001b[0m         )\n",
      "\u001b[0;32m~/anaconda3/envs/dl/lib/python3.8/site-packages/fastai/torch_core.py\u001b[0m in \u001b[0;36m__init__\u001b[0;34m(self, data, index, columns, dtype, copy)\u001b[0m\n\u001b[1;32m    525\u001b[0m \u001b[0;32mdef\u001b[0m \u001b[0m__init__\u001b[0m\u001b[0;34m(\u001b[0m\u001b[0mself\u001b[0m\u001b[0;34m:\u001b[0m\u001b[0mpd\u001b[0m\u001b[0;34m.\u001b[0m\u001b[0mDataFrame\u001b[0m\u001b[0;34m,\u001b[0m \u001b[0mdata\u001b[0m\u001b[0;34m=\u001b[0m\u001b[0;32mNone\u001b[0m\u001b[0;34m,\u001b[0m \u001b[0mindex\u001b[0m\u001b[0;34m=\u001b[0m\u001b[0;32mNone\u001b[0m\u001b[0;34m,\u001b[0m \u001b[0mcolumns\u001b[0m\u001b[0;34m=\u001b[0m\u001b[0;32mNone\u001b[0m\u001b[0;34m,\u001b[0m \u001b[0mdtype\u001b[0m\u001b[0;34m=\u001b[0m\u001b[0;32mNone\u001b[0m\u001b[0;34m,\u001b[0m \u001b[0mcopy\u001b[0m\u001b[0;34m=\u001b[0m\u001b[0;32mFalse\u001b[0m\u001b[0;34m)\u001b[0m\u001b[0;34m:\u001b[0m\u001b[0;34m\u001b[0m\u001b[0;34m\u001b[0m\u001b[0m\n\u001b[1;32m    526\u001b[0m     \u001b[0;32mif\u001b[0m \u001b[0mdata\u001b[0m \u001b[0;32mis\u001b[0m \u001b[0;32mnot\u001b[0m \u001b[0;32mNone\u001b[0m \u001b[0;32mand\u001b[0m \u001b[0misinstance\u001b[0m\u001b[0;34m(\u001b[0m\u001b[0mdata\u001b[0m\u001b[0;34m,\u001b[0m \u001b[0mTensor\u001b[0m\u001b[0;34m)\u001b[0m\u001b[0;34m:\u001b[0m \u001b[0mdata\u001b[0m \u001b[0;34m=\u001b[0m \u001b[0mto_np\u001b[0m\u001b[0;34m(\u001b[0m\u001b[0mdata\u001b[0m\u001b[0;34m)\u001b[0m\u001b[0;34m\u001b[0m\u001b[0;34m\u001b[0m\u001b[0m\n\u001b[0;32m--> 527\u001b[0;31m     \u001b[0mself\u001b[0m\u001b[0;34m.\u001b[0m\u001b[0m_old_init\u001b[0m\u001b[0;34m(\u001b[0m\u001b[0mdata\u001b[0m\u001b[0;34m,\u001b[0m \u001b[0mindex\u001b[0m\u001b[0;34m=\u001b[0m\u001b[0mindex\u001b[0m\u001b[0;34m,\u001b[0m \u001b[0mcolumns\u001b[0m\u001b[0;34m=\u001b[0m\u001b[0mcolumns\u001b[0m\u001b[0;34m,\u001b[0m \u001b[0mdtype\u001b[0m\u001b[0;34m=\u001b[0m\u001b[0mdtype\u001b[0m\u001b[0;34m,\u001b[0m \u001b[0mcopy\u001b[0m\u001b[0;34m=\u001b[0m\u001b[0mcopy\u001b[0m\u001b[0;34m)\u001b[0m\u001b[0;34m\u001b[0m\u001b[0;34m\u001b[0m\u001b[0m\n\u001b[0m\u001b[1;32m    528\u001b[0m \u001b[0;34m\u001b[0m\u001b[0m\n\u001b[1;32m    529\u001b[0m \u001b[0;31m# Cell\u001b[0m\u001b[0;34m\u001b[0m\u001b[0;34m\u001b[0m\u001b[0;34m\u001b[0m\u001b[0m\n",
      "\u001b[0;32m~/anaconda3/envs/dl/lib/python3.8/site-packages/pandas/core/frame.py\u001b[0m in \u001b[0;36m__init__\u001b[0;34m(self, data, index, columns, dtype, copy)\u001b[0m\n\u001b[1;32m    568\u001b[0m                     \u001b[0;32mif\u001b[0m \u001b[0mis_named_tuple\u001b[0m\u001b[0;34m(\u001b[0m\u001b[0mdata\u001b[0m\u001b[0;34m[\u001b[0m\u001b[0;36m0\u001b[0m\u001b[0;34m]\u001b[0m\u001b[0;34m)\u001b[0m \u001b[0;32mand\u001b[0m \u001b[0mcolumns\u001b[0m \u001b[0;32mis\u001b[0m \u001b[0;32mNone\u001b[0m\u001b[0;34m:\u001b[0m\u001b[0;34m\u001b[0m\u001b[0;34m\u001b[0m\u001b[0m\n\u001b[1;32m    569\u001b[0m                         \u001b[0mcolumns\u001b[0m \u001b[0;34m=\u001b[0m \u001b[0mdata\u001b[0m\u001b[0;34m[\u001b[0m\u001b[0;36m0\u001b[0m\u001b[0;34m]\u001b[0m\u001b[0;34m.\u001b[0m\u001b[0m_fields\u001b[0m\u001b[0;34m\u001b[0m\u001b[0;34m\u001b[0m\u001b[0m\n\u001b[0;32m--> 570\u001b[0;31m                     \u001b[0marrays\u001b[0m\u001b[0;34m,\u001b[0m \u001b[0mcolumns\u001b[0m \u001b[0;34m=\u001b[0m \u001b[0mto_arrays\u001b[0m\u001b[0;34m(\u001b[0m\u001b[0mdata\u001b[0m\u001b[0;34m,\u001b[0m \u001b[0mcolumns\u001b[0m\u001b[0;34m,\u001b[0m \u001b[0mdtype\u001b[0m\u001b[0;34m=\u001b[0m\u001b[0mdtype\u001b[0m\u001b[0;34m)\u001b[0m\u001b[0;34m\u001b[0m\u001b[0;34m\u001b[0m\u001b[0m\n\u001b[0m\u001b[1;32m    571\u001b[0m                     \u001b[0mcolumns\u001b[0m \u001b[0;34m=\u001b[0m \u001b[0mensure_index\u001b[0m\u001b[0;34m(\u001b[0m\u001b[0mcolumns\u001b[0m\u001b[0;34m)\u001b[0m\u001b[0;34m\u001b[0m\u001b[0;34m\u001b[0m\u001b[0m\n\u001b[1;32m    572\u001b[0m \u001b[0;34m\u001b[0m\u001b[0m\n",
      "\u001b[0;32m~/anaconda3/envs/dl/lib/python3.8/site-packages/pandas/core/internals/construction.py\u001b[0m in \u001b[0;36mto_arrays\u001b[0;34m(data, columns, coerce_float, dtype)\u001b[0m\n\u001b[1;32m    526\u001b[0m         \u001b[0;32mreturn\u001b[0m \u001b[0;34m[\u001b[0m\u001b[0;34m]\u001b[0m\u001b[0;34m,\u001b[0m \u001b[0;34m[\u001b[0m\u001b[0;34m]\u001b[0m  \u001b[0;31m# columns if columns is not None else []\u001b[0m\u001b[0;34m\u001b[0m\u001b[0;34m\u001b[0m\u001b[0m\n\u001b[1;32m    527\u001b[0m     \u001b[0;32mif\u001b[0m \u001b[0misinstance\u001b[0m\u001b[0;34m(\u001b[0m\u001b[0mdata\u001b[0m\u001b[0;34m[\u001b[0m\u001b[0;36m0\u001b[0m\u001b[0;34m]\u001b[0m\u001b[0;34m,\u001b[0m \u001b[0;34m(\u001b[0m\u001b[0mlist\u001b[0m\u001b[0;34m,\u001b[0m \u001b[0mtuple\u001b[0m\u001b[0;34m)\u001b[0m\u001b[0;34m)\u001b[0m\u001b[0;34m:\u001b[0m\u001b[0;34m\u001b[0m\u001b[0;34m\u001b[0m\u001b[0m\n\u001b[0;32m--> 528\u001b[0;31m         \u001b[0;32mreturn\u001b[0m \u001b[0m_list_to_arrays\u001b[0m\u001b[0;34m(\u001b[0m\u001b[0mdata\u001b[0m\u001b[0;34m,\u001b[0m \u001b[0mcolumns\u001b[0m\u001b[0;34m,\u001b[0m \u001b[0mcoerce_float\u001b[0m\u001b[0;34m=\u001b[0m\u001b[0mcoerce_float\u001b[0m\u001b[0;34m,\u001b[0m \u001b[0mdtype\u001b[0m\u001b[0;34m=\u001b[0m\u001b[0mdtype\u001b[0m\u001b[0;34m)\u001b[0m\u001b[0;34m\u001b[0m\u001b[0;34m\u001b[0m\u001b[0m\n\u001b[0m\u001b[1;32m    529\u001b[0m     \u001b[0;32melif\u001b[0m \u001b[0misinstance\u001b[0m\u001b[0;34m(\u001b[0m\u001b[0mdata\u001b[0m\u001b[0;34m[\u001b[0m\u001b[0;36m0\u001b[0m\u001b[0;34m]\u001b[0m\u001b[0;34m,\u001b[0m \u001b[0mabc\u001b[0m\u001b[0;34m.\u001b[0m\u001b[0mMapping\u001b[0m\u001b[0;34m)\u001b[0m\u001b[0;34m:\u001b[0m\u001b[0;34m\u001b[0m\u001b[0;34m\u001b[0m\u001b[0m\n\u001b[1;32m    530\u001b[0m         return _list_of_dict_to_arrays(\n",
      "\u001b[0;32m~/anaconda3/envs/dl/lib/python3.8/site-packages/pandas/core/internals/construction.py\u001b[0m in \u001b[0;36m_list_to_arrays\u001b[0;34m(data, columns, coerce_float, dtype)\u001b[0m\n\u001b[1;32m    569\u001b[0m         \u001b[0mresult\u001b[0m \u001b[0;34m=\u001b[0m \u001b[0m_convert_object_array\u001b[0m\u001b[0;34m(\u001b[0m\u001b[0mcontent\u001b[0m\u001b[0;34m,\u001b[0m \u001b[0mdtype\u001b[0m\u001b[0;34m=\u001b[0m\u001b[0mdtype\u001b[0m\u001b[0;34m,\u001b[0m \u001b[0mcoerce_float\u001b[0m\u001b[0;34m=\u001b[0m\u001b[0mcoerce_float\u001b[0m\u001b[0;34m)\u001b[0m\u001b[0;34m\u001b[0m\u001b[0;34m\u001b[0m\u001b[0m\n\u001b[1;32m    570\u001b[0m     \u001b[0;32mexcept\u001b[0m \u001b[0mAssertionError\u001b[0m \u001b[0;32mas\u001b[0m \u001b[0me\u001b[0m\u001b[0;34m:\u001b[0m\u001b[0;34m\u001b[0m\u001b[0;34m\u001b[0m\u001b[0m\n\u001b[0;32m--> 571\u001b[0;31m         \u001b[0;32mraise\u001b[0m \u001b[0mValueError\u001b[0m\u001b[0;34m(\u001b[0m\u001b[0me\u001b[0m\u001b[0;34m)\u001b[0m \u001b[0;32mfrom\u001b[0m \u001b[0me\u001b[0m\u001b[0;34m\u001b[0m\u001b[0;34m\u001b[0m\u001b[0m\n\u001b[0m\u001b[1;32m    572\u001b[0m     \u001b[0;32mreturn\u001b[0m \u001b[0mresult\u001b[0m\u001b[0;34m,\u001b[0m \u001b[0mcolumns\u001b[0m\u001b[0;34m\u001b[0m\u001b[0;34m\u001b[0m\u001b[0m\n\u001b[1;32m    573\u001b[0m \u001b[0;34m\u001b[0m\u001b[0m\n",
      "\u001b[0;31mValueError\u001b[0m: (AssertionError('1 columns passed, passed data had 2 columns'), 'Problem with training 0 model named LSTMAutoencoder_h400_l2 on 0 dataset named household_power_consumption')"
     ]
    }
   ],
   "source": [
    "exp = Experimentator(\n",
    "    models_params=models_params,\n",
    "    datasets_params=datasets_params,\n",
    "    trainer_params=tr_p,\n",
    "    checkpoint_params=chp_p,\n",
    "    early_stopping_params=es_p,\n",
    "    WrapperCls=Autoencoder\n",
    ")\n",
    "\n",
    "exp.run_experiments(experiments_path=\"../saved_experiments\", safe=False)\n",
    "\n",
    "# exp = load_experimentator(\n",
    "#     \"../saved_experiments/2021-12-16_17:19:21.pkl\")"
   ]
  },
  {
   "cell_type": "markdown",
   "id": "limiting-optics",
   "metadata": {},
   "source": [
    "# Data loading"
   ]
  },
  {
   "cell_type": "code",
   "execution_count": 4,
   "id": "meaningful-arbitration",
   "metadata": {},
   "outputs": [],
   "source": [
    "tsm = exp.load_time_series_module(0)\n",
    "df = pd.concat(tsm.sequences)\n",
    "df = df.resample('1min').fillna(\"backfill\")"
   ]
  },
  {
   "cell_type": "code",
   "execution_count": 15,
   "id": "fantastic-hollywood",
   "metadata": {},
   "outputs": [],
   "source": [
    "import impyute as impy\n",
    "\n",
    "tmp = pd.read_csv(\n",
    "    \"/home/stachu/Projects/Anomaly_detection/Forecasting_models/data/Energy/household_power_consumption/household_power_consumption.csv\",\n",
    "    **load_params\n",
    ")"
   ]
  },
  {
   "cell_type": "code",
   "execution_count": 86,
   "id": "emotional-malaysia",
   "metadata": {},
   "outputs": [],
   "source": [
    "from predpy.preprocessing import load_and_preprocess\n",
    "\n",
    "# DatasetParams(\n",
    "#     path=\"/home/stachu/Projects/Anomaly_detection/Forecasting_models/data/Energy/household_power_consumption/household_power_consumption.csv\",\n",
    "#     load_params=load_params,\n",
    "#     target=\"Global_active_power\",\n",
    "#     split_proportions=[0.8, 0.1, 0.1],\n",
    "#     window_size=window_size,\n",
    "#     batch_size=64,\n",
    "#     DatasetCls=MultiTimeSeriesDataset,\n",
    "#     drop_refill_pipeline=drop_refill_pipeline,\n",
    "#     preprocessing_pipeline=preprocessing_pipeline,\n",
    "#     detect_anomalies_pipeline=detect_anomalies_pipeline,\n",
    "#     scaler=MinMaxScaler()),\n",
    "ds_params = datasets_params[0]\n",
    "df = load_and_preprocess(\n",
    "    dataset_path=ds_params.path,\n",
    "    load_params=ds_params.load_params,\n",
    "    drop_refill_pipeline=ds_params.drop_refill_pipeline,\n",
    "    preprocessing_pipeline=ds_params.preprocessing_pipeline,\n",
    "    detect_anomalies_pipeline=ds_params.detect_anomalies_pipeline,\n",
    "    drop_na_after_anomaly_detection=True,\n",
    "    scaler=ds_params.scaler,\n",
    "    training_proportion=ds_params.split_proportions[0])"
   ]
  },
  {
   "cell_type": "code",
   "execution_count": 87,
   "id": "reserved-publicity",
   "metadata": {},
   "outputs": [
    {
     "data": {
      "text/html": [
       "<div>\n",
       "<style scoped>\n",
       "    .dataframe tbody tr th:only-of-type {\n",
       "        vertical-align: middle;\n",
       "    }\n",
       "\n",
       "    .dataframe tbody tr th {\n",
       "        vertical-align: top;\n",
       "    }\n",
       "\n",
       "    .dataframe thead th {\n",
       "        text-align: right;\n",
       "    }\n",
       "</style>\n",
       "<table border=\"1\" class=\"dataframe\">\n",
       "  <thead>\n",
       "    <tr style=\"text-align: right;\">\n",
       "      <th></th>\n",
       "      <th>Global_active_power</th>\n",
       "      <th>Voltage</th>\n",
       "    </tr>\n",
       "    <tr>\n",
       "      <th>datetime</th>\n",
       "      <th></th>\n",
       "      <th></th>\n",
       "    </tr>\n",
       "  </thead>\n",
       "  <tbody>\n",
       "    <tr>\n",
       "      <th>2006-12-21 11:23:00</th>\n",
       "      <td>NaN</td>\n",
       "      <td>NaN</td>\n",
       "    </tr>\n",
       "    <tr>\n",
       "      <th>2006-12-21 11:24:00</th>\n",
       "      <td>NaN</td>\n",
       "      <td>NaN</td>\n",
       "    </tr>\n",
       "    <tr>\n",
       "      <th>2006-12-30 10:08:00</th>\n",
       "      <td>NaN</td>\n",
       "      <td>NaN</td>\n",
       "    </tr>\n",
       "    <tr>\n",
       "      <th>2006-12-30 10:09:00</th>\n",
       "      <td>NaN</td>\n",
       "      <td>NaN</td>\n",
       "    </tr>\n",
       "    <tr>\n",
       "      <th>2007-01-14 18:36:00</th>\n",
       "      <td>NaN</td>\n",
       "      <td>NaN</td>\n",
       "    </tr>\n",
       "    <tr>\n",
       "      <th>...</th>\n",
       "      <td>...</td>\n",
       "      <td>...</td>\n",
       "    </tr>\n",
       "    <tr>\n",
       "      <th>2010-09-28 19:09:00</th>\n",
       "      <td>NaN</td>\n",
       "      <td>NaN</td>\n",
       "    </tr>\n",
       "    <tr>\n",
       "      <th>2010-09-28 19:10:00</th>\n",
       "      <td>NaN</td>\n",
       "      <td>NaN</td>\n",
       "    </tr>\n",
       "    <tr>\n",
       "      <th>2010-09-28 19:11:00</th>\n",
       "      <td>NaN</td>\n",
       "      <td>NaN</td>\n",
       "    </tr>\n",
       "    <tr>\n",
       "      <th>2010-09-28 19:12:00</th>\n",
       "      <td>NaN</td>\n",
       "      <td>NaN</td>\n",
       "    </tr>\n",
       "    <tr>\n",
       "      <th>2010-10-24 15:35:00</th>\n",
       "      <td>NaN</td>\n",
       "      <td>NaN</td>\n",
       "    </tr>\n",
       "  </tbody>\n",
       "</table>\n",
       "<p>25979 rows × 2 columns</p>\n",
       "</div>"
      ],
      "text/plain": [
       "                     Global_active_power  Voltage\n",
       "datetime                                         \n",
       "2006-12-21 11:23:00                  NaN      NaN\n",
       "2006-12-21 11:24:00                  NaN      NaN\n",
       "2006-12-30 10:08:00                  NaN      NaN\n",
       "2006-12-30 10:09:00                  NaN      NaN\n",
       "2007-01-14 18:36:00                  NaN      NaN\n",
       "...                                  ...      ...\n",
       "2010-09-28 19:09:00                  NaN      NaN\n",
       "2010-09-28 19:10:00                  NaN      NaN\n",
       "2010-09-28 19:11:00                  NaN      NaN\n",
       "2010-09-28 19:12:00                  NaN      NaN\n",
       "2010-10-24 15:35:00                  NaN      NaN\n",
       "\n",
       "[25979 rows x 2 columns]"
      ]
     },
     "execution_count": 87,
     "metadata": {},
     "output_type": "execute_result"
    }
   ],
   "source": [
    "df = df.resample('1min').asfreq()\n",
    "df[df.isnull().any(axis=1)]"
   ]
  },
  {
   "cell_type": "code",
   "execution_count": 81,
   "id": "smaller-auditor",
   "metadata": {},
   "outputs": [
    {
     "data": {
      "text/plain": [
       "array([[0.01520913, 0.61680129],\n",
       "       [       nan,        nan],\n",
       "       [0.015     , 0.61      ],\n",
       "       [0.01539019, 0.59903069]])"
      ]
     },
     "execution_count": 81,
     "metadata": {},
     "output_type": "execute_result"
    }
   ],
   "source": [
    "import impyute as impy\n",
    "from time import time\n",
    "start = time()\n",
    "res = impy.moving_window(\n",
    "    data,\n",
    "    wsize=df.loc[\"2006-12-21 11:10:00\":\"2006-12-21 11:40:00\"].shape[0],\n",
    "    nindex=13\n",
    ")\n",
    "end = time() - start\n",
    "res[-19:-15]"
   ]
  },
  {
   "cell_type": "code",
   "execution_count": 93,
   "id": "north-elimination",
   "metadata": {},
   "outputs": [
    {
     "data": {
      "text/html": [
       "<div>\n",
       "<style scoped>\n",
       "    .dataframe tbody tr th:only-of-type {\n",
       "        vertical-align: middle;\n",
       "    }\n",
       "\n",
       "    .dataframe tbody tr th {\n",
       "        vertical-align: top;\n",
       "    }\n",
       "\n",
       "    .dataframe thead th {\n",
       "        text-align: right;\n",
       "    }\n",
       "</style>\n",
       "<table border=\"1\" class=\"dataframe\">\n",
       "  <thead>\n",
       "    <tr style=\"text-align: right;\">\n",
       "      <th></th>\n",
       "      <th>Global_active_power</th>\n",
       "      <th>Voltage</th>\n",
       "    </tr>\n",
       "    <tr>\n",
       "      <th>datetime</th>\n",
       "      <th></th>\n",
       "      <th></th>\n",
       "    </tr>\n",
       "  </thead>\n",
       "  <tbody>\n",
       "    <tr>\n",
       "      <th>2006-12-21 11:21:00</th>\n",
       "      <td>0.015028</td>\n",
       "      <td>0.596769</td>\n",
       "    </tr>\n",
       "    <tr>\n",
       "      <th>2006-12-21 11:22:00</th>\n",
       "      <td>0.015209</td>\n",
       "      <td>0.616801</td>\n",
       "    </tr>\n",
       "    <tr>\n",
       "      <th>2006-12-21 11:23:00</th>\n",
       "      <td>0.015283</td>\n",
       "      <td>0.612403</td>\n",
       "    </tr>\n",
       "    <tr>\n",
       "      <th>2006-12-21 11:24:00</th>\n",
       "      <td>0.015344</td>\n",
       "      <td>0.604376</td>\n",
       "    </tr>\n",
       "    <tr>\n",
       "      <th>2006-12-21 11:25:00</th>\n",
       "      <td>0.015390</td>\n",
       "      <td>0.599031</td>\n",
       "    </tr>\n",
       "    <tr>\n",
       "      <th>2006-12-21 11:26:00</th>\n",
       "      <td>0.015390</td>\n",
       "      <td>0.601939</td>\n",
       "    </tr>\n",
       "  </tbody>\n",
       "</table>\n",
       "</div>"
      ],
      "text/plain": [
       "                     Global_active_power   Voltage\n",
       "datetime                                          \n",
       "2006-12-21 11:21:00             0.015028  0.596769\n",
       "2006-12-21 11:22:00             0.015209  0.616801\n",
       "2006-12-21 11:23:00             0.015283  0.612403\n",
       "2006-12-21 11:24:00             0.015344  0.604376\n",
       "2006-12-21 11:25:00             0.015390  0.599031\n",
       "2006-12-21 11:26:00             0.015390  0.601939"
      ]
     },
     "execution_count": 93,
     "metadata": {},
     "output_type": "execute_result"
    }
   ],
   "source": [
    "tmp = df.loc[\"2006-12-21 11:10:00\":\"2006-12-21 11:40:00\"].interpolate(method=\"akima\")\n",
    "tmp.loc[\"2006-12-21 11:21:00\":\"2006-12-21 11:26:00\"]"
   ]
  },
  {
   "cell_type": "code",
   "execution_count": 74,
   "id": "advisory-selling",
   "metadata": {},
   "outputs": [
    {
     "data": {
      "text/plain": [
       "31"
      ]
     },
     "execution_count": 74,
     "metadata": {},
     "output_type": "execute_result"
    }
   ],
   "source": [
    "len(res)"
   ]
  },
  {
   "cell_type": "code",
   "execution_count": 57,
   "id": "beginning-mauritius",
   "metadata": {},
   "outputs": [
    {
     "data": {
      "text/plain": [
       "['__all__',\n",
       " '__author__',\n",
       " '__build__',\n",
       " '__builtins__',\n",
       " '__cached__',\n",
       " '__copyright__',\n",
       " '__doc__',\n",
       " '__file__',\n",
       " '__license__',\n",
       " '__loader__',\n",
       " '__name__',\n",
       " '__package__',\n",
       " '__path__',\n",
       " '__spec__',\n",
       " '__title__',\n",
       " '__version__',\n",
       " 'complete_case',\n",
       " 'deletion',\n",
       " 'em',\n",
       " 'fast_knn',\n",
       " 'imputation',\n",
       " 'locf',\n",
       " 'mean',\n",
       " 'median',\n",
       " 'mice',\n",
       " 'mode',\n",
       " 'moving_window',\n",
       " 'random',\n",
       " 'util']"
      ]
     },
     "execution_count": 57,
     "metadata": {},
     "output_type": "execute_result"
    }
   ],
   "source": [
    "dir(impy)"
   ]
  },
  {
   "cell_type": "code",
   "execution_count": 61,
   "id": "straight-involvement",
   "metadata": {},
   "outputs": [
    {
     "data": {
      "text/plain": [
       "array([[0.01520913, 0.61680129],\n",
       "       [0.01575231, 0.54345719],\n",
       "       [0.04399783, 0.56122779],\n",
       "       [0.01539019, 0.59903069]])"
      ]
     },
     "execution_count": 61,
     "metadata": {},
     "output_type": "execute_result"
    }
   ],
   "source": [
    "res[-19:-15]"
   ]
  },
  {
   "cell_type": "code",
   "execution_count": 54,
   "id": "missing-georgia",
   "metadata": {},
   "outputs": [
    {
     "data": {
      "text/html": [
       "<div>\n",
       "<style scoped>\n",
       "    .dataframe tbody tr th:only-of-type {\n",
       "        vertical-align: middle;\n",
       "    }\n",
       "\n",
       "    .dataframe tbody tr th {\n",
       "        vertical-align: top;\n",
       "    }\n",
       "\n",
       "    .dataframe thead th {\n",
       "        text-align: right;\n",
       "    }\n",
       "</style>\n",
       "<table border=\"1\" class=\"dataframe\">\n",
       "  <thead>\n",
       "    <tr style=\"text-align: right;\">\n",
       "      <th></th>\n",
       "      <th>Global_active_power</th>\n",
       "      <th>Voltage</th>\n",
       "    </tr>\n",
       "    <tr>\n",
       "      <th>datetime</th>\n",
       "      <th></th>\n",
       "      <th></th>\n",
       "    </tr>\n",
       "  </thead>\n",
       "  <tbody>\n",
       "    <tr>\n",
       "      <th>2006-12-21 11:10:00</th>\n",
       "      <td>0.023538</td>\n",
       "      <td>0.526333</td>\n",
       "    </tr>\n",
       "    <tr>\n",
       "      <th>2006-12-21 11:11:00</th>\n",
       "      <td>0.023357</td>\n",
       "      <td>0.527625</td>\n",
       "    </tr>\n",
       "    <tr>\n",
       "      <th>2006-12-21 11:12:00</th>\n",
       "      <td>0.046352</td>\n",
       "      <td>0.573829</td>\n",
       "    </tr>\n",
       "    <tr>\n",
       "      <th>2006-12-21 11:13:00</th>\n",
       "      <td>0.145030</td>\n",
       "      <td>0.510824</td>\n",
       "    </tr>\n",
       "    <tr>\n",
       "      <th>2006-12-21 11:14:00</th>\n",
       "      <td>0.081296</td>\n",
       "      <td>0.530533</td>\n",
       "    </tr>\n",
       "    <tr>\n",
       "      <th>2006-12-21 11:15:00</th>\n",
       "      <td>0.043998</td>\n",
       "      <td>0.543457</td>\n",
       "    </tr>\n",
       "    <tr>\n",
       "      <th>2006-12-21 11:16:00</th>\n",
       "      <td>0.015752</td>\n",
       "      <td>0.553150</td>\n",
       "    </tr>\n",
       "    <tr>\n",
       "      <th>2006-12-21 11:17:00</th>\n",
       "      <td>0.014847</td>\n",
       "      <td>0.561228</td>\n",
       "    </tr>\n",
       "    <tr>\n",
       "      <th>2006-12-21 11:18:00</th>\n",
       "      <td>0.015028</td>\n",
       "      <td>0.579321</td>\n",
       "    </tr>\n",
       "    <tr>\n",
       "      <th>2006-12-21 11:19:00</th>\n",
       "      <td>0.015209</td>\n",
       "      <td>0.609047</td>\n",
       "    </tr>\n",
       "    <tr>\n",
       "      <th>2006-12-21 11:20:00</th>\n",
       "      <td>0.015209</td>\n",
       "      <td>0.610016</td>\n",
       "    </tr>\n",
       "    <tr>\n",
       "      <th>2006-12-21 11:21:00</th>\n",
       "      <td>0.015028</td>\n",
       "      <td>0.596769</td>\n",
       "    </tr>\n",
       "    <tr>\n",
       "      <th>2006-12-21 11:22:00</th>\n",
       "      <td>0.015209</td>\n",
       "      <td>0.616801</td>\n",
       "    </tr>\n",
       "    <tr>\n",
       "      <th>2006-12-21 11:23:00</th>\n",
       "      <td>NaN</td>\n",
       "      <td>NaN</td>\n",
       "    </tr>\n",
       "    <tr>\n",
       "      <th>2006-12-21 11:24:00</th>\n",
       "      <td>NaN</td>\n",
       "      <td>NaN</td>\n",
       "    </tr>\n",
       "    <tr>\n",
       "      <th>2006-12-21 11:25:00</th>\n",
       "      <td>0.015390</td>\n",
       "      <td>0.599031</td>\n",
       "    </tr>\n",
       "    <tr>\n",
       "      <th>2006-12-21 11:26:00</th>\n",
       "      <td>0.015390</td>\n",
       "      <td>0.601939</td>\n",
       "    </tr>\n",
       "    <tr>\n",
       "      <th>2006-12-21 11:27:00</th>\n",
       "      <td>0.015209</td>\n",
       "      <td>0.573829</td>\n",
       "    </tr>\n",
       "    <tr>\n",
       "      <th>2006-12-21 11:28:00</th>\n",
       "      <td>0.015209</td>\n",
       "      <td>0.587076</td>\n",
       "    </tr>\n",
       "    <tr>\n",
       "      <th>2006-12-21 11:29:00</th>\n",
       "      <td>0.015209</td>\n",
       "      <td>0.585784</td>\n",
       "    </tr>\n",
       "    <tr>\n",
       "      <th>2006-12-21 11:30:00</th>\n",
       "      <td>0.015209</td>\n",
       "      <td>0.599677</td>\n",
       "    </tr>\n",
       "    <tr>\n",
       "      <th>2006-12-21 11:31:00</th>\n",
       "      <td>0.015028</td>\n",
       "      <td>0.594507</td>\n",
       "    </tr>\n",
       "    <tr>\n",
       "      <th>2006-12-21 11:32:00</th>\n",
       "      <td>0.015209</td>\n",
       "      <td>0.602585</td>\n",
       "    </tr>\n",
       "    <tr>\n",
       "      <th>2006-12-21 11:33:00</th>\n",
       "      <td>0.015209</td>\n",
       "      <td>0.606462</td>\n",
       "    </tr>\n",
       "    <tr>\n",
       "      <th>2006-12-21 11:34:00</th>\n",
       "      <td>0.015028</td>\n",
       "      <td>0.597738</td>\n",
       "    </tr>\n",
       "    <tr>\n",
       "      <th>2006-12-21 11:35:00</th>\n",
       "      <td>0.015209</td>\n",
       "      <td>0.612924</td>\n",
       "    </tr>\n",
       "    <tr>\n",
       "      <th>2006-12-21 11:36:00</th>\n",
       "      <td>0.015209</td>\n",
       "      <td>0.600000</td>\n",
       "    </tr>\n",
       "    <tr>\n",
       "      <th>2006-12-21 11:37:00</th>\n",
       "      <td>0.015028</td>\n",
       "      <td>0.594507</td>\n",
       "    </tr>\n",
       "    <tr>\n",
       "      <th>2006-12-21 11:38:00</th>\n",
       "      <td>0.023357</td>\n",
       "      <td>0.601292</td>\n",
       "    </tr>\n",
       "    <tr>\n",
       "      <th>2006-12-21 11:39:00</th>\n",
       "      <td>0.025167</td>\n",
       "      <td>0.610339</td>\n",
       "    </tr>\n",
       "    <tr>\n",
       "      <th>2006-12-21 11:40:00</th>\n",
       "      <td>0.024805</td>\n",
       "      <td>0.600000</td>\n",
       "    </tr>\n",
       "  </tbody>\n",
       "</table>\n",
       "</div>"
      ],
      "text/plain": [
       "                     Global_active_power   Voltage\n",
       "datetime                                          \n",
       "2006-12-21 11:10:00             0.023538  0.526333\n",
       "2006-12-21 11:11:00             0.023357  0.527625\n",
       "2006-12-21 11:12:00             0.046352  0.573829\n",
       "2006-12-21 11:13:00             0.145030  0.510824\n",
       "2006-12-21 11:14:00             0.081296  0.530533\n",
       "2006-12-21 11:15:00             0.043998  0.543457\n",
       "2006-12-21 11:16:00             0.015752  0.553150\n",
       "2006-12-21 11:17:00             0.014847  0.561228\n",
       "2006-12-21 11:18:00             0.015028  0.579321\n",
       "2006-12-21 11:19:00             0.015209  0.609047\n",
       "2006-12-21 11:20:00             0.015209  0.610016\n",
       "2006-12-21 11:21:00             0.015028  0.596769\n",
       "2006-12-21 11:22:00             0.015209  0.616801\n",
       "2006-12-21 11:23:00                  NaN       NaN\n",
       "2006-12-21 11:24:00                  NaN       NaN\n",
       "2006-12-21 11:25:00             0.015390  0.599031\n",
       "2006-12-21 11:26:00             0.015390  0.601939\n",
       "2006-12-21 11:27:00             0.015209  0.573829\n",
       "2006-12-21 11:28:00             0.015209  0.587076\n",
       "2006-12-21 11:29:00             0.015209  0.585784\n",
       "2006-12-21 11:30:00             0.015209  0.599677\n",
       "2006-12-21 11:31:00             0.015028  0.594507\n",
       "2006-12-21 11:32:00             0.015209  0.602585\n",
       "2006-12-21 11:33:00             0.015209  0.606462\n",
       "2006-12-21 11:34:00             0.015028  0.597738\n",
       "2006-12-21 11:35:00             0.015209  0.612924\n",
       "2006-12-21 11:36:00             0.015209  0.600000\n",
       "2006-12-21 11:37:00             0.015028  0.594507\n",
       "2006-12-21 11:38:00             0.023357  0.601292\n",
       "2006-12-21 11:39:00             0.025167  0.610339\n",
       "2006-12-21 11:40:00             0.024805  0.600000"
      ]
     },
     "execution_count": 54,
     "metadata": {},
     "output_type": "execute_result"
    }
   ],
   "source": [
    "df.loc[\"2006-12-21 11:10:00\":\"2006-12-21 11:40:00\"]"
   ]
  },
  {
   "cell_type": "code",
   "execution_count": 21,
   "id": "fluid-monitor",
   "metadata": {},
   "outputs": [
    {
     "ename": "ValueError",
     "evalue": "could not convert string to float: '?'",
     "output_type": "error",
     "traceback": [
      "\u001b[0;31m---------------------------------------------------------------------------\u001b[0m",
      "\u001b[0;31mValueError\u001b[0m                                Traceback (most recent call last)",
      "\u001b[0;32m<ipython-input-21-cf2883660000>\u001b[0m in \u001b[0;36m<module>\u001b[0;34m\u001b[0m\n\u001b[1;32m      1\u001b[0m \u001b[0mtmp\u001b[0m \u001b[0;34m=\u001b[0m \u001b[0mtmp\u001b[0m\u001b[0;34m[\u001b[0m\u001b[0;34m[\u001b[0m\u001b[0;34m\"Global_active_power\"\u001b[0m\u001b[0;34m,\u001b[0m \u001b[0;34m\"Global_reactive_power\"\u001b[0m\u001b[0;34m]\u001b[0m\u001b[0;34m]\u001b[0m\u001b[0;34m\u001b[0m\u001b[0;34m\u001b[0m\u001b[0m\n\u001b[1;32m      2\u001b[0m \u001b[0;31m# impy.mean(tmp.to_numpy())\u001b[0m\u001b[0;34m\u001b[0m\u001b[0;34m\u001b[0m\u001b[0;34m\u001b[0m\u001b[0m\n\u001b[0;32m----> 3\u001b[0;31m \u001b[0mtmp\u001b[0m\u001b[0;34m.\u001b[0m\u001b[0mastype\u001b[0m\u001b[0;34m(\u001b[0m\u001b[0mfloat\u001b[0m\u001b[0;34m)\u001b[0m\u001b[0;34m\u001b[0m\u001b[0;34m\u001b[0m\u001b[0m\n\u001b[0m",
      "\u001b[0;32m~/anaconda3/envs/dl/lib/python3.8/site-packages/pandas/core/generic.py\u001b[0m in \u001b[0;36mastype\u001b[0;34m(self, dtype, copy, errors)\u001b[0m\n\u001b[1;32m   5872\u001b[0m         \u001b[0;32melse\u001b[0m\u001b[0;34m:\u001b[0m\u001b[0;34m\u001b[0m\u001b[0;34m\u001b[0m\u001b[0m\n\u001b[1;32m   5873\u001b[0m             \u001b[0;31m# else, only a single dtype is given\u001b[0m\u001b[0;34m\u001b[0m\u001b[0;34m\u001b[0m\u001b[0;34m\u001b[0m\u001b[0m\n\u001b[0;32m-> 5874\u001b[0;31m             \u001b[0mnew_data\u001b[0m \u001b[0;34m=\u001b[0m \u001b[0mself\u001b[0m\u001b[0;34m.\u001b[0m\u001b[0m_mgr\u001b[0m\u001b[0;34m.\u001b[0m\u001b[0mastype\u001b[0m\u001b[0;34m(\u001b[0m\u001b[0mdtype\u001b[0m\u001b[0;34m=\u001b[0m\u001b[0mdtype\u001b[0m\u001b[0;34m,\u001b[0m \u001b[0mcopy\u001b[0m\u001b[0;34m=\u001b[0m\u001b[0mcopy\u001b[0m\u001b[0;34m,\u001b[0m \u001b[0merrors\u001b[0m\u001b[0;34m=\u001b[0m\u001b[0merrors\u001b[0m\u001b[0;34m)\u001b[0m\u001b[0;34m\u001b[0m\u001b[0;34m\u001b[0m\u001b[0m\n\u001b[0m\u001b[1;32m   5875\u001b[0m             \u001b[0;32mreturn\u001b[0m \u001b[0mself\u001b[0m\u001b[0;34m.\u001b[0m\u001b[0m_constructor\u001b[0m\u001b[0;34m(\u001b[0m\u001b[0mnew_data\u001b[0m\u001b[0;34m)\u001b[0m\u001b[0;34m.\u001b[0m\u001b[0m__finalize__\u001b[0m\u001b[0;34m(\u001b[0m\u001b[0mself\u001b[0m\u001b[0;34m,\u001b[0m \u001b[0mmethod\u001b[0m\u001b[0;34m=\u001b[0m\u001b[0;34m\"astype\"\u001b[0m\u001b[0;34m)\u001b[0m\u001b[0;34m\u001b[0m\u001b[0;34m\u001b[0m\u001b[0m\n\u001b[1;32m   5876\u001b[0m \u001b[0;34m\u001b[0m\u001b[0m\n",
      "\u001b[0;32m~/anaconda3/envs/dl/lib/python3.8/site-packages/pandas/core/internals/managers.py\u001b[0m in \u001b[0;36mastype\u001b[0;34m(self, dtype, copy, errors)\u001b[0m\n\u001b[1;32m    629\u001b[0m         \u001b[0mself\u001b[0m\u001b[0;34m,\u001b[0m \u001b[0mdtype\u001b[0m\u001b[0;34m,\u001b[0m \u001b[0mcopy\u001b[0m\u001b[0;34m:\u001b[0m \u001b[0mbool\u001b[0m \u001b[0;34m=\u001b[0m \u001b[0;32mFalse\u001b[0m\u001b[0;34m,\u001b[0m \u001b[0merrors\u001b[0m\u001b[0;34m:\u001b[0m \u001b[0mstr\u001b[0m \u001b[0;34m=\u001b[0m \u001b[0;34m\"raise\"\u001b[0m\u001b[0;34m\u001b[0m\u001b[0;34m\u001b[0m\u001b[0m\n\u001b[1;32m    630\u001b[0m     ) -> \"BlockManager\":\n\u001b[0;32m--> 631\u001b[0;31m         \u001b[0;32mreturn\u001b[0m \u001b[0mself\u001b[0m\u001b[0;34m.\u001b[0m\u001b[0mapply\u001b[0m\u001b[0;34m(\u001b[0m\u001b[0;34m\"astype\"\u001b[0m\u001b[0;34m,\u001b[0m \u001b[0mdtype\u001b[0m\u001b[0;34m=\u001b[0m\u001b[0mdtype\u001b[0m\u001b[0;34m,\u001b[0m \u001b[0mcopy\u001b[0m\u001b[0;34m=\u001b[0m\u001b[0mcopy\u001b[0m\u001b[0;34m,\u001b[0m \u001b[0merrors\u001b[0m\u001b[0;34m=\u001b[0m\u001b[0merrors\u001b[0m\u001b[0;34m)\u001b[0m\u001b[0;34m\u001b[0m\u001b[0;34m\u001b[0m\u001b[0m\n\u001b[0m\u001b[1;32m    632\u001b[0m \u001b[0;34m\u001b[0m\u001b[0m\n\u001b[1;32m    633\u001b[0m     def convert(\n",
      "\u001b[0;32m~/anaconda3/envs/dl/lib/python3.8/site-packages/pandas/core/internals/managers.py\u001b[0m in \u001b[0;36mapply\u001b[0;34m(self, f, align_keys, ignore_failures, **kwargs)\u001b[0m\n\u001b[1;32m    425\u001b[0m                     \u001b[0mapplied\u001b[0m \u001b[0;34m=\u001b[0m \u001b[0mb\u001b[0m\u001b[0;34m.\u001b[0m\u001b[0mapply\u001b[0m\u001b[0;34m(\u001b[0m\u001b[0mf\u001b[0m\u001b[0;34m,\u001b[0m \u001b[0;34m**\u001b[0m\u001b[0mkwargs\u001b[0m\u001b[0;34m)\u001b[0m\u001b[0;34m\u001b[0m\u001b[0;34m\u001b[0m\u001b[0m\n\u001b[1;32m    426\u001b[0m                 \u001b[0;32melse\u001b[0m\u001b[0;34m:\u001b[0m\u001b[0;34m\u001b[0m\u001b[0;34m\u001b[0m\u001b[0m\n\u001b[0;32m--> 427\u001b[0;31m                     \u001b[0mapplied\u001b[0m \u001b[0;34m=\u001b[0m \u001b[0mgetattr\u001b[0m\u001b[0;34m(\u001b[0m\u001b[0mb\u001b[0m\u001b[0;34m,\u001b[0m \u001b[0mf\u001b[0m\u001b[0;34m)\u001b[0m\u001b[0;34m(\u001b[0m\u001b[0;34m**\u001b[0m\u001b[0mkwargs\u001b[0m\u001b[0;34m)\u001b[0m\u001b[0;34m\u001b[0m\u001b[0;34m\u001b[0m\u001b[0m\n\u001b[0m\u001b[1;32m    428\u001b[0m             \u001b[0;32mexcept\u001b[0m \u001b[0;34m(\u001b[0m\u001b[0mTypeError\u001b[0m\u001b[0;34m,\u001b[0m \u001b[0mNotImplementedError\u001b[0m\u001b[0;34m)\u001b[0m\u001b[0;34m:\u001b[0m\u001b[0;34m\u001b[0m\u001b[0;34m\u001b[0m\u001b[0m\n\u001b[1;32m    429\u001b[0m                 \u001b[0;32mif\u001b[0m \u001b[0;32mnot\u001b[0m \u001b[0mignore_failures\u001b[0m\u001b[0;34m:\u001b[0m\u001b[0;34m\u001b[0m\u001b[0;34m\u001b[0m\u001b[0m\n",
      "\u001b[0;32m~/anaconda3/envs/dl/lib/python3.8/site-packages/pandas/core/internals/blocks.py\u001b[0m in \u001b[0;36mastype\u001b[0;34m(self, dtype, copy, errors)\u001b[0m\n\u001b[1;32m    671\u001b[0m             \u001b[0mvals1d\u001b[0m \u001b[0;34m=\u001b[0m \u001b[0mvalues\u001b[0m\u001b[0;34m.\u001b[0m\u001b[0mravel\u001b[0m\u001b[0;34m(\u001b[0m\u001b[0;34m)\u001b[0m\u001b[0;34m\u001b[0m\u001b[0;34m\u001b[0m\u001b[0m\n\u001b[1;32m    672\u001b[0m             \u001b[0;32mtry\u001b[0m\u001b[0;34m:\u001b[0m\u001b[0;34m\u001b[0m\u001b[0;34m\u001b[0m\u001b[0m\n\u001b[0;32m--> 673\u001b[0;31m                 \u001b[0mvalues\u001b[0m \u001b[0;34m=\u001b[0m \u001b[0mastype_nansafe\u001b[0m\u001b[0;34m(\u001b[0m\u001b[0mvals1d\u001b[0m\u001b[0;34m,\u001b[0m \u001b[0mdtype\u001b[0m\u001b[0;34m,\u001b[0m \u001b[0mcopy\u001b[0m\u001b[0;34m=\u001b[0m\u001b[0;32mTrue\u001b[0m\u001b[0;34m)\u001b[0m\u001b[0;34m\u001b[0m\u001b[0;34m\u001b[0m\u001b[0m\n\u001b[0m\u001b[1;32m    674\u001b[0m             \u001b[0;32mexcept\u001b[0m \u001b[0;34m(\u001b[0m\u001b[0mValueError\u001b[0m\u001b[0;34m,\u001b[0m \u001b[0mTypeError\u001b[0m\u001b[0;34m)\u001b[0m\u001b[0;34m:\u001b[0m\u001b[0;34m\u001b[0m\u001b[0;34m\u001b[0m\u001b[0m\n\u001b[1;32m    675\u001b[0m                 \u001b[0;31m# e.g. astype_nansafe can fail on object-dtype of strings\u001b[0m\u001b[0;34m\u001b[0m\u001b[0;34m\u001b[0m\u001b[0;34m\u001b[0m\u001b[0m\n",
      "\u001b[0;32m~/anaconda3/envs/dl/lib/python3.8/site-packages/pandas/core/dtypes/cast.py\u001b[0m in \u001b[0;36mastype_nansafe\u001b[0;34m(arr, dtype, copy, skipna)\u001b[0m\n\u001b[1;32m   1095\u001b[0m     \u001b[0;32mif\u001b[0m \u001b[0mcopy\u001b[0m \u001b[0;32mor\u001b[0m \u001b[0mis_object_dtype\u001b[0m\u001b[0;34m(\u001b[0m\u001b[0marr\u001b[0m\u001b[0;34m)\u001b[0m \u001b[0;32mor\u001b[0m \u001b[0mis_object_dtype\u001b[0m\u001b[0;34m(\u001b[0m\u001b[0mdtype\u001b[0m\u001b[0;34m)\u001b[0m\u001b[0;34m:\u001b[0m\u001b[0;34m\u001b[0m\u001b[0;34m\u001b[0m\u001b[0m\n\u001b[1;32m   1096\u001b[0m         \u001b[0;31m# Explicit copy, or required since NumPy can't view from / to object.\u001b[0m\u001b[0;34m\u001b[0m\u001b[0;34m\u001b[0m\u001b[0;34m\u001b[0m\u001b[0m\n\u001b[0;32m-> 1097\u001b[0;31m         \u001b[0;32mreturn\u001b[0m \u001b[0marr\u001b[0m\u001b[0;34m.\u001b[0m\u001b[0mastype\u001b[0m\u001b[0;34m(\u001b[0m\u001b[0mdtype\u001b[0m\u001b[0;34m,\u001b[0m \u001b[0mcopy\u001b[0m\u001b[0;34m=\u001b[0m\u001b[0;32mTrue\u001b[0m\u001b[0;34m)\u001b[0m\u001b[0;34m\u001b[0m\u001b[0;34m\u001b[0m\u001b[0m\n\u001b[0m\u001b[1;32m   1098\u001b[0m \u001b[0;34m\u001b[0m\u001b[0m\n\u001b[1;32m   1099\u001b[0m     \u001b[0;32mreturn\u001b[0m \u001b[0marr\u001b[0m\u001b[0;34m.\u001b[0m\u001b[0mview\u001b[0m\u001b[0;34m(\u001b[0m\u001b[0mdtype\u001b[0m\u001b[0;34m)\u001b[0m\u001b[0;34m\u001b[0m\u001b[0;34m\u001b[0m\u001b[0m\n",
      "\u001b[0;31mValueError\u001b[0m: could not convert string to float: '?'"
     ]
    }
   ],
   "source": [
    "tmp = tmp[[\"Global_active_power\", \"Global_reactive_power\"]]\n",
    "# impy.mean(tmp.to_numpy())"
   ]
  },
  {
   "cell_type": "code",
   "execution_count": null,
   "id": "virtual-fisher",
   "metadata": {},
   "outputs": [],
   "source": [
    "from statsmodels.tsa.seasonal import seasonal_decompose\n",
    "\n",
    "# fig = plt.figure(figsize=(16, 7))\n",
    "\n",
    "result = seasonal_decompose(\n",
    "    df[\"Global_active_power\"],\n",
    "    model='additive', period=1440,\n",
    "    extrapolate_trend='freq')\n",
    "# fig = result.plot()\n",
    "# fig.set_size_inches(12, 5)"
   ]
  },
  {
   "cell_type": "markdown",
   "id": "spread-combat",
   "metadata": {},
   "source": [
    "## Testing fillna method"
   ]
  },
  {
   "cell_type": "code",
   "execution_count": null,
   "id": "finite-drawing",
   "metadata": {},
   "outputs": [],
   "source": [
    "# start = tsm.sequences[0].index[-1]\n",
    "# for seq in tsm.sequences[1:]:\n",
    "#     end = seq.index[0]\n",
    "#     df.loc[start:end].plot()\n",
    "#     start = seq.index[-1]"
   ]
  },
  {
   "cell_type": "markdown",
   "id": "surprised-deadline",
   "metadata": {},
   "source": [
    "# Statistical anomaly detection plotting"
   ]
  },
  {
   "cell_type": "markdown",
   "id": "painted-great",
   "metadata": {},
   "source": [
    "## Collective Isolation Forest"
   ]
  },
  {
   "cell_type": "code",
   "execution_count": null,
   "id": "framed-india",
   "metadata": {},
   "outputs": [],
   "source": [
    "# scores, if_model = collective_isolation_forest(ts, window_size, return_model=True)\n",
    "# scores = collective_isolation_forest(df[\"Global_active_power\"], 500)\n",
    "scores = collective_isolation_forest(tsm.sequences[0][\"Global_active_power\"], 500)"
   ]
  },
  {
   "cell_type": "code",
   "execution_count": null,
   "id": "lesbian-minority",
   "metadata": {},
   "outputs": [],
   "source": [
    "df"
   ]
  },
  {
   "cell_type": "code",
   "execution_count": null,
   "id": "proprietary-perspective",
   "metadata": {},
   "outputs": [],
   "source": [
    "None = 1"
   ]
  },
  {
   "cell_type": "code",
   "execution_count": null,
   "id": "gothic-jonathan",
   "metadata": {},
   "outputs": [],
   "source": [
    "threshold_widget = FloatSlider(\n",
    "    value=-0.5,\n",
    "    min=-1,\n",
    "    max=0,\n",
    "    step=0.001,\n",
    "    description='Threshold',\n",
    "    disabled=False,\n",
    "    continuous_update=False,\n",
    "    orientation='horizontal',\n",
    "    readout=True,\n",
    ")\n",
    "\n",
    "plot_interact_filtering(\n",
    "    ts=tsm.sequences[0][\"Global_active_power\"], widgets={\n",
    "        \"scores_threshold\": threshold_widget},\n",
    "    filter_f=get_isoforest_filter, title=\"Remove isolation forest outliers\",\n",
    "    scores=scores);"
   ]
  },
  {
   "cell_type": "markdown",
   "id": "answering-quarterly",
   "metadata": {},
   "source": [
    "## DWT clustering"
   ]
  },
  {
   "cell_type": "code",
   "execution_count": null,
   "id": "liquid-integer",
   "metadata": {},
   "outputs": [],
   "source": [
    "ts_distance_matrix(df[\"Global_active_power\"], 1000000, True)"
   ]
  },
  {
   "cell_type": "markdown",
   "id": "fundamental-snowboard",
   "metadata": {},
   "source": [
    "## Residual outliers"
   ]
  },
  {
   "cell_type": "code",
   "execution_count": null,
   "id": "meaningful-tribe",
   "metadata": {},
   "outputs": [],
   "source": [
    "threshold_widget = FloatSlider(\n",
    "    value=0.7,\n",
    "    min=min(result.resid),\n",
    "    max=max(result.resid),\n",
    "    step=(max(result.resid) - min(result.resid))/100,\n",
    "    description='Threshold',\n",
    "    disabled=False,\n",
    "    continuous_update=False,\n",
    "    orientation='horizontal',\n",
    "    readout=True,\n",
    "    readout_format='.1f',\n",
    ")\n",
    "\n",
    "plot_interact_filtering(\n",
    "    ts=tsm.sequences[0][\"Global_active_power\"], widgets={\n",
    "        \"residual_threshold\": threshold_widget},\n",
    "    filter_f=get_residual_filter, title=\"Remove residual outliers\",\n",
    "    residuals=result.resid);"
   ]
  },
  {
   "cell_type": "markdown",
   "id": "psychological-exclusion",
   "metadata": {},
   "source": [
    "## Variance"
   ]
  },
  {
   "cell_type": "code",
   "execution_count": null,
   "id": "multiple-sculpture",
   "metadata": {},
   "outputs": [],
   "source": [
    "tmp = get_variance_filter(\n",
    "    df[\"Global_active_power\"], window_size=5000, log_variance_limits=(-4.6, -2))"
   ]
  },
  {
   "cell_type": "code",
   "execution_count": null,
   "id": "amino-personality",
   "metadata": {},
   "outputs": [],
   "source": [
    "df.loc[\"2008-08-02 00:00:00\":\"2008-08-31 00:00:00\"]"
   ]
  },
  {
   "cell_type": "code",
   "execution_count": null,
   "id": "indoor-pearl",
   "metadata": {},
   "outputs": [],
   "source": [
    "tmp = df[\"Global_active_power\"].rolling(window=window_size, center=True).var()\n",
    "\n",
    "%matplotlib inline\n",
    "plt.cla()\n",
    "tmp.loc[\"2008-07-16 17:24:00\":\"2008-09-20 17:24:00\"].plot()\n",
    "# df[\"Global_active_power\"].loc[\"2008-07-16 17:24:00\":\"2008-09-20 17:24:00\"].plot()\n",
    "plt.show()"
   ]
  },
  {
   "cell_type": "code",
   "execution_count": 94,
   "id": "informational-blame",
   "metadata": {},
   "outputs": [
    {
     "data": {
      "application/javascript": "/* Put everything inside the global mpl namespace */\n/* global mpl */\nwindow.mpl = {};\n\nmpl.get_websocket_type = function () {\n    if (typeof WebSocket !== 'undefined') {\n        return WebSocket;\n    } else if (typeof MozWebSocket !== 'undefined') {\n        return MozWebSocket;\n    } else {\n        alert(\n            'Your browser does not have WebSocket support. ' +\n                'Please try Chrome, Safari or Firefox ≥ 6. ' +\n                'Firefox 4 and 5 are also supported but you ' +\n                'have to enable WebSockets in about:config.'\n        );\n    }\n};\n\nmpl.figure = function (figure_id, websocket, ondownload, parent_element) {\n    this.id = figure_id;\n\n    this.ws = websocket;\n\n    this.supports_binary = this.ws.binaryType !== undefined;\n\n    if (!this.supports_binary) {\n        var warnings = document.getElementById('mpl-warnings');\n        if (warnings) {\n            warnings.style.display = 'block';\n            warnings.textContent =\n                'This browser does not support binary websocket messages. ' +\n                'Performance may be slow.';\n        }\n    }\n\n    this.imageObj = new Image();\n\n    this.context = undefined;\n    this.message = undefined;\n    this.canvas = undefined;\n    this.rubberband_canvas = undefined;\n    this.rubberband_context = undefined;\n    this.format_dropdown = undefined;\n\n    this.image_mode = 'full';\n\n    this.root = document.createElement('div');\n    this.root.setAttribute('style', 'display: inline-block');\n    this._root_extra_style(this.root);\n\n    parent_element.appendChild(this.root);\n\n    this._init_header(this);\n    this._init_canvas(this);\n    this._init_toolbar(this);\n\n    var fig = this;\n\n    this.waiting = false;\n\n    this.ws.onopen = function () {\n        fig.send_message('supports_binary', { value: fig.supports_binary });\n        fig.send_message('send_image_mode', {});\n        if (fig.ratio !== 1) {\n            fig.send_message('set_dpi_ratio', { dpi_ratio: fig.ratio });\n        }\n        fig.send_message('refresh', {});\n    };\n\n    this.imageObj.onload = function () {\n        if (fig.image_mode === 'full') {\n            // Full images could contain transparency (where diff images\n            // almost always do), so we need to clear the canvas so that\n            // there is no ghosting.\n            fig.context.clearRect(0, 0, fig.canvas.width, fig.canvas.height);\n        }\n        fig.context.drawImage(fig.imageObj, 0, 0);\n    };\n\n    this.imageObj.onunload = function () {\n        fig.ws.close();\n    };\n\n    this.ws.onmessage = this._make_on_message_function(this);\n\n    this.ondownload = ondownload;\n};\n\nmpl.figure.prototype._init_header = function () {\n    var titlebar = document.createElement('div');\n    titlebar.classList =\n        'ui-dialog-titlebar ui-widget-header ui-corner-all ui-helper-clearfix';\n    var titletext = document.createElement('div');\n    titletext.classList = 'ui-dialog-title';\n    titletext.setAttribute(\n        'style',\n        'width: 100%; text-align: center; padding: 3px;'\n    );\n    titlebar.appendChild(titletext);\n    this.root.appendChild(titlebar);\n    this.header = titletext;\n};\n\nmpl.figure.prototype._canvas_extra_style = function (_canvas_div) {};\n\nmpl.figure.prototype._root_extra_style = function (_canvas_div) {};\n\nmpl.figure.prototype._init_canvas = function () {\n    var fig = this;\n\n    var canvas_div = (this.canvas_div = document.createElement('div'));\n    canvas_div.setAttribute(\n        'style',\n        'border: 1px solid #ddd;' +\n            'box-sizing: content-box;' +\n            'clear: both;' +\n            'min-height: 1px;' +\n            'min-width: 1px;' +\n            'outline: 0;' +\n            'overflow: hidden;' +\n            'position: relative;' +\n            'resize: both;'\n    );\n\n    function on_keyboard_event_closure(name) {\n        return function (event) {\n            return fig.key_event(event, name);\n        };\n    }\n\n    canvas_div.addEventListener(\n        'keydown',\n        on_keyboard_event_closure('key_press')\n    );\n    canvas_div.addEventListener(\n        'keyup',\n        on_keyboard_event_closure('key_release')\n    );\n\n    this._canvas_extra_style(canvas_div);\n    this.root.appendChild(canvas_div);\n\n    var canvas = (this.canvas = document.createElement('canvas'));\n    canvas.classList.add('mpl-canvas');\n    canvas.setAttribute('style', 'box-sizing: content-box;');\n\n    this.context = canvas.getContext('2d');\n\n    var backingStore =\n        this.context.backingStorePixelRatio ||\n        this.context.webkitBackingStorePixelRatio ||\n        this.context.mozBackingStorePixelRatio ||\n        this.context.msBackingStorePixelRatio ||\n        this.context.oBackingStorePixelRatio ||\n        this.context.backingStorePixelRatio ||\n        1;\n\n    this.ratio = (window.devicePixelRatio || 1) / backingStore;\n\n    var rubberband_canvas = (this.rubberband_canvas = document.createElement(\n        'canvas'\n    ));\n    rubberband_canvas.setAttribute(\n        'style',\n        'box-sizing: content-box; position: absolute; left: 0; top: 0; z-index: 1;'\n    );\n\n    // Apply a ponyfill if ResizeObserver is not implemented by browser.\n    if (this.ResizeObserver === undefined) {\n        if (window.ResizeObserver !== undefined) {\n            this.ResizeObserver = window.ResizeObserver;\n        } else {\n            var obs = _JSXTOOLS_RESIZE_OBSERVER({});\n            this.ResizeObserver = obs.ResizeObserver;\n        }\n    }\n\n    this.resizeObserverInstance = new this.ResizeObserver(function (entries) {\n        var nentries = entries.length;\n        for (var i = 0; i < nentries; i++) {\n            var entry = entries[i];\n            var width, height;\n            if (entry.contentBoxSize) {\n                if (entry.contentBoxSize instanceof Array) {\n                    // Chrome 84 implements new version of spec.\n                    width = entry.contentBoxSize[0].inlineSize;\n                    height = entry.contentBoxSize[0].blockSize;\n                } else {\n                    // Firefox implements old version of spec.\n                    width = entry.contentBoxSize.inlineSize;\n                    height = entry.contentBoxSize.blockSize;\n                }\n            } else {\n                // Chrome <84 implements even older version of spec.\n                width = entry.contentRect.width;\n                height = entry.contentRect.height;\n            }\n\n            // Keep the size of the canvas and rubber band canvas in sync with\n            // the canvas container.\n            if (entry.devicePixelContentBoxSize) {\n                // Chrome 84 implements new version of spec.\n                canvas.setAttribute(\n                    'width',\n                    entry.devicePixelContentBoxSize[0].inlineSize\n                );\n                canvas.setAttribute(\n                    'height',\n                    entry.devicePixelContentBoxSize[0].blockSize\n                );\n            } else {\n                canvas.setAttribute('width', width * fig.ratio);\n                canvas.setAttribute('height', height * fig.ratio);\n            }\n            canvas.setAttribute(\n                'style',\n                'width: ' + width + 'px; height: ' + height + 'px;'\n            );\n\n            rubberband_canvas.setAttribute('width', width);\n            rubberband_canvas.setAttribute('height', height);\n\n            // And update the size in Python. We ignore the initial 0/0 size\n            // that occurs as the element is placed into the DOM, which should\n            // otherwise not happen due to the minimum size styling.\n            if (fig.ws.readyState == 1 && width != 0 && height != 0) {\n                fig.request_resize(width, height);\n            }\n        }\n    });\n    this.resizeObserverInstance.observe(canvas_div);\n\n    function on_mouse_event_closure(name) {\n        return function (event) {\n            return fig.mouse_event(event, name);\n        };\n    }\n\n    rubberband_canvas.addEventListener(\n        'mousedown',\n        on_mouse_event_closure('button_press')\n    );\n    rubberband_canvas.addEventListener(\n        'mouseup',\n        on_mouse_event_closure('button_release')\n    );\n    // Throttle sequential mouse events to 1 every 20ms.\n    rubberband_canvas.addEventListener(\n        'mousemove',\n        on_mouse_event_closure('motion_notify')\n    );\n\n    rubberband_canvas.addEventListener(\n        'mouseenter',\n        on_mouse_event_closure('figure_enter')\n    );\n    rubberband_canvas.addEventListener(\n        'mouseleave',\n        on_mouse_event_closure('figure_leave')\n    );\n\n    canvas_div.addEventListener('wheel', function (event) {\n        if (event.deltaY < 0) {\n            event.step = 1;\n        } else {\n            event.step = -1;\n        }\n        on_mouse_event_closure('scroll')(event);\n    });\n\n    canvas_div.appendChild(canvas);\n    canvas_div.appendChild(rubberband_canvas);\n\n    this.rubberband_context = rubberband_canvas.getContext('2d');\n    this.rubberband_context.strokeStyle = '#000000';\n\n    this._resize_canvas = function (width, height, forward) {\n        if (forward) {\n            canvas_div.style.width = width + 'px';\n            canvas_div.style.height = height + 'px';\n        }\n    };\n\n    // Disable right mouse context menu.\n    this.rubberband_canvas.addEventListener('contextmenu', function (_e) {\n        event.preventDefault();\n        return false;\n    });\n\n    function set_focus() {\n        canvas.focus();\n        canvas_div.focus();\n    }\n\n    window.setTimeout(set_focus, 100);\n};\n\nmpl.figure.prototype._init_toolbar = function () {\n    var fig = this;\n\n    var toolbar = document.createElement('div');\n    toolbar.classList = 'mpl-toolbar';\n    this.root.appendChild(toolbar);\n\n    function on_click_closure(name) {\n        return function (_event) {\n            return fig.toolbar_button_onclick(name);\n        };\n    }\n\n    function on_mouseover_closure(tooltip) {\n        return function (event) {\n            if (!event.currentTarget.disabled) {\n                return fig.toolbar_button_onmouseover(tooltip);\n            }\n        };\n    }\n\n    fig.buttons = {};\n    var buttonGroup = document.createElement('div');\n    buttonGroup.classList = 'mpl-button-group';\n    for (var toolbar_ind in mpl.toolbar_items) {\n        var name = mpl.toolbar_items[toolbar_ind][0];\n        var tooltip = mpl.toolbar_items[toolbar_ind][1];\n        var image = mpl.toolbar_items[toolbar_ind][2];\n        var method_name = mpl.toolbar_items[toolbar_ind][3];\n\n        if (!name) {\n            /* Instead of a spacer, we start a new button group. */\n            if (buttonGroup.hasChildNodes()) {\n                toolbar.appendChild(buttonGroup);\n            }\n            buttonGroup = document.createElement('div');\n            buttonGroup.classList = 'mpl-button-group';\n            continue;\n        }\n\n        var button = (fig.buttons[name] = document.createElement('button'));\n        button.classList = 'mpl-widget';\n        button.setAttribute('role', 'button');\n        button.setAttribute('aria-disabled', 'false');\n        button.addEventListener('click', on_click_closure(method_name));\n        button.addEventListener('mouseover', on_mouseover_closure(tooltip));\n\n        var icon_img = document.createElement('img');\n        icon_img.src = '_images/' + image + '.png';\n        icon_img.srcset = '_images/' + image + '_large.png 2x';\n        icon_img.alt = tooltip;\n        button.appendChild(icon_img);\n\n        buttonGroup.appendChild(button);\n    }\n\n    if (buttonGroup.hasChildNodes()) {\n        toolbar.appendChild(buttonGroup);\n    }\n\n    var fmt_picker = document.createElement('select');\n    fmt_picker.classList = 'mpl-widget';\n    toolbar.appendChild(fmt_picker);\n    this.format_dropdown = fmt_picker;\n\n    for (var ind in mpl.extensions) {\n        var fmt = mpl.extensions[ind];\n        var option = document.createElement('option');\n        option.selected = fmt === mpl.default_extension;\n        option.innerHTML = fmt;\n        fmt_picker.appendChild(option);\n    }\n\n    var status_bar = document.createElement('span');\n    status_bar.classList = 'mpl-message';\n    toolbar.appendChild(status_bar);\n    this.message = status_bar;\n};\n\nmpl.figure.prototype.request_resize = function (x_pixels, y_pixels) {\n    // Request matplotlib to resize the figure. Matplotlib will then trigger a resize in the client,\n    // which will in turn request a refresh of the image.\n    this.send_message('resize', { width: x_pixels, height: y_pixels });\n};\n\nmpl.figure.prototype.send_message = function (type, properties) {\n    properties['type'] = type;\n    properties['figure_id'] = this.id;\n    this.ws.send(JSON.stringify(properties));\n};\n\nmpl.figure.prototype.send_draw_message = function () {\n    if (!this.waiting) {\n        this.waiting = true;\n        this.ws.send(JSON.stringify({ type: 'draw', figure_id: this.id }));\n    }\n};\n\nmpl.figure.prototype.handle_save = function (fig, _msg) {\n    var format_dropdown = fig.format_dropdown;\n    var format = format_dropdown.options[format_dropdown.selectedIndex].value;\n    fig.ondownload(fig, format);\n};\n\nmpl.figure.prototype.handle_resize = function (fig, msg) {\n    var size = msg['size'];\n    if (size[0] !== fig.canvas.width || size[1] !== fig.canvas.height) {\n        fig._resize_canvas(size[0], size[1], msg['forward']);\n        fig.send_message('refresh', {});\n    }\n};\n\nmpl.figure.prototype.handle_rubberband = function (fig, msg) {\n    var x0 = msg['x0'] / fig.ratio;\n    var y0 = (fig.canvas.height - msg['y0']) / fig.ratio;\n    var x1 = msg['x1'] / fig.ratio;\n    var y1 = (fig.canvas.height - msg['y1']) / fig.ratio;\n    x0 = Math.floor(x0) + 0.5;\n    y0 = Math.floor(y0) + 0.5;\n    x1 = Math.floor(x1) + 0.5;\n    y1 = Math.floor(y1) + 0.5;\n    var min_x = Math.min(x0, x1);\n    var min_y = Math.min(y0, y1);\n    var width = Math.abs(x1 - x0);\n    var height = Math.abs(y1 - y0);\n\n    fig.rubberband_context.clearRect(\n        0,\n        0,\n        fig.canvas.width / fig.ratio,\n        fig.canvas.height / fig.ratio\n    );\n\n    fig.rubberband_context.strokeRect(min_x, min_y, width, height);\n};\n\nmpl.figure.prototype.handle_figure_label = function (fig, msg) {\n    // Updates the figure title.\n    fig.header.textContent = msg['label'];\n};\n\nmpl.figure.prototype.handle_cursor = function (fig, msg) {\n    var cursor = msg['cursor'];\n    switch (cursor) {\n        case 0:\n            cursor = 'pointer';\n            break;\n        case 1:\n            cursor = 'default';\n            break;\n        case 2:\n            cursor = 'crosshair';\n            break;\n        case 3:\n            cursor = 'move';\n            break;\n    }\n    fig.rubberband_canvas.style.cursor = cursor;\n};\n\nmpl.figure.prototype.handle_message = function (fig, msg) {\n    fig.message.textContent = msg['message'];\n};\n\nmpl.figure.prototype.handle_draw = function (fig, _msg) {\n    // Request the server to send over a new figure.\n    fig.send_draw_message();\n};\n\nmpl.figure.prototype.handle_image_mode = function (fig, msg) {\n    fig.image_mode = msg['mode'];\n};\n\nmpl.figure.prototype.handle_history_buttons = function (fig, msg) {\n    for (var key in msg) {\n        if (!(key in fig.buttons)) {\n            continue;\n        }\n        fig.buttons[key].disabled = !msg[key];\n        fig.buttons[key].setAttribute('aria-disabled', !msg[key]);\n    }\n};\n\nmpl.figure.prototype.handle_navigate_mode = function (fig, msg) {\n    if (msg['mode'] === 'PAN') {\n        fig.buttons['Pan'].classList.add('active');\n        fig.buttons['Zoom'].classList.remove('active');\n    } else if (msg['mode'] === 'ZOOM') {\n        fig.buttons['Pan'].classList.remove('active');\n        fig.buttons['Zoom'].classList.add('active');\n    } else {\n        fig.buttons['Pan'].classList.remove('active');\n        fig.buttons['Zoom'].classList.remove('active');\n    }\n};\n\nmpl.figure.prototype.updated_canvas_event = function () {\n    // Called whenever the canvas gets updated.\n    this.send_message('ack', {});\n};\n\n// A function to construct a web socket function for onmessage handling.\n// Called in the figure constructor.\nmpl.figure.prototype._make_on_message_function = function (fig) {\n    return function socket_on_message(evt) {\n        if (evt.data instanceof Blob) {\n            /* FIXME: We get \"Resource interpreted as Image but\n             * transferred with MIME type text/plain:\" errors on\n             * Chrome.  But how to set the MIME type?  It doesn't seem\n             * to be part of the websocket stream */\n            evt.data.type = 'image/png';\n\n            /* Free the memory for the previous frames */\n            if (fig.imageObj.src) {\n                (window.URL || window.webkitURL).revokeObjectURL(\n                    fig.imageObj.src\n                );\n            }\n\n            fig.imageObj.src = (window.URL || window.webkitURL).createObjectURL(\n                evt.data\n            );\n            fig.updated_canvas_event();\n            fig.waiting = false;\n            return;\n        } else if (\n            typeof evt.data === 'string' &&\n            evt.data.slice(0, 21) === 'data:image/png;base64'\n        ) {\n            fig.imageObj.src = evt.data;\n            fig.updated_canvas_event();\n            fig.waiting = false;\n            return;\n        }\n\n        var msg = JSON.parse(evt.data);\n        var msg_type = msg['type'];\n\n        // Call the  \"handle_{type}\" callback, which takes\n        // the figure and JSON message as its only arguments.\n        try {\n            var callback = fig['handle_' + msg_type];\n        } catch (e) {\n            console.log(\n                \"No handler for the '\" + msg_type + \"' message type: \",\n                msg\n            );\n            return;\n        }\n\n        if (callback) {\n            try {\n                // console.log(\"Handling '\" + msg_type + \"' message: \", msg);\n                callback(fig, msg);\n            } catch (e) {\n                console.log(\n                    \"Exception inside the 'handler_\" + msg_type + \"' callback:\",\n                    e,\n                    e.stack,\n                    msg\n                );\n            }\n        }\n    };\n};\n\n// from http://stackoverflow.com/questions/1114465/getting-mouse-location-in-canvas\nmpl.findpos = function (e) {\n    //this section is from http://www.quirksmode.org/js/events_properties.html\n    var targ;\n    if (!e) {\n        e = window.event;\n    }\n    if (e.target) {\n        targ = e.target;\n    } else if (e.srcElement) {\n        targ = e.srcElement;\n    }\n    if (targ.nodeType === 3) {\n        // defeat Safari bug\n        targ = targ.parentNode;\n    }\n\n    // pageX,Y are the mouse positions relative to the document\n    var boundingRect = targ.getBoundingClientRect();\n    var x = e.pageX - (boundingRect.left + document.body.scrollLeft);\n    var y = e.pageY - (boundingRect.top + document.body.scrollTop);\n\n    return { x: x, y: y };\n};\n\n/*\n * return a copy of an object with only non-object keys\n * we need this to avoid circular references\n * http://stackoverflow.com/a/24161582/3208463\n */\nfunction simpleKeys(original) {\n    return Object.keys(original).reduce(function (obj, key) {\n        if (typeof original[key] !== 'object') {\n            obj[key] = original[key];\n        }\n        return obj;\n    }, {});\n}\n\nmpl.figure.prototype.mouse_event = function (event, name) {\n    var canvas_pos = mpl.findpos(event);\n\n    if (name === 'button_press') {\n        this.canvas.focus();\n        this.canvas_div.focus();\n    }\n\n    var x = canvas_pos.x * this.ratio;\n    var y = canvas_pos.y * this.ratio;\n\n    this.send_message(name, {\n        x: x,\n        y: y,\n        button: event.button,\n        step: event.step,\n        guiEvent: simpleKeys(event),\n    });\n\n    /* This prevents the web browser from automatically changing to\n     * the text insertion cursor when the button is pressed.  We want\n     * to control all of the cursor setting manually through the\n     * 'cursor' event from matplotlib */\n    event.preventDefault();\n    return false;\n};\n\nmpl.figure.prototype._key_event_extra = function (_event, _name) {\n    // Handle any extra behaviour associated with a key event\n};\n\nmpl.figure.prototype.key_event = function (event, name) {\n    // Prevent repeat events\n    if (name === 'key_press') {\n        if (event.which === this._key) {\n            return;\n        } else {\n            this._key = event.which;\n        }\n    }\n    if (name === 'key_release') {\n        this._key = null;\n    }\n\n    var value = '';\n    if (event.ctrlKey && event.which !== 17) {\n        value += 'ctrl+';\n    }\n    if (event.altKey && event.which !== 18) {\n        value += 'alt+';\n    }\n    if (event.shiftKey && event.which !== 16) {\n        value += 'shift+';\n    }\n\n    value += 'k';\n    value += event.which.toString();\n\n    this._key_event_extra(event, name);\n\n    this.send_message(name, { key: value, guiEvent: simpleKeys(event) });\n    return false;\n};\n\nmpl.figure.prototype.toolbar_button_onclick = function (name) {\n    if (name === 'download') {\n        this.handle_save(this, null);\n    } else {\n        this.send_message('toolbar_button', { name: name });\n    }\n};\n\nmpl.figure.prototype.toolbar_button_onmouseover = function (tooltip) {\n    this.message.textContent = tooltip;\n};\n\n///////////////// REMAINING CONTENT GENERATED BY embed_js.py /////////////////\n// prettier-ignore\nvar _JSXTOOLS_RESIZE_OBSERVER=function(A){var t,i=new WeakMap,n=new WeakMap,a=new WeakMap,r=new WeakMap,o=new Set;function s(e){if(!(this instanceof s))throw new TypeError(\"Constructor requires 'new' operator\");i.set(this,e)}function h(){throw new TypeError(\"Function is not a constructor\")}function c(e,t,i,n){e=0 in arguments?Number(arguments[0]):0,t=1 in arguments?Number(arguments[1]):0,i=2 in arguments?Number(arguments[2]):0,n=3 in arguments?Number(arguments[3]):0,this.right=(this.x=this.left=e)+(this.width=i),this.bottom=(this.y=this.top=t)+(this.height=n),Object.freeze(this)}function d(){t=requestAnimationFrame(d);var s=new WeakMap,p=new Set;o.forEach((function(t){r.get(t).forEach((function(i){var r=t instanceof window.SVGElement,o=a.get(t),d=r?0:parseFloat(o.paddingTop),f=r?0:parseFloat(o.paddingRight),l=r?0:parseFloat(o.paddingBottom),u=r?0:parseFloat(o.paddingLeft),g=r?0:parseFloat(o.borderTopWidth),m=r?0:parseFloat(o.borderRightWidth),w=r?0:parseFloat(o.borderBottomWidth),b=u+f,F=d+l,v=(r?0:parseFloat(o.borderLeftWidth))+m,W=g+w,y=r?0:t.offsetHeight-W-t.clientHeight,E=r?0:t.offsetWidth-v-t.clientWidth,R=b+v,z=F+W,M=r?t.width:parseFloat(o.width)-R-E,O=r?t.height:parseFloat(o.height)-z-y;if(n.has(t)){var k=n.get(t);if(k[0]===M&&k[1]===O)return}n.set(t,[M,O]);var S=Object.create(h.prototype);S.target=t,S.contentRect=new c(u,d,M,O),s.has(i)||(s.set(i,[]),p.add(i)),s.get(i).push(S)}))})),p.forEach((function(e){i.get(e).call(e,s.get(e),e)}))}return s.prototype.observe=function(i){if(i instanceof window.Element){r.has(i)||(r.set(i,new Set),o.add(i),a.set(i,window.getComputedStyle(i)));var n=r.get(i);n.has(this)||n.add(this),cancelAnimationFrame(t),t=requestAnimationFrame(d)}},s.prototype.unobserve=function(i){if(i instanceof window.Element&&r.has(i)){var n=r.get(i);n.has(this)&&(n.delete(this),n.size||(r.delete(i),o.delete(i))),n.size||r.delete(i),o.size||cancelAnimationFrame(t)}},A.DOMRectReadOnly=c,A.ResizeObserver=s,A.ResizeObserverEntry=h,A}; // eslint-disable-line\nmpl.toolbar_items = [[\"Home\", \"Reset original view\", \"fa fa-home icon-home\", \"home\"], [\"Back\", \"Back to previous view\", \"fa fa-arrow-left icon-arrow-left\", \"back\"], [\"Forward\", \"Forward to next view\", \"fa fa-arrow-right icon-arrow-right\", \"forward\"], [\"\", \"\", \"\", \"\"], [\"Pan\", \"Left button pans, Right button zooms\\nx/y fixes axis, CTRL fixes aspect\", \"fa fa-arrows icon-move\", \"pan\"], [\"Zoom\", \"Zoom to rectangle\\nx/y fixes axis, CTRL fixes aspect\", \"fa fa-square-o icon-check-empty\", \"zoom\"], [\"\", \"\", \"\", \"\"], [\"Download\", \"Download plot\", \"fa fa-floppy-o icon-save\", \"download\"]];\n\nmpl.extensions = [\"eps\", \"jpeg\", \"pdf\", \"png\", \"ps\", \"raw\", \"svg\", \"tif\"];\n\nmpl.default_extension = \"png\";/* global mpl */\n\nvar comm_websocket_adapter = function (comm) {\n    // Create a \"websocket\"-like object which calls the given IPython comm\n    // object with the appropriate methods. Currently this is a non binary\n    // socket, so there is still some room for performance tuning.\n    var ws = {};\n\n    ws.close = function () {\n        comm.close();\n    };\n    ws.send = function (m) {\n        //console.log('sending', m);\n        comm.send(m);\n    };\n    // Register the callback with on_msg.\n    comm.on_msg(function (msg) {\n        //console.log('receiving', msg['content']['data'], msg);\n        // Pass the mpl event to the overridden (by mpl) onmessage function.\n        ws.onmessage(msg['content']['data']);\n    });\n    return ws;\n};\n\nmpl.mpl_figure_comm = function (comm, msg) {\n    // This is the function which gets called when the mpl process\n    // starts-up an IPython Comm through the \"matplotlib\" channel.\n\n    var id = msg.content.data.id;\n    // Get hold of the div created by the display call when the Comm\n    // socket was opened in Python.\n    var element = document.getElementById(id);\n    var ws_proxy = comm_websocket_adapter(comm);\n\n    function ondownload(figure, _format) {\n        window.open(figure.canvas.toDataURL());\n    }\n\n    var fig = new mpl.figure(id, ws_proxy, ondownload, element);\n\n    // Call onopen now - mpl needs it, as it is assuming we've passed it a real\n    // web socket which is closed, not our websocket->open comm proxy.\n    ws_proxy.onopen();\n\n    fig.parent_element = element;\n    fig.cell_info = mpl.find_output_cell(\"<div id='\" + id + \"'></div>\");\n    if (!fig.cell_info) {\n        console.error('Failed to find cell for figure', id, fig);\n        return;\n    }\n    fig.cell_info[0].output_area.element.on(\n        'cleared',\n        { fig: fig },\n        fig._remove_fig_handler\n    );\n};\n\nmpl.figure.prototype.handle_close = function (fig, msg) {\n    var width = fig.canvas.width / fig.ratio;\n    fig.cell_info[0].output_area.element.off(\n        'cleared',\n        fig._remove_fig_handler\n    );\n    fig.resizeObserverInstance.unobserve(fig.canvas_div);\n\n    // Update the output cell to use the data from the current canvas.\n    fig.push_to_output();\n    var dataURL = fig.canvas.toDataURL();\n    // Re-enable the keyboard manager in IPython - without this line, in FF,\n    // the notebook keyboard shortcuts fail.\n    IPython.keyboard_manager.enable();\n    fig.parent_element.innerHTML =\n        '<img src=\"' + dataURL + '\" width=\"' + width + '\">';\n    fig.close_ws(fig, msg);\n};\n\nmpl.figure.prototype.close_ws = function (fig, msg) {\n    fig.send_message('closing', msg);\n    // fig.ws.close()\n};\n\nmpl.figure.prototype.push_to_output = function (_remove_interactive) {\n    // Turn the data on the canvas into data in the output cell.\n    var width = this.canvas.width / this.ratio;\n    var dataURL = this.canvas.toDataURL();\n    this.cell_info[1]['text/html'] =\n        '<img src=\"' + dataURL + '\" width=\"' + width + '\">';\n};\n\nmpl.figure.prototype.updated_canvas_event = function () {\n    // Tell IPython that the notebook contents must change.\n    IPython.notebook.set_dirty(true);\n    this.send_message('ack', {});\n    var fig = this;\n    // Wait a second, then push the new image to the DOM so\n    // that it is saved nicely (might be nice to debounce this).\n    setTimeout(function () {\n        fig.push_to_output();\n    }, 1000);\n};\n\nmpl.figure.prototype._init_toolbar = function () {\n    var fig = this;\n\n    var toolbar = document.createElement('div');\n    toolbar.classList = 'btn-toolbar';\n    this.root.appendChild(toolbar);\n\n    function on_click_closure(name) {\n        return function (_event) {\n            return fig.toolbar_button_onclick(name);\n        };\n    }\n\n    function on_mouseover_closure(tooltip) {\n        return function (event) {\n            if (!event.currentTarget.disabled) {\n                return fig.toolbar_button_onmouseover(tooltip);\n            }\n        };\n    }\n\n    fig.buttons = {};\n    var buttonGroup = document.createElement('div');\n    buttonGroup.classList = 'btn-group';\n    var button;\n    for (var toolbar_ind in mpl.toolbar_items) {\n        var name = mpl.toolbar_items[toolbar_ind][0];\n        var tooltip = mpl.toolbar_items[toolbar_ind][1];\n        var image = mpl.toolbar_items[toolbar_ind][2];\n        var method_name = mpl.toolbar_items[toolbar_ind][3];\n\n        if (!name) {\n            /* Instead of a spacer, we start a new button group. */\n            if (buttonGroup.hasChildNodes()) {\n                toolbar.appendChild(buttonGroup);\n            }\n            buttonGroup = document.createElement('div');\n            buttonGroup.classList = 'btn-group';\n            continue;\n        }\n\n        button = fig.buttons[name] = document.createElement('button');\n        button.classList = 'btn btn-default';\n        button.href = '#';\n        button.title = name;\n        button.innerHTML = '<i class=\"fa ' + image + ' fa-lg\"></i>';\n        button.addEventListener('click', on_click_closure(method_name));\n        button.addEventListener('mouseover', on_mouseover_closure(tooltip));\n        buttonGroup.appendChild(button);\n    }\n\n    if (buttonGroup.hasChildNodes()) {\n        toolbar.appendChild(buttonGroup);\n    }\n\n    // Add the status bar.\n    var status_bar = document.createElement('span');\n    status_bar.classList = 'mpl-message pull-right';\n    toolbar.appendChild(status_bar);\n    this.message = status_bar;\n\n    // Add the close button to the window.\n    var buttongrp = document.createElement('div');\n    buttongrp.classList = 'btn-group inline pull-right';\n    button = document.createElement('button');\n    button.classList = 'btn btn-mini btn-primary';\n    button.href = '#';\n    button.title = 'Stop Interaction';\n    button.innerHTML = '<i class=\"fa fa-power-off icon-remove icon-large\"></i>';\n    button.addEventListener('click', function (_evt) {\n        fig.handle_close(fig, {});\n    });\n    button.addEventListener(\n        'mouseover',\n        on_mouseover_closure('Stop Interaction')\n    );\n    buttongrp.appendChild(button);\n    var titlebar = this.root.querySelector('.ui-dialog-titlebar');\n    titlebar.insertBefore(buttongrp, titlebar.firstChild);\n};\n\nmpl.figure.prototype._remove_fig_handler = function (event) {\n    var fig = event.data.fig;\n    if (event.target !== this) {\n        // Ignore bubbled events from children.\n        return;\n    }\n    fig.close_ws(fig, {});\n};\n\nmpl.figure.prototype._root_extra_style = function (el) {\n    el.style.boxSizing = 'content-box'; // override notebook setting of border-box.\n};\n\nmpl.figure.prototype._canvas_extra_style = function (el) {\n    // this is important to make the div 'focusable\n    el.setAttribute('tabindex', 0);\n    // reach out to IPython and tell the keyboard manager to turn it's self\n    // off when our div gets focus\n\n    // location in version 3\n    if (IPython.notebook.keyboard_manager) {\n        IPython.notebook.keyboard_manager.register_events(el);\n    } else {\n        // location in version 2\n        IPython.keyboard_manager.register_events(el);\n    }\n};\n\nmpl.figure.prototype._key_event_extra = function (event, _name) {\n    var manager = IPython.notebook.keyboard_manager;\n    if (!manager) {\n        manager = IPython.keyboard_manager;\n    }\n\n    // Check for shift+enter\n    if (event.shiftKey && event.which === 13) {\n        this.canvas_div.blur();\n        // select the cell after this one\n        var index = IPython.notebook.find_cell_index(this.cell_info[0]);\n        IPython.notebook.select(index + 1);\n    }\n};\n\nmpl.figure.prototype.handle_save = function (fig, _msg) {\n    fig.ondownload(fig, null);\n};\n\nmpl.find_output_cell = function (html_output) {\n    // Return the cell and output element which can be found *uniquely* in the notebook.\n    // Note - this is a bit hacky, but it is done because the \"notebook_saving.Notebook\"\n    // IPython event is triggered only after the cells have been serialised, which for\n    // our purposes (turning an active figure into a static one), is too late.\n    var cells = IPython.notebook.get_cells();\n    var ncells = cells.length;\n    for (var i = 0; i < ncells; i++) {\n        var cell = cells[i];\n        if (cell.cell_type === 'code') {\n            for (var j = 0; j < cell.output_area.outputs.length; j++) {\n                var data = cell.output_area.outputs[j];\n                if (data.data) {\n                    // IPython >= 3 moved mimebundle to data attribute of output\n                    data = data.data;\n                }\n                if (data['text/html'] === html_output) {\n                    return [cell, data, j];\n                }\n            }\n        }\n    }\n};\n\n// Register the function which deals with the matplotlib target/channel.\n// The kernel may be null if the page has been refreshed.\nif (IPython.notebook.kernel !== null) {\n    IPython.notebook.kernel.comm_manager.register_target(\n        'matplotlib',\n        mpl.mpl_figure_comm\n    );\n}\n",
      "text/plain": [
       "<IPython.core.display.Javascript object>"
      ]
     },
     "metadata": {},
     "output_type": "display_data"
    },
    {
     "data": {
      "text/html": [
       "<img src=\"data:image/png;base64,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\" width=\"640\">"
      ],
      "text/plain": [
       "<IPython.core.display.HTML object>"
      ]
     },
     "metadata": {},
     "output_type": "display_data"
    },
    {
     "data": {
      "application/javascript": "/* Put everything inside the global mpl namespace */\n/* global mpl */\nwindow.mpl = {};\n\nmpl.get_websocket_type = function () {\n    if (typeof WebSocket !== 'undefined') {\n        return WebSocket;\n    } else if (typeof MozWebSocket !== 'undefined') {\n        return MozWebSocket;\n    } else {\n        alert(\n            'Your browser does not have WebSocket support. ' +\n                'Please try Chrome, Safari or Firefox ≥ 6. ' +\n                'Firefox 4 and 5 are also supported but you ' +\n                'have to enable WebSockets in about:config.'\n        );\n    }\n};\n\nmpl.figure = function (figure_id, websocket, ondownload, parent_element) {\n    this.id = figure_id;\n\n    this.ws = websocket;\n\n    this.supports_binary = this.ws.binaryType !== undefined;\n\n    if (!this.supports_binary) {\n        var warnings = document.getElementById('mpl-warnings');\n        if (warnings) {\n            warnings.style.display = 'block';\n            warnings.textContent =\n                'This browser does not support binary websocket messages. ' +\n                'Performance may be slow.';\n        }\n    }\n\n    this.imageObj = new Image();\n\n    this.context = undefined;\n    this.message = undefined;\n    this.canvas = undefined;\n    this.rubberband_canvas = undefined;\n    this.rubberband_context = undefined;\n    this.format_dropdown = undefined;\n\n    this.image_mode = 'full';\n\n    this.root = document.createElement('div');\n    this.root.setAttribute('style', 'display: inline-block');\n    this._root_extra_style(this.root);\n\n    parent_element.appendChild(this.root);\n\n    this._init_header(this);\n    this._init_canvas(this);\n    this._init_toolbar(this);\n\n    var fig = this;\n\n    this.waiting = false;\n\n    this.ws.onopen = function () {\n        fig.send_message('supports_binary', { value: fig.supports_binary });\n        fig.send_message('send_image_mode', {});\n        if (fig.ratio !== 1) {\n            fig.send_message('set_dpi_ratio', { dpi_ratio: fig.ratio });\n        }\n        fig.send_message('refresh', {});\n    };\n\n    this.imageObj.onload = function () {\n        if (fig.image_mode === 'full') {\n            // Full images could contain transparency (where diff images\n            // almost always do), so we need to clear the canvas so that\n            // there is no ghosting.\n            fig.context.clearRect(0, 0, fig.canvas.width, fig.canvas.height);\n        }\n        fig.context.drawImage(fig.imageObj, 0, 0);\n    };\n\n    this.imageObj.onunload = function () {\n        fig.ws.close();\n    };\n\n    this.ws.onmessage = this._make_on_message_function(this);\n\n    this.ondownload = ondownload;\n};\n\nmpl.figure.prototype._init_header = function () {\n    var titlebar = document.createElement('div');\n    titlebar.classList =\n        'ui-dialog-titlebar ui-widget-header ui-corner-all ui-helper-clearfix';\n    var titletext = document.createElement('div');\n    titletext.classList = 'ui-dialog-title';\n    titletext.setAttribute(\n        'style',\n        'width: 100%; text-align: center; padding: 3px;'\n    );\n    titlebar.appendChild(titletext);\n    this.root.appendChild(titlebar);\n    this.header = titletext;\n};\n\nmpl.figure.prototype._canvas_extra_style = function (_canvas_div) {};\n\nmpl.figure.prototype._root_extra_style = function (_canvas_div) {};\n\nmpl.figure.prototype._init_canvas = function () {\n    var fig = this;\n\n    var canvas_div = (this.canvas_div = document.createElement('div'));\n    canvas_div.setAttribute(\n        'style',\n        'border: 1px solid #ddd;' +\n            'box-sizing: content-box;' +\n            'clear: both;' +\n            'min-height: 1px;' +\n            'min-width: 1px;' +\n            'outline: 0;' +\n            'overflow: hidden;' +\n            'position: relative;' +\n            'resize: both;'\n    );\n\n    function on_keyboard_event_closure(name) {\n        return function (event) {\n            return fig.key_event(event, name);\n        };\n    }\n\n    canvas_div.addEventListener(\n        'keydown',\n        on_keyboard_event_closure('key_press')\n    );\n    canvas_div.addEventListener(\n        'keyup',\n        on_keyboard_event_closure('key_release')\n    );\n\n    this._canvas_extra_style(canvas_div);\n    this.root.appendChild(canvas_div);\n\n    var canvas = (this.canvas = document.createElement('canvas'));\n    canvas.classList.add('mpl-canvas');\n    canvas.setAttribute('style', 'box-sizing: content-box;');\n\n    this.context = canvas.getContext('2d');\n\n    var backingStore =\n        this.context.backingStorePixelRatio ||\n        this.context.webkitBackingStorePixelRatio ||\n        this.context.mozBackingStorePixelRatio ||\n        this.context.msBackingStorePixelRatio ||\n        this.context.oBackingStorePixelRatio ||\n        this.context.backingStorePixelRatio ||\n        1;\n\n    this.ratio = (window.devicePixelRatio || 1) / backingStore;\n\n    var rubberband_canvas = (this.rubberband_canvas = document.createElement(\n        'canvas'\n    ));\n    rubberband_canvas.setAttribute(\n        'style',\n        'box-sizing: content-box; position: absolute; left: 0; top: 0; z-index: 1;'\n    );\n\n    // Apply a ponyfill if ResizeObserver is not implemented by browser.\n    if (this.ResizeObserver === undefined) {\n        if (window.ResizeObserver !== undefined) {\n            this.ResizeObserver = window.ResizeObserver;\n        } else {\n            var obs = _JSXTOOLS_RESIZE_OBSERVER({});\n            this.ResizeObserver = obs.ResizeObserver;\n        }\n    }\n\n    this.resizeObserverInstance = new this.ResizeObserver(function (entries) {\n        var nentries = entries.length;\n        for (var i = 0; i < nentries; i++) {\n            var entry = entries[i];\n            var width, height;\n            if (entry.contentBoxSize) {\n                if (entry.contentBoxSize instanceof Array) {\n                    // Chrome 84 implements new version of spec.\n                    width = entry.contentBoxSize[0].inlineSize;\n                    height = entry.contentBoxSize[0].blockSize;\n                } else {\n                    // Firefox implements old version of spec.\n                    width = entry.contentBoxSize.inlineSize;\n                    height = entry.contentBoxSize.blockSize;\n                }\n            } else {\n                // Chrome <84 implements even older version of spec.\n                width = entry.contentRect.width;\n                height = entry.contentRect.height;\n            }\n\n            // Keep the size of the canvas and rubber band canvas in sync with\n            // the canvas container.\n            if (entry.devicePixelContentBoxSize) {\n                // Chrome 84 implements new version of spec.\n                canvas.setAttribute(\n                    'width',\n                    entry.devicePixelContentBoxSize[0].inlineSize\n                );\n                canvas.setAttribute(\n                    'height',\n                    entry.devicePixelContentBoxSize[0].blockSize\n                );\n            } else {\n                canvas.setAttribute('width', width * fig.ratio);\n                canvas.setAttribute('height', height * fig.ratio);\n            }\n            canvas.setAttribute(\n                'style',\n                'width: ' + width + 'px; height: ' + height + 'px;'\n            );\n\n            rubberband_canvas.setAttribute('width', width);\n            rubberband_canvas.setAttribute('height', height);\n\n            // And update the size in Python. We ignore the initial 0/0 size\n            // that occurs as the element is placed into the DOM, which should\n            // otherwise not happen due to the minimum size styling.\n            if (fig.ws.readyState == 1 && width != 0 && height != 0) {\n                fig.request_resize(width, height);\n            }\n        }\n    });\n    this.resizeObserverInstance.observe(canvas_div);\n\n    function on_mouse_event_closure(name) {\n        return function (event) {\n            return fig.mouse_event(event, name);\n        };\n    }\n\n    rubberband_canvas.addEventListener(\n        'mousedown',\n        on_mouse_event_closure('button_press')\n    );\n    rubberband_canvas.addEventListener(\n        'mouseup',\n        on_mouse_event_closure('button_release')\n    );\n    // Throttle sequential mouse events to 1 every 20ms.\n    rubberband_canvas.addEventListener(\n        'mousemove',\n        on_mouse_event_closure('motion_notify')\n    );\n\n    rubberband_canvas.addEventListener(\n        'mouseenter',\n        on_mouse_event_closure('figure_enter')\n    );\n    rubberband_canvas.addEventListener(\n        'mouseleave',\n        on_mouse_event_closure('figure_leave')\n    );\n\n    canvas_div.addEventListener('wheel', function (event) {\n        if (event.deltaY < 0) {\n            event.step = 1;\n        } else {\n            event.step = -1;\n        }\n        on_mouse_event_closure('scroll')(event);\n    });\n\n    canvas_div.appendChild(canvas);\n    canvas_div.appendChild(rubberband_canvas);\n\n    this.rubberband_context = rubberband_canvas.getContext('2d');\n    this.rubberband_context.strokeStyle = '#000000';\n\n    this._resize_canvas = function (width, height, forward) {\n        if (forward) {\n            canvas_div.style.width = width + 'px';\n            canvas_div.style.height = height + 'px';\n        }\n    };\n\n    // Disable right mouse context menu.\n    this.rubberband_canvas.addEventListener('contextmenu', function (_e) {\n        event.preventDefault();\n        return false;\n    });\n\n    function set_focus() {\n        canvas.focus();\n        canvas_div.focus();\n    }\n\n    window.setTimeout(set_focus, 100);\n};\n\nmpl.figure.prototype._init_toolbar = function () {\n    var fig = this;\n\n    var toolbar = document.createElement('div');\n    toolbar.classList = 'mpl-toolbar';\n    this.root.appendChild(toolbar);\n\n    function on_click_closure(name) {\n        return function (_event) {\n            return fig.toolbar_button_onclick(name);\n        };\n    }\n\n    function on_mouseover_closure(tooltip) {\n        return function (event) {\n            if (!event.currentTarget.disabled) {\n                return fig.toolbar_button_onmouseover(tooltip);\n            }\n        };\n    }\n\n    fig.buttons = {};\n    var buttonGroup = document.createElement('div');\n    buttonGroup.classList = 'mpl-button-group';\n    for (var toolbar_ind in mpl.toolbar_items) {\n        var name = mpl.toolbar_items[toolbar_ind][0];\n        var tooltip = mpl.toolbar_items[toolbar_ind][1];\n        var image = mpl.toolbar_items[toolbar_ind][2];\n        var method_name = mpl.toolbar_items[toolbar_ind][3];\n\n        if (!name) {\n            /* Instead of a spacer, we start a new button group. */\n            if (buttonGroup.hasChildNodes()) {\n                toolbar.appendChild(buttonGroup);\n            }\n            buttonGroup = document.createElement('div');\n            buttonGroup.classList = 'mpl-button-group';\n            continue;\n        }\n\n        var button = (fig.buttons[name] = document.createElement('button'));\n        button.classList = 'mpl-widget';\n        button.setAttribute('role', 'button');\n        button.setAttribute('aria-disabled', 'false');\n        button.addEventListener('click', on_click_closure(method_name));\n        button.addEventListener('mouseover', on_mouseover_closure(tooltip));\n\n        var icon_img = document.createElement('img');\n        icon_img.src = '_images/' + image + '.png';\n        icon_img.srcset = '_images/' + image + '_large.png 2x';\n        icon_img.alt = tooltip;\n        button.appendChild(icon_img);\n\n        buttonGroup.appendChild(button);\n    }\n\n    if (buttonGroup.hasChildNodes()) {\n        toolbar.appendChild(buttonGroup);\n    }\n\n    var fmt_picker = document.createElement('select');\n    fmt_picker.classList = 'mpl-widget';\n    toolbar.appendChild(fmt_picker);\n    this.format_dropdown = fmt_picker;\n\n    for (var ind in mpl.extensions) {\n        var fmt = mpl.extensions[ind];\n        var option = document.createElement('option');\n        option.selected = fmt === mpl.default_extension;\n        option.innerHTML = fmt;\n        fmt_picker.appendChild(option);\n    }\n\n    var status_bar = document.createElement('span');\n    status_bar.classList = 'mpl-message';\n    toolbar.appendChild(status_bar);\n    this.message = status_bar;\n};\n\nmpl.figure.prototype.request_resize = function (x_pixels, y_pixels) {\n    // Request matplotlib to resize the figure. Matplotlib will then trigger a resize in the client,\n    // which will in turn request a refresh of the image.\n    this.send_message('resize', { width: x_pixels, height: y_pixels });\n};\n\nmpl.figure.prototype.send_message = function (type, properties) {\n    properties['type'] = type;\n    properties['figure_id'] = this.id;\n    this.ws.send(JSON.stringify(properties));\n};\n\nmpl.figure.prototype.send_draw_message = function () {\n    if (!this.waiting) {\n        this.waiting = true;\n        this.ws.send(JSON.stringify({ type: 'draw', figure_id: this.id }));\n    }\n};\n\nmpl.figure.prototype.handle_save = function (fig, _msg) {\n    var format_dropdown = fig.format_dropdown;\n    var format = format_dropdown.options[format_dropdown.selectedIndex].value;\n    fig.ondownload(fig, format);\n};\n\nmpl.figure.prototype.handle_resize = function (fig, msg) {\n    var size = msg['size'];\n    if (size[0] !== fig.canvas.width || size[1] !== fig.canvas.height) {\n        fig._resize_canvas(size[0], size[1], msg['forward']);\n        fig.send_message('refresh', {});\n    }\n};\n\nmpl.figure.prototype.handle_rubberband = function (fig, msg) {\n    var x0 = msg['x0'] / fig.ratio;\n    var y0 = (fig.canvas.height - msg['y0']) / fig.ratio;\n    var x1 = msg['x1'] / fig.ratio;\n    var y1 = (fig.canvas.height - msg['y1']) / fig.ratio;\n    x0 = Math.floor(x0) + 0.5;\n    y0 = Math.floor(y0) + 0.5;\n    x1 = Math.floor(x1) + 0.5;\n    y1 = Math.floor(y1) + 0.5;\n    var min_x = Math.min(x0, x1);\n    var min_y = Math.min(y0, y1);\n    var width = Math.abs(x1 - x0);\n    var height = Math.abs(y1 - y0);\n\n    fig.rubberband_context.clearRect(\n        0,\n        0,\n        fig.canvas.width / fig.ratio,\n        fig.canvas.height / fig.ratio\n    );\n\n    fig.rubberband_context.strokeRect(min_x, min_y, width, height);\n};\n\nmpl.figure.prototype.handle_figure_label = function (fig, msg) {\n    // Updates the figure title.\n    fig.header.textContent = msg['label'];\n};\n\nmpl.figure.prototype.handle_cursor = function (fig, msg) {\n    var cursor = msg['cursor'];\n    switch (cursor) {\n        case 0:\n            cursor = 'pointer';\n            break;\n        case 1:\n            cursor = 'default';\n            break;\n        case 2:\n            cursor = 'crosshair';\n            break;\n        case 3:\n            cursor = 'move';\n            break;\n    }\n    fig.rubberband_canvas.style.cursor = cursor;\n};\n\nmpl.figure.prototype.handle_message = function (fig, msg) {\n    fig.message.textContent = msg['message'];\n};\n\nmpl.figure.prototype.handle_draw = function (fig, _msg) {\n    // Request the server to send over a new figure.\n    fig.send_draw_message();\n};\n\nmpl.figure.prototype.handle_image_mode = function (fig, msg) {\n    fig.image_mode = msg['mode'];\n};\n\nmpl.figure.prototype.handle_history_buttons = function (fig, msg) {\n    for (var key in msg) {\n        if (!(key in fig.buttons)) {\n            continue;\n        }\n        fig.buttons[key].disabled = !msg[key];\n        fig.buttons[key].setAttribute('aria-disabled', !msg[key]);\n    }\n};\n\nmpl.figure.prototype.handle_navigate_mode = function (fig, msg) {\n    if (msg['mode'] === 'PAN') {\n        fig.buttons['Pan'].classList.add('active');\n        fig.buttons['Zoom'].classList.remove('active');\n    } else if (msg['mode'] === 'ZOOM') {\n        fig.buttons['Pan'].classList.remove('active');\n        fig.buttons['Zoom'].classList.add('active');\n    } else {\n        fig.buttons['Pan'].classList.remove('active');\n        fig.buttons['Zoom'].classList.remove('active');\n    }\n};\n\nmpl.figure.prototype.updated_canvas_event = function () {\n    // Called whenever the canvas gets updated.\n    this.send_message('ack', {});\n};\n\n// A function to construct a web socket function for onmessage handling.\n// Called in the figure constructor.\nmpl.figure.prototype._make_on_message_function = function (fig) {\n    return function socket_on_message(evt) {\n        if (evt.data instanceof Blob) {\n            /* FIXME: We get \"Resource interpreted as Image but\n             * transferred with MIME type text/plain:\" errors on\n             * Chrome.  But how to set the MIME type?  It doesn't seem\n             * to be part of the websocket stream */\n            evt.data.type = 'image/png';\n\n            /* Free the memory for the previous frames */\n            if (fig.imageObj.src) {\n                (window.URL || window.webkitURL).revokeObjectURL(\n                    fig.imageObj.src\n                );\n            }\n\n            fig.imageObj.src = (window.URL || window.webkitURL).createObjectURL(\n                evt.data\n            );\n            fig.updated_canvas_event();\n            fig.waiting = false;\n            return;\n        } else if (\n            typeof evt.data === 'string' &&\n            evt.data.slice(0, 21) === 'data:image/png;base64'\n        ) {\n            fig.imageObj.src = evt.data;\n            fig.updated_canvas_event();\n            fig.waiting = false;\n            return;\n        }\n\n        var msg = JSON.parse(evt.data);\n        var msg_type = msg['type'];\n\n        // Call the  \"handle_{type}\" callback, which takes\n        // the figure and JSON message as its only arguments.\n        try {\n            var callback = fig['handle_' + msg_type];\n        } catch (e) {\n            console.log(\n                \"No handler for the '\" + msg_type + \"' message type: \",\n                msg\n            );\n            return;\n        }\n\n        if (callback) {\n            try {\n                // console.log(\"Handling '\" + msg_type + \"' message: \", msg);\n                callback(fig, msg);\n            } catch (e) {\n                console.log(\n                    \"Exception inside the 'handler_\" + msg_type + \"' callback:\",\n                    e,\n                    e.stack,\n                    msg\n                );\n            }\n        }\n    };\n};\n\n// from http://stackoverflow.com/questions/1114465/getting-mouse-location-in-canvas\nmpl.findpos = function (e) {\n    //this section is from http://www.quirksmode.org/js/events_properties.html\n    var targ;\n    if (!e) {\n        e = window.event;\n    }\n    if (e.target) {\n        targ = e.target;\n    } else if (e.srcElement) {\n        targ = e.srcElement;\n    }\n    if (targ.nodeType === 3) {\n        // defeat Safari bug\n        targ = targ.parentNode;\n    }\n\n    // pageX,Y are the mouse positions relative to the document\n    var boundingRect = targ.getBoundingClientRect();\n    var x = e.pageX - (boundingRect.left + document.body.scrollLeft);\n    var y = e.pageY - (boundingRect.top + document.body.scrollTop);\n\n    return { x: x, y: y };\n};\n\n/*\n * return a copy of an object with only non-object keys\n * we need this to avoid circular references\n * http://stackoverflow.com/a/24161582/3208463\n */\nfunction simpleKeys(original) {\n    return Object.keys(original).reduce(function (obj, key) {\n        if (typeof original[key] !== 'object') {\n            obj[key] = original[key];\n        }\n        return obj;\n    }, {});\n}\n\nmpl.figure.prototype.mouse_event = function (event, name) {\n    var canvas_pos = mpl.findpos(event);\n\n    if (name === 'button_press') {\n        this.canvas.focus();\n        this.canvas_div.focus();\n    }\n\n    var x = canvas_pos.x * this.ratio;\n    var y = canvas_pos.y * this.ratio;\n\n    this.send_message(name, {\n        x: x,\n        y: y,\n        button: event.button,\n        step: event.step,\n        guiEvent: simpleKeys(event),\n    });\n\n    /* This prevents the web browser from automatically changing to\n     * the text insertion cursor when the button is pressed.  We want\n     * to control all of the cursor setting manually through the\n     * 'cursor' event from matplotlib */\n    event.preventDefault();\n    return false;\n};\n\nmpl.figure.prototype._key_event_extra = function (_event, _name) {\n    // Handle any extra behaviour associated with a key event\n};\n\nmpl.figure.prototype.key_event = function (event, name) {\n    // Prevent repeat events\n    if (name === 'key_press') {\n        if (event.which === this._key) {\n            return;\n        } else {\n            this._key = event.which;\n        }\n    }\n    if (name === 'key_release') {\n        this._key = null;\n    }\n\n    var value = '';\n    if (event.ctrlKey && event.which !== 17) {\n        value += 'ctrl+';\n    }\n    if (event.altKey && event.which !== 18) {\n        value += 'alt+';\n    }\n    if (event.shiftKey && event.which !== 16) {\n        value += 'shift+';\n    }\n\n    value += 'k';\n    value += event.which.toString();\n\n    this._key_event_extra(event, name);\n\n    this.send_message(name, { key: value, guiEvent: simpleKeys(event) });\n    return false;\n};\n\nmpl.figure.prototype.toolbar_button_onclick = function (name) {\n    if (name === 'download') {\n        this.handle_save(this, null);\n    } else {\n        this.send_message('toolbar_button', { name: name });\n    }\n};\n\nmpl.figure.prototype.toolbar_button_onmouseover = function (tooltip) {\n    this.message.textContent = tooltip;\n};\n\n///////////////// REMAINING CONTENT GENERATED BY embed_js.py /////////////////\n// prettier-ignore\nvar _JSXTOOLS_RESIZE_OBSERVER=function(A){var t,i=new WeakMap,n=new WeakMap,a=new WeakMap,r=new WeakMap,o=new Set;function s(e){if(!(this instanceof s))throw new TypeError(\"Constructor requires 'new' operator\");i.set(this,e)}function h(){throw new TypeError(\"Function is not a constructor\")}function c(e,t,i,n){e=0 in arguments?Number(arguments[0]):0,t=1 in arguments?Number(arguments[1]):0,i=2 in arguments?Number(arguments[2]):0,n=3 in arguments?Number(arguments[3]):0,this.right=(this.x=this.left=e)+(this.width=i),this.bottom=(this.y=this.top=t)+(this.height=n),Object.freeze(this)}function d(){t=requestAnimationFrame(d);var s=new WeakMap,p=new Set;o.forEach((function(t){r.get(t).forEach((function(i){var r=t instanceof window.SVGElement,o=a.get(t),d=r?0:parseFloat(o.paddingTop),f=r?0:parseFloat(o.paddingRight),l=r?0:parseFloat(o.paddingBottom),u=r?0:parseFloat(o.paddingLeft),g=r?0:parseFloat(o.borderTopWidth),m=r?0:parseFloat(o.borderRightWidth),w=r?0:parseFloat(o.borderBottomWidth),b=u+f,F=d+l,v=(r?0:parseFloat(o.borderLeftWidth))+m,W=g+w,y=r?0:t.offsetHeight-W-t.clientHeight,E=r?0:t.offsetWidth-v-t.clientWidth,R=b+v,z=F+W,M=r?t.width:parseFloat(o.width)-R-E,O=r?t.height:parseFloat(o.height)-z-y;if(n.has(t)){var k=n.get(t);if(k[0]===M&&k[1]===O)return}n.set(t,[M,O]);var S=Object.create(h.prototype);S.target=t,S.contentRect=new c(u,d,M,O),s.has(i)||(s.set(i,[]),p.add(i)),s.get(i).push(S)}))})),p.forEach((function(e){i.get(e).call(e,s.get(e),e)}))}return s.prototype.observe=function(i){if(i instanceof window.Element){r.has(i)||(r.set(i,new Set),o.add(i),a.set(i,window.getComputedStyle(i)));var n=r.get(i);n.has(this)||n.add(this),cancelAnimationFrame(t),t=requestAnimationFrame(d)}},s.prototype.unobserve=function(i){if(i instanceof window.Element&&r.has(i)){var n=r.get(i);n.has(this)&&(n.delete(this),n.size||(r.delete(i),o.delete(i))),n.size||r.delete(i),o.size||cancelAnimationFrame(t)}},A.DOMRectReadOnly=c,A.ResizeObserver=s,A.ResizeObserverEntry=h,A}; // eslint-disable-line\nmpl.toolbar_items = [[\"Home\", \"Reset original view\", \"fa fa-home icon-home\", \"home\"], [\"Back\", \"Back to previous view\", \"fa fa-arrow-left icon-arrow-left\", \"back\"], [\"Forward\", \"Forward to next view\", \"fa fa-arrow-right icon-arrow-right\", \"forward\"], [\"\", \"\", \"\", \"\"], [\"Pan\", \"Left button pans, Right button zooms\\nx/y fixes axis, CTRL fixes aspect\", \"fa fa-arrows icon-move\", \"pan\"], [\"Zoom\", \"Zoom to rectangle\\nx/y fixes axis, CTRL fixes aspect\", \"fa fa-square-o icon-check-empty\", \"zoom\"], [\"\", \"\", \"\", \"\"], [\"Download\", \"Download plot\", \"fa fa-floppy-o icon-save\", \"download\"]];\n\nmpl.extensions = [\"eps\", \"jpeg\", \"pdf\", \"png\", \"ps\", \"raw\", \"svg\", \"tif\"];\n\nmpl.default_extension = \"png\";/* global mpl */\n\nvar comm_websocket_adapter = function (comm) {\n    // Create a \"websocket\"-like object which calls the given IPython comm\n    // object with the appropriate methods. Currently this is a non binary\n    // socket, so there is still some room for performance tuning.\n    var ws = {};\n\n    ws.close = function () {\n        comm.close();\n    };\n    ws.send = function (m) {\n        //console.log('sending', m);\n        comm.send(m);\n    };\n    // Register the callback with on_msg.\n    comm.on_msg(function (msg) {\n        //console.log('receiving', msg['content']['data'], msg);\n        // Pass the mpl event to the overridden (by mpl) onmessage function.\n        ws.onmessage(msg['content']['data']);\n    });\n    return ws;\n};\n\nmpl.mpl_figure_comm = function (comm, msg) {\n    // This is the function which gets called when the mpl process\n    // starts-up an IPython Comm through the \"matplotlib\" channel.\n\n    var id = msg.content.data.id;\n    // Get hold of the div created by the display call when the Comm\n    // socket was opened in Python.\n    var element = document.getElementById(id);\n    var ws_proxy = comm_websocket_adapter(comm);\n\n    function ondownload(figure, _format) {\n        window.open(figure.canvas.toDataURL());\n    }\n\n    var fig = new mpl.figure(id, ws_proxy, ondownload, element);\n\n    // Call onopen now - mpl needs it, as it is assuming we've passed it a real\n    // web socket which is closed, not our websocket->open comm proxy.\n    ws_proxy.onopen();\n\n    fig.parent_element = element;\n    fig.cell_info = mpl.find_output_cell(\"<div id='\" + id + \"'></div>\");\n    if (!fig.cell_info) {\n        console.error('Failed to find cell for figure', id, fig);\n        return;\n    }\n    fig.cell_info[0].output_area.element.on(\n        'cleared',\n        { fig: fig },\n        fig._remove_fig_handler\n    );\n};\n\nmpl.figure.prototype.handle_close = function (fig, msg) {\n    var width = fig.canvas.width / fig.ratio;\n    fig.cell_info[0].output_area.element.off(\n        'cleared',\n        fig._remove_fig_handler\n    );\n    fig.resizeObserverInstance.unobserve(fig.canvas_div);\n\n    // Update the output cell to use the data from the current canvas.\n    fig.push_to_output();\n    var dataURL = fig.canvas.toDataURL();\n    // Re-enable the keyboard manager in IPython - without this line, in FF,\n    // the notebook keyboard shortcuts fail.\n    IPython.keyboard_manager.enable();\n    fig.parent_element.innerHTML =\n        '<img src=\"' + dataURL + '\" width=\"' + width + '\">';\n    fig.close_ws(fig, msg);\n};\n\nmpl.figure.prototype.close_ws = function (fig, msg) {\n    fig.send_message('closing', msg);\n    // fig.ws.close()\n};\n\nmpl.figure.prototype.push_to_output = function (_remove_interactive) {\n    // Turn the data on the canvas into data in the output cell.\n    var width = this.canvas.width / this.ratio;\n    var dataURL = this.canvas.toDataURL();\n    this.cell_info[1]['text/html'] =\n        '<img src=\"' + dataURL + '\" width=\"' + width + '\">';\n};\n\nmpl.figure.prototype.updated_canvas_event = function () {\n    // Tell IPython that the notebook contents must change.\n    IPython.notebook.set_dirty(true);\n    this.send_message('ack', {});\n    var fig = this;\n    // Wait a second, then push the new image to the DOM so\n    // that it is saved nicely (might be nice to debounce this).\n    setTimeout(function () {\n        fig.push_to_output();\n    }, 1000);\n};\n\nmpl.figure.prototype._init_toolbar = function () {\n    var fig = this;\n\n    var toolbar = document.createElement('div');\n    toolbar.classList = 'btn-toolbar';\n    this.root.appendChild(toolbar);\n\n    function on_click_closure(name) {\n        return function (_event) {\n            return fig.toolbar_button_onclick(name);\n        };\n    }\n\n    function on_mouseover_closure(tooltip) {\n        return function (event) {\n            if (!event.currentTarget.disabled) {\n                return fig.toolbar_button_onmouseover(tooltip);\n            }\n        };\n    }\n\n    fig.buttons = {};\n    var buttonGroup = document.createElement('div');\n    buttonGroup.classList = 'btn-group';\n    var button;\n    for (var toolbar_ind in mpl.toolbar_items) {\n        var name = mpl.toolbar_items[toolbar_ind][0];\n        var tooltip = mpl.toolbar_items[toolbar_ind][1];\n        var image = mpl.toolbar_items[toolbar_ind][2];\n        var method_name = mpl.toolbar_items[toolbar_ind][3];\n\n        if (!name) {\n            /* Instead of a spacer, we start a new button group. */\n            if (buttonGroup.hasChildNodes()) {\n                toolbar.appendChild(buttonGroup);\n            }\n            buttonGroup = document.createElement('div');\n            buttonGroup.classList = 'btn-group';\n            continue;\n        }\n\n        button = fig.buttons[name] = document.createElement('button');\n        button.classList = 'btn btn-default';\n        button.href = '#';\n        button.title = name;\n        button.innerHTML = '<i class=\"fa ' + image + ' fa-lg\"></i>';\n        button.addEventListener('click', on_click_closure(method_name));\n        button.addEventListener('mouseover', on_mouseover_closure(tooltip));\n        buttonGroup.appendChild(button);\n    }\n\n    if (buttonGroup.hasChildNodes()) {\n        toolbar.appendChild(buttonGroup);\n    }\n\n    // Add the status bar.\n    var status_bar = document.createElement('span');\n    status_bar.classList = 'mpl-message pull-right';\n    toolbar.appendChild(status_bar);\n    this.message = status_bar;\n\n    // Add the close button to the window.\n    var buttongrp = document.createElement('div');\n    buttongrp.classList = 'btn-group inline pull-right';\n    button = document.createElement('button');\n    button.classList = 'btn btn-mini btn-primary';\n    button.href = '#';\n    button.title = 'Stop Interaction';\n    button.innerHTML = '<i class=\"fa fa-power-off icon-remove icon-large\"></i>';\n    button.addEventListener('click', function (_evt) {\n        fig.handle_close(fig, {});\n    });\n    button.addEventListener(\n        'mouseover',\n        on_mouseover_closure('Stop Interaction')\n    );\n    buttongrp.appendChild(button);\n    var titlebar = this.root.querySelector('.ui-dialog-titlebar');\n    titlebar.insertBefore(buttongrp, titlebar.firstChild);\n};\n\nmpl.figure.prototype._remove_fig_handler = function (event) {\n    var fig = event.data.fig;\n    if (event.target !== this) {\n        // Ignore bubbled events from children.\n        return;\n    }\n    fig.close_ws(fig, {});\n};\n\nmpl.figure.prototype._root_extra_style = function (el) {\n    el.style.boxSizing = 'content-box'; // override notebook setting of border-box.\n};\n\nmpl.figure.prototype._canvas_extra_style = function (el) {\n    // this is important to make the div 'focusable\n    el.setAttribute('tabindex', 0);\n    // reach out to IPython and tell the keyboard manager to turn it's self\n    // off when our div gets focus\n\n    // location in version 3\n    if (IPython.notebook.keyboard_manager) {\n        IPython.notebook.keyboard_manager.register_events(el);\n    } else {\n        // location in version 2\n        IPython.keyboard_manager.register_events(el);\n    }\n};\n\nmpl.figure.prototype._key_event_extra = function (event, _name) {\n    var manager = IPython.notebook.keyboard_manager;\n    if (!manager) {\n        manager = IPython.keyboard_manager;\n    }\n\n    // Check for shift+enter\n    if (event.shiftKey && event.which === 13) {\n        this.canvas_div.blur();\n        // select the cell after this one\n        var index = IPython.notebook.find_cell_index(this.cell_info[0]);\n        IPython.notebook.select(index + 1);\n    }\n};\n\nmpl.figure.prototype.handle_save = function (fig, _msg) {\n    fig.ondownload(fig, null);\n};\n\nmpl.find_output_cell = function (html_output) {\n    // Return the cell and output element which can be found *uniquely* in the notebook.\n    // Note - this is a bit hacky, but it is done because the \"notebook_saving.Notebook\"\n    // IPython event is triggered only after the cells have been serialised, which for\n    // our purposes (turning an active figure into a static one), is too late.\n    var cells = IPython.notebook.get_cells();\n    var ncells = cells.length;\n    for (var i = 0; i < ncells; i++) {\n        var cell = cells[i];\n        if (cell.cell_type === 'code') {\n            for (var j = 0; j < cell.output_area.outputs.length; j++) {\n                var data = cell.output_area.outputs[j];\n                if (data.data) {\n                    // IPython >= 3 moved mimebundle to data attribute of output\n                    data = data.data;\n                }\n                if (data['text/html'] === html_output) {\n                    return [cell, data, j];\n                }\n            }\n        }\n    }\n};\n\n// Register the function which deals with the matplotlib target/channel.\n// The kernel may be null if the page has been refreshed.\nif (IPython.notebook.kernel !== null) {\n    IPython.notebook.kernel.comm_manager.register_target(\n        'matplotlib',\n        mpl.mpl_figure_comm\n    );\n}\n",
      "text/plain": [
       "<IPython.core.display.Javascript object>"
      ]
     },
     "metadata": {},
     "output_type": "display_data"
    },
    {
     "data": {
      "text/html": [
       "<img src=\"data:image/png;base64,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\" width=\"900\">"
      ],
      "text/plain": [
       "<IPython.core.display.HTML object>"
      ]
     },
     "metadata": {},
     "output_type": "display_data"
    },
    {
     "data": {
      "application/vnd.jupyter.widget-view+json": {
       "model_id": "aef0fdf7ce1b4e2f8fa6e7f02707062c",
       "version_major": 2,
       "version_minor": 0
      },
      "text/plain": [
       "interactive(children=(IntSlider(value=30000, continuous_update=False, description='Window size', max=100000, m…"
      ]
     },
     "metadata": {},
     "output_type": "display_data"
    }
   ],
   "source": [
    "window_size_w = IntSlider(\n",
    "    value=30000,\n",
    "    min=100,\n",
    "    max=100000,\n",
    "    step=1,\n",
    "    description='Window size',\n",
    "    disabled=False,\n",
    "    continuous_update=False,\n",
    "    orientation='horizontal',\n",
    "    readout=True\n",
    ")\n",
    "\n",
    "log_var_w = FloatRangeSlider(\n",
    "    value=[-8.40, -2],\n",
    "    min=-10,\n",
    "    max=-2,\n",
    "    step=0.1,\n",
    "    description='Log variance',\n",
    "    disabled=False,\n",
    "    continuous_update=False,\n",
    "    orientation='horizontal',\n",
    "    readout=True\n",
    ")\n",
    "\n",
    "plt.cla()\n",
    "plot_interact_filtering(\n",
    "    ts=df[\"Global_active_power\"],\n",
    "    widgets={\n",
    "        \"window_size\": window_size_w,\n",
    "        \"log_variance_limits\": log_var_w},\n",
    "    filter_f=get_variance_filter, title=\"Remove variance outliers\")"
   ]
  },
  {
   "cell_type": "code",
   "execution_count": 95,
   "id": "previous-treasurer",
   "metadata": {},
   "outputs": [
    {
     "data": {
      "text/plain": [
       "0.0009118819655545162"
      ]
     },
     "execution_count": 95,
     "metadata": {},
     "output_type": "execute_result"
    }
   ],
   "source": [
    "np.exp(-7)"
   ]
  },
  {
   "cell_type": "markdown",
   "id": "metallic-surfing",
   "metadata": {},
   "source": [
    "# Tslearn testing"
   ]
  },
  {
   "cell_type": "code",
   "execution_count": null,
   "id": "junior-clone",
   "metadata": {},
   "outputs": [],
   "source": [
    "from tslearn.clustering import TimeSeriesKMeans\n",
    "model = TimeSeriesKMeans(n_clusters=3, metric=\"dtw\", max_iter=10)\n",
    "model.fit(df)"
   ]
  },
  {
   "cell_type": "code",
   "execution_count": null,
   "id": "arbitrary-interference",
   "metadata": {},
   "outputs": [],
   "source": [
    "import matplotlib.pyplot as plt\n",
    "y_pred = model.predict(ts)\n",
    "sz = ts.shape[1]\n",
    "\n",
    "plt.figure()\n",
    "for yi in range(3):\n",
    "    plt.subplot(3, 1, 1 + yi)\n",
    "    xx = ts[y_pred == yi]\n",
    "    plt.plot(xx, \"k-\", alpha=.2)\n",
    "    # plt.xlim(0, sz)\n",
    "    # plt.ylim(-4, 4)\n",
    "    plt.title(\"Cluster %d\" % (yi + 1))\n",
    "\n",
    "plt.tight_layout()\n",
    "plt.show()"
   ]
  },
  {
   "cell_type": "code",
   "execution_count": null,
   "id": "sexual-caribbean",
   "metadata": {},
   "outputs": [],
   "source": [
    "import numpy\n",
    "import matplotlib.pyplot as plt\n",
    "\n",
    "from tslearn.clustering import KernelKMeans\n",
    "from tslearn.datasets import CachedDatasets\n",
    "from tslearn.preprocessing import TimeSeriesScalerMeanVariance\n",
    "\n",
    "seed = 0\n",
    "numpy.random.seed(seed)\n",
    "X_train, y_train, X_test, y_test = CachedDatasets().load_dataset(\"Trace\")\n",
    "# Keep first 3 classes\n",
    "X_train = X_train[y_train < 4]\n",
    "numpy.random.shuffle(X_train)\n",
    "# Keep only 50 time series\n",
    "X_train = TimeSeriesScalerMeanVariance().fit_transform(X_train[:50])\n",
    "sz = X_train.shape[1]\n",
    "\n",
    "gak_km = KernelKMeans(n_clusters=3,\n",
    "                      kernel=\"gak\",\n",
    "                      kernel_params={\"sigma\": \"auto\"},\n",
    "                      n_init=20,\n",
    "                      verbose=True,\n",
    "                      random_state=seed)\n",
    "y_pred = gak_km.fit_predict(X_train)\n",
    "\n",
    "plt.figure()\n",
    "for yi in range(3):\n",
    "    plt.subplot(3, 1, 1 + yi)\n",
    "    for xx in X_train[y_pred == yi]:\n",
    "        print(xx.ravel())\n",
    "        plt.plot(xx.ravel(), \"k-\", alpha=.2)\n",
    "    plt.xlim(0, sz)\n",
    "    plt.ylim(-4, 4)\n",
    "    plt.title(\"Cluster %d\" % (yi + 1))\n",
    "\n",
    "plt.tight_layout()\n",
    "plt.show()"
   ]
  },
  {
   "cell_type": "markdown",
   "id": "large-inclusion",
   "metadata": {},
   "source": [
    "# Isolation Forest testing"
   ]
  },
  {
   "cell_type": "code",
   "execution_count": null,
   "id": "refined-solomon",
   "metadata": {},
   "outputs": [],
   "source": [
    "from sklearn.ensemble import IsolationForest\n",
    "\n",
    "df = pd.concat(tsm.sequences)[[\"Global_active_power\"]]\n",
    "gap = (df['Global_active_power'].values.reshape(-1,1))\n",
    "model_isoforest = IsolationForest()\n",
    "model_isoforest.fit(gap)\n",
    "scores = model_isoforest.score_samples(gap)\n",
    "df['anomaly_scores'] = model_isoforest.score_samples(gap)\n",
    "df['anomaly_classification'] = model_isoforest.predict(\n",
    "    df['Global_active_power'].values.reshape(-1,1))"
   ]
  },
  {
   "cell_type": "code",
   "execution_count": null,
   "id": "extraordinary-jungle",
   "metadata": {},
   "outputs": [],
   "source": [
    "df[df[\"anomaly_scores\"] < -0.8]"
   ]
  },
  {
   "cell_type": "code",
   "execution_count": null,
   "id": "executive-detail",
   "metadata": {},
   "outputs": [],
   "source": [
    "sub_df[(sub_df[\"anomaly_scores\"] > -0.8) & (sub_df[\"Global_active_power\"] > 0.609451)][[\"Global_active_power\"]]"
   ]
  },
  {
   "cell_type": "code",
   "execution_count": null,
   "id": "wicked-acrylic",
   "metadata": {},
   "outputs": [],
   "source": [
    "# pd.options.plotting.backend = \"plotly\"\n",
    "# df[\"anomaly_classification\"] = df[\"anomaly_classification\"].apply(lambda x: x - 3)\n",
    "# ax = pd.DataFrame.plot()\n",
    "# df[df[\"anomaly_scores\"] > -0.40727][[\"Global_active_power\"]].reset_index().plot(figsize=(25, 7), colormap=\"red\", x=\"datetime\", y=\"anomaly_classification\", kind=\"scatter\")\n",
    "from matplotlib import pyplot as plt\n",
    "\n",
    "plt.figure(figsize=(25, 7))\n",
    "\n",
    "step = 5000\n",
    "i = 9\n",
    "\n",
    "sub_df = df[i*step:(i+1)*step]\n",
    "plt.subplot(211)\n",
    "plt.plot(sub_df[sub_df[\"anomaly_scores\"] < -0.8][[\"Global_active_power\"]].index, sub_df[sub_df[\"anomaly_scores\"] < -0.8][\"Global_active_power\"], 'bo', color=\"red\");\n",
    "plt.plot(sub_df[\"Global_active_power\"].index, sub_df[\"Global_active_power\"]);\n",
    "\n",
    "plt.subplot(212)\n",
    "plt.plot(sub_df[sub_df[\"anomaly_scores\"] >= -0.8].index, sub_df[sub_df[\"anomaly_scores\"] >= -0.8][\"Global_active_power\"]);"
   ]
  },
  {
   "cell_type": "code",
   "execution_count": null,
   "id": "brazilian-portugal",
   "metadata": {},
   "outputs": [],
   "source": [
    "None = 1"
   ]
  },
  {
   "cell_type": "markdown",
   "id": "cognitive-telling",
   "metadata": {},
   "source": [
    "# Anomaly predictor testing"
   ]
  },
  {
   "cell_type": "code",
   "execution_count": null,
   "id": "photographic-resistance",
   "metadata": {},
   "outputs": [],
   "source": [
    "normal_dfs = tsm.get_data_from_range(start=-1000, end=-500, copy=True)\n",
    "anomaly_dfs = tsm.get_data_from_range(start=-500, copy=True)"
   ]
  },
  {
   "cell_type": "code",
   "execution_count": null,
   "id": "civic-perry",
   "metadata": {},
   "outputs": [],
   "source": [
    "anomaly_dfs[0].plot();"
   ]
  },
  {
   "cell_type": "code",
   "execution_count": null,
   "id": "joined-riding",
   "metadata": {},
   "outputs": [],
   "source": [
    "apply_noise_on_dataframes(\n",
    "    anomaly_dfs, make_noise=white_noise, negativity=\"abs\", loc=0, scale=0.4)\n",
    "anomaly_dfs[0].plot();"
   ]
  },
  {
   "cell_type": "code",
   "execution_count": null,
   "id": "higher-spyware",
   "metadata": {},
   "outputs": [],
   "source": [
    "from tsad.anomaly_detector import PredictionAnomalyDetector\n",
    "\n",
    "model = exp.load_pl_model(\n",
    "    model_idx=0,\n",
    "    dir_path=\"../checkpoints/household_power_consumption/LSTM_h200_l1\")\n",
    "\n",
    "ad = PredictionAnomalyDetector(model)\n",
    "\n",
    "ad.fit(\n",
    "    train_data=DataLoader(\n",
    "        MultiTimeSeriesDataset(normal_dfs, tsm.window_size, tsm.target),\n",
    "        batch_size=tsm.batch_size),\n",
    "    anomaly_data=DataLoader(\n",
    "        MultiTimeSeriesDataset(anomaly_dfs, tsm.window_size, tsm.target),\n",
    "        batch_size=tsm.batch_size),\n",
    "    normal_data=DataLoader(\n",
    "        MultiTimeSeriesDataset(normal_dfs, tsm.window_size, tsm.target),\n",
    "        batch_size=tsm.batch_size),\n",
    "    class_weight={0: 0.8, 1: 0.2}, verbose=True, plot=True\n",
    ")"
   ]
  },
  {
   "cell_type": "code",
   "execution_count": null,
   "id": "dimensional-asset",
   "metadata": {},
   "outputs": [],
   "source": [
    "import numpy as np\n",
    "import matplotlib.pyplot as plt\n",
    "\n",
    "\n",
    "anomaly_data=DataLoader(\n",
    "    MultiTimeSeriesDataset(anomaly_dfs, tsm.window_size, tsm.target),\n",
    "    batch_size=tsm.batch_size)\n",
    "normal_data=DataLoader(\n",
    "    MultiTimeSeriesDataset(normal_dfs, tsm.window_size, tsm.target),\n",
    "    batch_size=tsm.batch_size)\n",
    "normal_preds = ad._any_forward(normal_data, True)\n",
    "anomaly_preds = ad._any_forward(anomaly_data, True)\n",
    "plt.hist([\n",
    "    ad.distributor.cdf(normal_preds).T[0], ad.distributor.cdf(anomaly_preds).T[0]],\n",
    "    bins=30, label=[\"normal\", \"anomaly\"]);"
   ]
  },
  {
   "cell_type": "code",
   "execution_count": null,
   "id": "commercial-bicycle",
   "metadata": {},
   "outputs": [],
   "source": [
    "# BTC = yf.Ticker(\"BTC-USD\")\n",
    "# # df = BTC.history(period=\"max\", interval=\"1d\", auto_adjust=False, actions=False)\n",
    "# df = BTC.history(interval=\"1d\", start=\"2014-09-17\", end=\"2021-10-16\", actions=False)\n",
    "# df[\"Open-Close-diff\"] = df.apply(lambda x: x[\"Close\"] - x[\"Open\"], axis=1)\n",
    "\n",
    "# from datetime import datetime\n",
    "# end = datetime.strptime(\"06-01-2017\", '%m-%d-%Y')\n",
    "# df = df.loc[:end]  # remove last years due to a change behaviour\n",
    "# df = df[[\"Close\", \"Open-Close-diff\"]]"
   ]
  },
  {
   "cell_type": "code",
   "execution_count": 1,
   "metadata": {},
   "outputs": [
    {
     "name": "stderr",
     "output_type": "stream",
     "text": [
      "Global seed set to 42\n",
      "GPU available: True, used: True\n",
      "TPU available: False, using: 0 TPU cores\n",
      "IPU available: False, using: 0 IPUs\n",
      "/home/stachu/anaconda3/envs/dl/lib/python3.8/site-packages/pytorch_lightning/core/datamodule.py:423: LightningDeprecationWarning:\n",
      "\n",
      "DataModule.setup has already been called, so it will not be called again. In v1.6 this behavior will change to always call DataModule.setup.\n",
      "\n",
      "LOCAL_RANK: 0 - CUDA_VISIBLE_DEVICES: [0]\n",
      "\n",
      "  | Name      | Type    | Params\n",
      "--------------------------------------\n",
      "0 | model     | LSTM    | 646 K \n",
      "1 | criterion | MSELoss | 0     \n",
      "--------------------------------------\n",
      "646 K     Trainable params\n",
      "0         Non-trainable params\n",
      "646 K     Total params\n",
      "2.587     Total estimated model params size (MB)\n"
     ]
    },
    {
     "name": "stdout",
     "output_type": "stream",
     "text": [
      "                                                                      "
     ]
    },
    {
     "name": "stderr",
     "output_type": "stream",
     "text": [
      "Global seed set to 42\n"
     ]
    },
    {
     "name": "stdout",
     "output_type": "stream",
     "text": [
      "Epoch 0:   1%|          | 285/26486 [00:20<31:58, 13.66it/s, loss=0.0124, v_num=5:56, train_loss=0.013] "
     ]
    },
    {
     "name": "stderr",
     "output_type": "stream",
     "text": [
      "/home/stachu/anaconda3/envs/dl/lib/python3.8/site-packages/pytorch_lightning/trainer/trainer.py:1051: UserWarning:\n",
      "\n",
      "Detected KeyboardInterrupt, attempting graceful shutdown...\n",
      "\n"
     ]
    },
    {
     "ename": "FileNotFoundError",
     "evalue": "[Errno 2] No such file or directory: '../checkpoints/household_power_consumption/LSTM_h400_l1'",
     "output_type": "error",
     "traceback": [
      "\u001b[0;31m---------------------------------------------------------------------------\u001b[0m",
      "\u001b[0;31mFileNotFoundError\u001b[0m                         Traceback (most recent call last)",
      "\u001b[0;32m<ipython-input-1-1f92a0b7ee76>\u001b[0m in \u001b[0;36m<module>\u001b[0;34m\u001b[0m\n\u001b[1;32m    136\u001b[0m )\n\u001b[1;32m    137\u001b[0m \u001b[0;34m\u001b[0m\u001b[0m\n\u001b[0;32m--> 138\u001b[0;31m \u001b[0mexp\u001b[0m\u001b[0;34m.\u001b[0m\u001b[0mrun_experiments\u001b[0m\u001b[0;34m(\u001b[0m\u001b[0mexperiments_path\u001b[0m\u001b[0;34m=\u001b[0m\u001b[0;34m\"../saved_experiments\"\u001b[0m\u001b[0;34m,\u001b[0m \u001b[0msafe\u001b[0m\u001b[0;34m=\u001b[0m\u001b[0;32mFalse\u001b[0m\u001b[0;34m)\u001b[0m\u001b[0;34m\u001b[0m\u001b[0;34m\u001b[0m\u001b[0m\n\u001b[0m",
      "\u001b[0;32m~/Projects/Anomaly_detection/Forecasting_models/predpy/experimentator/experimentator.py\u001b[0m in \u001b[0;36mrun_experiments\u001b[0;34m(self, skip_steps, experiments_path, safe)\u001b[0m\n\u001b[1;32m    419\u001b[0m                         ))\n\u001b[1;32m    420\u001b[0m                 \u001b[0;32mexcept\u001b[0m \u001b[0mException\u001b[0m \u001b[0;32mas\u001b[0m \u001b[0me\u001b[0m\u001b[0;34m:\u001b[0m\u001b[0;34m\u001b[0m\u001b[0;34m\u001b[0m\u001b[0m\n\u001b[0;32m--> 421\u001b[0;31m                     self._deliver_exception(\n\u001b[0m\u001b[1;32m    422\u001b[0m                         \u001b[0mmsg\u001b[0m\u001b[0;34m=\u001b[0m\u001b[0mself\u001b[0m\u001b[0;34m.\u001b[0m\u001b[0m_set_err_msg\u001b[0m\u001b[0;34m(\u001b[0m\u001b[0mdataset_idx\u001b[0m\u001b[0;34m,\u001b[0m \u001b[0mmodel_idx\u001b[0m\u001b[0;34m)\u001b[0m\u001b[0;34m,\u001b[0m\u001b[0;34m\u001b[0m\u001b[0;34m\u001b[0m\u001b[0m\n\u001b[1;32m    423\u001b[0m                         \u001b[0mexception\u001b[0m\u001b[0;34m=\u001b[0m\u001b[0me\u001b[0m\u001b[0;34m,\u001b[0m\u001b[0;34m\u001b[0m\u001b[0;34m\u001b[0m\u001b[0m\n",
      "\u001b[0;32m~/Projects/Anomaly_detection/Forecasting_models/predpy/experimentator/experimentator.py\u001b[0m in \u001b[0;36m_deliver_exception\u001b[0;34m(self, msg, exception, safe)\u001b[0m\n\u001b[1;32m    328\u001b[0m         \u001b[0;32melse\u001b[0m\u001b[0;34m:\u001b[0m\u001b[0;34m\u001b[0m\u001b[0;34m\u001b[0m\u001b[0m\n\u001b[1;32m    329\u001b[0m             \u001b[0mexception\u001b[0m\u001b[0;34m.\u001b[0m\u001b[0margs\u001b[0m \u001b[0;34m+=\u001b[0m \u001b[0;34m(\u001b[0m\u001b[0mmsg\u001b[0m\u001b[0;34m,\u001b[0m\u001b[0;34m)\u001b[0m\u001b[0;34m\u001b[0m\u001b[0;34m\u001b[0m\u001b[0m\n\u001b[0;32m--> 330\u001b[0;31m             \u001b[0;32mraise\u001b[0m \u001b[0mexception\u001b[0m\u001b[0;34m\u001b[0m\u001b[0;34m\u001b[0m\u001b[0m\n\u001b[0m\u001b[1;32m    331\u001b[0m \u001b[0;34m\u001b[0m\u001b[0m\n\u001b[1;32m    332\u001b[0m     def _set_err_msg(\n",
      "\u001b[0;32m~/Projects/Anomaly_detection/Forecasting_models/predpy/experimentator/experimentator.py\u001b[0m in \u001b[0;36mrun_experiments\u001b[0;34m(self, skip_steps, experiments_path, safe)\u001b[0m\n\u001b[1;32m    410\u001b[0m \u001b[0;34m\u001b[0m\u001b[0m\n\u001b[1;32m    411\u001b[0m                 \u001b[0;32mtry\u001b[0m\u001b[0;34m:\u001b[0m\u001b[0;34m\u001b[0m\u001b[0;34m\u001b[0m\u001b[0m\n\u001b[0;32m--> 412\u001b[0;31m                     model_preds_df = self._experiment_step(\n\u001b[0m\u001b[1;32m    413\u001b[0m                         tsm=tsm, model_idx=model_idx)\n\u001b[1;32m    414\u001b[0m                     predictions.append(\n",
      "\u001b[0;32m~/Projects/Anomaly_detection/Forecasting_models/predpy/experimentator/experimentator.py\u001b[0m in \u001b[0;36m_experiment_step\u001b[0;34m(self, tsm, model_idx)\u001b[0m\n\u001b[1;32m    305\u001b[0m         \u001b[0mmodel_idx\u001b[0m\u001b[0;34m:\u001b[0m \u001b[0mint\u001b[0m\u001b[0;34m\u001b[0m\u001b[0;34m\u001b[0m\u001b[0m\n\u001b[1;32m    306\u001b[0m     ):\n\u001b[0;32m--> 307\u001b[0;31m         \u001b[0mpl_model\u001b[0m \u001b[0;34m=\u001b[0m \u001b[0mself\u001b[0m\u001b[0;34m.\u001b[0m\u001b[0mtrain_model\u001b[0m\u001b[0;34m(\u001b[0m\u001b[0mmodel_idx\u001b[0m\u001b[0;34m=\u001b[0m\u001b[0mmodel_idx\u001b[0m\u001b[0;34m,\u001b[0m \u001b[0mtsm\u001b[0m\u001b[0;34m=\u001b[0m\u001b[0mtsm\u001b[0m\u001b[0;34m)\u001b[0m\u001b[0;34m\u001b[0m\u001b[0;34m\u001b[0m\u001b[0m\n\u001b[0m\u001b[1;32m    308\u001b[0m \u001b[0;34m\u001b[0m\u001b[0m\n\u001b[1;32m    309\u001b[0m         \u001b[0;31m# collect predictions made on test dataset\u001b[0m\u001b[0;34m\u001b[0m\u001b[0;34m\u001b[0m\u001b[0;34m\u001b[0m\u001b[0m\n",
      "\u001b[0;32m~/Projects/Anomaly_detection/Forecasting_models/predpy/experimentator/experimentator.py\u001b[0m in \u001b[0;36mtrain_model\u001b[0;34m(self, model_idx, dataset_idx, tsm)\u001b[0m\n\u001b[1;32m    833\u001b[0m \u001b[0;34m\u001b[0m\u001b[0m\n\u001b[1;32m    834\u001b[0m         \u001b[0;31m# load last saved model\u001b[0m\u001b[0;34m\u001b[0m\u001b[0;34m\u001b[0m\u001b[0;34m\u001b[0m\u001b[0m\n\u001b[0;32m--> 835\u001b[0;31m         pl_model = self.load_pl_model(\n\u001b[0m\u001b[1;32m    836\u001b[0m             \u001b[0mmodel_idx\u001b[0m\u001b[0;34m=\u001b[0m\u001b[0mmodel_idx\u001b[0m\u001b[0;34m,\u001b[0m\u001b[0;34m\u001b[0m\u001b[0;34m\u001b[0m\u001b[0m\n\u001b[1;32m    837\u001b[0m             \u001b[0mdir_path\u001b[0m\u001b[0;34m=\u001b[0m\u001b[0mcheckpoint_params\u001b[0m\u001b[0;34m.\u001b[0m\u001b[0mdirpath\u001b[0m\u001b[0;34m,\u001b[0m\u001b[0;34m\u001b[0m\u001b[0;34m\u001b[0m\u001b[0m\n",
      "\u001b[0;32m~/Projects/Anomaly_detection/Forecasting_models/predpy/experimentator/experimentator.py\u001b[0m in \u001b[0;36mload_pl_model\u001b[0;34m(self, model_idx, dir_path, file_name, find_last)\u001b[0m\n\u001b[1;32m    269\u001b[0m             \u001b[0mdir_path\u001b[0m \u001b[0;34m=\u001b[0m \u001b[0mself\u001b[0m\u001b[0;34m.\u001b[0m\u001b[0mdatasets_params\u001b[0m\u001b[0;34m[\u001b[0m\u001b[0;34m\"path\"\u001b[0m\u001b[0;34m]\u001b[0m\u001b[0;34m\u001b[0m\u001b[0;34m\u001b[0m\u001b[0m\n\u001b[1;32m    270\u001b[0m         \u001b[0;32mif\u001b[0m \u001b[0mfind_last\u001b[0m\u001b[0;34m:\u001b[0m\u001b[0;34m\u001b[0m\u001b[0;34m\u001b[0m\u001b[0m\n\u001b[0;32m--> 271\u001b[0;31m             \u001b[0mfile_name\u001b[0m \u001b[0;34m=\u001b[0m \u001b[0mself\u001b[0m\u001b[0;34m.\u001b[0m\u001b[0m_find_last_model\u001b[0m\u001b[0;34m(\u001b[0m\u001b[0mdir_path\u001b[0m\u001b[0;34m,\u001b[0m \u001b[0mfile_name\u001b[0m\u001b[0;34m)\u001b[0m\u001b[0;34m\u001b[0m\u001b[0;34m\u001b[0m\u001b[0m\n\u001b[0m\u001b[1;32m    272\u001b[0m \u001b[0;34m\u001b[0m\u001b[0m\n\u001b[1;32m    273\u001b[0m         loaded_data = torch.load(\n",
      "\u001b[0;32m~/Projects/Anomaly_detection/Forecasting_models/predpy/experimentator/experimentator.py\u001b[0m in \u001b[0;36m_find_last_model\u001b[0;34m(self, dir_path, file_name)\u001b[0m\n\u001b[1;32m    284\u001b[0m         files = [\n\u001b[1;32m    285\u001b[0m             \u001b[0mfile\u001b[0m\u001b[0;34m[\u001b[0m\u001b[0;34m:\u001b[0m\u001b[0;34m-\u001b[0m\u001b[0;36m5\u001b[0m\u001b[0;34m]\u001b[0m\u001b[0;34m\u001b[0m\u001b[0;34m\u001b[0m\u001b[0m\n\u001b[0;32m--> 286\u001b[0;31m             \u001b[0;32mfor\u001b[0m \u001b[0mfile\u001b[0m \u001b[0;32min\u001b[0m \u001b[0mos\u001b[0m\u001b[0;34m.\u001b[0m\u001b[0mlistdir\u001b[0m\u001b[0;34m(\u001b[0m\u001b[0mdir_path\u001b[0m\u001b[0;34m)\u001b[0m\u001b[0;34m\u001b[0m\u001b[0;34m\u001b[0m\u001b[0m\n\u001b[0m\u001b[1;32m    287\u001b[0m             if file[:len(file_name)] == file_name and file[-5:] == \".ckpt\"]\n\u001b[1;32m    288\u001b[0m         \u001b[0mi\u001b[0m \u001b[0;34m=\u001b[0m \u001b[0;36m1\u001b[0m\u001b[0;34m\u001b[0m\u001b[0;34m\u001b[0m\u001b[0m\n",
      "\u001b[0;31mFileNotFoundError\u001b[0m: [Errno 2] No such file or directory: '../checkpoints/household_power_consumption/LSTM_h400_l1'"
     ]
    },
    {
     "name": "stdout",
     "output_type": "stream",
     "text": [
      "Epoch 0:   1%|          | 285/26486 [00:39<1:00:39,  7.20it/s, loss=0.0124, v_num=5:56, train_loss=0.013]"
     ]
    }
   ],
   "source": [
    "import sys\n",
    "sys.path.append(\"/home/stachu/Projects/Anomaly_detection/Forecasting_models\")\n",
    "\n",
    "from predpy.dataset import MultiTimeSeriesDataset\n",
    "from predpy.data_module import MultiTimeSeriesModule\n",
    "from predpy.wrapper import Autoencoder, Predictor\n",
    "from predpy.experimentator import (\n",
    "    DatasetParams, ModelParams, ExperimentatorPlot,\n",
    "    Experimentator, load_experimentator, plot_aggregated_predictions)\n",
    "from predpy.preprocessing import set_index\n",
    "from predpy.preprocessing import moving_average\n",
    "from predpy.preprocessing import (\n",
    "    load_and_preprocess, set_index, moving_average, drop_if_is_in,\n",
    "    use_dataframe_func, loc, iloc, get_isoforest_filter, get_variance_filter)\n",
    "from predpy.trainer import (\n",
    "    CheckpointParams, TrainerParams, EarlyStoppingParams, LoggerParams)\n",
    "from tsad.noiser import apply_noise_on_dataframes, white_noise\n",
    "from tsad.anomaly_detector import PredictionAnomalyDetector, ReconstructionAnomalyDetector\n",
    "from models import LSTMAutoencoder\n",
    "\n",
    "from pytorch_lightning.loggers import TensorBoardLogger\n",
    "import pickle\n",
    "import numpy as np\n",
    "from sklearn.preprocessing import MinMaxScaler\n",
    "from tsai.models import TCN, ResNet, TST, RNN, TransformerModel, FCN\n",
    "import pandas as pd\n",
    "from torch.utils.data import DataLoader, Dataset\n",
    "from prophet import Prophet\n",
    "\n",
    "\n",
    "# =============================================================================\n",
    "\n",
    "window_size = 366\n",
    "\n",
    "load_params = {\n",
    "    \"sep\": ';', \"header\": 0, \"low_memory\": False,\n",
    "    \"infer_datetime_format\": True, \"parse_dates\": {'datetime': [0, 1]},\n",
    "    \"index_col\": ['datetime']\n",
    "}\n",
    "\n",
    "columns = [\"Global_active_power\", \"Voltage\"]\n",
    "drop_refill_pipeline = [\n",
    "    (loc, {\"columns\": columns}),\n",
    "    (drop_if_is_in, ([\"?\", np.nan]), {\"columns\": columns}),\n",
    "    # (iloc, {\"rows_end\": 1500}),\n",
    "    # (iloc, {\"rows_start\": -20000}),\n",
    "]\n",
    "preprocessing_pipeline = [\n",
    "    (use_dataframe_func, \"astype\", \"float\"),\n",
    "]\n",
    "detect_anomalies_pipeline = [\n",
    "    # (get_isoforest_filter, dict(\n",
    "    #     scores_threshold=-0.36, window_size=500, target=\"Global_active_power\"))\n",
    "    (get_variance_filter, dict(\n",
    "        window_size=5000, log_variance_limits=(-7, 0),\n",
    "        target=\"Global_active_power\"))\n",
    "]\n",
    "\n",
    "\n",
    "datasets_params = [\n",
    "    DatasetParams(\n",
    "        path=\"/home/stachu/Projects/Anomaly_detection/Forecasting_models/data/Energy/household_power_consumption/household_power_consumption.csv\",\n",
    "        load_params=load_params,\n",
    "        target=\"Global_active_power\",\n",
    "        split_proportions=[0.8, 0.1, 0.1],\n",
    "        window_size=window_size,\n",
    "        batch_size=64,\n",
    "        drop_refill_pipeline=drop_refill_pipeline,\n",
    "        preprocessing_pipeline=preprocessing_pipeline,\n",
    "        detect_anomalies_pipeline=detect_anomalies_pipeline,\n",
    "        scaler=MinMaxScaler()),\n",
    "]\n",
    "\n",
    "c_in = 2\n",
    "c_out = 1\n",
    "\n",
    "models_params = [\n",
    "    # ModelParams(\n",
    "    #     name_=\"TST_l3_fcDrop0.1\", cls_=TST.TST,\n",
    "    #     init_params={\n",
    "    #         \"c_in\": c_in, \"c_out\": c_out, \"seq_len\": window_size,\n",
    "    #         \"max_seq_len\": window_size, \"n_layers\": 3, \"fc_dropout\": 0.1}),\n",
    "    # ModelParams(\n",
    "    #     name_=\"TST_l2_fcDrop0.1\", cls_=TST.TST,\n",
    "    #     init_params={\n",
    "    #         \"c_in\": c_in, \"c_out\": c_out, \"seq_len\": window_size,\n",
    "    #         \"max_seq_len\": window_size, \"n_layers\": 2, \"fc_dropout\": 0.1}),\n",
    "    # ModelParams(\n",
    "    #     name_=\"TST_l2_fcDrop0.0\", cls_=TST.TST,\n",
    "    #     init_params={\n",
    "    #         \"c_in\": c_in, \"c_out\": c_out, \"seq_len\": window_size,\n",
    "    #         \"max_seq_len\": window_size, \"n_layers\": 2, \"fc_dropout\": 0.0}),\n",
    "    # ModelParams(\n",
    "    #     name_=\"ResNet\", cls_=ResNet.ResNet,\n",
    "    #     init_params={\"c_in\": c_in, \"c_out\": c_out}),\n",
    "    # ModelParams(\n",
    "    #     name_=\"LSTM_h200_l1\", cls_=RNN.LSTM,\n",
    "    #     init_params={\n",
    "    #         \"c_in\": c_in, \"c_out\": c_out, \"hidden_size\": 200, \"n_layers\": 1}),\n",
    "    # ModelParams(\n",
    "    #     name_=\"LSTM_h200_l2\", cls_=RNN.LSTM,\n",
    "    #     init_params={\n",
    "    #         \"c_in\": c_in, \"c_out\": c_out, \"hidden_size\": 200, \"n_layers\": 2}),\n",
    "    ModelParams(\n",
    "        name_=\"LSTM_h400_l1\", cls_=RNN.LSTM,\n",
    "        init_params={\n",
    "            \"c_in\": c_in, \"c_out\": c_out, \"hidden_size\": 400, \"n_layers\": 1}),\n",
    "    # ModelParams(\n",
    "    #     name_=\"LSTMAutoencoder_h400_l1\", cls_=LSTMAutoencoder,\n",
    "    #     init_params=dict(\n",
    "    #         c_in=window_size, h_size=400, n_layers=1),\n",
    "    #     WrapperCls=Autoencoder)\n",
    "]\n",
    "\n",
    "chp_p = CheckpointParams(\n",
    "    dirpath=\"../checkpoints\", monitor='val_loss', verbose=True,\n",
    "    save_top_k=1)\n",
    "tr_p = TrainerParams(\n",
    "    max_epochs=1, gpus=1, auto_lr_find=True)\n",
    "es_p = EarlyStoppingParams(\n",
    "    monitor='val_loss', patience=2, verbose=True)\n",
    "\n",
    "# import pytorch_lightning as pl\n",
    "# from pytorch_lightning.loggers import TensorBoardLogger\n",
    "\n",
    "# tmp = pl.Trainer(logger=TensorBoardLogger(\"./\"))\n",
    "\n",
    "exp = Experimentator(\n",
    "    models_params=models_params,\n",
    "    datasets_params=datasets_params,\n",
    "    trainer_params=tr_p,\n",
    "    checkpoint_params=chp_p,\n",
    "    early_stopping_params=es_p,\n",
    "    LoggersClasses=[TensorBoardLogger],\n",
    "    loggers_params=[LoggerParams(save_dir=\"../lightning_logs\")]\n",
    ")\n",
    "\n",
    "exp.run_experiments(experiments_path=\"../saved_experiments\", safe=False)"
   ]
  }
 ],
 "metadata": {
  "interpreter": {
   "hash": "b3bc42e69e4efcde7b1e8cf6bd8a64743430926df31e449dc034fb6e752071da"
  },
  "kernelspec": {
   "display_name": "Python 3.8.5 64-bit ('dl': conda)",
   "name": "python3"
  },
  "language_info": {
   "codemirror_mode": {
    "name": "ipython",
    "version": 3
   },
   "file_extension": ".py",
   "mimetype": "text/x-python",
   "name": "python",
   "nbconvert_exporter": "python",
   "pygments_lexer": "ipython3",
   "version": "3.8.5"
  }
 },
 "nbformat": 4,
 "nbformat_minor": 5
}
