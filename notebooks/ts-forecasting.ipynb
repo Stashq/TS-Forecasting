{
 "cells": [
  {
   "cell_type": "code",
   "execution_count": 11,
   "id": "checked-haiti",
   "metadata": {},
   "outputs": [],
   "source": [
    "# !pip install --quiet pytorch-lightning\n",
    "import sys\n",
    "sys.path.append(\"..\")"
   ]
  },
  {
   "cell_type": "code",
   "execution_count": 12,
   "metadata": {},
   "outputs": [],
   "source": [
    "from predpy.dataset import TimeSeriesRecordsDataset, SingleTimeSeriesDataset\n",
    "from predpy.data_module import TimeSeriesModule\n",
    "from predpy.experimentator import Experimentator, DatasetParams, ModelParams\n",
    "from predpy.preprocessing import load_and_preprocess, set_index, scale\n",
    "from predpy.preprocessing import moving_average\n",
    "from predpy.trainer import CheckpointParams, TrainerParams, EarlyStoppingParams, LoggerParams\n",
    "\n",
    "import pickle\n",
    "from sklearn.preprocessing import MinMaxScaler\n",
    "from tsai.models import TCN, ResNet, TST, RNN, TransformerModel, FCN\n",
    "import pandas as pd\n",
    "import seaborn as sns"
   ]
  },
  {
   "cell_type": "code",
   "execution_count": 13,
   "metadata": {},
   "outputs": [],
   "source": [
    "# import numpy as np\n",
    "# tmp = tmp.drop(tmp[tmp[\"Global_active_power\"]==\"?\"].index)\n",
    "# tmp = tmp[[\"Global_active_power\"]]\n",
    "\n",
    "# tmp.astype(float)\n",
    "# sns.scatterplot(data=tmp, x=tmp.index, y=\"Global_active_power\")\n",
    "# tmp.head()"
   ]
  },
  {
   "cell_type": "code",
   "execution_count": 14,
   "metadata": {},
   "outputs": [],
   "source": [
    "chp_p = CheckpointParams(\n",
    "    dirpath=\"../checkpoints\", monitor='val_loss', verbose=True,\n",
    "    save_top_k=1)\n",
    "tr_p = TrainerParams(\n",
    "    max_epochs=3, gpus=1, auto_lr_find=True, overfit_batches=0.1)\n",
    "es_p = EarlyStoppingParams(\n",
    "    monitor='val_loss', patience=3, verbose=True)"
   ]
  },
  {
   "cell_type": "code",
   "execution_count": 15,
   "metadata": {},
   "outputs": [],
   "source": [
    "models_params = [\n",
    "    ModelParams(\n",
    "        name_=\"ResNet\", cls_=ResNet.ResNet, init_params={\"c_in\": 2, \"c_out\": 1}),\n",
    "    ModelParams(\n",
    "        name_=\"LSTM_h200_l1\", cls_=RNN.LSTM, init_params={\"c_in\": 2, \"c_out\": 1, \"hidden_size\": 200, \"n_layers\": 1})\n",
    "]\n",
    "datasets_params = [\n",
    "    DatasetParams(\n",
    "        path=\"../data/daily-min-temperatures.csv\",\n",
    "        target=\"Temp\",\n",
    "        split_proportions=[0.8, 0.1, 0.1],\n",
    "        window_size=366,\n",
    "        batch_size=64,\n",
    "        DatasetCls=SingleTimeSeriesDataset,\n",
    "        pipeline=[\n",
    "            (set_index, {\"column_name\": \"Date\"}),\n",
    "            (scale, {\"training_fraction\": 0.8, \"scaler\": MinMaxScaler()}),\n",
    "            (moving_average, {\"window_size\": 20, \"col_names\": [\"Temp\"]})\n",
    "        ])\n",
    "]\n",
    "exp = Experimentator(models_params, datasets_params)"
   ]
  },
  {
   "cell_type": "code",
   "execution_count": 16,
   "metadata": {},
   "outputs": [
    {
     "name": "stderr",
     "output_type": "stream",
     "text": [
      "Global seed set to 42\n",
      "/home/stachu/anaconda3/envs/dl/lib/python3.8/site-packages/pytorch_lightning/callbacks/model_checkpoint.py:446: UserWarning:\n",
      "\n",
      "Checkpoint directory ../checkpoints/daily-min-temperatures/ResNet exists and is not empty.\n",
      "\n",
      "GPU available: True, used: True\n",
      "TPU available: False, using: 0 TPU cores\n",
      "IPU available: False, using: 0 IPUs\n",
      "/home/stachu/anaconda3/envs/dl/lib/python3.8/site-packages/pytorch_lightning/core/datamodule.py:423: LightningDeprecationWarning:\n",
      "\n",
      "DataModule.setup has already been called, so it will not be called again. In v1.6 this behavior will change to always call DataModule.setup.\n",
      "\n",
      "LOCAL_RANK: 0 - CUDA_VISIBLE_DEVICES: [0]\n",
      "\n",
      "  | Name      | Type    | Params\n",
      "--------------------------------------\n",
      "0 | model     | ResNet  | 478 K \n",
      "1 | criterion | MSELoss | 0     \n",
      "--------------------------------------\n",
      "478 K     Trainable params\n",
      "0         Non-trainable params\n",
      "478 K     Total params\n",
      "1.915     Total estimated model params size (MB)\n"
     ]
    },
    {
     "name": "stdout",
     "output_type": "stream",
     "text": [
      "                                                                      "
     ]
    },
    {
     "name": "stderr",
     "output_type": "stream",
     "text": [
      "Global seed set to 42\n"
     ]
    },
    {
     "name": "stdout",
     "output_type": "stream",
     "text": [
      "Epoch 0:   0%|          | 0/8 [00:00<?, ?it/s] "
     ]
    },
    {
     "name": "stderr",
     "output_type": "stream",
     "text": [
      "/home/stachu/anaconda3/envs/dl/lib/python3.8/site-packages/pytorch_lightning/trainer/data_loading.py:326: UserWarning:\n",
      "\n",
      "The number of training samples (4) is smaller than the logging interval Trainer(log_every_n_steps=50). Set a lower value for log_every_n_steps if you want to see logs for the training epoch.\n",
      "\n"
     ]
    },
    {
     "name": "stdout",
     "output_type": "stream",
     "text": [
      "Epoch 0: 100%|██████████| 8/8 [00:00<00:00, 11.77it/s, loss=0.0486, v_num=4:09, train_loss=0.0316, val_loss=0.156]"
     ]
    },
    {
     "name": "stderr",
     "output_type": "stream",
     "text": [
      "Metric val_loss improved. New best score: 0.156\n",
      "Epoch 0, global step 3: val_loss reached 0.15577 (best 0.15577), saving model to \"/home/stachu/Projects/Anomaly_detection/Forecasting_models/checkpoints/daily-min-temperatures/ResNet/2021-11-07_17:24:09.ckpt\" as top 1\n"
     ]
    },
    {
     "name": "stdout",
     "output_type": "stream",
     "text": [
      "Epoch 1: 100%|██████████| 8/8 [00:00<00:00, 11.26it/s, loss=0.0352, v_num=4:09, train_loss=0.0125, val_loss=0.151]"
     ]
    },
    {
     "name": "stderr",
     "output_type": "stream",
     "text": [
      "Metric val_loss improved by 0.005 >= min_delta = 0.0. New best score: 0.151\n",
      "Epoch 1, global step 7: val_loss reached 0.15070 (best 0.15070), saving model to \"/home/stachu/Projects/Anomaly_detection/Forecasting_models/checkpoints/daily-min-temperatures/ResNet/2021-11-07_17:24:09.ckpt\" as top 1\n"
     ]
    },
    {
     "name": "stdout",
     "output_type": "stream",
     "text": [
      "Epoch 2: 100%|██████████| 8/8 [00:00<00:00, 11.99it/s, loss=0.0304, v_num=4:09, train_loss=0.0153, val_loss=0.147]"
     ]
    },
    {
     "name": "stderr",
     "output_type": "stream",
     "text": [
      "Metric val_loss improved by 0.004 >= min_delta = 0.0. New best score: 0.147\n",
      "Epoch 2, global step 11: val_loss reached 0.14692 (best 0.14692), saving model to \"/home/stachu/Projects/Anomaly_detection/Forecasting_models/checkpoints/daily-min-temperatures/ResNet/2021-11-07_17:24:09.ckpt\" as top 1\n"
     ]
    },
    {
     "name": "stdout",
     "output_type": "stream",
     "text": [
      "Epoch 2: 100%|██████████| 8/8 [00:00<00:00, 11.57it/s, loss=0.0304, v_num=4:09, train_loss=0.0153, val_loss=0.147]\n"
     ]
    },
    {
     "name": "stderr",
     "output_type": "stream",
     "text": [
      "Global seed set to 42\n",
      "/home/stachu/anaconda3/envs/dl/lib/python3.8/site-packages/pytorch_lightning/callbacks/model_checkpoint.py:446: UserWarning:\n",
      "\n",
      "Checkpoint directory ../checkpoints/daily-min-temperatures/LSTM_h200_l1 exists and is not empty.\n",
      "\n",
      "GPU available: True, used: True\n",
      "TPU available: False, using: 0 TPU cores\n",
      "IPU available: False, using: 0 IPUs\n",
      "/home/stachu/anaconda3/envs/dl/lib/python3.8/site-packages/pytorch_lightning/core/datamodule.py:423: LightningDeprecationWarning:\n",
      "\n",
      "DataModule.prepare_data has already been called, so it will not be called again. In v1.6 this behavior will change to always call DataModule.prepare_data.\n",
      "\n",
      "LOCAL_RANK: 0 - CUDA_VISIBLE_DEVICES: [0]\n",
      "\n",
      "  | Name      | Type    | Params\n",
      "--------------------------------------\n",
      "0 | model     | LSTM    | 163 K \n",
      "1 | criterion | MSELoss | 0     \n",
      "--------------------------------------\n",
      "163 K     Trainable params\n",
      "0         Non-trainable params\n",
      "163 K     Total params\n",
      "0.654     Total estimated model params size (MB)\n"
     ]
    },
    {
     "name": "stdout",
     "output_type": "stream",
     "text": [
      "                                                                      "
     ]
    },
    {
     "name": "stderr",
     "output_type": "stream",
     "text": [
      "Global seed set to 42\n"
     ]
    },
    {
     "name": "stdout",
     "output_type": "stream",
     "text": [
      "Epoch 0: 100%|██████████| 8/8 [00:00<00:00, 15.10it/s, loss=0.17, v_num=4:09, train_loss=0.0921, val_loss=0.163]"
     ]
    },
    {
     "name": "stderr",
     "output_type": "stream",
     "text": [
      "Metric val_loss improved. New best score: 0.163\n",
      "Metric val_loss improved. New best score: 0.163\n",
      "Epoch 0, global step 3: val_loss reached 0.16262 (best 0.16262), saving model to \"/home/stachu/Projects/Anomaly_detection/Forecasting_models/checkpoints/daily-min-temperatures/ResNet/2021-11-07_17:24:09-v1.ckpt\" as top 1\n",
      "Epoch 0, global step 3: val_loss reached 0.16262 (best 0.16262), saving model to \"/home/stachu/Projects/Anomaly_detection/Forecasting_models/checkpoints/daily-min-temperatures/LSTM_h200_l1/2021-11-07_17:24:09.ckpt\" as top 1\n"
     ]
    },
    {
     "name": "stdout",
     "output_type": "stream",
     "text": [
      "Epoch 1: 100%|██████████| 8/8 [00:00<00:00, 14.38it/s, loss=0.165, v_num=4:09, train_loss=0.0857, val_loss=0.154]"
     ]
    },
    {
     "name": "stderr",
     "output_type": "stream",
     "text": [
      "Metric val_loss improved by 0.009 >= min_delta = 0.0. New best score: 0.154\n",
      "Metric val_loss improved by 0.009 >= min_delta = 0.0. New best score: 0.154\n",
      "Epoch 1, global step 7: val_loss reached 0.15373 (best 0.15373), saving model to \"/home/stachu/Projects/Anomaly_detection/Forecasting_models/checkpoints/daily-min-temperatures/ResNet/2021-11-07_17:24:09-v1.ckpt\" as top 1\n",
      "Epoch 1, global step 7: val_loss reached 0.15373 (best 0.15373), saving model to \"/home/stachu/Projects/Anomaly_detection/Forecasting_models/checkpoints/daily-min-temperatures/LSTM_h200_l1/2021-11-07_17:24:09.ckpt\" as top 1\n"
     ]
    },
    {
     "name": "stdout",
     "output_type": "stream",
     "text": [
      "Epoch 2:  38%|███▊      | 3/8 [00:00<00:00, 10.63it/s, loss=0.168, v_num=4:09, train_loss=0.0408, val_loss=0.154]"
     ]
    },
    {
     "name": "stderr",
     "output_type": "stream",
     "text": [
      "Exception ignored in: <function _MultiProcessingDataLoaderIter.__del__ at 0x7f37e442e550>\n",
      "Traceback (most recent call last):\n"
     ]
    },
    {
     "name": "stdout",
     "output_type": "stream",
     "text": [
      "Epoch 2:  50%|█████     | 4/8 [00:00<00:00, 12.41it/s, loss=0.16, v_num=4:09, train_loss=0.0795, val_loss=0.154] "
     ]
    },
    {
     "name": "stderr",
     "output_type": "stream",
     "text": [
      "  File \"/home/stachu/anaconda3/envs/dl/lib/python3.8/site-packages/torch/utils/data/dataloader.py\", line 1203, in __del__\n"
     ]
    },
    {
     "name": "stdout",
     "output_type": "stream",
     "text": []
    },
    {
     "name": "stderr",
     "output_type": "stream",
     "text": [
      "    self._shutdown_workers()  File \"/home/stachu/anaconda3/envs/dl/lib/python3.8/site-packages/torch/utils/data/dataloader.py\", line 1177, in _shutdown_workers\n",
      "\n",
      "    \n",
      "w.join(timeout=_utils.MP_STATUS_CHECK_INTERVAL)  File \"/home/stachu/anaconda3/envs/dl/lib/python3.8/multiprocessing/process.py\", line 147, in join\n",
      "    assert self._parent_pid == os.getpid(), 'can only join a child process'\n",
      "AssertionError: can only join a child process\n",
      "Exception ignored in: <function _MultiProcessingDataLoaderIter.__del__ at 0x7f37e442e550>\n",
      "Exception ignored in: Traceback (most recent call last):\n",
      "Exception ignored in: <function _MultiProcessingDataLoaderIter.__del__ at 0x7f37e442e550>  File \"/home/stachu/anaconda3/envs/dl/lib/python3.8/site-packages/torch/utils/data/dataloader.py\", line 1203, in __del__\n",
      "\n",
      "Traceback (most recent call last):\n",
      "<function _MultiProcessingDataLoaderIter.__del__ at 0x7f37e442e550>\n",
      "    Traceback (most recent call last):\n",
      "self._shutdown_workers()  File \"/home/stachu/anaconda3/envs/dl/lib/python3.8/site-packages/torch/utils/data/dataloader.py\", line 1203, in __del__\n",
      "  File \"/home/stachu/anaconda3/envs/dl/lib/python3.8/site-packages/torch/utils/data/dataloader.py\", line 1203, in __del__\n",
      "\n",
      "      File \"/home/stachu/anaconda3/envs/dl/lib/python3.8/site-packages/torch/utils/data/dataloader.py\", line 1177, in _shutdown_workers\n",
      "self._shutdown_workers()\n",
      "  File \"/home/stachu/anaconda3/envs/dl/lib/python3.8/site-packages/torch/utils/data/dataloader.py\", line 1177, in _shutdown_workers\n",
      "            w.join(timeout=_utils.MP_STATUS_CHECK_INTERVAL)\n",
      "self._shutdown_workers()  File \"/home/stachu/anaconda3/envs/dl/lib/python3.8/multiprocessing/process.py\", line 147, in join\n",
      "    \n",
      "assert self._parent_pid == os.getpid(), 'can only join a child process'w.join(timeout=_utils.MP_STATUS_CHECK_INTERVAL)\n",
      "\n",
      "  File \"/home/stachu/anaconda3/envs/dl/lib/python3.8/site-packages/torch/utils/data/dataloader.py\", line 1177, in _shutdown_workers\n",
      "AssertionError  File \"/home/stachu/anaconda3/envs/dl/lib/python3.8/multiprocessing/process.py\", line 147, in join\n",
      ":         can only join a child processw.join(timeout=_utils.MP_STATUS_CHECK_INTERVAL)assert self._parent_pid == os.getpid(), 'can only join a child process'\n",
      "\n",
      "\n",
      "AssertionError:   File \"/home/stachu/anaconda3/envs/dl/lib/python3.8/multiprocessing/process.py\", line 147, in join\n",
      "can only join a child process\n",
      "    assert self._parent_pid == os.getpid(), 'can only join a child process'\n",
      "AssertionError: can only join a child process\n",
      "Exception ignored in: <function _MultiProcessingDataLoaderIter.__del__ at 0x7f37e442e550>\n",
      "Traceback (most recent call last):\n",
      "  File \"/home/stachu/anaconda3/envs/dl/lib/python3.8/site-packages/torch/utils/data/dataloader.py\", line 1203, in __del__\n",
      "    self._shutdown_workers()\n",
      "  File \"/home/stachu/anaconda3/envs/dl/lib/python3.8/site-packages/torch/utils/data/dataloader.py\", line 1177, in _shutdown_workers\n",
      "    w.join(timeout=_utils.MP_STATUS_CHECK_INTERVAL)\n",
      "  File \"/home/stachu/anaconda3/envs/dl/lib/python3.8/multiprocessing/process.py\", line 147, in join\n",
      "    assert self._parent_pid == os.getpid(), 'can only join a child process'\n",
      "AssertionError: can only join a child process\n"
     ]
    },
    {
     "name": "stdout",
     "output_type": "stream",
     "text": [
      "Epoch 2: 100%|██████████| 8/8 [00:00<00:00, 11.66it/s, loss=0.16, v_num=4:09, train_loss=0.0795, val_loss=0.145]"
     ]
    },
    {
     "name": "stderr",
     "output_type": "stream",
     "text": [
      "Metric val_loss improved by 0.009 >= min_delta = 0.0. New best score: 0.145\n",
      "Metric val_loss improved by 0.009 >= min_delta = 0.0. New best score: 0.145\n",
      "Epoch 2, global step 11: val_loss reached 0.14515 (best 0.14515), saving model to \"/home/stachu/Projects/Anomaly_detection/Forecasting_models/checkpoints/daily-min-temperatures/ResNet/2021-11-07_17:24:09-v1.ckpt\" as top 1\n",
      "Epoch 2, global step 11: val_loss reached 0.14515 (best 0.14515), saving model to \"/home/stachu/Projects/Anomaly_detection/Forecasting_models/checkpoints/daily-min-temperatures/LSTM_h200_l1/2021-11-07_17:24:09.ckpt\" as top 1\n"
     ]
    },
    {
     "name": "stdout",
     "output_type": "stream",
     "text": [
      "Epoch 2: 100%|██████████| 8/8 [00:00<00:00, 11.13it/s, loss=0.16, v_num=4:09, train_loss=0.0795, val_loss=0.145]\n"
     ]
    },
    {
     "name": "stderr",
     "output_type": "stream",
     "text": [
      "/home/stachu/anaconda3/envs/dl/lib/python3.8/site-packages/pytorch_lightning/core/datamodule.py:423: LightningDeprecationWarning:\n",
      "\n",
      "DataModule.teardown has already been called, so it will not be called again. In v1.6 this behavior will change to always call DataModule.teardown.\n",
      "\n",
      "Exception ignored in: <function _MultiProcessingDataLoaderIter.__del__ at 0x7f37e442e550>\n",
      "Traceback (most recent call last):\n",
      "  File \"/home/stachu/anaconda3/envs/dl/lib/python3.8/site-packages/torch/utils/data/dataloader.py\", line 1203, in __del__\n",
      "    self._shutdown_workers()\n",
      "  File \"/home/stachu/anaconda3/envs/dl/lib/python3.8/site-packages/torch/utils/data/dataloader.py\", line 1177, in _shutdown_workers\n",
      "    w.join(timeout=_utils.MP_STATUS_CHECK_INTERVAL)\n",
      "  File \"/home/stachu/anaconda3/envs/dl/lib/python3.8/multiprocessing/process.py\", line 147, in join\n",
      "    assert self._parent_pid == os.getpid(), 'can only join a child process'\n",
      "AssertionError: can only join a child process\n",
      "Exception ignored in: <function _MultiProcessingDataLoaderIter.__del__ at 0x7f37e442e550>\n",
      "Traceback (most recent call last):\n",
      "  File \"/home/stachu/anaconda3/envs/dl/lib/python3.8/site-packages/torch/utils/data/dataloader.py\", line 1203, in __del__\n",
      "    self._shutdown_workers()\n",
      "  File \"/home/stachu/anaconda3/envs/dl/lib/python3.8/site-packages/torch/utils/data/dataloader.py\", line 1177, in _shutdown_workers\n",
      "    w.join(timeout=_utils.MP_STATUS_CHECK_INTERVAL)\n",
      "  File \"/home/stachu/anaconda3/envs/dl/lib/python3.8/multiprocessing/process.py\", line 147, in join\n",
      "    assert self._parent_pid == os.getpid(), 'can only join a child process'\n",
      "AssertionError: can only join a child process\n"
     ]
    },
    {
     "data": {
      "text/plain": [
       "<predpy.experimentator.experimentator.Experimentator at 0x7f376273f7c0>"
      ]
     },
     "execution_count": 16,
     "metadata": {},
     "output_type": "execute_result"
    }
   ],
   "source": [
    "exp.run_experiments(\"../lightning_logs\", tr_p, chp_p, es_p, experiments_path=\"../saved_experiments\")"
   ]
  },
  {
   "cell_type": "code",
   "execution_count": 17,
   "metadata": {},
   "outputs": [],
   "source": [
    "# exp = Experimentator.load_experimentator(\"../saved_experiments/2021-11-07_17:21:16.pkl\")\n",
    "# exp = Experimentator.load_experimentator(\"../saved_experiments/2021-11-07_16:58:09.pkl\")\n",
    "exp.plot_predictions(0)"
   ]
  },
  {
   "cell_type": "code",
   "execution_count": 9,
   "metadata": {},
   "outputs": [
    {
     "ename": "SyntaxError",
     "evalue": "cannot assign to None (<ipython-input-9-c50d50884aea>, line 1)",
     "output_type": "error",
     "traceback": [
      "\u001b[0;36m  File \u001b[0;32m\"<ipython-input-9-c50d50884aea>\"\u001b[0;36m, line \u001b[0;32m1\u001b[0m\n\u001b[0;31m    None=1\u001b[0m\n\u001b[0m    ^\u001b[0m\n\u001b[0;31mSyntaxError\u001b[0m\u001b[0;31m:\u001b[0m cannot assign to None\n"
     ]
    }
   ],
   "source": [
    "None=1"
   ]
  },
  {
   "cell_type": "code",
   "execution_count": null,
   "id": "directed-butler",
   "metadata": {},
   "outputs": [],
   "source": [
    "# !pip install --quiet tqdm"
   ]
  },
  {
   "cell_type": "code",
   "execution_count": null,
   "id": "ignored-edwards",
   "metadata": {},
   "outputs": [],
   "source": [
    "# !pip install --quiet yfinance"
   ]
  },
  {
   "cell_type": "code",
   "execution_count": null,
   "id": "literary-directory",
   "metadata": {},
   "outputs": [],
   "source": [
    "# !pip install --quiet tsai"
   ]
  },
  {
   "cell_type": "code",
   "execution_count": null,
   "id": "destroyed-blink",
   "metadata": {
    "scrolled": true
   },
   "outputs": [
    {
     "name": "stdout",
     "output_type": "stream",
     "text": [
      "Sun Oct 31 14:16:28 2021       \n",
      "+-----------------------------------------------------------------------------+\n",
      "| NVIDIA-SMI 460.39       Driver Version: 460.39       CUDA Version: 11.2     |\n",
      "|-------------------------------+----------------------+----------------------+\n",
      "| GPU  Name        Persistence-M| Bus-Id        Disp.A | Volatile Uncorr. ECC |\n",
      "| Fan  Temp  Perf  Pwr:Usage/Cap|         Memory-Usage | GPU-Util  Compute M. |\n",
      "|                               |                      |               MIG M. |\n",
      "|===============================+======================+======================|\n",
      "|   0  GeForce GTX 1060    Off  | 00000000:01:00.0 Off |                  N/A |\n",
      "| N/A   49C    P0    26W /  N/A |    337MiB /  6078MiB |      4%      Default |\n",
      "|                               |                      |                  N/A |\n",
      "+-------------------------------+----------------------+----------------------+\n",
      "                                                                               \n",
      "+-----------------------------------------------------------------------------+\n",
      "| Processes:                                                                  |\n",
      "|  GPU   GI   CI        PID   Type   Process name                  GPU Memory |\n",
      "|        ID   ID                                                   Usage      |\n",
      "|=============================================================================|\n",
      "|    0   N/A  N/A      1646      G   /usr/lib/xorg/Xorg                137MiB |\n",
      "|    0   N/A  N/A      2466      G   cinnamon                           28MiB |\n",
      "|    0   N/A  N/A      4120      G   ...AAAAAAAAA= --shared-files       40MiB |\n",
      "|    0   N/A  N/A      5034      G   ...AAAAAAAAA= --shared-files      105MiB |\n",
      "|    0   N/A  N/A      8988      G   ...AAAAAAAAA= --shared-files       20MiB |\n",
      "+-----------------------------------------------------------------------------+\n"
     ]
    }
   ],
   "source": [
    "!nvidia-smi"
   ]
  },
  {
   "cell_type": "code",
   "execution_count": null,
   "id": "natural-formation",
   "metadata": {},
   "outputs": [],
   "source": [
    "import seaborn as sns\n",
    "from pylab import rcParams\n",
    "import matplotlib.pyplot as plt\n",
    "from matplotlib import rc\n",
    "from tqdm.notebook import tqdm\n",
    "\n",
    "import pandas as pd\n",
    "import numpy as np\n",
    "import yfinance as yf\n",
    "from typing import List, Dict, Union, Callable\n",
    "from datetime import datetime, timedelta\n",
    "\n",
    "import pytorch_lightning as pl\n",
    "from pytorch_lightning.callbacks import ModelCheckpoint, EarlyStopping\n",
    "from pytorch_lightning.loggers import TensorBoardLogger\n",
    "# from pytorch_lightning.loggers import WandbLogger\n",
    "\n",
    "import torch\n",
    "from torch import autograd, nn, optim\n",
    "import torch.nn.functional as F\n",
    "from torch.utils.data import Dataset, DataLoader\n",
    "\n",
    "from tsai.models import TCN, ResNet, TST, RNN, TransformerModel, FCN\n",
    "\n",
    "from IPython.display import display\n",
    "\n",
    "import sys\n",
    "sys.path.insert(0,'../src')\n",
    "from dataModule.Data import scale, create_sequences\n",
    "from dataModule.Data import SingleTimeSeriesDataset, SingleTimeSeriesModule\n",
    "from experimentsModule.Predictor import Predictor"
   ]
  },
  {
   "cell_type": "code",
   "execution_count": null,
   "id": "domestic-mining",
   "metadata": {},
   "outputs": [
    {
     "name": "stdout",
     "output_type": "stream",
     "text": [
      "__CUDNN VERSION: 7605\n",
      "__Number CUDA Devices: 1\n",
      "__CUDA Device Name: GeForce GTX 1060\n",
      "__CUDA Device Total Memory [GB]: 6.373572608\n"
     ]
    }
   ],
   "source": [
    "use_cuda = torch.cuda.is_available()\n",
    "\n",
    "if use_cuda:\n",
    "    print('__CUDNN VERSION:', torch.backends.cudnn.version())\n",
    "    print('__Number CUDA Devices:', torch.cuda.device_count())\n",
    "    print('__CUDA Device Name:',torch.cuda.get_device_name(0))\n",
    "    print('__CUDA Device Total Memory [GB]:', torch.cuda.get_device_properties(0).total_memory/1e9)"
   ]
  },
  {
   "cell_type": "code",
   "execution_count": null,
   "id": "powered-branch",
   "metadata": {},
   "outputs": [
    {
     "name": "stderr",
     "output_type": "stream",
     "text": [
      "Global seed set to 42\n"
     ]
    }
   ],
   "source": [
    "%matplotlib inline\n",
    "%config InlineBackend.figure_format='retina'\n",
    "\n",
    "sns.set(style='whitegrid', palette='muted', font_scale=1.2)\n",
    "\n",
    "# HAPPY_COLORS_PALETTE = [\"#01BEFE\", \"#FFDD00\", \"#FF7D00\", \"#FF006D\", \"#ADFF02\", \"#8F00FF\"]\n",
    "\n",
    "# sns.set_palette(sns.color_palette(HAPPY_COLORS_PALETTE))\n",
    "\n",
    "rcParams['figure.figsize'] = 12, 8\n",
    "\n",
    "tqdm.pandas()\n",
    "\n",
    "pl.seed_everything(42);"
   ]
  },
  {
   "cell_type": "code",
   "execution_count": null,
   "metadata": {},
   "outputs": [],
   "source": [
    "N_EPOCHS = 8\n",
    "BATCH_SIZE = 64\n",
    "SEQ_LEN = 366\n",
    "SPLIT_PROPORTIONS = [0.8, 0.1, 0.1]\n",
    "TARGET = \"Temp\"\n",
    "\n",
    "df = pd.read_csv(\"../data/daily-min-temperatures.csv\").set_index(\"Date\")\n",
    "df.index = pd.to_datetime(df.index)\n",
    "\n",
    "scaler, df = scale(df, SPLIT_PROPORTIONS[0])\n",
    "# df[\"moving_average\"] = df.rolling(20).mean()\n",
    "# df[\"moving_average\"].iloc[:20] = df[\"Temp\"].iloc[:20]\n",
    "df = df.dropna()\n",
    "\n",
    "data_module = SingleTimeSeriesModule(df, SPLIT_PROPORTIONS, window_size=SEQ_LEN,\n",
    "                                     batch_size=BATCH_SIZE)"
   ]
  },
  {
   "cell_type": "code",
   "execution_count": null,
   "id": "commercial-bicycle",
   "metadata": {},
   "outputs": [],
   "source": [
    "# BTC = yf.Ticker(\"BTC-USD\")\n",
    "# # df = BTC.history(period=\"max\", interval=\"1d\", auto_adjust=False, actions=False)\n",
    "# df = BTC.history(interval=\"1d\", start=\"2014-09-17\", end=\"2021-10-16\", actions=False)\n",
    "# df[\"Open-Close-diff\"] = df.apply(lambda x: x[\"Close\"] - x[\"Open\"], axis=1)\n",
    "\n",
    "# from datetime import datetime\n",
    "# end = datetime.strptime(\"06-01-2017\", '%m-%d-%Y')\n",
    "# df = df.loc[:end]  # remove last years due to a change behaviour\n",
    "# df = df[[\"Close\", \"Open-Close-diff\"]]"
   ]
  }
 ],
 "metadata": {
  "interpreter": {
   "hash": "b3bc42e69e4efcde7b1e8cf6bd8a64743430926df31e449dc034fb6e752071da"
  },
  "kernelspec": {
   "display_name": "Python 3.8.5 64-bit ('dl': conda)",
   "name": "python3"
  },
  "language_info": {
   "codemirror_mode": {
    "name": "ipython",
    "version": 3
   },
   "file_extension": ".py",
   "mimetype": "text/x-python",
   "name": "python",
   "nbconvert_exporter": "python",
   "pygments_lexer": "ipython3",
   "version": "3.8.5"
  }
 },
 "nbformat": 4,
 "nbformat_minor": 5
}
